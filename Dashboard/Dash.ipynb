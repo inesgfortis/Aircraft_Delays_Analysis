{
 "cells": [
  {
   "cell_type": "code",
   "execution_count": null,
   "metadata": {},
   "outputs": [],
   "source": [
    "import dash\n",
    "import dash_bootstrap_components as dbc\n",
    "import pandas as pd\n",
    "import plotly.graph_objs as go\n",
    "import plotly.express as px\n",
    "from dash import Input, Output, dcc, html\n",
    "from plotly.subplots import make_subplots"
   ]
  },
  {
   "cell_type": "code",
   "execution_count": null,
   "metadata": {},
   "outputs": [],
   "source": [
    "# No funcionaba, así que cambié la versión de Flask: \n",
    "# pip install Flask==2.1.0"
   ]
  },
  {
   "cell_type": "code",
   "execution_count": null,
   "metadata": {},
   "outputs": [],
   "source": [
    "# Leemos las bases de datos\n",
    "df_airports = pd.read_parquet(\"../EDA/df_airports.parquet\")\n",
    "df = pd.read_parquet(\"../Preprocessing/flightsFilteredCleaned.parquet\")\n",
    "# df_flights = pd.read_parquet(\"../EDA/df_flights.parquet\")\n",
    "# df_airports_date = pd.read_parquet(\"../EDA/df_airports_date.parquet\")"
   ]
  },
  {
   "cell_type": "code",
   "execution_count": null,
   "metadata": {},
   "outputs": [],
   "source": [
    "df_airports.head()"
   ]
  },
  {
   "cell_type": "code",
   "execution_count": null,
   "metadata": {},
   "outputs": [],
   "source": [
    "# Map chart\n",
    "fig_map = px.scatter_geo(df_airports, lat=\"ORIGIN_LATITUDE\", lon = \"ORIGIN_LONGITUDE\",\n",
    "                     size= \"FLIGHTS\", # size of markers\n",
    "                     size_max= 30,\n",
    "                     color= \"DELAYED_PERCENTAGE\", # which column to use to set the color of markers\n",
    "                     scope=\"usa\",\n",
    "                     text = \"ORIGIN_AIRPORT\",\n",
    "                     hover_data  = [\"ORIGIN_CITY\"],\n",
    "                     color_continuous_scale='RdYlGn_r',\n",
    "                     template=\"plotly_dark\")\n",
    "fig_map.update_traces(textposition=\"top center\")\n",
    "fig_map.update_layout(\n",
    "    title=\"Origin airports with number of departing flights and percentage of delayed flights<br><sup>Size indicates the number of departing flights</sup>\",\n",
    "    legend_title=\"Causa del Retraso\",\n",
    ")"
   ]
  },
  {
   "cell_type": "code",
   "execution_count": null,
   "metadata": {},
   "outputs": [],
   "source": [
    "delay_labels = [\"AIR_SYSTEM_DELAY\",\"SECURITY_DELAY\",\"AIRLINE_DELAY\",\"LATE_AIRCRAFT_DELAY\",\"WEATHER_DELAY\",\"OTHER_DELAY\"]\n",
    "df_delayed = df[df[\"ARRIVAL_DELAY\"]>0]\n",
    "df_delayed['MAIN_DELAY_CAUSE'] = df_delayed[delay_labels].idxmax(axis=1)\n",
    "variables_to_group_by2 = [\"DESTINATION_CITY\",\"DESTINATION_STATE\",\"ORIGIN_AIRPORT\"]"
   ]
  },
  {
   "cell_type": "code",
   "execution_count": null,
   "metadata": {},
   "outputs": [],
   "source": []
  },
  {
   "cell_type": "code",
   "execution_count": null,
   "metadata": {},
   "outputs": [],
   "source": [
    "app = dash.Dash(external_stylesheets=[dbc.themes.LUX])\n",
    "\n",
    "app.layout = dbc.Container(\n",
    "    [\n",
    "        dbc.Row(dbc.Col(html.H2('AIRPORTS ANALYSIS', className='text-center text-primary, mb-3'))),  # header row\n",
    "        \n",
    "        dbc.Row([  # start of second row\n",
    "            dbc.Col([  # first column on second row\n",
    "            html.H5('Map', className='text-center'),\n",
    "            dcc.Graph(id='map-main',\n",
    "                      figure = fig_map,\n",
    "                      hoverData={\"points\": [{\"text\": \"ATL\"}]},\n",
    "                      style={'height':600}),\n",
    "            ], width={'size': 7, 'offset': 0, 'order': 1}),  # width first column on second row\n",
    "            dbc.Col([  # second column on third row\n",
    "                html.H5('Distribution', className='text-center'),\n",
    "                dcc.Graph(id='pie-main',\n",
    "                      style={'height':600}),\n",
    "                html.Hr(),\n",
    "            ], width={'size': 5, 'offset': 0, 'order': 2}),  # width second column on second row\n",
    "        ]),  # end of second row \n",
    "\n",
    "        dbc.Row([  # start of third row\n",
    "            dbc.Col([  # first column on third row\n",
    "                dcc.Graph(id='bar-main',\n",
    "                      style={'height':500}),\n",
    "            ], width={'size': 7, 'offset': 0, 'order': 1}),\n",
    "        dbc.Col([  # second column on third row\n",
    "                html.H5('Filters', className='text-center'),\n",
    "                dcc.Graph(id='filter-main',\n",
    "                      style={'height':500}),\n",
    "                html.Hr(),\n",
    "            ], width={'size': 5, 'offset': 0, 'order': 2}) \n",
    "        ]),  # end of third row  \n",
    "    ], fluid=True)\n",
    "\n",
    "# callbacks\n",
    "@app.callback(\n",
    "    Output('pie-main', 'figure'),\n",
    "    Input('map-main', 'hoverData'))\n",
    "def update_pie(hoverdata):\n",
    "    # Pie Chart\n",
    "    airport = hoverdata['points'][0]['text']\n",
    "    fig_pie = make_subplots(rows=1, cols=2, subplot_titles= [\"Delayed Flights by Main Cause\",\"Average Delay Distribution\"],\n",
    "                    specs=[[{\"type\": \"pie\"}, {\"type\": \"pie\"}]], horizontal_spacing = 0.03, vertical_spacing = 0.03)\n",
    "\n",
    "    #subplot 1\n",
    "    values1 = df_delayed[df_delayed[\"ORIGIN_AIRPORT\"]==airport][\"MAIN_DELAY_CAUSE\"].value_counts().reindex(delay_labels)\n",
    "    fig_pie.add_trace(go.Pie(labels=values1.index, values=values1, direction ='clockwise', marker_colors=px.colors.qualitative.Vivid, \n",
    "                                hole=.3, title ='{:,}<br>delayed<br>flights'.format(values1.sum()),\n",
    "                                hoverinfo='label+percent', textinfo='value'), row=1, col=1)\n",
    "\n",
    "    #subplot 2\n",
    "    values2 = df_airports[delay_labels].iloc[df_airports[df_airports[\"ORIGIN_AIRPORT\"]==airport].index[0]]\n",
    "    fig_pie.add_trace(go.Pie(labels=values2.index, values=values2, direction ='clockwise', marker_colors=px.colors.qualitative.Vivid, \n",
    "                                hole=.3, title = \"%.3f <br> seconds\" % (values2.sum()),\n",
    "                                hoverinfo='label+percent', textinfo='value'), row=1, col=2)\n",
    "\n",
    "    fig_pie.update_layout(title_text=\"Airport: %s\" % (airport),\n",
    "                    legend_title=\"Delay Cause\", template=\"plotly_dark\",\n",
    "                    legend=dict(orientation=\"h\", y=0, x =-0.04))\n",
    "    fig_pie.update_annotations(yshift=-10)\n",
    "    return fig_pie\n",
    "\n",
    "@app.callback(\n",
    "    Output('bar-main', 'figure'),\n",
    "    Input('map-main', 'hoverData'))\n",
    "def update_bar(hoverdata):    \n",
    "    airport = hoverdata['points'][0]['text']\n",
    "    df_dest = df[df[\"ORIGIN_AIRPORT\"]==airport].groupby(variables_to_group_by2)[[\"ARRIVAL_DELAY\"]].count()\n",
    "    df_dest[\"DELAYED_FLIGHTS\"] = df[(df[\"ARRIVAL_DELAY\"]>0) & (df[\"ORIGIN_AIRPORT\"]==airport)].groupby(variables_to_group_by2).size()\n",
    "    df_dest[\"DELAYED_PERCENTAGE\"] = (df_dest[\"DELAYED_FLIGHTS\"]/df_dest[\"ARRIVAL_DELAY\"]).round(4)\n",
    "    df_dest = df_dest.sort_values(\"ARRIVAL_DELAY\",ascending=False).reset_index()\n",
    "    df_dest = df_dest.head(10)\n",
    "\n",
    "    fig_bar = go.Figure([go.Bar(x=df_dest[\"DESTINATION_CITY\"], y=df_dest[\"ARRIVAL_DELAY\"], name=\"Total\", \n",
    "                        marker_color=px.colors.qualitative.Vivid[0])])\n",
    "    fig_bar.add_bar(x=df_dest[\"DESTINATION_CITY\"], y=df_dest[\"DELAYED_FLIGHTS\"], name=\"Delayed\",\n",
    "                marker_color=px.colors.qualitative.Vivid[1])\n",
    "    fig_bar.update_layout(title_text=\"Top 10 most frequent destinations from %s\" % (airport), legend_title=\"Number of flights\", template=\"plotly_dark\", \n",
    "                    barmode='overlay', hovermode=\"x unified\", legend=dict(x=1, y=1.02, xanchor=\"right\", yanchor=\"bottom\", orientation=\"h\"))\n",
    "    return fig_bar\n",
    "\n",
    "\n",
    "if __name__ == '__main__':\n",
    "    app.run_server()"
   ]
  },
  {
   "cell_type": "code",
   "execution_count": null,
   "metadata": {},
   "outputs": [],
   "source": []
  }
 ],
 "metadata": {
  "kernelspec": {
   "display_name": "Python 3.8.5 ('base')",
   "language": "python",
   "name": "python3"
  },
  "language_info": {
   "codemirror_mode": {
    "name": "ipython",
    "version": 3
   },
   "file_extension": ".py",
   "mimetype": "text/x-python",
   "name": "python",
   "nbconvert_exporter": "python",
   "pygments_lexer": "ipython3",
   "version": "3.8.5"
  },
  "orig_nbformat": 4,
  "vscode": {
   "interpreter": {
    "hash": "b3472844a7ad831f024780a557c10180eb151bb97358fb439eb3b23af04efba3"
   }
  }
 },
 "nbformat": 4,
 "nbformat_minor": 2
}
