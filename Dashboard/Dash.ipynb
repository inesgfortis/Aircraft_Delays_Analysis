{
 "cells": [
  {
   "cell_type": "code",
   "execution_count": null,
   "metadata": {},
   "outputs": [],
   "source": [
    "import dash\n",
    "import dash_bootstrap_components as dbc\n",
    "import numpy as np\n",
    "import plotly.graph_objs as go\n",
    "from dash import Input, Output, dcc, html"
   ]
  },
  {
   "cell_type": "code",
   "execution_count": null,
   "metadata": {},
   "outputs": [],
   "source": [
    "# No funcionaba, así que cambié la versión de Flask: \n",
    "# pip install Flask==2.1.0"
   ]
  },
  {
   "cell_type": "code",
   "execution_count": null,
   "metadata": {},
   "outputs": [],
   "source": [
    "app = dash.Dash(external_stylesheets=[dbc.themes.CYBORG])"
   ]
  },
  {
   "cell_type": "code",
   "execution_count": null,
   "metadata": {},
   "outputs": [],
   "source": [
    "app.layout = dbc.Container(\n",
    "    [\n",
    "        dcc.Store(id=\"store\"),\n",
    "        html.H1(\"Dynamically rendered tab content\"),\n",
    "        html.Hr(),\n",
    "        dbc.Button(\n",
    "            \"Regenerate graphs\",\n",
    "            color=\"primary\",\n",
    "            id=\"button\",\n",
    "            className=\"mb-3\",\n",
    "        ),\n",
    "        dbc.Tabs(\n",
    "            [\n",
    "                dbc.Tab(label=\"Scatter\", tab_id=\"scatter\"),\n",
    "                dbc.Tab(label=\"Histograms\", tab_id=\"histogram\"),\n",
    "            ],\n",
    "            id=\"tabs\",\n",
    "            active_tab=\"scatter\",\n",
    "        ),\n",
    "        html.Div(id=\"tab-content\", className=\"p-4\"),\n",
    "    ]\n",
    ")\n",
    "\n",
    "\n",
    "@app.callback(\n",
    "    Output(\"tab-content\", \"children\"),\n",
    "    [Input(\"tabs\", \"active_tab\"), Input(\"store\", \"data\")],\n",
    ")\n",
    "def render_tab_content(active_tab, data):\n",
    "    \"\"\"\n",
    "    This callback takes the 'active_tab' property as input, as well as the\n",
    "    stored graphs, and renders the tab content depending on what the value of\n",
    "    'active_tab' is.\n",
    "    \"\"\"\n",
    "    if active_tab and data is not None:\n",
    "        if active_tab == \"scatter\":\n",
    "            return dcc.Graph(figure=data[\"scatter\"])\n",
    "        elif active_tab == \"histogram\":\n",
    "            return dbc.Row(\n",
    "                [\n",
    "                    dbc.Col(dcc.Graph(figure=data[\"hist_1\"]), width=6),\n",
    "                    dbc.Col(dcc.Graph(figure=data[\"hist_2\"]), width=6),\n",
    "                ]\n",
    "            )\n",
    "    return \"No tab selected\"\n",
    "\n",
    "\n",
    "@app.callback(Output(\"store\", \"data\"), [Input(\"button\", \"n_clicks\")])\n",
    "def generate_graphs(n):\n",
    "    \"\"\"\n",
    "    This callback generates three simple graphs from random data.\n",
    "    \"\"\"\n",
    "    if not n:\n",
    "        # generate empty graphs when app loads\n",
    "        return {k: go.Figure(data=[]) for k in [\"scatter\", \"hist_1\", \"hist_2\"]}\n",
    "\n",
    "    # simulate expensive graph generation process\n",
    "    time.sleep(2)\n",
    "\n",
    "    # generate 100 multivariate normal samples\n",
    "    data = np.random.multivariate_normal([0, 0], [[1, 0.5], [0.5, 1]], 100)\n",
    "\n",
    "    scatter = go.Figure(\n",
    "        data=[go.Scatter(x=data[:, 0], y=data[:, 1], mode=\"markers\")]\n",
    "    )\n",
    "    hist_1 = go.Figure(data=[go.Histogram(x=data[:, 0])])\n",
    "    hist_2 = go.Figure(data=[go.Histogram(x=data[:, 1])])\n",
    "\n",
    "    # save figures in a dictionary for sending to the dcc.Store\n",
    "    return {\"scatter\": scatter, \"hist_1\": hist_1, \"hist_2\": hist_2}\n",
    "\n",
    "\n",
    "if __name__ == '__main__':\n",
    "    app.run_server()"
   ]
  },
  {
   "cell_type": "code",
   "execution_count": null,
   "metadata": {},
   "outputs": [],
   "source": []
  }
 ],
 "metadata": {
  "kernelspec": {
   "display_name": "Python 3.8.5 ('base')",
   "language": "python",
   "name": "python3"
  },
  "language_info": {
   "codemirror_mode": {
    "name": "ipython",
    "version": 3
   },
   "file_extension": ".py",
   "mimetype": "text/x-python",
   "name": "python",
   "nbconvert_exporter": "python",
   "pygments_lexer": "ipython3",
   "version": "3.8.5"
  },
  "orig_nbformat": 4,
  "vscode": {
   "interpreter": {
    "hash": "b3472844a7ad831f024780a557c10180eb151bb97358fb439eb3b23af04efba3"
   }
  }
 },
 "nbformat": 4,
 "nbformat_minor": 2
}
