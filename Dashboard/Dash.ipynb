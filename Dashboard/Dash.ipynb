{
 "cells": [
  {
   "cell_type": "code",
   "execution_count": 1,
   "metadata": {},
   "outputs": [],
   "source": [
    "import dash\n",
    "import dash_bootstrap_components as dbc\n",
    "import numpy as np\n",
    "import plotly.graph_objs as go\n",
    "from dash import Input, Output, dcc, html"
   ]
  },
  {
   "cell_type": "code",
   "execution_count": 2,
   "metadata": {},
   "outputs": [],
   "source": [
    "# No funcionaba, así que cambié la versión de Flask: \n",
    "# pip install Flask==2.1.0"
   ]
  },
  {
   "cell_type": "code",
   "execution_count": 3,
   "metadata": {},
   "outputs": [],
   "source": [
    "# Leemos las bases de datos\n",
    "df_airports = pd.read_parquet(\"../EDA/df_airports.parquet\")\n",
    "# df_flights = pd.read_parquet(\"../EDA/df_flights.parquet\")\n",
    "# df_airports_date = pd.read_parquet(\"../EDA/df_airports_date.parquet\")"
   ]
  },
  {
   "cell_type": "code",
   "execution_count": 4,
   "metadata": {},
   "outputs": [
    {
     "data": {
      "text/html": [
       "<div>\n",
       "<style scoped>\n",
       "    .dataframe tbody tr th:only-of-type {\n",
       "        vertical-align: middle;\n",
       "    }\n",
       "\n",
       "    .dataframe tbody tr th {\n",
       "        vertical-align: top;\n",
       "    }\n",
       "\n",
       "    .dataframe thead th {\n",
       "        text-align: right;\n",
       "    }\n",
       "</style>\n",
       "<table border=\"1\" class=\"dataframe\">\n",
       "  <thead>\n",
       "    <tr style=\"text-align: right;\">\n",
       "      <th></th>\n",
       "      <th>ORIGIN_AIRPORT</th>\n",
       "      <th>ORIGIN_AIRPORT_NAME</th>\n",
       "      <th>ORIGIN_CITY</th>\n",
       "      <th>ORIGIN_STATE</th>\n",
       "      <th>DEPARTURE_DELAY</th>\n",
       "      <th>ELAPSED_TIME</th>\n",
       "      <th>DISTANCE</th>\n",
       "      <th>ARRIVAL_DELAY</th>\n",
       "      <th>AIR_SYSTEM_DELAY</th>\n",
       "      <th>SECURITY_DELAY</th>\n",
       "      <th>...</th>\n",
       "      <th>LATE_AIRCRAFT_DELAY</th>\n",
       "      <th>WEATHER_DELAY</th>\n",
       "      <th>OTHER_DELAY</th>\n",
       "      <th>ORIGIN_LATITUDE</th>\n",
       "      <th>ORIGIN_LONGITUDE</th>\n",
       "      <th>DESTINATION_LATITUDE</th>\n",
       "      <th>DESTINATION_LONGITUDE</th>\n",
       "      <th>FLIGHTS</th>\n",
       "      <th>DELAYED_FLIGHTS</th>\n",
       "      <th>DELAYED_PERCENTAGE</th>\n",
       "    </tr>\n",
       "  </thead>\n",
       "  <tbody>\n",
       "    <tr>\n",
       "      <th>0</th>\n",
       "      <td>ATL</td>\n",
       "      <td>Hartsfield-Jackson Atlanta International Airport</td>\n",
       "      <td>Atlanta</td>\n",
       "      <td>GA</td>\n",
       "      <td>8.850270</td>\n",
       "      <td>114.866383</td>\n",
       "      <td>640.178136</td>\n",
       "      <td>2.416871</td>\n",
       "      <td>1.785697</td>\n",
       "      <td>0.004062</td>\n",
       "      <td>...</td>\n",
       "      <td>2.878495</td>\n",
       "      <td>0.839232</td>\n",
       "      <td>1.022221</td>\n",
       "      <td>33.64044</td>\n",
       "      <td>-84.42694</td>\n",
       "      <td>35.552319</td>\n",
       "      <td>-86.109114</td>\n",
       "      <td>375903</td>\n",
       "      <td>122213</td>\n",
       "      <td>0.325118</td>\n",
       "    </tr>\n",
       "    <tr>\n",
       "      <th>1</th>\n",
       "      <td>ORD</td>\n",
       "      <td>Chicago O'Hare International Airport</td>\n",
       "      <td>Chicago</td>\n",
       "      <td>IL</td>\n",
       "      <td>13.205020</td>\n",
       "      <td>127.695187</td>\n",
       "      <td>721.919227</td>\n",
       "      <td>7.608336</td>\n",
       "      <td>3.284368</td>\n",
       "      <td>0.009161</td>\n",
       "      <td>...</td>\n",
       "      <td>5.254136</td>\n",
       "      <td>1.396482</td>\n",
       "      <td>1.102350</td>\n",
       "      <td>41.97960</td>\n",
       "      <td>-87.90446</td>\n",
       "      <td>38.347093</td>\n",
       "      <td>-90.637218</td>\n",
       "      <td>303888</td>\n",
       "      <td>121696</td>\n",
       "      <td>0.400463</td>\n",
       "    </tr>\n",
       "    <tr>\n",
       "      <th>2</th>\n",
       "      <td>DFW</td>\n",
       "      <td>Dallas/Fort Worth International Airport</td>\n",
       "      <td>Dallas-Fort Worth</td>\n",
       "      <td>TX</td>\n",
       "      <td>11.057457</td>\n",
       "      <td>130.859005</td>\n",
       "      <td>788.274763</td>\n",
       "      <td>6.425772</td>\n",
       "      <td>2.247282</td>\n",
       "      <td>0.022907</td>\n",
       "      <td>...</td>\n",
       "      <td>4.349548</td>\n",
       "      <td>1.121342</td>\n",
       "      <td>1.149282</td>\n",
       "      <td>32.89595</td>\n",
       "      <td>-97.03720</td>\n",
       "      <td>35.462532</td>\n",
       "      <td>-95.100926</td>\n",
       "      <td>252938</td>\n",
       "      <td>98565</td>\n",
       "      <td>0.389680</td>\n",
       "    </tr>\n",
       "    <tr>\n",
       "      <th>3</th>\n",
       "      <td>DEN</td>\n",
       "      <td>Denver International Airport</td>\n",
       "      <td>Denver</td>\n",
       "      <td>CO</td>\n",
       "      <td>11.259532</td>\n",
       "      <td>137.207102</td>\n",
       "      <td>877.915006</td>\n",
       "      <td>6.472926</td>\n",
       "      <td>2.666673</td>\n",
       "      <td>0.004362</td>\n",
       "      <td>...</td>\n",
       "      <td>5.082969</td>\n",
       "      <td>0.446868</td>\n",
       "      <td>1.218958</td>\n",
       "      <td>39.85841</td>\n",
       "      <td>-104.66700</td>\n",
       "      <td>38.010582</td>\n",
       "      <td>-100.578165</td>\n",
       "      <td>211369</td>\n",
       "      <td>86012</td>\n",
       "      <td>0.406928</td>\n",
       "    </tr>\n",
       "    <tr>\n",
       "      <th>4</th>\n",
       "      <td>LAX</td>\n",
       "      <td>Los Angeles International Airport</td>\n",
       "      <td>Los Angeles</td>\n",
       "      <td>CA</td>\n",
       "      <td>10.173233</td>\n",
       "      <td>179.770106</td>\n",
       "      <td>1253.742786</td>\n",
       "      <td>5.286918</td>\n",
       "      <td>2.241610</td>\n",
       "      <td>0.016639</td>\n",
       "      <td>...</td>\n",
       "      <td>4.982808</td>\n",
       "      <td>0.162934</td>\n",
       "      <td>1.302307</td>\n",
       "      <td>33.94254</td>\n",
       "      <td>-118.40807</td>\n",
       "      <td>36.582438</td>\n",
       "      <td>-104.603276</td>\n",
       "      <td>209631</td>\n",
       "      <td>85590</td>\n",
       "      <td>0.408289</td>\n",
       "    </tr>\n",
       "  </tbody>\n",
       "</table>\n",
       "<p>5 rows × 21 columns</p>\n",
       "</div>"
      ],
      "text/plain": [
       "  ORIGIN_AIRPORT                               ORIGIN_AIRPORT_NAME  \\\n",
       "0            ATL  Hartsfield-Jackson Atlanta International Airport   \n",
       "1            ORD              Chicago O'Hare International Airport   \n",
       "2            DFW           Dallas/Fort Worth International Airport   \n",
       "3            DEN                      Denver International Airport   \n",
       "4            LAX                 Los Angeles International Airport   \n",
       "\n",
       "         ORIGIN_CITY ORIGIN_STATE  DEPARTURE_DELAY  ELAPSED_TIME     DISTANCE  \\\n",
       "0            Atlanta           GA         8.850270    114.866383   640.178136   \n",
       "1            Chicago           IL        13.205020    127.695187   721.919227   \n",
       "2  Dallas-Fort Worth           TX        11.057457    130.859005   788.274763   \n",
       "3             Denver           CO        11.259532    137.207102   877.915006   \n",
       "4        Los Angeles           CA        10.173233    179.770106  1253.742786   \n",
       "\n",
       "   ARRIVAL_DELAY  AIR_SYSTEM_DELAY  SECURITY_DELAY  ...  LATE_AIRCRAFT_DELAY  \\\n",
       "0       2.416871          1.785697        0.004062  ...             2.878495   \n",
       "1       7.608336          3.284368        0.009161  ...             5.254136   \n",
       "2       6.425772          2.247282        0.022907  ...             4.349548   \n",
       "3       6.472926          2.666673        0.004362  ...             5.082969   \n",
       "4       5.286918          2.241610        0.016639  ...             4.982808   \n",
       "\n",
       "   WEATHER_DELAY  OTHER_DELAY  ORIGIN_LATITUDE  ORIGIN_LONGITUDE  \\\n",
       "0       0.839232     1.022221         33.64044         -84.42694   \n",
       "1       1.396482     1.102350         41.97960         -87.90446   \n",
       "2       1.121342     1.149282         32.89595         -97.03720   \n",
       "3       0.446868     1.218958         39.85841        -104.66700   \n",
       "4       0.162934     1.302307         33.94254        -118.40807   \n",
       "\n",
       "   DESTINATION_LATITUDE  DESTINATION_LONGITUDE  FLIGHTS  DELAYED_FLIGHTS  \\\n",
       "0             35.552319             -86.109114   375903           122213   \n",
       "1             38.347093             -90.637218   303888           121696   \n",
       "2             35.462532             -95.100926   252938            98565   \n",
       "3             38.010582            -100.578165   211369            86012   \n",
       "4             36.582438            -104.603276   209631            85590   \n",
       "\n",
       "   DELAYED_PERCENTAGE  \n",
       "0            0.325118  \n",
       "1            0.400463  \n",
       "2            0.389680  \n",
       "3            0.406928  \n",
       "4            0.408289  \n",
       "\n",
       "[5 rows x 21 columns]"
      ]
     },
     "execution_count": 4,
     "metadata": {},
     "output_type": "execute_result"
    }
   ],
   "source": [
    "df_airports.head()"
   ]
  },
  {
   "cell_type": "code",
   "execution_count": 5,
   "metadata": {},
   "outputs": [
    {
     "data": {
      "application/vnd.plotly.v1+json": {
       "config": {
        "plotlyServerURL": "https://plot.ly"
       },
       "data": [
        {
         "customdata": [
          [
           "Atlanta"
          ],
          [
           "Chicago"
          ],
          [
           "Dallas-Fort Worth"
          ],
          [
           "Denver"
          ],
          [
           "Los Angeles"
          ],
          [
           "San Francisco"
          ],
          [
           "Phoenix"
          ],
          [
           "Houston"
          ],
          [
           "Las Vegas"
          ],
          [
           "Minneapolis"
          ],
          [
           "Seattle"
          ],
          [
           "Orlando"
          ],
          [
           "Detroit"
          ],
          [
           "Boston"
          ],
          [
           "Charlotte"
          ],
          [
           "Newark"
          ]
         ],
         "geo": "geo",
         "hovertemplate": "FLIGHTS=%{marker.size}<br>ORIGIN_AIRPORT=%{text}<br>ORIGIN_LATITUDE=%{lat}<br>ORIGIN_LONGITUDE=%{lon}<br>ORIGIN_CITY=%{customdata[0]}<br>DELAYED_PERCENTAGE=%{marker.color}<extra></extra>",
         "lat": [
          33.640440000182664,
          41.97959999983991,
          32.89594999985769,
          39.85840999991746,
          33.942540000127636,
          37.61899999995286,
          33.43416999997723,
          29.980469999918796,
          36.08036000002056,
          44.88054999990765,
          47.44897999993442,
          28.42889000006304,
          42.212059999909265,
          42.364350000014284,
          35.21401000010128,
          40.69249999991597
         ],
         "legendgroup": "",
         "lon": [
          -84.42694000061194,
          -87.9044600005808,
          -97.0372000001219,
          -104.66699999970388,
          -118.40807000049712,
          -122.37484000005887,
          -112.00806000040308,
          -95.33971999971006,
          -115.15232999995523,
          -93.21691999974011,
          -122.30931000026393,
          -81.3160300000512,
          -83.34884000009549,
          -71.00518000013376,
          -80.94312999978445,
          -74.16865999996953
         ],
         "marker": {
          "color": [
           0.3251184481102838,
           0.4004633285947454,
           0.3896804750571286,
           0.4069281682744395,
           0.40828885040857504,
           0.3819637293681789,
           0.3944558054987503,
           0.4078161797466743,
           0.39330225609671754,
           0.330981334958051,
           0.3893179800728395,
           0.37055627731191687,
           0.3346687554037512,
           0.36341007006397147,
           0.41412113565830794,
           0.3584641489489935
          ],
          "coloraxis": "coloraxis",
          "size": [
           375903,
           303888,
           252938,
           211369,
           209631,
           159523,
           158436,
           157110,
           144586,
           121457,
           120539,
           118538,
           116817,
           114895,
           108589,
           107849
          ],
          "sizemode": "area",
          "sizeref": 417.67,
          "symbol": "circle"
         },
         "mode": "markers+text",
         "name": "",
         "showlegend": false,
         "text": [
          "ATL",
          "ORD",
          "DFW",
          "DEN",
          "LAX",
          "SFO",
          "PHX",
          "IAH",
          "LAS",
          "MSP",
          "SEA",
          "MCO",
          "DTW",
          "BOS",
          "CLT",
          "EWR"
         ],
         "textposition": "top center",
         "type": "scattergeo"
        }
       ],
       "layout": {
        "coloraxis": {
         "colorbar": {
          "title": {
           "text": "DELAYED_PERCENTAGE"
          }
         },
         "colorscale": [
          [
           0,
           "rgb(0,104,55)"
          ],
          [
           0.1,
           "rgb(26,152,80)"
          ],
          [
           0.2,
           "rgb(102,189,99)"
          ],
          [
           0.3,
           "rgb(166,217,106)"
          ],
          [
           0.4,
           "rgb(217,239,139)"
          ],
          [
           0.5,
           "rgb(255,255,191)"
          ],
          [
           0.6,
           "rgb(254,224,139)"
          ],
          [
           0.7,
           "rgb(253,174,97)"
          ],
          [
           0.8,
           "rgb(244,109,67)"
          ],
          [
           0.9,
           "rgb(215,48,39)"
          ],
          [
           1,
           "rgb(165,0,38)"
          ]
         ]
        },
        "geo": {
         "center": {},
         "domain": {
          "x": [
           0,
           1
          ],
          "y": [
           0,
           1
          ]
         },
         "scope": "usa"
        },
        "legend": {
         "itemsizing": "constant",
         "title": {
          "text": "Causa del Retraso"
         },
         "tracegroupgap": 0
        },
        "margin": {
         "t": 60
        },
        "template": {
         "data": {
          "bar": [
           {
            "error_x": {
             "color": "#f2f5fa"
            },
            "error_y": {
             "color": "#f2f5fa"
            },
            "marker": {
             "line": {
              "color": "rgb(17,17,17)",
              "width": 0.5
             },
             "pattern": {
              "fillmode": "overlay",
              "size": 10,
              "solidity": 0.2
             }
            },
            "type": "bar"
           }
          ],
          "barpolar": [
           {
            "marker": {
             "line": {
              "color": "rgb(17,17,17)",
              "width": 0.5
             },
             "pattern": {
              "fillmode": "overlay",
              "size": 10,
              "solidity": 0.2
             }
            },
            "type": "barpolar"
           }
          ],
          "carpet": [
           {
            "aaxis": {
             "endlinecolor": "#A2B1C6",
             "gridcolor": "#506784",
             "linecolor": "#506784",
             "minorgridcolor": "#506784",
             "startlinecolor": "#A2B1C6"
            },
            "baxis": {
             "endlinecolor": "#A2B1C6",
             "gridcolor": "#506784",
             "linecolor": "#506784",
             "minorgridcolor": "#506784",
             "startlinecolor": "#A2B1C6"
            },
            "type": "carpet"
           }
          ],
          "choropleth": [
           {
            "colorbar": {
             "outlinewidth": 0,
             "ticks": ""
            },
            "type": "choropleth"
           }
          ],
          "contour": [
           {
            "colorbar": {
             "outlinewidth": 0,
             "ticks": ""
            },
            "colorscale": [
             [
              0,
              "#0d0887"
             ],
             [
              0.1111111111111111,
              "#46039f"
             ],
             [
              0.2222222222222222,
              "#7201a8"
             ],
             [
              0.3333333333333333,
              "#9c179e"
             ],
             [
              0.4444444444444444,
              "#bd3786"
             ],
             [
              0.5555555555555556,
              "#d8576b"
             ],
             [
              0.6666666666666666,
              "#ed7953"
             ],
             [
              0.7777777777777778,
              "#fb9f3a"
             ],
             [
              0.8888888888888888,
              "#fdca26"
             ],
             [
              1,
              "#f0f921"
             ]
            ],
            "type": "contour"
           }
          ],
          "contourcarpet": [
           {
            "colorbar": {
             "outlinewidth": 0,
             "ticks": ""
            },
            "type": "contourcarpet"
           }
          ],
          "heatmap": [
           {
            "colorbar": {
             "outlinewidth": 0,
             "ticks": ""
            },
            "colorscale": [
             [
              0,
              "#0d0887"
             ],
             [
              0.1111111111111111,
              "#46039f"
             ],
             [
              0.2222222222222222,
              "#7201a8"
             ],
             [
              0.3333333333333333,
              "#9c179e"
             ],
             [
              0.4444444444444444,
              "#bd3786"
             ],
             [
              0.5555555555555556,
              "#d8576b"
             ],
             [
              0.6666666666666666,
              "#ed7953"
             ],
             [
              0.7777777777777778,
              "#fb9f3a"
             ],
             [
              0.8888888888888888,
              "#fdca26"
             ],
             [
              1,
              "#f0f921"
             ]
            ],
            "type": "heatmap"
           }
          ],
          "heatmapgl": [
           {
            "colorbar": {
             "outlinewidth": 0,
             "ticks": ""
            },
            "colorscale": [
             [
              0,
              "#0d0887"
             ],
             [
              0.1111111111111111,
              "#46039f"
             ],
             [
              0.2222222222222222,
              "#7201a8"
             ],
             [
              0.3333333333333333,
              "#9c179e"
             ],
             [
              0.4444444444444444,
              "#bd3786"
             ],
             [
              0.5555555555555556,
              "#d8576b"
             ],
             [
              0.6666666666666666,
              "#ed7953"
             ],
             [
              0.7777777777777778,
              "#fb9f3a"
             ],
             [
              0.8888888888888888,
              "#fdca26"
             ],
             [
              1,
              "#f0f921"
             ]
            ],
            "type": "heatmapgl"
           }
          ],
          "histogram": [
           {
            "marker": {
             "pattern": {
              "fillmode": "overlay",
              "size": 10,
              "solidity": 0.2
             }
            },
            "type": "histogram"
           }
          ],
          "histogram2d": [
           {
            "colorbar": {
             "outlinewidth": 0,
             "ticks": ""
            },
            "colorscale": [
             [
              0,
              "#0d0887"
             ],
             [
              0.1111111111111111,
              "#46039f"
             ],
             [
              0.2222222222222222,
              "#7201a8"
             ],
             [
              0.3333333333333333,
              "#9c179e"
             ],
             [
              0.4444444444444444,
              "#bd3786"
             ],
             [
              0.5555555555555556,
              "#d8576b"
             ],
             [
              0.6666666666666666,
              "#ed7953"
             ],
             [
              0.7777777777777778,
              "#fb9f3a"
             ],
             [
              0.8888888888888888,
              "#fdca26"
             ],
             [
              1,
              "#f0f921"
             ]
            ],
            "type": "histogram2d"
           }
          ],
          "histogram2dcontour": [
           {
            "colorbar": {
             "outlinewidth": 0,
             "ticks": ""
            },
            "colorscale": [
             [
              0,
              "#0d0887"
             ],
             [
              0.1111111111111111,
              "#46039f"
             ],
             [
              0.2222222222222222,
              "#7201a8"
             ],
             [
              0.3333333333333333,
              "#9c179e"
             ],
             [
              0.4444444444444444,
              "#bd3786"
             ],
             [
              0.5555555555555556,
              "#d8576b"
             ],
             [
              0.6666666666666666,
              "#ed7953"
             ],
             [
              0.7777777777777778,
              "#fb9f3a"
             ],
             [
              0.8888888888888888,
              "#fdca26"
             ],
             [
              1,
              "#f0f921"
             ]
            ],
            "type": "histogram2dcontour"
           }
          ],
          "mesh3d": [
           {
            "colorbar": {
             "outlinewidth": 0,
             "ticks": ""
            },
            "type": "mesh3d"
           }
          ],
          "parcoords": [
           {
            "line": {
             "colorbar": {
              "outlinewidth": 0,
              "ticks": ""
             }
            },
            "type": "parcoords"
           }
          ],
          "pie": [
           {
            "automargin": true,
            "type": "pie"
           }
          ],
          "scatter": [
           {
            "marker": {
             "line": {
              "color": "#283442"
             }
            },
            "type": "scatter"
           }
          ],
          "scatter3d": [
           {
            "line": {
             "colorbar": {
              "outlinewidth": 0,
              "ticks": ""
             }
            },
            "marker": {
             "colorbar": {
              "outlinewidth": 0,
              "ticks": ""
             }
            },
            "type": "scatter3d"
           }
          ],
          "scattercarpet": [
           {
            "marker": {
             "colorbar": {
              "outlinewidth": 0,
              "ticks": ""
             }
            },
            "type": "scattercarpet"
           }
          ],
          "scattergeo": [
           {
            "marker": {
             "colorbar": {
              "outlinewidth": 0,
              "ticks": ""
             }
            },
            "type": "scattergeo"
           }
          ],
          "scattergl": [
           {
            "marker": {
             "line": {
              "color": "#283442"
             }
            },
            "type": "scattergl"
           }
          ],
          "scattermapbox": [
           {
            "marker": {
             "colorbar": {
              "outlinewidth": 0,
              "ticks": ""
             }
            },
            "type": "scattermapbox"
           }
          ],
          "scatterpolar": [
           {
            "marker": {
             "colorbar": {
              "outlinewidth": 0,
              "ticks": ""
             }
            },
            "type": "scatterpolar"
           }
          ],
          "scatterpolargl": [
           {
            "marker": {
             "colorbar": {
              "outlinewidth": 0,
              "ticks": ""
             }
            },
            "type": "scatterpolargl"
           }
          ],
          "scatterternary": [
           {
            "marker": {
             "colorbar": {
              "outlinewidth": 0,
              "ticks": ""
             }
            },
            "type": "scatterternary"
           }
          ],
          "surface": [
           {
            "colorbar": {
             "outlinewidth": 0,
             "ticks": ""
            },
            "colorscale": [
             [
              0,
              "#0d0887"
             ],
             [
              0.1111111111111111,
              "#46039f"
             ],
             [
              0.2222222222222222,
              "#7201a8"
             ],
             [
              0.3333333333333333,
              "#9c179e"
             ],
             [
              0.4444444444444444,
              "#bd3786"
             ],
             [
              0.5555555555555556,
              "#d8576b"
             ],
             [
              0.6666666666666666,
              "#ed7953"
             ],
             [
              0.7777777777777778,
              "#fb9f3a"
             ],
             [
              0.8888888888888888,
              "#fdca26"
             ],
             [
              1,
              "#f0f921"
             ]
            ],
            "type": "surface"
           }
          ],
          "table": [
           {
            "cells": {
             "fill": {
              "color": "#506784"
             },
             "line": {
              "color": "rgb(17,17,17)"
             }
            },
            "header": {
             "fill": {
              "color": "#2a3f5f"
             },
             "line": {
              "color": "rgb(17,17,17)"
             }
            },
            "type": "table"
           }
          ]
         },
         "layout": {
          "annotationdefaults": {
           "arrowcolor": "#f2f5fa",
           "arrowhead": 0,
           "arrowwidth": 1
          },
          "autotypenumbers": "strict",
          "coloraxis": {
           "colorbar": {
            "outlinewidth": 0,
            "ticks": ""
           }
          },
          "colorscale": {
           "diverging": [
            [
             0,
             "#8e0152"
            ],
            [
             0.1,
             "#c51b7d"
            ],
            [
             0.2,
             "#de77ae"
            ],
            [
             0.3,
             "#f1b6da"
            ],
            [
             0.4,
             "#fde0ef"
            ],
            [
             0.5,
             "#f7f7f7"
            ],
            [
             0.6,
             "#e6f5d0"
            ],
            [
             0.7,
             "#b8e186"
            ],
            [
             0.8,
             "#7fbc41"
            ],
            [
             0.9,
             "#4d9221"
            ],
            [
             1,
             "#276419"
            ]
           ],
           "sequential": [
            [
             0,
             "#0d0887"
            ],
            [
             0.1111111111111111,
             "#46039f"
            ],
            [
             0.2222222222222222,
             "#7201a8"
            ],
            [
             0.3333333333333333,
             "#9c179e"
            ],
            [
             0.4444444444444444,
             "#bd3786"
            ],
            [
             0.5555555555555556,
             "#d8576b"
            ],
            [
             0.6666666666666666,
             "#ed7953"
            ],
            [
             0.7777777777777778,
             "#fb9f3a"
            ],
            [
             0.8888888888888888,
             "#fdca26"
            ],
            [
             1,
             "#f0f921"
            ]
           ],
           "sequentialminus": [
            [
             0,
             "#0d0887"
            ],
            [
             0.1111111111111111,
             "#46039f"
            ],
            [
             0.2222222222222222,
             "#7201a8"
            ],
            [
             0.3333333333333333,
             "#9c179e"
            ],
            [
             0.4444444444444444,
             "#bd3786"
            ],
            [
             0.5555555555555556,
             "#d8576b"
            ],
            [
             0.6666666666666666,
             "#ed7953"
            ],
            [
             0.7777777777777778,
             "#fb9f3a"
            ],
            [
             0.8888888888888888,
             "#fdca26"
            ],
            [
             1,
             "#f0f921"
            ]
           ]
          },
          "colorway": [
           "#636efa",
           "#EF553B",
           "#00cc96",
           "#ab63fa",
           "#FFA15A",
           "#19d3f3",
           "#FF6692",
           "#B6E880",
           "#FF97FF",
           "#FECB52"
          ],
          "font": {
           "color": "#f2f5fa"
          },
          "geo": {
           "bgcolor": "rgb(17,17,17)",
           "lakecolor": "rgb(17,17,17)",
           "landcolor": "rgb(17,17,17)",
           "showlakes": true,
           "showland": true,
           "subunitcolor": "#506784"
          },
          "hoverlabel": {
           "align": "left"
          },
          "hovermode": "closest",
          "mapbox": {
           "style": "dark"
          },
          "paper_bgcolor": "rgb(17,17,17)",
          "plot_bgcolor": "rgb(17,17,17)",
          "polar": {
           "angularaxis": {
            "gridcolor": "#506784",
            "linecolor": "#506784",
            "ticks": ""
           },
           "bgcolor": "rgb(17,17,17)",
           "radialaxis": {
            "gridcolor": "#506784",
            "linecolor": "#506784",
            "ticks": ""
           }
          },
          "scene": {
           "xaxis": {
            "backgroundcolor": "rgb(17,17,17)",
            "gridcolor": "#506784",
            "gridwidth": 2,
            "linecolor": "#506784",
            "showbackground": true,
            "ticks": "",
            "zerolinecolor": "#C8D4E3"
           },
           "yaxis": {
            "backgroundcolor": "rgb(17,17,17)",
            "gridcolor": "#506784",
            "gridwidth": 2,
            "linecolor": "#506784",
            "showbackground": true,
            "ticks": "",
            "zerolinecolor": "#C8D4E3"
           },
           "zaxis": {
            "backgroundcolor": "rgb(17,17,17)",
            "gridcolor": "#506784",
            "gridwidth": 2,
            "linecolor": "#506784",
            "showbackground": true,
            "ticks": "",
            "zerolinecolor": "#C8D4E3"
           }
          },
          "shapedefaults": {
           "line": {
            "color": "#f2f5fa"
           }
          },
          "sliderdefaults": {
           "bgcolor": "#C8D4E3",
           "bordercolor": "rgb(17,17,17)",
           "borderwidth": 1,
           "tickwidth": 0
          },
          "ternary": {
           "aaxis": {
            "gridcolor": "#506784",
            "linecolor": "#506784",
            "ticks": ""
           },
           "baxis": {
            "gridcolor": "#506784",
            "linecolor": "#506784",
            "ticks": ""
           },
           "bgcolor": "rgb(17,17,17)",
           "caxis": {
            "gridcolor": "#506784",
            "linecolor": "#506784",
            "ticks": ""
           }
          },
          "title": {
           "x": 0.05
          },
          "updatemenudefaults": {
           "bgcolor": "#506784",
           "borderwidth": 0
          },
          "xaxis": {
           "automargin": true,
           "gridcolor": "#283442",
           "linecolor": "#506784",
           "ticks": "",
           "title": {
            "standoff": 15
           },
           "zerolinecolor": "#283442",
           "zerolinewidth": 2
          },
          "yaxis": {
           "automargin": true,
           "gridcolor": "#283442",
           "linecolor": "#506784",
           "ticks": "",
           "title": {
            "standoff": 15
           },
           "zerolinecolor": "#283442",
           "zerolinewidth": 2
          }
         }
        },
        "title": {
         "text": "Origin airports with number of departing flights and percentage of delayed flights <br><br><sup>Size indicates the number of departing flights</sup>"
        }
       }
      }
     },
     "metadata": {},
     "output_type": "display_data"
    }
   ],
   "source": [
    "# Map chart\n",
    "fig_map = px.scatter_geo(df_airports, lat=\"ORIGIN_LATITUDE\", lon = \"ORIGIN_LONGITUDE\",\n",
    "                     size= \"FLIGHTS\", # size of markers\n",
    "                     size_max= 30,\n",
    "                     color= \"DELAYED_PERCENTAGE\", # which column to use to set the color of markers\n",
    "                     scope=\"usa\",\n",
    "                     text = \"ORIGIN_AIRPORT\",\n",
    "                     hover_data  = [\"ORIGIN_CITY\"],\n",
    "                     color_continuous_scale='RdYlGn_r',\n",
    "                     template=\"plotly_dark\")\n",
    "fig_map.update_traces(textposition=\"top center\")\n",
    "fig_map.update_layout(\n",
    "    title=\"Origin airports with number of departing flights and percentage of delayed flights <br><br><sup>Size indicates the number of departing flights</sup>\",\n",
    "    legend_title=\"Causa del Retraso\",\n",
    ")"
   ]
  },
  {
   "cell_type": "code",
   "execution_count": 6,
   "metadata": {},
   "outputs": [
    {
     "name": "stdout",
     "output_type": "stream",
     "text": [
      "Dash is running on http://127.0.0.1:8050/\n",
      "\n",
      " * Serving Flask app '__main__' (lazy loading)\n",
      " * Environment: production\n",
      "\u001b[31m   WARNING: This is a development server. Do not use it in a production deployment.\u001b[0m\n",
      "\u001b[2m   Use a production WSGI server instead.\u001b[0m\n",
      " * Debug mode: off\n"
     ]
    },
    {
     "name": "stderr",
     "output_type": "stream",
     "text": [
      "WARNING: This is a development server. Do not use it in a production deployment. Use a production WSGI server instead.\n",
      " * Running on http://127.0.0.1:8050\n",
      "Press CTRL+C to quit\n",
      "127.0.0.1 - - [05/Dec/2022 01:11:51] \"GET / HTTP/1.1\" 200 -\n",
      "127.0.0.1 - - [05/Dec/2022 01:11:52] \"GET /_dash-layout HTTP/1.1\" 200 -\n",
      "127.0.0.1 - - [05/Dec/2022 01:11:52] \"GET /_dash-dependencies HTTP/1.1\" 200 -\n",
      "127.0.0.1 - - [05/Dec/2022 01:11:53] \"GET /_favicon.ico?v=2.7.0 HTTP/1.1\" 200 -\n",
      "127.0.0.1 - - [05/Dec/2022 01:11:53] \"GET /_dash-component-suites/dash/dcc/async-graph.js HTTP/1.1\" 304 -\n",
      "127.0.0.1 - - [05/Dec/2022 01:11:53] \"GET /_dash-component-suites/dash/dcc/async-plotlyjs.js HTTP/1.1\" 304 -\n",
      "127.0.0.1 - - [05/Dec/2022 01:11:54] \"POST /_dash-update-component HTTP/1.1\" 200 -\n",
      "127.0.0.1 - - [05/Dec/2022 01:11:57] \"POST /_dash-update-component HTTP/1.1\" 200 -\n",
      "127.0.0.1 - - [05/Dec/2022 01:11:58] \"POST /_dash-update-component HTTP/1.1\" 200 -\n",
      "127.0.0.1 - - [05/Dec/2022 01:11:59] \"POST /_dash-update-component HTTP/1.1\" 200 -\n",
      "127.0.0.1 - - [05/Dec/2022 01:12:01] \"POST /_dash-update-component HTTP/1.1\" 200 -\n",
      "127.0.0.1 - - [05/Dec/2022 01:12:02] \"POST /_dash-update-component HTTP/1.1\" 200 -\n",
      "127.0.0.1 - - [05/Dec/2022 01:12:03] \"POST /_dash-update-component HTTP/1.1\" 200 -\n",
      "127.0.0.1 - - [05/Dec/2022 01:12:04] \"POST /_dash-update-component HTTP/1.1\" 200 -\n",
      "127.0.0.1 - - [05/Dec/2022 01:12:05] \"POST /_dash-update-component HTTP/1.1\" 200 -\n",
      "127.0.0.1 - - [05/Dec/2022 01:12:07] \"POST /_dash-update-component HTTP/1.1\" 200 -\n",
      "127.0.0.1 - - [05/Dec/2022 01:12:07] \"POST /_dash-update-component HTTP/1.1\" 200 -\n",
      "127.0.0.1 - - [05/Dec/2022 01:12:09] \"POST /_dash-update-component HTTP/1.1\" 200 -\n",
      "127.0.0.1 - - [05/Dec/2022 01:12:10] \"POST /_dash-update-component HTTP/1.1\" 200 -\n",
      "127.0.0.1 - - [05/Dec/2022 01:12:34] \"POST /_dash-update-component HTTP/1.1\" 200 -\n",
      "127.0.0.1 - - [05/Dec/2022 01:12:34] \"POST /_dash-update-component HTTP/1.1\" 200 -\n",
      "127.0.0.1 - - [05/Dec/2022 01:12:35] \"POST /_dash-update-component HTTP/1.1\" 200 -\n",
      "127.0.0.1 - - [05/Dec/2022 01:12:36] \"POST /_dash-update-component HTTP/1.1\" 200 -\n",
      "127.0.0.1 - - [05/Dec/2022 01:12:37] \"POST /_dash-update-component HTTP/1.1\" 200 -\n",
      "127.0.0.1 - - [05/Dec/2022 01:12:38] \"POST /_dash-update-component HTTP/1.1\" 200 -\n",
      "127.0.0.1 - - [05/Dec/2022 01:12:39] \"POST /_dash-update-component HTTP/1.1\" 200 -\n",
      "127.0.0.1 - - [05/Dec/2022 01:12:39] \"POST /_dash-update-component HTTP/1.1\" 200 -\n",
      "127.0.0.1 - - [05/Dec/2022 01:12:55] \"POST /_dash-update-component HTTP/1.1\" 200 -\n",
      "127.0.0.1 - - [05/Dec/2022 01:12:56] \"POST /_dash-update-component HTTP/1.1\" 200 -\n",
      "127.0.0.1 - - [05/Dec/2022 01:13:19] \"POST /_dash-update-component HTTP/1.1\" 200 -\n",
      "127.0.0.1 - - [05/Dec/2022 01:13:20] \"POST /_dash-update-component HTTP/1.1\" 200 -\n",
      "127.0.0.1 - - [05/Dec/2022 01:13:21] \"POST /_dash-update-component HTTP/1.1\" 200 -\n",
      "127.0.0.1 - - [05/Dec/2022 01:13:22] \"POST /_dash-update-component HTTP/1.1\" 200 -\n",
      "127.0.0.1 - - [05/Dec/2022 01:13:22] \"POST /_dash-update-component HTTP/1.1\" 200 -\n",
      "127.0.0.1 - - [05/Dec/2022 01:13:24] \"POST /_dash-update-component HTTP/1.1\" 200 -\n",
      "127.0.0.1 - - [05/Dec/2022 01:13:25] \"POST /_dash-update-component HTTP/1.1\" 200 -\n",
      "127.0.0.1 - - [05/Dec/2022 01:13:25] \"POST /_dash-update-component HTTP/1.1\" 200 -\n",
      "127.0.0.1 - - [05/Dec/2022 01:13:29] \"POST /_dash-update-component HTTP/1.1\" 200 -\n",
      "127.0.0.1 - - [05/Dec/2022 01:13:29] \"POST /_dash-update-component HTTP/1.1\" 200 -\n",
      "127.0.0.1 - - [05/Dec/2022 01:13:30] \"POST /_dash-update-component HTTP/1.1\" 200 -\n",
      "127.0.0.1 - - [05/Dec/2022 01:13:31] \"POST /_dash-update-component HTTP/1.1\" 200 -\n",
      "127.0.0.1 - - [05/Dec/2022 01:13:31] \"POST /_dash-update-component HTTP/1.1\" 200 -\n",
      "127.0.0.1 - - [05/Dec/2022 01:13:33] \"POST /_dash-update-component HTTP/1.1\" 200 -\n",
      "127.0.0.1 - - [05/Dec/2022 01:13:33] \"POST /_dash-update-component HTTP/1.1\" 200 -\n",
      "127.0.0.1 - - [05/Dec/2022 01:13:34] \"POST /_dash-update-component HTTP/1.1\" 200 -\n",
      "127.0.0.1 - - [05/Dec/2022 01:13:34] \"POST /_dash-update-component HTTP/1.1\" 200 -\n",
      "127.0.0.1 - - [05/Dec/2022 01:13:34] \"POST /_dash-update-component HTTP/1.1\" 200 -\n",
      "127.0.0.1 - - [05/Dec/2022 01:13:35] \"POST /_dash-update-component HTTP/1.1\" 200 -\n",
      "127.0.0.1 - - [05/Dec/2022 01:13:35] \"POST /_dash-update-component HTTP/1.1\" 200 -\n",
      "127.0.0.1 - - [05/Dec/2022 01:13:36] \"POST /_dash-update-component HTTP/1.1\" 200 -\n",
      "127.0.0.1 - - [05/Dec/2022 01:13:37] \"POST /_dash-update-component HTTP/1.1\" 200 -\n",
      "127.0.0.1 - - [05/Dec/2022 01:13:37] \"POST /_dash-update-component HTTP/1.1\" 200 -\n",
      "127.0.0.1 - - [05/Dec/2022 01:13:38] \"POST /_dash-update-component HTTP/1.1\" 200 -\n",
      "127.0.0.1 - - [05/Dec/2022 01:13:38] \"POST /_dash-update-component HTTP/1.1\" 200 -\n",
      "127.0.0.1 - - [05/Dec/2022 01:13:38] \"POST /_dash-update-component HTTP/1.1\" 200 -\n",
      "127.0.0.1 - - [05/Dec/2022 01:13:39] \"POST /_dash-update-component HTTP/1.1\" 200 -\n",
      "127.0.0.1 - - [05/Dec/2022 01:13:39] \"POST /_dash-update-component HTTP/1.1\" 200 -\n",
      "127.0.0.1 - - [05/Dec/2022 01:13:39] \"POST /_dash-update-component HTTP/1.1\" 200 -\n",
      "127.0.0.1 - - [05/Dec/2022 01:13:40] \"POST /_dash-update-component HTTP/1.1\" 200 -\n",
      "127.0.0.1 - - [05/Dec/2022 01:13:57] \"POST /_dash-update-component HTTP/1.1\" 200 -\n",
      "127.0.0.1 - - [05/Dec/2022 01:13:57] \"POST /_dash-update-component HTTP/1.1\" 200 -\n",
      "127.0.0.1 - - [05/Dec/2022 01:13:58] \"POST /_dash-update-component HTTP/1.1\" 200 -\n",
      "127.0.0.1 - - [05/Dec/2022 01:13:59] \"POST /_dash-update-component HTTP/1.1\" 200 -\n",
      "127.0.0.1 - - [05/Dec/2022 01:13:59] \"POST /_dash-update-component HTTP/1.1\" 200 -\n",
      "127.0.0.1 - - [05/Dec/2022 01:14:00] \"POST /_dash-update-component HTTP/1.1\" 200 -\n",
      "127.0.0.1 - - [05/Dec/2022 01:14:03] \"POST /_dash-update-component HTTP/1.1\" 200 -\n",
      "127.0.0.1 - - [05/Dec/2022 01:14:03] \"POST /_dash-update-component HTTP/1.1\" 200 -\n",
      "127.0.0.1 - - [05/Dec/2022 01:14:04] \"POST /_dash-update-component HTTP/1.1\" 200 -\n",
      "127.0.0.1 - - [05/Dec/2022 01:14:05] \"POST /_dash-update-component HTTP/1.1\" 200 -\n",
      "127.0.0.1 - - [05/Dec/2022 01:14:06] \"POST /_dash-update-component HTTP/1.1\" 200 -\n",
      "127.0.0.1 - - [05/Dec/2022 01:14:06] \"POST /_dash-update-component HTTP/1.1\" 200 -\n",
      "127.0.0.1 - - [05/Dec/2022 01:14:07] \"POST /_dash-update-component HTTP/1.1\" 200 -\n",
      "127.0.0.1 - - [05/Dec/2022 01:14:07] \"POST /_dash-update-component HTTP/1.1\" 200 -\n",
      "127.0.0.1 - - [05/Dec/2022 01:14:07] \"POST /_dash-update-component HTTP/1.1\" 200 -\n",
      "127.0.0.1 - - [05/Dec/2022 01:14:08] \"POST /_dash-update-component HTTP/1.1\" 200 -\n",
      "127.0.0.1 - - [05/Dec/2022 01:14:09] \"POST /_dash-update-component HTTP/1.1\" 200 -\n",
      "127.0.0.1 - - [05/Dec/2022 01:14:09] \"POST /_dash-update-component HTTP/1.1\" 200 -\n",
      "127.0.0.1 - - [05/Dec/2022 01:14:10] \"POST /_dash-update-component HTTP/1.1\" 200 -\n",
      "127.0.0.1 - - [05/Dec/2022 01:14:11] \"POST /_dash-update-component HTTP/1.1\" 200 -\n",
      "127.0.0.1 - - [05/Dec/2022 01:14:11] \"POST /_dash-update-component HTTP/1.1\" 200 -\n",
      "127.0.0.1 - - [05/Dec/2022 01:14:12] \"POST /_dash-update-component HTTP/1.1\" 200 -\n",
      "127.0.0.1 - - [05/Dec/2022 01:14:12] \"POST /_dash-update-component HTTP/1.1\" 200 -\n",
      "127.0.0.1 - - [05/Dec/2022 01:14:13] \"POST /_dash-update-component HTTP/1.1\" 200 -\n",
      "127.0.0.1 - - [05/Dec/2022 01:14:14] \"POST /_dash-update-component HTTP/1.1\" 200 -\n",
      "127.0.0.1 - - [05/Dec/2022 01:14:15] \"POST /_dash-update-component HTTP/1.1\" 200 -\n",
      "127.0.0.1 - - [05/Dec/2022 01:14:15] \"POST /_dash-update-component HTTP/1.1\" 200 -\n",
      "127.0.0.1 - - [05/Dec/2022 01:14:16] \"POST /_dash-update-component HTTP/1.1\" 200 -\n",
      "127.0.0.1 - - [05/Dec/2022 01:14:16] \"POST /_dash-update-component HTTP/1.1\" 200 -\n",
      "127.0.0.1 - - [05/Dec/2022 01:14:26] \"POST /_dash-update-component HTTP/1.1\" 200 -\n",
      "127.0.0.1 - - [05/Dec/2022 01:14:26] \"POST /_dash-update-component HTTP/1.1\" 200 -\n",
      "127.0.0.1 - - [05/Dec/2022 01:14:27] \"POST /_dash-update-component HTTP/1.1\" 200 -\n",
      "127.0.0.1 - - [05/Dec/2022 01:14:28] \"POST /_dash-update-component HTTP/1.1\" 200 -\n"
     ]
    }
   ],
   "source": [
    "app = dash.Dash(external_stylesheets=[dbc.themes.LUX])\n",
    "\n",
    "app.layout = dbc.Container(\n",
    "    [\n",
    "        dbc.Row(dbc.Col(html.H2('AIRPORTS ANALYSIS', className='text-center text-primary, mb-3'))),  # header row\n",
    "        \n",
    "        dbc.Row([  # start of second row\n",
    "            dbc.Col([  # first column on second row\n",
    "            html.H5('Map', className='text-center'),\n",
    "            dcc.Graph(id='map-main',\n",
    "                      figure = fig_map,\n",
    "                      hoverData={\"points\": [{\"text\": \"ATL\"}]},\n",
    "                      style={'height':550}),\n",
    "            html.Hr(),\n",
    "            ], width={'size': 8, 'offset': 0, 'order': 1}),  # width first column on second row\n",
    "            dbc.Col([  # second column on third row\n",
    "                html.H5('Distribution', className='text-center'),\n",
    "                dcc.Graph(id='pie-main',\n",
    "                      style={'height':550}),\n",
    "            ], width={'size': 4, 'offset': 0, 'order': 2}),  # width second column on second row\n",
    "        ]),  # end of second row      \n",
    "    ], fluid=True)\n",
    "\n",
    "@app.callback(\n",
    "    Output('pie-main', 'figure'),\n",
    "    Input('map-main', 'hoverData'))\n",
    "def update_pie(hoverdata):\n",
    "    # Pie Chart\n",
    "    airport = hoverdata['points'][0]['text']\n",
    "    delay_labels = [\"AIR_SYSTEM_DELAY\",\"SECURITY_DELAY\",\"AIRLINE_DELAY\",\"LATE_AIRCRAFT_DELAY\",\"WEATHER_DELAY\",\"OTHER_DELAY\"]\n",
    "    values1 = df_airports[delay_labels].iloc[df_airports[df_airports[\"ORIGIN_AIRPORT\"]==airport].index[0]]\n",
    "    fig_pie = go.Figure()\n",
    "    fig_pie.add_trace(go.Pie(labels=delay_labels, values=values1, direction ='clockwise', marker_colors=px.colors.qualitative.Vivid, \n",
    "                                hole=.3, title = airport))\n",
    "    fig_pie.update_layout(title_text=\"Average Delay Distribution by Airport\", legend_title=\"Delay Cause\", template=\"plotly_dark\",\n",
    "                        legend=dict(orientation=\"h\", y=-0.02, x =0.08))\n",
    "    return fig_pie\n",
    "\n",
    "if __name__ == '__main__':\n",
    "    app.run_server()"
   ]
  },
  {
   "cell_type": "code",
   "execution_count": null,
   "metadata": {},
   "outputs": [],
   "source": []
  }
 ],
 "metadata": {
  "kernelspec": {
   "display_name": "Python 3.8.5 ('base')",
   "language": "python",
   "name": "python3"
  },
  "language_info": {
   "codemirror_mode": {
    "name": "ipython",
    "version": 3
   },
   "file_extension": ".py",
   "mimetype": "text/x-python",
   "name": "python",
   "nbconvert_exporter": "python",
   "pygments_lexer": "ipython3",
   "version": "3.8.5"
  },
  "orig_nbformat": 4,
  "vscode": {
   "interpreter": {
    "hash": "b3472844a7ad831f024780a557c10180eb151bb97358fb439eb3b23af04efba3"
   }
  }
 },
 "nbformat": 4,
 "nbformat_minor": 2
}
