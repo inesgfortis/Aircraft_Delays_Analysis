{
 "cells": [
  {
   "cell_type": "code",
   "execution_count": null,
   "metadata": {},
   "outputs": [],
   "source": [
    "#Dash tries\n",
    "import pandas as pd\n",
    "import numpy as np\n",
    "import plotly.graph_objects as go\n",
    "import dash\n",
    "from dash import Input, Output, dcc, html, State\n",
    "import dash_bootstrap_components as dbc\n",
    "import plotly.express as px\n",
    "import logging\n",
    "from plotly.subplots import make_subplots"
   ]
  },
  {
   "cell_type": "code",
   "execution_count": null,
   "metadata": {},
   "outputs": [],
   "source": [
    "df = pd.read_parquet(\"../Preprocessing/flightsFilteredCleaned.parquet\")"
   ]
  },
  {
   "cell_type": "code",
   "execution_count": null,
   "metadata": {},
   "outputs": [],
   "source": [
    "pd.set_option('display.max_columns', None)\n",
    "df.head()"
   ]
  },
  {
   "cell_type": "code",
   "execution_count": null,
   "metadata": {},
   "outputs": [],
   "source": [
    "delay_labels = [\"AIR_SYSTEM_DELAY\",\"SECURITY_DELAY\",\"AIRLINE_DELAY\",\"LATE_AIRCRAFT_DELAY\",\"WEATHER_DELAY\",\"OTHER_DELAY\"]\n",
    "df_delayed = df[df[\"ARRIVAL_DELAY\"]>0]\n",
    "df_delayed['MAIN_DELAY_CAUSE'] = df_delayed[delay_labels].idxmax(axis=1)"
   ]
  },
  {
   "cell_type": "code",
   "execution_count": null,
   "metadata": {},
   "outputs": [],
   "source": [
    "variables_to_group_by = [\"ORIGIN_AIRPORT\",\"ORIGIN_AIRPORT_NAME\",\"ORIGIN_CITY\",\"ORIGIN_STATE\"]\n",
    "df_airports = df.groupby(variables_to_group_by).mean()\n",
    "df_airports[\"FLIGHTS\"] = df.groupby(variables_to_group_by).size()\n",
    "df_airports[\"DELAYED_FLIGHTS\"] = df[df[\"ARRIVAL_DELAY\"]>0].groupby(variables_to_group_by).size()\n",
    "df_airports[\"DELAYED_PERCENTAGE\"] = (df_airports[\"DELAYED_FLIGHTS\"]/df_airports[\"FLIGHTS\"]).round(4)\n",
    "df_airports[delay_labels] = df_airports[delay_labels].round(3)\n",
    "df_airports = df_airports.sort_values(\"FLIGHTS\",ascending=False).reset_index()"
   ]
  },
  {
   "cell_type": "code",
   "execution_count": null,
   "metadata": {},
   "outputs": [],
   "source": [
    "# Map chart\n",
    "fig_map = px.scatter_geo(df_airports, lat=\"ORIGIN_LATITUDE\", lon = \"ORIGIN_LONGITUDE\",\n",
    "                     size= \"FLIGHTS\", # size of markers\n",
    "                     size_max= 30,\n",
    "                     color= \"DELAYED_PERCENTAGE\", # which column to use to set the color of markers\n",
    "                     scope=\"usa\",\n",
    "                     text = \"ORIGIN_AIRPORT\",\n",
    "                     hover_data  = [\"ORIGIN_CITY\"],\n",
    "                     color_continuous_scale='RdYlGn_r',\n",
    "                     template=\"plotly_dark\")\n",
    "fig_map.update_traces(textposition=\"top center\")\n",
    "fig_map.update_layout(\n",
    "    title=\"Origin airports with number of departing flights and percentage of delayed flights <br><br><sup>Size indicates the number of departing flights</sup>\",\n",
    "    legend_title=\"Causa del Retraso\",\n",
    ")"
   ]
  },
  {
   "cell_type": "code",
   "execution_count": null,
   "metadata": {},
   "outputs": [],
   "source": [
    "fig = make_subplots(rows=1, cols=2, subplot_titles= [\"Delayed Flights by Main Cause\",\"Average Delay Distribution by Cause\"],\n",
    "                    specs=[[{\"type\": \"pie\"}, {\"type\": \"pie\"}]], horizontal_spacing = 0.03, vertical_spacing = 0.03)\n",
    "\n",
    "airport = \"ATL\"\n",
    "delay_labels = [\"AIR_SYSTEM_DELAY\",\"SECURITY_DELAY\",\"AIRLINE_DELAY\",\"LATE_AIRCRAFT_DELAY\",\"WEATHER_DELAY\",\"OTHER_DELAY\"]\n",
    "\n",
    "#subplot 1\n",
    "values1 = df_delayed[df_delayed[\"ORIGIN_AIRPORT\"]==airport][\"MAIN_DELAY_CAUSE\"].value_counts().reindex(delay_labels)\n",
    "fig.add_trace(go.Pie(labels=values1.index, values=values1, direction ='clockwise', marker_colors=px.colors.qualitative.Vivid, \n",
    "                            hole=.3, title ='{:,} <br> delayed flights'.format(values1.sum()),\n",
    "                            hoverinfo='label+percent', textinfo='value'), row=1, col=1)\n",
    "\n",
    "#subplot 2\n",
    "values2 = df_airports[delay_labels].iloc[df_airports[df_airports[\"ORIGIN_AIRPORT\"]==airport].index[0]]\n",
    "fig.add_trace(go.Pie(labels=values2.index, values=values2, direction ='clockwise', marker_colors=px.colors.qualitative.Vivid, \n",
    "                            hole=.3, title = \"%.3f <br> seconds\" % (values2.sum()),\n",
    "                            hoverinfo='label+percent', textinfo='value'), row=1, col=2)\n",
    "\n",
    "fig.update_layout(title_text=\"Airport: %s\" % (airport),\n",
    "                  legend_title=\"Delay Cause\", template=\"plotly_dark\", height=750,\n",
    "                legend=dict(orientation=\"h\", y=0, x =-0.04))\n",
    "\n",
    "fig.show()"
   ]
  },
  {
   "cell_type": "code",
   "execution_count": null,
   "metadata": {},
   "outputs": [],
   "source": [
    "airport = \"ATL\"\n",
    "values2 = df_airports[delay_labels].iloc[df_airports[df_airports[\"ORIGIN_AIRPORT\"]==airport].index[0]]\n",
    "fig_pie = go.Figure()\n",
    "fig_pie.add_trace(go.Pie(labels=values2.index, values=values2, direction ='clockwise', marker_colors=px.colors.qualitative.Vivid, \n",
    "                            hole=.3, title = airport))\n",
    "fig_pie.update_layout(title_text=\"Average Delay Distribution by Airport\", legend_title=\"Delay Cause\", template=\"plotly_dark\",\n",
    "                    legend=dict(orientation=\"h\", y=-0.02, x =0.08))\n",
    "fig_pie.update_traces(hoverinfo='label+percent', textinfo='value')"
   ]
  },
  {
   "cell_type": "code",
   "execution_count": null,
   "metadata": {},
   "outputs": [],
   "source": [
    "airport = \"ATL\"\n",
    "values1 = df_delayed[df_delayed[\"ORIGIN_AIRPORT\"]==airport][\"MAIN_DELAY_CAUSE\"].value_counts().reindex(delay_labels)\n",
    "fig_pie = go.Figure()\n",
    "fig_pie.add_trace(go.Pie(labels=values1.index, values=values1, direction ='clockwise', marker_colors=px.colors.qualitative.Vivid, \n",
    "                            hole=.3, title = airport))\n",
    "fig_pie.update_layout(title_text=\"Main Delay Causes of Flights\", legend_title=\"Delay Cause\", template=\"plotly_dark\",\n",
    "                    legend=dict(orientation=\"h\", y=-0.02, x =0.08))\n",
    "fig_pie.update_traces(hoverinfo='label+percent', textinfo='value')"
   ]
  },
  {
   "cell_type": "code",
   "execution_count": null,
   "metadata": {},
   "outputs": [],
   "source": [
    "variables_to_group_by2 = [\"DESTINATION_AIRPORT\",\"DESTINATION_AIRPORT_NAME\",\"DESTINATION_CITY\",\"DESTINATION_STATE\",\"ORIGIN_AIRPORT\"]\n",
    "df_dest = df[df[\"ORIGIN_AIRPORT\"]==airport].groupby(variables_to_group_by2)[[\"ARRIVAL_DELAY\"]].count()\n",
    "df_dest[\"DELAYED_FLIGHTS\"] = df[(df[\"ARRIVAL_DELAY\"]>0) & (df[\"ORIGIN_AIRPORT\"]==airport)].groupby(variables_to_group_by2).size()\n",
    "df_dest[\"DELAYED_PERCENTAGE\"] = (df_dest[\"DELAYED_FLIGHTS\"]/df_dest[\"ARRIVAL_DELAY\"]).round(4)\n",
    "# df_dest[delay_labels] = df_dest[delay_labels].round(3)\n",
    "df_dest = df_dest.sort_values(\"ARRIVAL_DELAY\",ascending=False).reset_index()"
   ]
  },
  {
   "cell_type": "code",
   "execution_count": null,
   "metadata": {},
   "outputs": [],
   "source": [
    "df_dest = df_dest.head(10)"
   ]
  },
  {
   "cell_type": "code",
   "execution_count": null,
   "metadata": {},
   "outputs": [],
   "source": [
    "fig = go.Figure([go.Bar(x=df_dest[\"DESTINATION_AIRPORT\"], y=df_dest[\"ARRIVAL_DELAY\"], name=\"Total\", \n",
    "                        marker_color=px.colors.qualitative.Vivid[0])])\n",
    "fig.add_bar(x=df_dest[\"DESTINATION_AIRPORT\"], y=df_dest[\"DELAYED_FLIGHTS\"], name=\"Delayed\",\n",
    "            marker_color=px.colors.qualitative.Vivid[1])\n",
    "fig.update_layout(title_text=\"Flights and Delays by Destination\", legend_title=\"Number of flights\", template=\"plotly_dark\", \n",
    "                  barmode='overlay', hovermode=\"x unified\")\n",
    "fig.show()"
   ]
  },
  {
   "cell_type": "code",
   "execution_count": null,
   "metadata": {},
   "outputs": [],
   "source": [
    "list(range(7, 11))"
   ]
  },
  {
   "cell_type": "code",
   "execution_count": null,
   "metadata": {},
   "outputs": [],
   "source": [
    "MONTH ={ 1: {'label':'Janauary', 'style':{'transform':'rotate(-45deg)', 'font-size':'12px'}}, \n",
    "\t\t 2: {'label':'February', 'style':{'transform':'rotate(-45deg)', 'font-size':'12px'}}, \n",
    "\t\t 3: {'label':'March', 'style':{'transform':'rotate(-45deg)', 'font-size':'12px'}},\n",
    "\t\t 4: {'label':'April','style':{'transform':'rotate(-45deg)', 'font-size':'12px'}} ,\n",
    "\t\t 5: {'label':'May','style':{'transform':'rotate(-45deg)', 'font-size':'12px'}} ,\n",
    "\t\t 6: {'label':'June','style':{'transform':'rotate(-45deg)', 'font-size':'12px'}} ,\n",
    "\t\t 7: {'label':'July','style':{'transform':'rotate(-45deg)', 'font-size':'12px'}} ,\n",
    "\t\t 8: {'label':'August', 'style':{'transform':'rotate(-45deg)', 'font-size':'12px'}} ,\n",
    "\t\t 9: {'label':'September', 'style':{'transform':'rotate(-45deg)', 'font-size':'12px'}} ,\n",
    "\t\t 10: {'label':'October', 'style':{'transform':'rotate(-45deg)', 'font-size':'12px'}} ,\n",
    "\t\t 11: {'label':'November', 'style':{'transform':'rotate(-45deg)', 'font-size':'12px'}} ,\n",
    "\t\t 12: {'label':'December', 'style':{'transform':'rotate(-45deg)', 'font-size':'12px'}} }"
   ]
  },
  {
   "cell_type": "code",
   "execution_count": null,
   "metadata": {},
   "outputs": [],
   "source": [
    "df[df[\"DATE\"].dt.month.isin(a)]"
   ]
  },
  {
   "cell_type": "code",
   "execution_count": null,
   "metadata": {},
   "outputs": [],
   "source": [
    "df[\"DATE\"].dt.month"
   ]
  },
  {
   "cell_type": "code",
   "execution_count": null,
   "metadata": {},
   "outputs": [],
   "source": [
    "variables_to_group_by2 = [\"DESTINATION_AIRPORT\",\"DESTINATION_AIRPORT_NAME\",\"DESTINATION_CITY\",\"DESTINATION_STATE\",\"ORIGIN_AIRPORT\"]"
   ]
  },
  {
   "cell_type": "code",
   "execution_count": null,
   "metadata": {},
   "outputs": [],
   "source": [
    "variables_to_group_by2.append(\"ORIGIN_AIRPORT\")"
   ]
  },
  {
   "cell_type": "code",
   "execution_count": null,
   "metadata": {},
   "outputs": [],
   "source": [
    "dff = df[df[\"DATE\"].dt.month.isin(list(range(7,11)))]\n",
    "df_map = dff[variables_strictly_needed].groupby(variables_to_group_by).mean()\n",
    "df_map[\"FLIGHTS\"] = dff.groupby(variables_to_group_by).size()\n",
    "df_map[\"DELAYED_FLIGHTS\"] = dff[dff[\"ARRIVAL_DELAY\"]>0].groupby(variables_to_group_by).size()\n",
    "df_map[\"DELAYED_PERCENTAGE\"] = df_map[\"DELAYED_FLIGHTS\"]/df_map[\"FLIGHTS\"]\n",
    "df_map = df_map.sort_values(\"FLIGHTS\",ascending=False)"
   ]
  },
  {
   "cell_type": "code",
   "execution_count": null,
   "metadata": {},
   "outputs": [],
   "source": [
    "variables_to_group_by = [\"ORIGIN_AIRPORT\",\"ORIGIN_AIRPORT_NAME\",\"ORIGIN_CITY\",\"ORIGIN_STATE\"]\n",
    "variables_strictly_needed = [\"ORIGIN_AIRPORT\",\"ORIGIN_AIRPORT_NAME\",\"ORIGIN_CITY\",\"ORIGIN_STATE\",\"ARRIVAL_DELAY\",\"ORIGIN_LATITUDE\",\"ORIGIN_LONGITUDE\"]"
   ]
  },
  {
   "cell_type": "code",
   "execution_count": null,
   "metadata": {},
   "outputs": [],
   "source": [
    "print(variables_strictly_needed)"
   ]
  },
  {
   "cell_type": "code",
   "execution_count": null,
   "metadata": {},
   "outputs": [],
   "source": [
    "variables_strictly_needed2 = [\"AIR_SYSTEM_DELAY\",\"SECURITY_DELAY\",\"AIRLINE_DELAY\",\"LATE_AIRCRAFT_DELAY\",\"WEATHER_DELAY\",\"OTHER_DELAY\",\n",
    "                                \"ARRIVAL_DELAY\", \"ORIGIN_AIRPORT\"]"
   ]
  },
  {
   "cell_type": "code",
   "execution_count": null,
   "metadata": {},
   "outputs": [],
   "source": [
    "variables_strictly_needed2"
   ]
  },
  {
   "cell_type": "code",
   "execution_count": null,
   "metadata": {},
   "outputs": [],
   "source": [
    "df_subplot1 = df_delayed[df_delayed[\"DATE\"].dt.month.isin(list(range(7,11)))]\n",
    "dff = df[df[\"DATE\"].dt.month.isin(list(range(7, 11)))]\n",
    "df_subplot2 = dff[variables_strictly_needed2].groupby(\"ORIGIN_AIRPORT\").mean().round(3)\n",
    "df_subplot2[\"FLIGHTS\"] = dff.groupby(\"ORIGIN_AIRPORT\").size()\n",
    "df_subplot2[\"DELAYED_FLIGHTS\"] = dff[dff[\"ARRIVAL_DELAY\"]>0].groupby(\"ORIGIN_AIRPORT\").size()\n",
    "df_subplot2[\"DELAYED_PERCENTAGE\"] = df_subplot2[\"DELAYED_FLIGHTS\"]/df_subplot2[\"FLIGHTS\"]\n",
    "df_subplot2 = df_subplot2.reset_index() "
   ]
  },
  {
   "cell_type": "code",
   "execution_count": null,
   "metadata": {},
   "outputs": [],
   "source": [
    "fig_pie = make_subplots(rows=1, cols=2, subplot_titles= [\"Delayed Flights by Main Cause\",\"Average Delay Distribution\"],\n",
    "                    specs=[[{\"type\": \"pie\"}, {\"type\": \"pie\"}]], horizontal_spacing = 0.03, vertical_spacing = 0.03)\n",
    "#subplot 1\n",
    "values1 = df_subplot1[df_subplot1[\"ORIGIN_AIRPORT\"]==airport][\"MAIN_DELAY_CAUSE\"].value_counts().reindex(delay_labels)\n",
    "fig_pie.add_trace(go.Pie(labels=values1.index, values=values1, direction ='clockwise', marker_colors=px.colors.qualitative.Vivid, \n",
    "                            hole=.3, title ='{:,}<br>delayed<br>flights'.format(values1.sum()),\n",
    "                            hoverinfo='label+percent', textinfo='value'), row=1, col=1)\n",
    "#subplot 2\n",
    "values2 = df_subplot2[delay_labels].iloc[df_subplot2[df_subplot2[\"ORIGIN_AIRPORT\"]==airport].index[0]]\n",
    "fig_pie.add_trace(go.Pie(labels=values2.index, values=values2, direction ='clockwise', marker_colors=px.colors.qualitative.Vivid, \n",
    "                            hole=.3, title = \"%.3f <br> seconds\" % (values2.sum()),\n",
    "                            hoverinfo='label+percent', textinfo='value'), row=1, col=2)\n",
    "# layout\n",
    "fig_pie.update_layout(title_text=\"Delayed Flights Analysis in %s\" % (airport),\n",
    "                legend_title=\"Delay Cause\", template=\"plotly_dark\",\n",
    "                legend=dict(orientation=\"h\", y=0, x =-0.04))\n",
    "fig_pie.update_annotations(yshift=-10)\n"
   ]
  },
  {
   "cell_type": "code",
   "execution_count": null,
   "metadata": {},
   "outputs": [],
   "source": [
    "dff = df[df[\"DATE\"].dt.month.isin(list(range(7,11)))]\n",
    "df_map = dff[variables_strictly_needed].groupby(variables_to_group_by).mean()\n",
    "df_map[\"FLIGHTS\"] = dff.groupby(variables_to_group_by).size()\n",
    "df_map[\"DELAYED_FLIGHTS\"] = dff[dff[\"ARRIVAL_DELAY\"]>0].groupby(variables_to_group_by).size()\n",
    "df_map[\"DELAYED_PERCENTAGE\"] = df_map[\"DELAYED_FLIGHTS\"]/df_map[\"FLIGHTS\"]\n",
    "df_map = df_map.reset_index() \n",
    "\n",
    "fig_map = px.scatter_geo(df_map, lat=\"ORIGIN_LATITUDE\", lon = \"ORIGIN_LONGITUDE\",\n",
    "                    size= \"FLIGHTS\", # size of markers\n",
    "                    size_max= 30,\n",
    "                    color= \"DELAYED_PERCENTAGE\", # which column to use to set the color of markers\n",
    "                    scope=\"usa\",\n",
    "                    text = \"ORIGIN_AIRPORT\",\n",
    "                    hover_data  = [\"ORIGIN_CITY\"],\n",
    "                    color_continuous_scale='RdYlGn_r',\n",
    "                    template=\"plotly_dark\")\n",
    "fig_map.update_traces(textposition=\"top center\")\n",
    "fig_map.update_layout(\n",
    "    title=\"Origin airports with number of departing flights and percentage of delayed flights\\\n",
    "            <br><sup>Size indicates the number of departing flights</sup>\\\n",
    "            <sup>Maintain the mouse in an airport to obtain its full information</sup>\",\n",
    "    legend_title=\"Causa del Retraso\")"
   ]
  },
  {
   "cell_type": "code",
   "execution_count": null,
   "metadata": {},
   "outputs": [],
   "source": []
  }
 ],
 "metadata": {
  "kernelspec": {
   "display_name": "Python 3.8.5 ('base')",
   "language": "python",
   "name": "python3"
  },
  "language_info": {
   "codemirror_mode": {
    "name": "ipython",
    "version": 3
   },
   "file_extension": ".py",
   "mimetype": "text/x-python",
   "name": "python",
   "nbconvert_exporter": "python",
   "pygments_lexer": "ipython3",
   "version": "3.8.5"
  },
  "orig_nbformat": 4,
  "vscode": {
   "interpreter": {
    "hash": "b3472844a7ad831f024780a557c10180eb151bb97358fb439eb3b23af04efba3"
   }
  }
 },
 "nbformat": 4,
 "nbformat_minor": 2
}
