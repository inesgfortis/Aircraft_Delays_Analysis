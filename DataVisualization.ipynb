{
 "cells": [
  {
   "cell_type": "code",
   "execution_count": null,
   "metadata": {},
   "outputs": [],
   "source": [
    "import pandas as pd\n",
    "import numpy as np\n",
    "import plotly.graph_objs as go\n",
    "import seaborn as sns\n",
    "import plotly.express as px"
   ]
  },
  {
   "cell_type": "code",
   "execution_count": null,
   "metadata": {},
   "outputs": [],
   "source": [
    "df = pd.read_csv(\"flightsCleaned.csv\")\n",
    "\n",
    "# Añadimos el FlightNum como variable categórica\n",
    "df['FLIGHT_NUMBER']=df['FLIGHT_NUMBER'].astype(object) \n",
    "# Configuramos DATE como variable de tipo datetime\n",
    "df['DATE'] = pd.to_datetime(df['DATE'])\n",
    "\n",
    "pd.set_option('display.max_columns', None)\n",
    "df.head()"
   ]
  },
  {
   "cell_type": "code",
   "execution_count": null,
   "metadata": {},
   "outputs": [],
   "source": [
    "df.shape"
   ]
  },
  {
   "cell_type": "markdown",
   "metadata": {},
   "source": [
    "Quitamos filas con códigos de aeropuerto desconocidos"
   ]
  },
  {
   "cell_type": "code",
   "execution_count": null,
   "metadata": {},
   "outputs": [],
   "source": [
    "df.isna().sum()\n"
   ]
  },
  {
   "cell_type": "code",
   "execution_count": null,
   "metadata": {},
   "outputs": [],
   "source": [
    "df.dropna()"
   ]
  },
  {
   "cell_type": "code",
   "execution_count": null,
   "metadata": {},
   "outputs": [],
   "source": [
    "df[\"ORIGIN_STATE\"].unique()"
   ]
  },
  {
   "cell_type": "markdown",
   "metadata": {},
   "source": [
    "## Análisis Descriptivo"
   ]
  },
  {
   "cell_type": "markdown",
   "metadata": {},
   "source": [
    "Primero hacemos un análisis de los retrasos a lo largo del año"
   ]
  },
  {
   "cell_type": "code",
   "execution_count": null,
   "metadata": {},
   "outputs": [],
   "source": [
    "del data\n",
    "data = pd.DataFrame()\n",
    "data[\"Vuelos Totales\"] = df.groupby('DATE')[\"FLIGHT_NUMBER\"].count()\n",
    "data[\"Vuelos Retrasados\"] = df[df[\"ARRIVAL_DELAY\"]>0].groupby('DATE')[\"FLIGHT_NUMBER\"].count()\n",
    "data.head()"
   ]
  },
  {
   "cell_type": "code",
   "execution_count": null,
   "metadata": {},
   "outputs": [],
   "source": [
    "fig = px.line(data, x=data.index, y=[\"Vuelos Totales\", \"Vuelos Retrasados\"], color_discrete_sequence=px.colors.qualitative.Vivid)\n",
    "fig.update_layout(\n",
    "    title=\"Tendencia vuelos totales y retrasados a lo largo del año\",\n",
    "    xaxis_title=\"Fecha\",\n",
    "    yaxis_title=\"Vuelos\",\n",
    "    legend_title=\"Leyenda\",\n",
    "    template=\"plotly_dark\",\n",
    "    hovermode=\"x unified\"\n",
    ")\n",
    "fig.show()"
   ]
  },
  {
   "cell_type": "markdown",
   "metadata": {},
   "source": [
    "Parece haber una tendencia semanal, vamos a confirmarlo"
   ]
  },
  {
   "cell_type": "code",
   "execution_count": null,
   "metadata": {},
   "outputs": [],
   "source": [
    "## Definimos la paleta usada con plotly express, para poder utilizarla con plotly normal\n",
    "color_palette = px.colors.qualitative.Vivid"
   ]
  },
  {
   "cell_type": "code",
   "execution_count": null,
   "metadata": {},
   "outputs": [],
   "source": [
    "del data\n",
    "data = pd.DataFrame()\n",
    "data[\"Vuelos Totales\"] = df.groupby(df['DATE'].dt.day_name())[\"FLIGHT_NUMBER\"].count()\n",
    "data[\"Vuelos Retrasados\"] = df[df[\"ARRIVAL_DELAY\"]>0].groupby(df['DATE'].dt.day_name())[\"FLIGHT_NUMBER\"].count()\n",
    "data = data.reindex(index = ['Monday','Tuesday','Wednesday','Thursday','Friday','Saturday','Sunday'])\n",
    "data.head()"
   ]
  },
  {
   "cell_type": "code",
   "execution_count": null,
   "metadata": {},
   "outputs": [],
   "source": [
    "fig = go.Figure()\n",
    "fig.add_trace(go.Bar(x=data.index, y=data[\"Vuelos Totales\"], name=\"Totales\", marker_color = color_palette[0]))\n",
    "fig.add_trace(go.Scatter(x=data.index, y=data[\"Vuelos Retrasados\"], name=\"Retrasados\", line_color=color_palette[1]))\n",
    "fig.update_layout(\n",
    "    title=\"Vuelos totales y retrasados en función de la aerolinea\",\n",
    "    xaxis_title=\"Día de la semana\",\n",
    "    yaxis_title=\"Vuelos\",\n",
    "    legend_title=\"Leyenda\",\n",
    "    template=\"plotly_dark\",\n",
    "    hovermode=\"x unified\"\n",
    ")\n",
    "fig.show()"
   ]
  },
  {
   "cell_type": "markdown",
   "metadata": {},
   "source": [
    "Efectivamente, los sábados hay menos vuelos"
   ]
  },
  {
   "cell_type": "markdown",
   "metadata": {},
   "source": [
    "Lo siguiente será analizar cuánto se retrasan de media los vuelos y debido a qué causas, a lo largo del año"
   ]
  },
  {
   "cell_type": "code",
   "execution_count": null,
   "metadata": {},
   "outputs": [],
   "source": [
    "data = df.groupby(df['DATE'].dt.month_name()).mean()\n",
    "ORDERED_MONTHS = [\"January\", \"February\", \"March\", \"April\", \"May\", \"June\",\n",
    "      \"July\", \"August\", \"September\", \"October\", \"November\", \"December\"]\n",
    "data = data.reindex(index = ORDERED_MONTHS)"
   ]
  },
  {
   "cell_type": "code",
   "execution_count": null,
   "metadata": {},
   "outputs": [],
   "source": [
    "fig = go.Figure()\n",
    "\n",
    "fig.add_trace(go.Scatter(x=data.index, y=data[\"AIR_SYSTEM_DELAY\"], stackgroup='one', name=\"Sistema aéreo\", line_color=color_palette[0]))\n",
    "fig.add_trace(go.Scatter(x=data.index, y=data[\"SECURITY_DELAY\"], stackgroup='one', name=\"Seguridad\", line_color=color_palette[1])) \n",
    "fig.add_trace(go.Scatter(x=data.index, y=data[\"AIRLINE_DELAY\"], stackgroup='one', name=\"Aerolínea\", line_color=color_palette[2])) \n",
    "fig.add_trace(go.Scatter(x=data.index, y=data[\"LATE_AIRCRAFT_DELAY\"], stackgroup='one', name=\"Avión retrasado\", line_color=color_palette[3])) \n",
    "fig.add_trace(go.Scatter(x=data.index, y=data[\"WEATHER_DELAY\"], stackgroup='one', name=\"Tiempo meteorológico\", line_color=color_palette[4])) \n",
    "fig.add_trace(go.Scatter(x=data.index, y=data[\"OTHER_DELAY\"], stackgroup='one', name=\"Otro\", line_color=color_palette[5])) \n",
    "\n",
    "fig.update_layout(\n",
    "    title=\"Retraso medio y causa a lo largo del año\",\n",
    "    xaxis_title=\"Mes\",\n",
    "    yaxis_title=\"Minutos\",\n",
    "    legend_title=\"Causa del Retraso\",\n",
    "    template=\"plotly_dark\",\n",
    "    hovermode=\"x unified\"\n",
    ")\n",
    "\n",
    "fig.show()"
   ]
  },
  {
   "cell_type": "markdown",
   "metadata": {},
   "source": [
    "¿Correlación entre distancia y retraso?"
   ]
  },
  {
   "cell_type": "code",
   "execution_count": null,
   "metadata": {},
   "outputs": [],
   "source": [
    "fig = px.scatter(df[df[\"ARRIVAL_DELAY\"]>0], x=\"ARRIVAL_DELAY\", y=\"DISTANCE\", color_discrete_sequence=px.colors.qualitative.Vivid)\n",
    "fig.update_layout(\n",
    "    title=\"Tendencia vuelos totales y retrasados a lo largo del año\",\n",
    "    xaxis_title=\"Fecha\",\n",
    "    yaxis_title=\"Vuelos\",\n",
    "    legend_title=\"Leyenda\",\n",
    "    template=\"plotly_dark\"\n",
    ")\n",
    "fig.show()"
   ]
  },
  {
   "cell_type": "markdown",
   "metadata": {},
   "source": [
    "No hay correlación entre la distancia y el retraso de los vuelos"
   ]
  },
  {
   "cell_type": "code",
   "execution_count": null,
   "metadata": {},
   "outputs": [],
   "source": [
    "df.columns"
   ]
  },
  {
   "cell_type": "code",
   "execution_count": null,
   "metadata": {},
   "outputs": [],
   "source": [
    "df[[\"ORIGIN_LATITUDE\",\"ORIGIN_LONGITUDE\"]]"
   ]
  },
  {
   "cell_type": "code",
   "execution_count": null,
   "metadata": {},
   "outputs": [],
   "source": [
    "df[[\"ORIGIN_AIRPORT\",\"ORIGIN_CITY\"]]"
   ]
  },
  {
   "cell_type": "code",
   "execution_count": null,
   "metadata": {},
   "outputs": [],
   "source": [
    "airports = df[[\"ORIGIN_AIRPORT\",\"ORIGIN_CITY\",\"ORIGIN_LATITUDE\",\"ORIGIN_LONGITUDE\"]].groupby([\"ORIGIN_AIRPORT\",\"ORIGIN_CITY\"]).mean()\n",
    "airports[\"FLIGHTS\"] = df.groupby([\"ORIGIN_AIRPORT\",\"ORIGIN_CITY\"]).size()\n",
    "airports[\"DELAYED_FLIGHTS\"] = df[df[\"ARRIVAL_DELAY\"]>0].groupby([\"ORIGIN_AIRPORT\",\"ORIGIN_CITY\"]).size()\n",
    "airports[\"DELAYED_PERCENTAGE\"] = airports[\"DELAYED_FLIGHTS\"]/airports[\"FLIGHTS\"]\n",
    "airports = airports.reset_index()\n",
    "airports.head()"
   ]
  },
  {
   "cell_type": "code",
   "execution_count": null,
   "metadata": {},
   "outputs": [],
   "source": [
    "fig = px.scatter_geo(airports, lat=\"ORIGIN_LATITUDE\", lon = \"ORIGIN_LONGITUDE\",\n",
    "                     size= \"FLIGHTS\", # size of markers\n",
    "                     color= \"DELAYED_PERCENTAGE\", # which column to use to set the color of markers\n",
    "                     scope=\"usa\",\n",
    "                     text = \"ORIGIN_AIRPORT\",\n",
    "                     hover_data  = [\"ORIGIN_CITY\"],\n",
    "                     color_continuous_scale='RdYlGn_r',\n",
    "                     template=\"plotly_dark\")\n",
    "fig.update_traces(textposition=\"top center\")\n",
    "fig.update_layout(\n",
    "    title=\"Aeropuertos de origen con número de vuelos y porcentaje de retrasos\",\n",
    "    legend_title=\"Causa del Retraso\",\n",
    "    width = 1000, \n",
    "    height = 650\n",
    ")\n",
    "fig.show()"
   ]
  },
  {
   "cell_type": "code",
   "execution_count": null,
   "metadata": {},
   "outputs": [],
   "source": []
  },
  {
   "cell_type": "code",
   "execution_count": null,
   "metadata": {},
   "outputs": [],
   "source": []
  },
  {
   "cell_type": "code",
   "execution_count": null,
   "metadata": {},
   "outputs": [],
   "source": []
  },
  {
   "cell_type": "code",
   "execution_count": null,
   "metadata": {},
   "outputs": [],
   "source": []
  },
  {
   "cell_type": "code",
   "execution_count": null,
   "metadata": {},
   "outputs": [],
   "source": []
  },
  {
   "cell_type": "code",
   "execution_count": null,
   "metadata": {},
   "outputs": [],
   "source": []
  },
  {
   "cell_type": "code",
   "execution_count": null,
   "metadata": {},
   "outputs": [],
   "source": [
    "del data\n",
    "data = pd.DataFrame()\n",
    "data[\"Vuelos Totales\"] = df.groupby(df['DATE'])[\"FLIGHT_NUMBER\"].count()\n",
    "data[\"Vuelos Retrasados\"] = df[df[\"ARRIVAL_DELAY\"]>0].groupby(df['DATE'])[\"FLIGHT_NUMBER\"].count()\n",
    "data.head()"
   ]
  },
  {
   "cell_type": "markdown",
   "metadata": {},
   "source": [
    "## EDA"
   ]
  },
  {
   "cell_type": "code",
   "execution_count": null,
   "metadata": {},
   "outputs": [],
   "source": [
    "# Variables categoricas\n",
    "df.select_dtypes('object').nunique()"
   ]
  },
  {
   "cell_type": "code",
   "execution_count": null,
   "metadata": {},
   "outputs": [],
   "source": [
    "# Variables numéricas\n",
    "df.describe()"
   ]
  },
  {
   "cell_type": "code",
   "execution_count": null,
   "metadata": {},
   "outputs": [],
   "source": [
    "# Correlación entre variables númericamente\n",
    "corr = df.corr()\n",
    "corr.style.background_gradient(cmap='coolwarm').set_precision(4)"
   ]
  },
  {
   "cell_type": "markdown",
   "metadata": {},
   "source": [
    "**NOTA:** cambiar colores :)"
   ]
  },
  {
   "cell_type": "code",
   "execution_count": null,
   "metadata": {},
   "outputs": [],
   "source": []
  },
  {
   "cell_type": "code",
   "execution_count": null,
   "metadata": {},
   "outputs": [],
   "source": [
    "# Estudio de las fechas --> ¿Algún mes en el que se produzcan más retrasos?\n",
    "# Querría hacer una matriz: filas  = días del mes | columnas = meses | valor = numero de vuelos retrasados\n",
    "# Plot retrasos por día del mes"
   ]
  },
  {
   "cell_type": "code",
   "execution_count": null,
   "metadata": {},
   "outputs": [],
   "source": []
  },
  {
   "cell_type": "code",
   "execution_count": null,
   "metadata": {},
   "outputs": [],
   "source": [
    "# Comparación razones de retraso"
   ]
  },
  {
   "cell_type": "code",
   "execution_count": null,
   "metadata": {},
   "outputs": [],
   "source": []
  },
  {
   "cell_type": "markdown",
   "metadata": {},
   "source": [
    "### Estudio origen y destino"
   ]
  },
  {
   "cell_type": "markdown",
   "metadata": {},
   "source": [
    "1) mapa geográfico térmico (colo en función de salidas retrasadas)\n",
    "\n",
    "2) rutas qué experimentan más retrasos"
   ]
  },
  {
   "cell_type": "code",
   "execution_count": null,
   "metadata": {},
   "outputs": [],
   "source": [
    "print(\"Numero de vuelos repetidos: \" +str(len(df['FlightNum'].unique()))+ \" de un total de \"+ str(df.size))"
   ]
  },
  {
   "cell_type": "code",
   "execution_count": null,
   "metadata": {},
   "outputs": [],
   "source": [
    "# Comprobar rutas de los vuelos repetidos"
   ]
  },
  {
   "cell_type": "code",
   "execution_count": null,
   "metadata": {},
   "outputs": [],
   "source": []
  },
  {
   "cell_type": "code",
   "execution_count": null,
   "metadata": {},
   "outputs": [],
   "source": []
  },
  {
   "cell_type": "code",
   "execution_count": null,
   "metadata": {},
   "outputs": [],
   "source": []
  },
  {
   "cell_type": "code",
   "execution_count": null,
   "metadata": {},
   "outputs": [],
   "source": []
  },
  {
   "cell_type": "markdown",
   "metadata": {},
   "source": [
    "### Carriers"
   ]
  },
  {
   "cell_type": "code",
   "execution_count": null,
   "metadata": {},
   "outputs": [],
   "source": [
    "# Visualizar carriers\n",
    "\n",
    "# Causas cese\n",
    "level_count = df[\"AIRLINE\"].value_counts()\n",
    "level_count\n",
    "\n",
    "level_df = pd.DataFrame(level_count).reset_index().rename(columns = {\"index\": \"Carrier\", \"DelayedFlights\": \"count\"})\n",
    "level_count.sort_values(ascending = True,inplace = True) # Reordeno para que me quede de mayor a menor el gráfico\n",
    "\n",
    "data = [\n",
    "    go.Bar(\n",
    "        y = level_count.index,\n",
    "        x = level_count,\n",
    "        name = \"Vuelos retrasados por Compañia\",\n",
    "        marker_color = \"cadetblue\",\n",
    "        width= np.repeat(0.65,len(level_count)), # Cambiar la anchura de cada barra,\n",
    "        orientation = 'h'\n",
    "    )\n",
    "]\n",
    "\n",
    "layout = go.Layout(title = \"Vuelos retrasados por Compañia\", yaxis_title = \"Carriers\", \n",
    "                   xaxis_title = \"Número de vuelos retrasados\",\n",
    "                  )\n",
    "\n",
    "fig = go.Figure(data = data, layout = layout)\n",
    "\n",
    "fig.show()\n"
   ]
  },
  {
   "cell_type": "markdown",
   "metadata": {},
   "source": [
    "Dentro de las compañias que sufren más retrasos, mostrar:\n",
    "- rango de retraso salida\n",
    "- rango de retraso llegada\n"
   ]
  },
  {
   "cell_type": "code",
   "execution_count": null,
   "metadata": {},
   "outputs": [],
   "source": []
  },
  {
   "cell_type": "markdown",
   "metadata": {},
   "source": [
    "### Caso anterior con aeropuertos de salida"
   ]
  },
  {
   "cell_type": "code",
   "execution_count": null,
   "metadata": {},
   "outputs": [],
   "source": []
  },
  {
   "cell_type": "code",
   "execution_count": null,
   "metadata": {},
   "outputs": [],
   "source": []
  },
  {
   "cell_type": "markdown",
   "metadata": {},
   "source": [
    "## Cinco aeropuertos con mayor retraso"
   ]
  },
  {
   "cell_type": "markdown",
   "metadata": {},
   "source": [
    "Definir si el aeropuerto con mayor retraso es en números aboslutos o comparado con la cantidad de vuelos que operan por aeropuerto --> % respecto a la cantidad de vuelos que opera"
   ]
  },
  {
   "cell_type": "code",
   "execution_count": null,
   "metadata": {},
   "outputs": [],
   "source": [
    "# Representación de los aeropuetos\n",
    "airports = pd.read_csv(\"airports.csv\")\n",
    "pd.set_option('display.max_columns', None)\n",
    "airports.head()"
   ]
  },
  {
   "cell_type": "code",
   "execution_count": null,
   "metadata": {},
   "outputs": [],
   "source": [
    "airports.columns"
   ]
  },
  {
   "cell_type": "code",
   "execution_count": null,
   "metadata": {},
   "outputs": [],
   "source": [
    "airports['COUNTRY'].unique()"
   ]
  },
  {
   "cell_type": "markdown",
   "metadata": {},
   "source": [
    "http://www.geomapik.com/desarrollo-programacion-gis/mapas-plotly-visualizacion-datos-espaciales/"
   ]
  },
  {
   "cell_type": "code",
   "execution_count": null,
   "metadata": {},
   "outputs": [],
   "source": [
    "# Agrupar por fechas\n",
    "#flights[flights[\"ORIGIN_AIRPORT\"] == \"LAX\"].groupby([\"YEAR\",\"MONTH\"]).size()"
   ]
  },
  {
   "cell_type": "code",
   "execution_count": null,
   "metadata": {},
   "outputs": [],
   "source": []
  }
 ],
 "metadata": {
  "kernelspec": {
   "display_name": "Python 3.8.5 ('base')",
   "language": "python",
   "name": "python3"
  },
  "language_info": {
   "codemirror_mode": {
    "name": "ipython",
    "version": 3
   },
   "file_extension": ".py",
   "mimetype": "text/x-python",
   "name": "python",
   "nbconvert_exporter": "python",
   "pygments_lexer": "ipython3",
   "version": "3.8.5"
  },
  "vscode": {
   "interpreter": {
    "hash": "b3472844a7ad831f024780a557c10180eb151bb97358fb439eb3b23af04efba3"
   }
  }
 },
 "nbformat": 4,
 "nbformat_minor": 4
}
