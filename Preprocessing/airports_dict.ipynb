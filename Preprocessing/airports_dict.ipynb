{
 "cells": [
  {
   "cell_type": "code",
   "execution_count": null,
   "metadata": {},
   "outputs": [],
   "source": [
    "import pandas as pd\n",
    "import numpy as np\n",
    "import pickle\n",
    "\n",
    "pd.set_option(\"display.max_columns\",None)"
   ]
  },
  {
   "cell_type": "code",
   "execution_count": null,
   "metadata": {},
   "outputs": [],
   "source": [
    "flights = pd.read_csv(\"../Data/flights.csv\")"
   ]
  },
  {
   "cell_type": "code",
   "execution_count": null,
   "metadata": {},
   "outputs": [],
   "source": [
    "len(flights)"
   ]
  },
  {
   "cell_type": "code",
   "execution_count": null,
   "metadata": {},
   "outputs": [],
   "source": [
    "flights.dropna(subset = [\"ORIGIN_AIRPORT\"], inplace = True)\n",
    "len(flights)"
   ]
  },
  {
   "cell_type": "code",
   "execution_count": null,
   "metadata": {},
   "outputs": [],
   "source": [
    "flights[\"ORIGIN_AIRPORT\"] = flights[\"ORIGIN_AIRPORT\"].astype(str)\n",
    "flights[\"DESTINATION_AIRPORT\"] = flights[\"DESTINATION_AIRPORT\"].astype(str)"
   ]
  },
  {
   "cell_type": "code",
   "execution_count": null,
   "metadata": {},
   "outputs": [],
   "source": [
    "flights[\"code\"] = flights[\"ORIGIN_AIRPORT\"] + flights[\"DESTINATION_AIRPORT\"]"
   ]
  },
  {
   "cell_type": "code",
   "execution_count": null,
   "metadata": {},
   "outputs": [],
   "source": [
    "# Buscamos aquellos códigos de aeropuerto que no sean con IATA_CODE tipo str\n",
    "unknown = flights[flights[\"code\"].str.isdigit()].copy()\n",
    "unknown.head()"
   ]
  },
  {
   "cell_type": "code",
   "execution_count": null,
   "metadata": {},
   "outputs": [],
   "source": [
    "# Hay que clasificar 306 aeropuertos\n",
    "unknown['ORIGIN_AIRPORT'].nunique()"
   ]
  },
  {
   "cell_type": "code",
   "execution_count": null,
   "metadata": {},
   "outputs": [],
   "source": [
    "unknown = unknown.sort_values('ORIGIN_AIRPORT')\n",
    "unknown['ORIGIN_AIRPORT'].unique()"
   ]
  },
  {
   "cell_type": "code",
   "execution_count": null,
   "metadata": {},
   "outputs": [],
   "source": [
    "# Ningun trayecto da lugar a dos distancias diferentes\n",
    "unknown.groupby(\"code\")[\"DISTANCE\"].nunique().max()"
   ]
  },
  {
   "cell_type": "code",
   "execution_count": null,
   "metadata": {},
   "outputs": [],
   "source": [
    "# Diccionario que relaciona un trayecto y su distancia\n",
    "dict_flight_distance = dict(zip(unknown[\"code\"],unknown[\"DISTANCE\"]))\n",
    "dict_flight_distance"
   ]
  },
  {
   "cell_type": "markdown",
   "metadata": {},
   "source": [
    "Busco IATA_CODE de aeropuerto"
   ]
  },
  {
   "cell_type": "code",
   "execution_count": null,
   "metadata": {},
   "outputs": [],
   "source": [
    "pocho = flights[flights[\"ORIGIN_AIRPORT\"] == '12255']\n",
    "pocho.head()\n",
    "\n",
    "# siempre a aeropuerto destino: 11292\n",
    "#distance = 298 "
   ]
  },
  {
   "cell_type": "code",
   "execution_count": null,
   "metadata": {},
   "outputs": [],
   "source": [
    "pocho_dist = flights[flights[\"DISTANCE\"] == 298]\n",
    "pocho_dist"
   ]
  },
  {
   "cell_type": "code",
   "execution_count": null,
   "metadata": {},
   "outputs": [],
   "source": [
    "print(pocho_dist['ORIGIN_AIRPORT'].unique())\n",
    "print(pocho_dist['DESTINATION_AIRPORT'].unique())"
   ]
  },
  {
   "cell_type": "code",
   "execution_count": null,
   "metadata": {},
   "outputs": [],
   "source": [
    "# Voy a tratar de identificar esta ruta '1474711298'\n",
    "\n",
    "origen = '14747'\n",
    "destino = '11298'\n",
    "\n",
    "# Paso 1: Busco todas las rutas con distancia exactamente igual a 1660\n",
    "\n",
    "# Pongo que el destino tampoco sea aeropuerto de salida para evitar el trayecto de misma distancia y origen distinto,\n",
    "# Es decir, el trayecto que sale del aeropuerto 11298 y llega al aeropuerto 14747\n",
    "rutas = flights[(flights[\"DISTANCE\"] == 1660) & (flights[\"ORIGIN_AIRPORT\"] != origen) & (flights[\"ORIGIN_AIRPORT\"] != destino)].copy()\n",
    "rutas[\"ORIGIN_AIRPORT\"].value_counts()"
   ]
  },
  {
   "cell_type": "markdown",
   "metadata": {},
   "source": [
    "Busco un codigo de ruta (origen+destino) asociado al orgigen numerico 14747 pero no al destino numerico"
   ]
  },
  {
   "cell_type": "code",
   "execution_count": null,
   "metadata": {},
   "outputs": [],
   "source": [
    "# Con este primer paso tengo ya dos claves que puedo asociar a dos numeros distintos, ahora solo falta saber cual es cual\n",
    "\n",
    "# Paso 2 Busco otro vuelo que comience con el aeropuerto 14747, voy a elegir solo 1\n",
    "\n",
    "[path for path in dict_flight_distance.keys() if (path[:5]== origen) & (path[-5:] != destino)][0]"
   ]
  },
  {
   "cell_type": "code",
   "execution_count": null,
   "metadata": {},
   "outputs": [],
   "source": [
    "# Ahora voy a buscar las rutas alternativas que tengo desde ese aeropuerto\n",
    "alternativa = flights[(flights[\"DISTANCE\"] == dict_flight_distance['1474713487']) & (flights[\"ORIGIN_AIRPORT\"] != origen) & (flights[\"ORIGIN_AIRPORT\"] != '13487')].copy()\n",
    "alternativa[\"ORIGIN_AIRPORT\"].value_counts()"
   ]
  },
  {
   "cell_type": "markdown",
   "metadata": {},
   "source": [
    "En este momento, estaría en condiciones de deducir que el código 14747 es el aeropuerto SEA, el código 11298 sería el DFW y\n",
    "el código 13487 se lo asociaria a MSP "
   ]
  },
  {
   "cell_type": "code",
   "execution_count": null,
   "metadata": {
    "scrolled": true
   },
   "outputs": [],
   "source": [
    "# Con este esquema vamos a intentar montar un algoritmo que repita este proceso en todas las rutas disponibles, considerando\n",
    "# que hay un poco (bastante) más de complejidad en las casuísticas.\n",
    "\n",
    "# Tenemos por una parte una lista de rutas y tenemos un diccionario que relaciona la ruta con su distancia\n",
    "dict_flight_distance = dict(zip(unknown[\"code\"],unknown[\"DISTANCE\"]))\n",
    "paths = [path for path in dict_flight_distance.keys()]\n",
    "\n",
    "# Creamos una estructura para almacenar los resultados, en este caso un diccionario clave:valor --> numero:aeropuerto\n",
    "dict_airport = {}\n",
    "\n",
    "# Elementos base que vamos a utilizar en el algoritmo\n",
    "path = paths[0]\n",
    "\n",
    "# Hasta que no sea capaz de clasificar todas las rutas no voy a parar\n",
    "while paths != []:\n",
    "    print(path)\n",
    "    origen = path[:5]\n",
    "    destino = path[-5:]\n",
    "    path_inverso = destino + origen\n",
    "    conjunto_paths = set(paths)\n",
    "    \n",
    "    # Primer caso: El origen no se encuentra en el diccionario, es decir, no hay un aeropuerto asociado\n",
    "    if origen not in dict_airport.keys():\n",
    "        \n",
    "        # Busco las opciones de trayecto que me puedo encontrar con esta distancia\n",
    "        ruta = flights[(flights[\"DISTANCE\"] == dict_flight_distance[path]) & (flights[\"ORIGIN_AIRPORT\"] != origen) & (flights[\"ORIGIN_AIRPORT\"] != destino)].copy()\n",
    "        opciones = [airport for airport in ruta[\"ORIGIN_AIRPORT\"].unique().tolist() if (not airport.startswith('1')) and (airport not in dict_airport.values())]\n",
    "        print(f\"Las opciones para el origen de la ruta {path} son: {opciones}\")\n",
    "        \n",
    "        # Si solo existe una opcion para el origen, se la asigno directamente\n",
    "        # Esto solo puede pasar si el destino ya esta asignado por un path previo\n",
    "        if len(opciones) == 1:\n",
    "            dict_airport[origen] = opciones[0]\n",
    "            \n",
    "            # Elimino el path resultante ya que origen y destino están ya en el diccionario \n",
    "            paths.remove(path)\n",
    "            \n",
    "            # Si existe el camino inverso también lo voy a quitar puesto que no merece la pena compararlo\n",
    "            if path_inverso in paths:\n",
    "                paths.remove(path_inverso)\n",
    "\n",
    "        # Si existieran dos o más opciones para el origen buscamos en rutas alternativas posibles puntos comunes\n",
    "        # como en el ejemplo de arriba\n",
    "        elif len(opciones) >= 2:\n",
    "            rutas_alternativas = [path for path in paths if (path[:5]== origen) & (path[-5:] != destino)]\n",
    "\n",
    "            # Si no existieran rutas alternativas hay que saltar este caso porque tampoco podría encontrar el match de momento\n",
    "            if rutas_alternativas == []:\n",
    "                print(\"No existen más rutas alternativas para este path {}\".format(path))\n",
    "                paths.remove(path)\n",
    "                paths.append(path)\n",
    "                path = paths[0]\n",
    "                continue\n",
    "\n",
    "            # Busco una ruta alternativa que me permita hacer el match\n",
    "            \n",
    "            # Estas dos constantes me sirven para dar cierta seguridad al match, no sirve con tener una ruta alternativa\n",
    "            # coincidente si no que voy a mirar algunas más\n",
    "            counter = 0\n",
    "            coincidencias_requeridas = np.ceil(len(rutas_alternativas)/4)\n",
    "            for i in range(len(rutas_alternativas)):\n",
    "                ruta_alternativa = rutas_alternativas[i]\n",
    "                alternativa = flights[(flights[\"DISTANCE\"] == dict_flight_distance[ruta_alternativa]) & (flights[\"ORIGIN_AIRPORT\"] != origen) & (flights[\"ORIGIN_AIRPORT\"] != ruta_alternativa[-5:])].copy()\n",
    "                posibilidades = [airport for airport in alternativa[\"ORIGIN_AIRPORT\"].unique().tolist() if (not airport.startswith('1')) and (airport not in dict_airport.values())]\n",
    "                print(f\"Las posibilidades encontradas para el origen de la ruta alternativa {ruta_alternativa} son: {posibilidades}\")\n",
    "\n",
    "                coincidencias = [airport for airport in posibilidades if airport in opciones]\n",
    "                print(f\"Las coincidencias encontradas para el origen en la ruta alternativa {ruta_alternativa} son: {coincidencias}\")\n",
    "                if len(coincidencias) == 1:\n",
    "                    counter += 1\n",
    "                    if counter >= coincidencias_requeridas:\n",
    "                        break\n",
    "                else:\n",
    "                    continue\n",
    "            \n",
    "        \n",
    "            print(f\"La ruta alternativa final es: {ruta_alternativa}\")    \n",
    "\n",
    "            # Si tras recorrer todas las rutas, no puedo encontrar una que me permita el match, tengo que saltar\n",
    "            # a otro path, puesto que este no tendría seguridad para inferirlo\n",
    "            if len(coincidencias) != 1:\n",
    "                print(\"No se puede clasificar la ruta {} de momento, por no tener seguridad suficiente con la que hacer match\".format(path))\n",
    "                paths.remove(path)\n",
    "                paths.append(path)\n",
    "                path = paths[0]\n",
    "                continue\n",
    "         \n",
    "            # En caso de poder hacer un match para el origen, busco la coincidencia y asigno \n",
    "            nuevo_destino = ruta_alternativa[-5:]\n",
    "            ruta_alternativa_inversa = nuevo_destino + origen\n",
    "\n",
    "            dict_airport[origen] = coincidencias[0]\n",
    "\n",
    "            # Si la ruta me lo permite, busco clasificar la otra opción (siempre y cuando haya exactamente dos posibilidades)\n",
    "            if (destino not in dict_airport.keys()) and (len(opciones) == 2):\n",
    "                dict_airport[destino] = [airport for airport in opciones if airport != coincidencias[0]][0]\n",
    "                \n",
    "                paths.remove(path)\n",
    "                \n",
    "                if path_inverso in paths:\n",
    "                    paths.remove(path_inverso)\n",
    "            \n",
    "            # De nuevo, si la ruta alternativa me lo permite, intento clasificar este segundo destino (debe haber exactamente\n",
    "            # dos posibilidades)\n",
    "            if (nuevo_destino not in dict_airport.keys()) and (len(posibilidades) == 2):\n",
    "                dict_airport[nuevo_destino] = [airport for airport in posibilidades if airport != coincidencias[0]][0]\n",
    "\n",
    "                paths.remove(ruta_alternativa)\n",
    "\n",
    "                if ruta_alternativa_inversa in paths:\n",
    "                    paths.remove(ruta_alternativa_inversa)\n",
    "            \n",
    "        \n",
    "    # Segundo caso: Me falta por saber el destino del path    \n",
    "    elif destino not in dict_airport.keys():\n",
    "        \n",
    "        # En este caso entendemos que el origen ya existe dentro del diccionario por lo que realizo la búsqueda para el \n",
    "        # destino solamente\n",
    "        ruta = flights[(flights[\"DISTANCE\"] == dict_flight_distance[path]) & (flights[\"ORIGIN_AIRPORT\"] != origen) & (flights[\"ORIGIN_AIRPORT\"] != destino)].copy()\n",
    "        opciones = [airport for airport in ruta[\"ORIGIN_AIRPORT\"].unique().tolist() if (not airport.startswith('1')) and (airport not in dict_airport.values())]\n",
    "        print(f\"Las opciones para el destino de la ruta {path} son: {opciones}\")\n",
    "        \n",
    "        # Razono de la misma manera, si las opciones son más de dos busco una ruta alternativa\n",
    "        if len(opciones) >= 2:\n",
    "            # Busco una ruta alternativa que me permita hacer el match con respecto al destino del path\n",
    "            rutas_alternativas = [path for path in paths if (path[:5]== destino) & (path[-5:] != origen)]\n",
    "            \n",
    "            # Si no existieran rutas alternativas hay que saltar este caso porque tampoco podría encontrar el match de momento\n",
    "            if rutas_alternativas == []:\n",
    "                print(\"No existen más rutas alternativas para este path {}\".format(path))\n",
    "                paths.remove(path)\n",
    "                paths.append(path)\n",
    "                path = paths[0]\n",
    "                continue\n",
    "\n",
    "            counter = 0\n",
    "            coincidencias_requeridas = np.ceil(len(rutas_alternativas)/4)\n",
    "            for i in range(len(rutas_alternativas)):\n",
    "                ruta_alternativa = rutas_alternativas[i]\n",
    "                alternativa = flights[(flights[\"DISTANCE\"] == dict_flight_distance[ruta_alternativa]) & (flights[\"ORIGIN_AIRPORT\"] != destino) & (flights[\"ORIGIN_AIRPORT\"] != ruta_alternativa[-5:])].copy()\n",
    "                posibilidades = [airport for airport in alternativa[\"ORIGIN_AIRPORT\"].unique().tolist() if (not airport.startswith('1')) and (airport not in dict_airport.values())]\n",
    "                print(f\"Las posibilidades encontradas para el destino en la ruta alternativa {ruta_alternativa} son: {posibilidades}\")\n",
    "                coincidencias = [airport for airport in posibilidades if airport in opciones]\n",
    "                print(f\"Las coincidencias encontradas para el destino en la ruta alternativa {ruta_alternativa} son: {coincidencias}\")\n",
    "                \n",
    "                if len(coincidencias) == 1:\n",
    "                    counter += 1\n",
    "                    if counter >= coincidencias_requeridas:\n",
    "                        break\n",
    "                else:\n",
    "                    continue\n",
    "            \n",
    "            print(f\"La ruta alternativa final es: {ruta_alternativa}\")   \n",
    "        \n",
    "            # Si tras recorrer todas las rutas, no puedo encontrar una que me permita el match, tengo que saltar a otra\n",
    "            if counter < coincidencias_requeridas:\n",
    "                print(\"No se puede clasificar la ruta {} de momento, por no encontrar una ruta alternativa con la que hacer match\".format(path))\n",
    "                paths.remove(path)\n",
    "                paths.append(path)\n",
    "                path = paths[0]\n",
    "                continue\n",
    "                \n",
    "            dict_airport[destino] = coincidencias[0]\n",
    "        \n",
    "        # Si solo existiera una opcion, se la agrego directamente\n",
    "        else:\n",
    "            dict_airport[destino] = opciones[0]\n",
    "\n",
    "        paths.remove(path)\n",
    "\n",
    "        if path_inverso in paths:\n",
    "            paths.remove(path_inverso)\n",
    "            \n",
    "    # En el caso de que origen y destino ya hayan sido clasificados por otras rutas diferentes, esta comparación no\n",
    "    # tiene sentido y solo necesitamos quitarla\n",
    "    # Ejemplo de este caso: Tengo dos rutas, una que va de A a B y que ha sido clasificada, otra que va de C a D que también\n",
    "    # ha sido clasificada. Si luego me encuentro la ruta que va de A a C, no necesito clasificarla.\n",
    "    else:\n",
    "        paths.remove(path)\n",
    "        \n",
    "        if path_inverso in paths:\n",
    "            paths.remove(path_inverso)\n",
    "            \n",
    "    # Mensajes de estado del proceso    \n",
    "    aeropuertos_clasificados = len(dict_airport.keys())\n",
    "    rutas_por_clasificar = len(paths)\n",
    "    path = paths[0]\n",
    "    print(\"Aeropuertos clasificados: {}\".format(aeropuertos_clasificados))\n",
    "    print(\"Rutas por clasificar: {}\".format(rutas_por_clasificar))\n",
    "    \n",
    "    if len(paths) % 20 == 0:\n",
    "        print(dict_airport)    "
   ]
  },
  {
   "cell_type": "code",
   "execution_count": null,
   "metadata": {},
   "outputs": [],
   "source": [
    "dict_airport"
   ]
  },
  {
   "cell_type": "code",
   "execution_count": null,
   "metadata": {},
   "outputs": [],
   "source": [
    "dict_airport.values()"
   ]
  },
  {
   "cell_type": "code",
   "execution_count": null,
   "metadata": {},
   "outputs": [],
   "source": [
    "with open('dict_airport.json', 'wb') as fp:\n",
    "    pickle.dump(dict_airport, fp)"
   ]
  }
 ],
 "metadata": {
  "kernelspec": {
   "display_name": "Python 3",
   "language": "python",
   "name": "python3"
  },
  "language_info": {
   "codemirror_mode": {
    "name": "ipython",
    "version": 3
   },
   "file_extension": ".py",
   "mimetype": "text/x-python",
   "name": "python",
   "nbconvert_exporter": "python",
   "pygments_lexer": "ipython3",
   "version": "3.7.4"
  }
 },
 "nbformat": 4,
 "nbformat_minor": 5
}
