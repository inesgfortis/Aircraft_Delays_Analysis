{
 "cells": [
  {
   "cell_type": "code",
   "execution_count": 1,
   "metadata": {},
   "outputs": [],
   "source": [
    "import pandas as pd\n",
    "import pickle\n",
    "import plotly.express as px"
   ]
  },
  {
   "cell_type": "code",
   "execution_count": 2,
   "metadata": {},
   "outputs": [],
   "source": [
    "pd.set_option('display.max_columns', None)"
   ]
  },
  {
   "cell_type": "markdown",
   "metadata": {},
   "source": [
    "# Preprocesado de los datos"
   ]
  },
  {
   "cell_type": "markdown",
   "metadata": {},
   "source": [
    "## Lectura de datos"
   ]
  },
  {
   "cell_type": "code",
   "execution_count": 3,
   "metadata": {},
   "outputs": [
    {
     "name": "stderr",
     "output_type": "stream",
     "text": [
      "c:\\Users\\alvin\\anaconda3\\lib\\site-packages\\IPython\\core\\interactiveshell.py:3146: DtypeWarning: Columns (7,8) have mixed types.Specify dtype option on import or set low_memory=False.\n",
      "  has_raised = await self.run_ast_nodes(code_ast.body, cell_name,\n"
     ]
    },
    {
     "data": {
      "text/html": [
       "<div>\n",
       "<style scoped>\n",
       "    .dataframe tbody tr th:only-of-type {\n",
       "        vertical-align: middle;\n",
       "    }\n",
       "\n",
       "    .dataframe tbody tr th {\n",
       "        vertical-align: top;\n",
       "    }\n",
       "\n",
       "    .dataframe thead th {\n",
       "        text-align: right;\n",
       "    }\n",
       "</style>\n",
       "<table border=\"1\" class=\"dataframe\">\n",
       "  <thead>\n",
       "    <tr style=\"text-align: right;\">\n",
       "      <th></th>\n",
       "      <th>YEAR</th>\n",
       "      <th>MONTH</th>\n",
       "      <th>DAY</th>\n",
       "      <th>DAY_OF_WEEK</th>\n",
       "      <th>AIRLINE</th>\n",
       "      <th>FLIGHT_NUMBER</th>\n",
       "      <th>TAIL_NUMBER</th>\n",
       "      <th>ORIGIN_AIRPORT</th>\n",
       "      <th>DESTINATION_AIRPORT</th>\n",
       "      <th>SCHEDULED_DEPARTURE</th>\n",
       "      <th>DEPARTURE_TIME</th>\n",
       "      <th>DEPARTURE_DELAY</th>\n",
       "      <th>TAXI_OUT</th>\n",
       "      <th>WHEELS_OFF</th>\n",
       "      <th>SCHEDULED_TIME</th>\n",
       "      <th>ELAPSED_TIME</th>\n",
       "      <th>AIR_TIME</th>\n",
       "      <th>DISTANCE</th>\n",
       "      <th>WHEELS_ON</th>\n",
       "      <th>TAXI_IN</th>\n",
       "      <th>SCHEDULED_ARRIVAL</th>\n",
       "      <th>ARRIVAL_TIME</th>\n",
       "      <th>ARRIVAL_DELAY</th>\n",
       "      <th>DIVERTED</th>\n",
       "      <th>CANCELLED</th>\n",
       "      <th>CANCELLATION_REASON</th>\n",
       "      <th>AIR_SYSTEM_DELAY</th>\n",
       "      <th>SECURITY_DELAY</th>\n",
       "      <th>AIRLINE_DELAY</th>\n",
       "      <th>LATE_AIRCRAFT_DELAY</th>\n",
       "      <th>WEATHER_DELAY</th>\n",
       "    </tr>\n",
       "  </thead>\n",
       "  <tbody>\n",
       "    <tr>\n",
       "      <th>0</th>\n",
       "      <td>2015</td>\n",
       "      <td>1</td>\n",
       "      <td>1</td>\n",
       "      <td>4</td>\n",
       "      <td>AS</td>\n",
       "      <td>98</td>\n",
       "      <td>N407AS</td>\n",
       "      <td>ANC</td>\n",
       "      <td>SEA</td>\n",
       "      <td>5</td>\n",
       "      <td>2354.0</td>\n",
       "      <td>-11.0</td>\n",
       "      <td>21.0</td>\n",
       "      <td>15.0</td>\n",
       "      <td>205.0</td>\n",
       "      <td>194.0</td>\n",
       "      <td>169.0</td>\n",
       "      <td>1448</td>\n",
       "      <td>404.0</td>\n",
       "      <td>4.0</td>\n",
       "      <td>430</td>\n",
       "      <td>408.0</td>\n",
       "      <td>-22.0</td>\n",
       "      <td>0</td>\n",
       "      <td>0</td>\n",
       "      <td>NaN</td>\n",
       "      <td>NaN</td>\n",
       "      <td>NaN</td>\n",
       "      <td>NaN</td>\n",
       "      <td>NaN</td>\n",
       "      <td>NaN</td>\n",
       "    </tr>\n",
       "    <tr>\n",
       "      <th>1</th>\n",
       "      <td>2015</td>\n",
       "      <td>1</td>\n",
       "      <td>1</td>\n",
       "      <td>4</td>\n",
       "      <td>AA</td>\n",
       "      <td>2336</td>\n",
       "      <td>N3KUAA</td>\n",
       "      <td>LAX</td>\n",
       "      <td>PBI</td>\n",
       "      <td>10</td>\n",
       "      <td>2.0</td>\n",
       "      <td>-8.0</td>\n",
       "      <td>12.0</td>\n",
       "      <td>14.0</td>\n",
       "      <td>280.0</td>\n",
       "      <td>279.0</td>\n",
       "      <td>263.0</td>\n",
       "      <td>2330</td>\n",
       "      <td>737.0</td>\n",
       "      <td>4.0</td>\n",
       "      <td>750</td>\n",
       "      <td>741.0</td>\n",
       "      <td>-9.0</td>\n",
       "      <td>0</td>\n",
       "      <td>0</td>\n",
       "      <td>NaN</td>\n",
       "      <td>NaN</td>\n",
       "      <td>NaN</td>\n",
       "      <td>NaN</td>\n",
       "      <td>NaN</td>\n",
       "      <td>NaN</td>\n",
       "    </tr>\n",
       "    <tr>\n",
       "      <th>2</th>\n",
       "      <td>2015</td>\n",
       "      <td>1</td>\n",
       "      <td>1</td>\n",
       "      <td>4</td>\n",
       "      <td>US</td>\n",
       "      <td>840</td>\n",
       "      <td>N171US</td>\n",
       "      <td>SFO</td>\n",
       "      <td>CLT</td>\n",
       "      <td>20</td>\n",
       "      <td>18.0</td>\n",
       "      <td>-2.0</td>\n",
       "      <td>16.0</td>\n",
       "      <td>34.0</td>\n",
       "      <td>286.0</td>\n",
       "      <td>293.0</td>\n",
       "      <td>266.0</td>\n",
       "      <td>2296</td>\n",
       "      <td>800.0</td>\n",
       "      <td>11.0</td>\n",
       "      <td>806</td>\n",
       "      <td>811.0</td>\n",
       "      <td>5.0</td>\n",
       "      <td>0</td>\n",
       "      <td>0</td>\n",
       "      <td>NaN</td>\n",
       "      <td>NaN</td>\n",
       "      <td>NaN</td>\n",
       "      <td>NaN</td>\n",
       "      <td>NaN</td>\n",
       "      <td>NaN</td>\n",
       "    </tr>\n",
       "    <tr>\n",
       "      <th>3</th>\n",
       "      <td>2015</td>\n",
       "      <td>1</td>\n",
       "      <td>1</td>\n",
       "      <td>4</td>\n",
       "      <td>AA</td>\n",
       "      <td>258</td>\n",
       "      <td>N3HYAA</td>\n",
       "      <td>LAX</td>\n",
       "      <td>MIA</td>\n",
       "      <td>20</td>\n",
       "      <td>15.0</td>\n",
       "      <td>-5.0</td>\n",
       "      <td>15.0</td>\n",
       "      <td>30.0</td>\n",
       "      <td>285.0</td>\n",
       "      <td>281.0</td>\n",
       "      <td>258.0</td>\n",
       "      <td>2342</td>\n",
       "      <td>748.0</td>\n",
       "      <td>8.0</td>\n",
       "      <td>805</td>\n",
       "      <td>756.0</td>\n",
       "      <td>-9.0</td>\n",
       "      <td>0</td>\n",
       "      <td>0</td>\n",
       "      <td>NaN</td>\n",
       "      <td>NaN</td>\n",
       "      <td>NaN</td>\n",
       "      <td>NaN</td>\n",
       "      <td>NaN</td>\n",
       "      <td>NaN</td>\n",
       "    </tr>\n",
       "    <tr>\n",
       "      <th>4</th>\n",
       "      <td>2015</td>\n",
       "      <td>1</td>\n",
       "      <td>1</td>\n",
       "      <td>4</td>\n",
       "      <td>AS</td>\n",
       "      <td>135</td>\n",
       "      <td>N527AS</td>\n",
       "      <td>SEA</td>\n",
       "      <td>ANC</td>\n",
       "      <td>25</td>\n",
       "      <td>24.0</td>\n",
       "      <td>-1.0</td>\n",
       "      <td>11.0</td>\n",
       "      <td>35.0</td>\n",
       "      <td>235.0</td>\n",
       "      <td>215.0</td>\n",
       "      <td>199.0</td>\n",
       "      <td>1448</td>\n",
       "      <td>254.0</td>\n",
       "      <td>5.0</td>\n",
       "      <td>320</td>\n",
       "      <td>259.0</td>\n",
       "      <td>-21.0</td>\n",
       "      <td>0</td>\n",
       "      <td>0</td>\n",
       "      <td>NaN</td>\n",
       "      <td>NaN</td>\n",
       "      <td>NaN</td>\n",
       "      <td>NaN</td>\n",
       "      <td>NaN</td>\n",
       "      <td>NaN</td>\n",
       "    </tr>\n",
       "  </tbody>\n",
       "</table>\n",
       "</div>"
      ],
      "text/plain": [
       "   YEAR  MONTH  DAY  DAY_OF_WEEK AIRLINE  FLIGHT_NUMBER TAIL_NUMBER  \\\n",
       "0  2015      1    1            4      AS             98      N407AS   \n",
       "1  2015      1    1            4      AA           2336      N3KUAA   \n",
       "2  2015      1    1            4      US            840      N171US   \n",
       "3  2015      1    1            4      AA            258      N3HYAA   \n",
       "4  2015      1    1            4      AS            135      N527AS   \n",
       "\n",
       "  ORIGIN_AIRPORT DESTINATION_AIRPORT  SCHEDULED_DEPARTURE  DEPARTURE_TIME  \\\n",
       "0            ANC                 SEA                    5          2354.0   \n",
       "1            LAX                 PBI                   10             2.0   \n",
       "2            SFO                 CLT                   20            18.0   \n",
       "3            LAX                 MIA                   20            15.0   \n",
       "4            SEA                 ANC                   25            24.0   \n",
       "\n",
       "   DEPARTURE_DELAY  TAXI_OUT  WHEELS_OFF  SCHEDULED_TIME  ELAPSED_TIME  \\\n",
       "0            -11.0      21.0        15.0           205.0         194.0   \n",
       "1             -8.0      12.0        14.0           280.0         279.0   \n",
       "2             -2.0      16.0        34.0           286.0         293.0   \n",
       "3             -5.0      15.0        30.0           285.0         281.0   \n",
       "4             -1.0      11.0        35.0           235.0         215.0   \n",
       "\n",
       "   AIR_TIME  DISTANCE  WHEELS_ON  TAXI_IN  SCHEDULED_ARRIVAL  ARRIVAL_TIME  \\\n",
       "0     169.0      1448      404.0      4.0                430         408.0   \n",
       "1     263.0      2330      737.0      4.0                750         741.0   \n",
       "2     266.0      2296      800.0     11.0                806         811.0   \n",
       "3     258.0      2342      748.0      8.0                805         756.0   \n",
       "4     199.0      1448      254.0      5.0                320         259.0   \n",
       "\n",
       "   ARRIVAL_DELAY  DIVERTED  CANCELLED CANCELLATION_REASON  AIR_SYSTEM_DELAY  \\\n",
       "0          -22.0         0          0                 NaN               NaN   \n",
       "1           -9.0         0          0                 NaN               NaN   \n",
       "2            5.0         0          0                 NaN               NaN   \n",
       "3           -9.0         0          0                 NaN               NaN   \n",
       "4          -21.0         0          0                 NaN               NaN   \n",
       "\n",
       "   SECURITY_DELAY  AIRLINE_DELAY  LATE_AIRCRAFT_DELAY  WEATHER_DELAY  \n",
       "0             NaN            NaN                  NaN            NaN  \n",
       "1             NaN            NaN                  NaN            NaN  \n",
       "2             NaN            NaN                  NaN            NaN  \n",
       "3             NaN            NaN                  NaN            NaN  \n",
       "4             NaN            NaN                  NaN            NaN  "
      ]
     },
     "execution_count": 3,
     "metadata": {},
     "output_type": "execute_result"
    }
   ],
   "source": [
    "# Cargamos los datos y eliminamos las filas duplicadas. Un mismo vuelo no puede retrasarse en el mismo momento del tiempo más de una vez\n",
    "df = pd.read_csv(\"../Data/flights.csv\")\n",
    "df = df.drop_duplicates()\n",
    "df.head()"
   ]
  },
  {
   "cell_type": "markdown",
   "metadata": {},
   "source": [
    "## Arreglo de datos"
   ]
  },
  {
   "cell_type": "code",
   "execution_count": 4,
   "metadata": {},
   "outputs": [],
   "source": [
    "df['ORIGIN_AIRPORT'] = df['ORIGIN_AIRPORT'].astype(str)\n",
    "df['DESTINATION_AIRPORT'] = df['DESTINATION_AIRPORT'].astype(str)"
   ]
  },
  {
   "cell_type": "markdown",
   "metadata": {},
   "source": [
    "Hay una serie de códigos de aeropuertos de origen y destino que no corresponden con el IATA_CODE asociado al aeropuerto si no que aparece un id numérico."
   ]
  },
  {
   "cell_type": "code",
   "execution_count": 5,
   "metadata": {},
   "outputs": [
    {
     "name": "stdout",
     "output_type": "stream",
     "text": [
      "Aeropuertos origen: 486165\n",
      "Aeropuertos destino: 486165\n"
     ]
    }
   ],
   "source": [
    "print(\"Aeropuertos origen: \"+ str(len(df[df['ORIGIN_AIRPORT'].str.isdigit()])))\n",
    "print(\"Aeropuertos destino: \"+ str(len(df[df['DESTINATION_AIRPORT'].str.isdigit()])))"
   ]
  },
  {
   "cell_type": "markdown",
   "metadata": {},
   "source": [
    "Para corregir esto hacemos uso del archivo airports_dict, el cual genera un diccionario en el que se asocian las claves de aeropuerto numéricas a un código str como el que tenemos en el resto de casos en función de las rutas de los vuelos."
   ]
  },
  {
   "cell_type": "code",
   "execution_count": 6,
   "metadata": {},
   "outputs": [],
   "source": [
    "# Cargamos el diccionario\n",
    "with open('dict_airport.json', 'rb') as fp:\n",
    "    dict_airport = pickle.load(fp)"
   ]
  },
  {
   "cell_type": "code",
   "execution_count": 7,
   "metadata": {},
   "outputs": [],
   "source": [
    "# Creamos dos columnas auxiliares para reemplazar el código numérico por el codigo str de aeropuerto correspondiente\n",
    "df['CODE_ORI'] = df['ORIGIN_AIRPORT']\n",
    "df['CODE_ORI'] = df['CODE_ORI'].map(dict_airport)\n",
    "\n",
    "df['CODE_DEST'] = df['ORIGIN_AIRPORT']\n",
    "df['CODE_DEST'] = df['DESTINATION_AIRPORT'].map(dict_airport)\n",
    "\n",
    "# Sustituimos\n",
    "df['CODE_ORI'] = df['CODE_ORI'].fillna(df['ORIGIN_AIRPORT'])\n",
    "df['ORIGIN_AIRPORT'] = df['CODE_ORI']\n",
    "\n",
    "df['CODE_DEST'] = df['CODE_DEST'].fillna(df['DESTINATION_AIRPORT'])\n",
    "df['DESTINATION_AIRPORT'] = df['CODE_DEST']\n",
    "\n",
    "df = df.drop(['CODE_ORI','CODE_DEST'],axis = 1)"
   ]
  },
  {
   "cell_type": "code",
   "execution_count": 8,
   "metadata": {},
   "outputs": [
    {
     "name": "stdout",
     "output_type": "stream",
     "text": [
      "Aeropuertos origen: 1235\n",
      "Aeropuertos destino: 1235\n"
     ]
    }
   ],
   "source": [
    "# Comprobamos\n",
    "print(\"Aeropuertos origen: \"+ str(len(df[df['ORIGIN_AIRPORT'].str.isdigit()])))\n",
    "print(\"Aeropuertos destino: \"+ str(len(df[df['DESTINATION_AIRPORT'].str.isdigit()])))"
   ]
  },
  {
   "cell_type": "markdown",
   "metadata": {},
   "source": [
    "**NOTA:** vemos que hay una serie de índices que el algoritmos no consigue emparejar con un aeropuerto. No obstante, estos datos no corresponden con una muestra representativa de los datos (poco volumen) por lo que los eliminamos"
   ]
  },
  {
   "cell_type": "code",
   "execution_count": 9,
   "metadata": {},
   "outputs": [],
   "source": [
    "df = df.drop(df[df['ORIGIN_AIRPORT'].str.isdigit()].index)\n",
    "df = df.drop(df[df['DESTINATION_AIRPORT'].str.isdigit()].index)"
   ]
  },
  {
   "cell_type": "code",
   "execution_count": 10,
   "metadata": {},
   "outputs": [
    {
     "name": "stdout",
     "output_type": "stream",
     "text": [
      "Aeropuertos origen: 0\n",
      "Aeropuertos destino: 0\n"
     ]
    }
   ],
   "source": [
    "# Comprobamos parte II\n",
    "print(\"Aeropuertos origen: \"+ str(len(df[df['ORIGIN_AIRPORT'].str.isdigit()])))\n",
    "print(\"Aeropuertos destino: \"+ str(len(df[df['DESTINATION_AIRPORT'].str.isdigit()])))"
   ]
  },
  {
   "cell_type": "markdown",
   "metadata": {},
   "source": [
    "## Análisis de variables"
   ]
  },
  {
   "cell_type": "code",
   "execution_count": 11,
   "metadata": {},
   "outputs": [
    {
     "data": {
      "text/plain": [
       "Index(['YEAR', 'MONTH', 'DAY', 'DAY_OF_WEEK', 'AIRLINE', 'FLIGHT_NUMBER',\n",
       "       'TAIL_NUMBER', 'ORIGIN_AIRPORT', 'DESTINATION_AIRPORT',\n",
       "       'SCHEDULED_DEPARTURE', 'DEPARTURE_TIME', 'DEPARTURE_DELAY', 'TAXI_OUT',\n",
       "       'WHEELS_OFF', 'SCHEDULED_TIME', 'ELAPSED_TIME', 'AIR_TIME', 'DISTANCE',\n",
       "       'WHEELS_ON', 'TAXI_IN', 'SCHEDULED_ARRIVAL', 'ARRIVAL_TIME',\n",
       "       'ARRIVAL_DELAY', 'DIVERTED', 'CANCELLED', 'CANCELLATION_REASON',\n",
       "       'AIR_SYSTEM_DELAY', 'SECURITY_DELAY', 'AIRLINE_DELAY',\n",
       "       'LATE_AIRCRAFT_DELAY', 'WEATHER_DELAY'],\n",
       "      dtype='object')"
      ]
     },
     "execution_count": 11,
     "metadata": {},
     "output_type": "execute_result"
    }
   ],
   "source": [
    "df.columns"
   ]
  },
  {
   "cell_type": "code",
   "execution_count": 12,
   "metadata": {},
   "outputs": [
    {
     "name": "stdout",
     "output_type": "stream",
     "text": [
      "<class 'pandas.core.frame.DataFrame'>\n",
      "Int64Index: 5816609 entries, 0 to 5819078\n",
      "Data columns (total 31 columns):\n",
      " #   Column               Dtype  \n",
      "---  ------               -----  \n",
      " 0   YEAR                 int64  \n",
      " 1   MONTH                int64  \n",
      " 2   DAY                  int64  \n",
      " 3   DAY_OF_WEEK          int64  \n",
      " 4   AIRLINE              object \n",
      " 5   FLIGHT_NUMBER        int64  \n",
      " 6   TAIL_NUMBER          object \n",
      " 7   ORIGIN_AIRPORT       object \n",
      " 8   DESTINATION_AIRPORT  object \n",
      " 9   SCHEDULED_DEPARTURE  int64  \n",
      " 10  DEPARTURE_TIME       float64\n",
      " 11  DEPARTURE_DELAY      float64\n",
      " 12  TAXI_OUT             float64\n",
      " 13  WHEELS_OFF           float64\n",
      " 14  SCHEDULED_TIME       float64\n",
      " 15  ELAPSED_TIME         float64\n",
      " 16  AIR_TIME             float64\n",
      " 17  DISTANCE             int64  \n",
      " 18  WHEELS_ON            float64\n",
      " 19  TAXI_IN              float64\n",
      " 20  SCHEDULED_ARRIVAL    int64  \n",
      " 21  ARRIVAL_TIME         float64\n",
      " 22  ARRIVAL_DELAY        float64\n",
      " 23  DIVERTED             int64  \n",
      " 24  CANCELLED            int64  \n",
      " 25  CANCELLATION_REASON  object \n",
      " 26  AIR_SYSTEM_DELAY     float64\n",
      " 27  SECURITY_DELAY       float64\n",
      " 28  AIRLINE_DELAY        float64\n",
      " 29  LATE_AIRCRAFT_DELAY  float64\n",
      " 30  WEATHER_DELAY        float64\n",
      "dtypes: float64(16), int64(10), object(5)\n",
      "memory usage: 1.4+ GB\n"
     ]
    }
   ],
   "source": [
    "df.info()"
   ]
  },
  {
   "cell_type": "markdown",
   "metadata": {},
   "source": [
    "Columnas que se pueden eliminar:\n",
    "- TAIL NUMBER: representa un ID de avión único por lo que no corresponde con una variable representativa para el análisis por lo que la eliminamos\n",
    "\n",
    "### Debatir:\n",
    "Nos importan..?\n",
    "- SCHEDULED_DEPARTURE: yo diría que no, si llega en hora = OK!\n",
    "- DEPARTURE_TIME: es interesante analizar los retrasos por tramo horario? - SI\n",
    "- DEPARTURE_DELAY: yo diría que no, si sale tarde pero llega en hora = OK! - SI\n",
    "- ARRIVAL_TIME: yo diría que no, solo me interesa si el vuelo llega tarde, no? - SI\n",
    "- SCHEDULED_TIME: no se a que se refiere  \n",
    "- SCHEDULED_ARRIVAL: solo nos interesa saber si se retrasa o no, no la previsión\n",
    "- TAXI_IN\n",
    "- TAXI_OUT\n",
    "- WHEELS_OFF\n",
    "- WHEELS_ON\n",
    "- AIR_TIME\n",
    "- FLIGHT_NUMBER - SI\n",
    "- DESTINATION_AIRPORT - DUDA"
   ]
  },
  {
   "cell_type": "code",
   "execution_count": 13,
   "metadata": {},
   "outputs": [],
   "source": [
    "# Eliminamos tail number porque es un identificador de avión (no vuelo) único\n",
    "df = df.drop(\"TAIL_NUMBER\",axis=1)"
   ]
  },
  {
   "cell_type": "code",
   "execution_count": 14,
   "metadata": {},
   "outputs": [],
   "source": [
    "# Eliminamos el resto de variables que no usaremos para nuestro análisis\n",
    "df = df.drop([\"SCHEDULED_DEPARTURE\", \"SCHEDULED_TIME\", \"SCHEDULED_ARRIVAL\",\n",
    "             \"TAXI_IN\", \"TAXI_OUT\", \"WHEELS_OFF\", \"WHEELS_ON\", \"AIR_TIME\"],axis=1)"
   ]
  },
  {
   "cell_type": "markdown",
   "metadata": {},
   "source": [
    "Hay un error de formato con la variable flight number, que es un indicador del vuelo y por lo tanto una variable categórica. Lo mismo ocurre con Cancelled y Diverted"
   ]
  },
  {
   "cell_type": "code",
   "execution_count": 15,
   "metadata": {},
   "outputs": [],
   "source": [
    "# Añadimos el FlightNum, Cancelled and Diverted como variables categóricas\n",
    "df['FLIGHT_NUMBER']=df['FLIGHT_NUMBER'].astype(object) \n",
    "df['CANCELLED']=df['CANCELLED'].astype(object) \n",
    "df['DIVERTED']=df['DIVERTED'].astype(object) "
   ]
  },
  {
   "cell_type": "code",
   "execution_count": 16,
   "metadata": {},
   "outputs": [],
   "source": [
    "# Unimos las columnas Year, Month y Day of Month como una única variable fecha\n",
    "# Formato por defecto mes/dia/año para que to_datetime funcione correctamente\n",
    "df[\"DATE\"]  = df['MONTH'].astype(str) +'/'+ df['DAY'].astype(str) +'/' + df['YEAR'].astype(str)\n",
    "df[\"DATE\"] = pd.to_datetime(df[\"DATE\"])"
   ]
  },
  {
   "cell_type": "markdown",
   "metadata": {},
   "source": [
    "Si nos interesa en algún momento podríamos añadir las horas también "
   ]
  },
  {
   "cell_type": "code",
   "execution_count": 17,
   "metadata": {},
   "outputs": [
    {
     "name": "stdout",
     "output_type": "stream",
     "text": [
      "Ejemplo: obtener dia de la semana de la fecha 2015-01-01 00:00:00 --> Thursday (dia 3)\n"
     ]
    }
   ],
   "source": [
    "#Eliminamos las columnas year, month y day\n",
    "df = df.drop([\"YEAR\",\"MONTH\", \"DAY\"],axis=1)\n",
    "\n",
    "# También podemos eliminar la columna DAY_OF_WEEK ya que podemos obtenerla\n",
    "df = df.drop(\"DAY_OF_WEEK\",axis=1)\n",
    "print(f\"Ejemplo: obtener dia de la semana de la fecha {df['DATE'].iloc[0]} --> {df['DATE'].iloc[0].day_name()} (dia {df['DATE'].iloc[0].dayofweek})\")\n",
    "\n",
    "# NOTA: hay que tener en cuenta que dayofweek empieza a contar en 0 = lunes"
   ]
  },
  {
   "cell_type": "code",
   "execution_count": 18,
   "metadata": {},
   "outputs": [
    {
     "data": {
      "text/html": [
       "<div>\n",
       "<style scoped>\n",
       "    .dataframe tbody tr th:only-of-type {\n",
       "        vertical-align: middle;\n",
       "    }\n",
       "\n",
       "    .dataframe tbody tr th {\n",
       "        vertical-align: top;\n",
       "    }\n",
       "\n",
       "    .dataframe thead th {\n",
       "        text-align: right;\n",
       "    }\n",
       "</style>\n",
       "<table border=\"1\" class=\"dataframe\">\n",
       "  <thead>\n",
       "    <tr style=\"text-align: right;\">\n",
       "      <th></th>\n",
       "      <th>DATE</th>\n",
       "      <th>AIRLINE</th>\n",
       "      <th>FLIGHT_NUMBER</th>\n",
       "      <th>ORIGIN_AIRPORT</th>\n",
       "      <th>DESTINATION_AIRPORT</th>\n",
       "      <th>DEPARTURE_TIME</th>\n",
       "      <th>DEPARTURE_DELAY</th>\n",
       "      <th>ELAPSED_TIME</th>\n",
       "      <th>DISTANCE</th>\n",
       "      <th>ARRIVAL_TIME</th>\n",
       "      <th>ARRIVAL_DELAY</th>\n",
       "      <th>DIVERTED</th>\n",
       "      <th>CANCELLED</th>\n",
       "      <th>CANCELLATION_REASON</th>\n",
       "      <th>AIR_SYSTEM_DELAY</th>\n",
       "      <th>SECURITY_DELAY</th>\n",
       "      <th>AIRLINE_DELAY</th>\n",
       "      <th>LATE_AIRCRAFT_DELAY</th>\n",
       "      <th>WEATHER_DELAY</th>\n",
       "    </tr>\n",
       "  </thead>\n",
       "  <tbody>\n",
       "    <tr>\n",
       "      <th>0</th>\n",
       "      <td>2015-01-01</td>\n",
       "      <td>AS</td>\n",
       "      <td>98</td>\n",
       "      <td>ANC</td>\n",
       "      <td>SEA</td>\n",
       "      <td>2354.0</td>\n",
       "      <td>-11.0</td>\n",
       "      <td>194.0</td>\n",
       "      <td>1448</td>\n",
       "      <td>408.0</td>\n",
       "      <td>-22.0</td>\n",
       "      <td>0</td>\n",
       "      <td>0</td>\n",
       "      <td>NaN</td>\n",
       "      <td>NaN</td>\n",
       "      <td>NaN</td>\n",
       "      <td>NaN</td>\n",
       "      <td>NaN</td>\n",
       "      <td>NaN</td>\n",
       "    </tr>\n",
       "    <tr>\n",
       "      <th>1</th>\n",
       "      <td>2015-01-01</td>\n",
       "      <td>AA</td>\n",
       "      <td>2336</td>\n",
       "      <td>LAX</td>\n",
       "      <td>PBI</td>\n",
       "      <td>2.0</td>\n",
       "      <td>-8.0</td>\n",
       "      <td>279.0</td>\n",
       "      <td>2330</td>\n",
       "      <td>741.0</td>\n",
       "      <td>-9.0</td>\n",
       "      <td>0</td>\n",
       "      <td>0</td>\n",
       "      <td>NaN</td>\n",
       "      <td>NaN</td>\n",
       "      <td>NaN</td>\n",
       "      <td>NaN</td>\n",
       "      <td>NaN</td>\n",
       "      <td>NaN</td>\n",
       "    </tr>\n",
       "    <tr>\n",
       "      <th>2</th>\n",
       "      <td>2015-01-01</td>\n",
       "      <td>US</td>\n",
       "      <td>840</td>\n",
       "      <td>SFO</td>\n",
       "      <td>CLT</td>\n",
       "      <td>18.0</td>\n",
       "      <td>-2.0</td>\n",
       "      <td>293.0</td>\n",
       "      <td>2296</td>\n",
       "      <td>811.0</td>\n",
       "      <td>5.0</td>\n",
       "      <td>0</td>\n",
       "      <td>0</td>\n",
       "      <td>NaN</td>\n",
       "      <td>NaN</td>\n",
       "      <td>NaN</td>\n",
       "      <td>NaN</td>\n",
       "      <td>NaN</td>\n",
       "      <td>NaN</td>\n",
       "    </tr>\n",
       "    <tr>\n",
       "      <th>3</th>\n",
       "      <td>2015-01-01</td>\n",
       "      <td>AA</td>\n",
       "      <td>258</td>\n",
       "      <td>LAX</td>\n",
       "      <td>MIA</td>\n",
       "      <td>15.0</td>\n",
       "      <td>-5.0</td>\n",
       "      <td>281.0</td>\n",
       "      <td>2342</td>\n",
       "      <td>756.0</td>\n",
       "      <td>-9.0</td>\n",
       "      <td>0</td>\n",
       "      <td>0</td>\n",
       "      <td>NaN</td>\n",
       "      <td>NaN</td>\n",
       "      <td>NaN</td>\n",
       "      <td>NaN</td>\n",
       "      <td>NaN</td>\n",
       "      <td>NaN</td>\n",
       "    </tr>\n",
       "    <tr>\n",
       "      <th>4</th>\n",
       "      <td>2015-01-01</td>\n",
       "      <td>AS</td>\n",
       "      <td>135</td>\n",
       "      <td>SEA</td>\n",
       "      <td>ANC</td>\n",
       "      <td>24.0</td>\n",
       "      <td>-1.0</td>\n",
       "      <td>215.0</td>\n",
       "      <td>1448</td>\n",
       "      <td>259.0</td>\n",
       "      <td>-21.0</td>\n",
       "      <td>0</td>\n",
       "      <td>0</td>\n",
       "      <td>NaN</td>\n",
       "      <td>NaN</td>\n",
       "      <td>NaN</td>\n",
       "      <td>NaN</td>\n",
       "      <td>NaN</td>\n",
       "      <td>NaN</td>\n",
       "    </tr>\n",
       "  </tbody>\n",
       "</table>\n",
       "</div>"
      ],
      "text/plain": [
       "        DATE AIRLINE FLIGHT_NUMBER ORIGIN_AIRPORT DESTINATION_AIRPORT  \\\n",
       "0 2015-01-01      AS            98            ANC                 SEA   \n",
       "1 2015-01-01      AA          2336            LAX                 PBI   \n",
       "2 2015-01-01      US           840            SFO                 CLT   \n",
       "3 2015-01-01      AA           258            LAX                 MIA   \n",
       "4 2015-01-01      AS           135            SEA                 ANC   \n",
       "\n",
       "   DEPARTURE_TIME  DEPARTURE_DELAY  ELAPSED_TIME  DISTANCE  ARRIVAL_TIME  \\\n",
       "0          2354.0            -11.0         194.0      1448         408.0   \n",
       "1             2.0             -8.0         279.0      2330         741.0   \n",
       "2            18.0             -2.0         293.0      2296         811.0   \n",
       "3            15.0             -5.0         281.0      2342         756.0   \n",
       "4            24.0             -1.0         215.0      1448         259.0   \n",
       "\n",
       "   ARRIVAL_DELAY DIVERTED CANCELLED CANCELLATION_REASON  AIR_SYSTEM_DELAY  \\\n",
       "0          -22.0        0         0                 NaN               NaN   \n",
       "1           -9.0        0         0                 NaN               NaN   \n",
       "2            5.0        0         0                 NaN               NaN   \n",
       "3           -9.0        0         0                 NaN               NaN   \n",
       "4          -21.0        0         0                 NaN               NaN   \n",
       "\n",
       "   SECURITY_DELAY  AIRLINE_DELAY  LATE_AIRCRAFT_DELAY  WEATHER_DELAY  \n",
       "0             NaN            NaN                  NaN            NaN  \n",
       "1             NaN            NaN                  NaN            NaN  \n",
       "2             NaN            NaN                  NaN            NaN  \n",
       "3             NaN            NaN                  NaN            NaN  \n",
       "4             NaN            NaN                  NaN            NaN  "
      ]
     },
     "execution_count": 18,
     "metadata": {},
     "output_type": "execute_result"
    }
   ],
   "source": [
    "# Cambiamos el orden de las columnas, para que DATE sea la primera\n",
    "cols = df.columns.tolist()\n",
    "cols = cols[-1:] + cols[:-1]\n",
    "df = df[cols] \n",
    "df.head()"
   ]
  },
  {
   "cell_type": "markdown",
   "metadata": {},
   "source": [
    "Hablar formato tiempos: \n",
    "    SCHEDULED_DEPARTURE, DEPARTURE_TIME, SCHEDULED_TIME\n",
    "    SCHEDULED_ARRIVAL, ARRIVAL_TIME (se podrían eliminar dado que nos sirven para sacar arrival delay)"
   ]
  },
  {
   "cell_type": "markdown",
   "metadata": {},
   "source": [
    "## Debatir:\n",
    "\n",
    "Las variables SCHEDULED_DEPARTURE, DEPARTURE_TIME, DEPARTURE_DELAY, ARRIVAL_TIME y SCHEDULED_ARRIVAL nos ayudan a saber si un vuelo se ha retrasado o no, pero una vez aue sabemos esto no tienen  valor en sí mismas por lo que las podemos eliminar"
   ]
  },
  {
   "cell_type": "markdown",
   "metadata": {},
   "source": [
    "#### Tipos de vuelo:\n",
    "1. On time/ arrived earlier --> arrival_delay <=0\n",
    "2. Delayed   --> arrival_delay > 0\n",
    "3. Diverted  --> diverted == 1\n",
    "4. Cancelled --> cancelled == 1\n",
    "\n",
    "##### Razones por las que se retrasa un vuelo:\n",
    "- AIR_SYSTEM_DELAY     \n",
    "- SECURITY_DELAY       \n",
    "- AIRLINE_DELAY        \n",
    "- LATE_AIRCRAFT_DELAY \n",
    "- WEATHER_DELAY       "
   ]
  },
  {
   "cell_type": "code",
   "execution_count": 19,
   "metadata": {
    "scrolled": true
   },
   "outputs": [
    {
     "data": {
      "text/plain": [
       "DATE                         0\n",
       "AIRLINE                      0\n",
       "FLIGHT_NUMBER                0\n",
       "ORIGIN_AIRPORT               0\n",
       "DESTINATION_AIRPORT          0\n",
       "DEPARTURE_TIME           86129\n",
       "DEPARTURE_DELAY          86129\n",
       "ELAPSED_TIME            105040\n",
       "DISTANCE                     0\n",
       "ARRIVAL_TIME             92485\n",
       "ARRIVAL_DELAY           105040\n",
       "DIVERTED                     0\n",
       "CANCELLED                    0\n",
       "CANCELLATION_REASON    5726751\n",
       "AIR_SYSTEM_DELAY       4753413\n",
       "SECURITY_DELAY         4753413\n",
       "AIRLINE_DELAY          4753413\n",
       "LATE_AIRCRAFT_DELAY    4753413\n",
       "WEATHER_DELAY          4753413\n",
       "dtype: int64"
      ]
     },
     "execution_count": 19,
     "metadata": {},
     "output_type": "execute_result"
    }
   ],
   "source": [
    "# Vamos a examinar ahora los valores nulos\n",
    "df.isna().sum()"
   ]
  },
  {
   "cell_type": "markdown",
   "metadata": {},
   "source": [
    "Las variables CANCELLATION_REASON, AIR_SYSTEM_DELAY, SECURITY_DELAY, AIRLINE_DELAY, LATE_AIRCRAFT_DELAY,WEATHER_DELAY presentan una gran cantidad de valores nulos. No obstante, todas estas variables se relacionan con vuelos cancelados o retrasados por lo que tiene sentido que sean valores nulos para aquellos vuelos que no se hayan cancelado ni retrasado. Vamos a analizar estas variables"
   ]
  },
  {
   "cell_type": "code",
   "execution_count": 20,
   "metadata": {},
   "outputs": [
    {
     "data": {
      "text/plain": [
       "DATE                       0\n",
       "AIRLINE                    0\n",
       "FLIGHT_NUMBER              0\n",
       "ORIGIN_AIRPORT             0\n",
       "DESTINATION_AIRPORT        0\n",
       "DEPARTURE_TIME         86129\n",
       "DEPARTURE_DELAY        86129\n",
       "ELAPSED_TIME           89858\n",
       "DISTANCE                   0\n",
       "ARRIVAL_TIME           89858\n",
       "ARRIVAL_DELAY          89858\n",
       "DIVERTED                   0\n",
       "CANCELLED                  0\n",
       "CANCELLATION_REASON        0\n",
       "AIR_SYSTEM_DELAY       89858\n",
       "SECURITY_DELAY         89858\n",
       "AIRLINE_DELAY          89858\n",
       "LATE_AIRCRAFT_DELAY    89858\n",
       "WEATHER_DELAY          89858\n",
       "dtype: int64"
      ]
     },
     "execution_count": 20,
     "metadata": {},
     "output_type": "execute_result"
    }
   ],
   "source": [
    "cancelled = df[df['CANCELLED'] == 1]\n",
    "cancelled.isna().sum()"
   ]
  },
  {
   "cell_type": "markdown",
   "metadata": {},
   "source": [
    "Vemos como en este caso no existen valores nulos para la columna CANCELLATION_REASON. No obstante, nuestro análisis consiste en prededcir el retraso de vuelos por lo que no necesitamos la info de vuelos cancelados/ redirigidos así que eliminamos dichos registros"
   ]
  },
  {
   "cell_type": "code",
   "execution_count": 21,
   "metadata": {},
   "outputs": [],
   "source": [
    "# Eliminamos los cancelados\n",
    "df = df[df['CANCELLED'] == 0]\n",
    "\n",
    "#Eliminamos los redirigidos\n",
    "df = df[df['DIVERTED'] == 0]\n",
    "\n",
    "df = df.drop([\"DIVERTED\",\"CANCELLED\", \"CANCELLATION_REASON\"],axis=1)"
   ]
  },
  {
   "cell_type": "markdown",
   "metadata": {},
   "source": [
    "Nos quedamos solo con los vuelos que llegan antes de lo previsto, en hora o con retraso"
   ]
  },
  {
   "cell_type": "code",
   "execution_count": 22,
   "metadata": {},
   "outputs": [
    {
     "data": {
      "text/plain": [
       "5711569"
      ]
     },
     "execution_count": 22,
     "metadata": {},
     "output_type": "execute_result"
    }
   ],
   "source": [
    "len(df)"
   ]
  },
  {
   "cell_type": "code",
   "execution_count": 23,
   "metadata": {},
   "outputs": [
    {
     "data": {
      "text/plain": [
       "DATE                         0\n",
       "AIRLINE                      0\n",
       "FLIGHT_NUMBER                0\n",
       "ORIGIN_AIRPORT               0\n",
       "DESTINATION_AIRPORT          0\n",
       "DEPARTURE_TIME               0\n",
       "DEPARTURE_DELAY              0\n",
       "ELAPSED_TIME                 0\n",
       "DISTANCE                     0\n",
       "ARRIVAL_TIME                 0\n",
       "ARRIVAL_DELAY                0\n",
       "AIR_SYSTEM_DELAY       4648373\n",
       "SECURITY_DELAY         4648373\n",
       "AIRLINE_DELAY          4648373\n",
       "LATE_AIRCRAFT_DELAY    4648373\n",
       "WEATHER_DELAY          4648373\n",
       "dtype: int64"
      ]
     },
     "execution_count": 23,
     "metadata": {},
     "output_type": "execute_result"
    }
   ],
   "source": [
    "df.isna().sum()"
   ]
  },
  {
   "cell_type": "markdown",
   "metadata": {},
   "source": [
    "Realizamos ahora el análisis de los valores nulos relacionados con los vuelos retrasados.\n",
    "\n",
    "**NOTA**: consideramos que un vuelo se retrasa si llega pasada la hora prevista, independientemente de si ha tenido retraso en la hora de salida o no"
   ]
  },
  {
   "cell_type": "code",
   "execution_count": 24,
   "metadata": {},
   "outputs": [
    {
     "data": {
      "text/plain": [
       "DATE                         0\n",
       "AIRLINE                      0\n",
       "FLIGHT_NUMBER                0\n",
       "ORIGIN_AIRPORT               0\n",
       "DESTINATION_AIRPORT          0\n",
       "DEPARTURE_TIME               0\n",
       "DEPARTURE_DELAY              0\n",
       "ELAPSED_TIME                 0\n",
       "DISTANCE                     0\n",
       "ARRIVAL_TIME                 0\n",
       "ARRIVAL_DELAY                0\n",
       "AIR_SYSTEM_DELAY       1023002\n",
       "SECURITY_DELAY         1023002\n",
       "AIRLINE_DELAY          1023002\n",
       "LATE_AIRCRAFT_DELAY    1023002\n",
       "WEATHER_DELAY          1023002\n",
       "dtype: int64"
      ]
     },
     "execution_count": 24,
     "metadata": {},
     "output_type": "execute_result"
    }
   ],
   "source": [
    "delayed = df[df['ARRIVAL_DELAY'] > 0]\n",
    "delayed.isna().sum()"
   ]
  },
  {
   "cell_type": "markdown",
   "metadata": {},
   "source": [
    "Si considerabamos todos los vuelos teníamos 1283118 registros con valor nulo en las variables DELAY, cuando filtramos por vuelos retrasados tenemos 275025.\n",
    "Vamos a analizar primero los valores nulos de aquellos vuelos que se han retrasado"
   ]
  },
  {
   "cell_type": "code",
   "execution_count": 25,
   "metadata": {},
   "outputs": [
    {
     "data": {
      "text/html": [
       "<div>\n",
       "<style scoped>\n",
       "    .dataframe tbody tr th:only-of-type {\n",
       "        vertical-align: middle;\n",
       "    }\n",
       "\n",
       "    .dataframe tbody tr th {\n",
       "        vertical-align: top;\n",
       "    }\n",
       "\n",
       "    .dataframe thead th {\n",
       "        text-align: right;\n",
       "    }\n",
       "</style>\n",
       "<table border=\"1\" class=\"dataframe\">\n",
       "  <thead>\n",
       "    <tr style=\"text-align: right;\">\n",
       "      <th></th>\n",
       "      <th>AIR_SYSTEM_DELAY</th>\n",
       "      <th>SECURITY_DELAY</th>\n",
       "      <th>AIRLINE_DELAY</th>\n",
       "      <th>LATE_AIRCRAFT_DELAY</th>\n",
       "      <th>WEATHER_DELAY</th>\n",
       "    </tr>\n",
       "  </thead>\n",
       "  <tbody>\n",
       "    <tr>\n",
       "      <th>2</th>\n",
       "      <td>NaN</td>\n",
       "      <td>NaN</td>\n",
       "      <td>NaN</td>\n",
       "      <td>NaN</td>\n",
       "      <td>NaN</td>\n",
       "    </tr>\n",
       "    <tr>\n",
       "      <th>5</th>\n",
       "      <td>NaN</td>\n",
       "      <td>NaN</td>\n",
       "      <td>NaN</td>\n",
       "      <td>NaN</td>\n",
       "      <td>NaN</td>\n",
       "    </tr>\n",
       "    <tr>\n",
       "      <th>14</th>\n",
       "      <td>NaN</td>\n",
       "      <td>NaN</td>\n",
       "      <td>NaN</td>\n",
       "      <td>NaN</td>\n",
       "      <td>NaN</td>\n",
       "    </tr>\n",
       "    <tr>\n",
       "      <th>20</th>\n",
       "      <td>NaN</td>\n",
       "      <td>NaN</td>\n",
       "      <td>NaN</td>\n",
       "      <td>NaN</td>\n",
       "      <td>NaN</td>\n",
       "    </tr>\n",
       "    <tr>\n",
       "      <th>21</th>\n",
       "      <td>NaN</td>\n",
       "      <td>NaN</td>\n",
       "      <td>NaN</td>\n",
       "      <td>NaN</td>\n",
       "      <td>NaN</td>\n",
       "    </tr>\n",
       "  </tbody>\n",
       "</table>\n",
       "</div>"
      ],
      "text/plain": [
       "    AIR_SYSTEM_DELAY  SECURITY_DELAY  AIRLINE_DELAY  LATE_AIRCRAFT_DELAY  \\\n",
       "2                NaN             NaN            NaN                  NaN   \n",
       "5                NaN             NaN            NaN                  NaN   \n",
       "14               NaN             NaN            NaN                  NaN   \n",
       "20               NaN             NaN            NaN                  NaN   \n",
       "21               NaN             NaN            NaN                  NaN   \n",
       "\n",
       "    WEATHER_DELAY  \n",
       "2             NaN  \n",
       "5             NaN  \n",
       "14            NaN  \n",
       "20            NaN  \n",
       "21            NaN  "
      ]
     },
     "execution_count": 25,
     "metadata": {},
     "output_type": "execute_result"
    }
   ],
   "source": [
    "delayed = delayed[['AIR_SYSTEM_DELAY', 'SECURITY_DELAY','AIRLINE_DELAY','LATE_AIRCRAFT_DELAY','WEATHER_DELAY']]\n",
    "delayed.head()"
   ]
  },
  {
   "cell_type": "code",
   "execution_count": 26,
   "metadata": {},
   "outputs": [
    {
     "data": {
      "text/plain": [
       "1023002"
      ]
     },
     "execution_count": 26,
     "metadata": {},
     "output_type": "execute_result"
    }
   ],
   "source": [
    "# Seleccionamos todas las filas que tengan NaN en todas las columnas\n",
    "nulls = delayed.loc[(delayed['AIR_SYSTEM_DELAY'].isnull() == True) & (delayed['SECURITY_DELAY'].isnull() == True) & (delayed['AIRLINE_DELAY'].isnull() == True) & (delayed['LATE_AIRCRAFT_DELAY'].isnull() == True) & (delayed['WEATHER_DELAY'].isnull() == True)]\n",
    "len(nulls)"
   ]
  },
  {
   "cell_type": "markdown",
   "metadata": {},
   "source": [
    "Vemos que TODOS los NaN se concentran en las mismas filas. Entendemos que en este caso el vuelo se ha retrasado por causa desconocida. Para indicar esto creamos una nueva columna 'OTHER_DELAY' en nuestro data frame cuyo valor sea igual al delay"
   ]
  },
  {
   "cell_type": "code",
   "execution_count": 27,
   "metadata": {},
   "outputs": [
    {
     "data": {
      "text/html": [
       "<div>\n",
       "<style scoped>\n",
       "    .dataframe tbody tr th:only-of-type {\n",
       "        vertical-align: middle;\n",
       "    }\n",
       "\n",
       "    .dataframe tbody tr th {\n",
       "        vertical-align: top;\n",
       "    }\n",
       "\n",
       "    .dataframe thead th {\n",
       "        text-align: right;\n",
       "    }\n",
       "</style>\n",
       "<table border=\"1\" class=\"dataframe\">\n",
       "  <thead>\n",
       "    <tr style=\"text-align: right;\">\n",
       "      <th></th>\n",
       "      <th>DATE</th>\n",
       "      <th>AIRLINE</th>\n",
       "      <th>FLIGHT_NUMBER</th>\n",
       "      <th>ORIGIN_AIRPORT</th>\n",
       "      <th>DESTINATION_AIRPORT</th>\n",
       "      <th>DEPARTURE_TIME</th>\n",
       "      <th>DEPARTURE_DELAY</th>\n",
       "      <th>ELAPSED_TIME</th>\n",
       "      <th>DISTANCE</th>\n",
       "      <th>ARRIVAL_TIME</th>\n",
       "      <th>ARRIVAL_DELAY</th>\n",
       "      <th>AIR_SYSTEM_DELAY</th>\n",
       "      <th>SECURITY_DELAY</th>\n",
       "      <th>AIRLINE_DELAY</th>\n",
       "      <th>LATE_AIRCRAFT_DELAY</th>\n",
       "      <th>WEATHER_DELAY</th>\n",
       "      <th>OTHER_DELAY</th>\n",
       "    </tr>\n",
       "  </thead>\n",
       "  <tbody>\n",
       "    <tr>\n",
       "      <th>47</th>\n",
       "      <td>2015-01-01</td>\n",
       "      <td>AS</td>\n",
       "      <td>114</td>\n",
       "      <td>ANC</td>\n",
       "      <td>SEA</td>\n",
       "      <td>209.0</td>\n",
       "      <td>-11.0</td>\n",
       "      <td>199.0</td>\n",
       "      <td>1448</td>\n",
       "      <td>628.0</td>\n",
       "      <td>-12.0</td>\n",
       "      <td>NaN</td>\n",
       "      <td>NaN</td>\n",
       "      <td>NaN</td>\n",
       "      <td>NaN</td>\n",
       "      <td>NaN</td>\n",
       "      <td>-12.0</td>\n",
       "    </tr>\n",
       "    <tr>\n",
       "      <th>48</th>\n",
       "      <td>2015-01-01</td>\n",
       "      <td>B6</td>\n",
       "      <td>668</td>\n",
       "      <td>PSE</td>\n",
       "      <td>MCO</td>\n",
       "      <td>248.0</td>\n",
       "      <td>-7.0</td>\n",
       "      <td>183.0</td>\n",
       "      <td>1179</td>\n",
       "      <td>451.0</td>\n",
       "      <td>-9.0</td>\n",
       "      <td>NaN</td>\n",
       "      <td>NaN</td>\n",
       "      <td>NaN</td>\n",
       "      <td>NaN</td>\n",
       "      <td>NaN</td>\n",
       "      <td>-9.0</td>\n",
       "    </tr>\n",
       "    <tr>\n",
       "      <th>49</th>\n",
       "      <td>2015-01-01</td>\n",
       "      <td>UA</td>\n",
       "      <td>1162</td>\n",
       "      <td>BQN</td>\n",
       "      <td>EWR</td>\n",
       "      <td>258.0</td>\n",
       "      <td>-1.0</td>\n",
       "      <td>247.0</td>\n",
       "      <td>1585</td>\n",
       "      <td>605.0</td>\n",
       "      <td>6.0</td>\n",
       "      <td>NaN</td>\n",
       "      <td>NaN</td>\n",
       "      <td>NaN</td>\n",
       "      <td>NaN</td>\n",
       "      <td>NaN</td>\n",
       "      <td>6.0</td>\n",
       "    </tr>\n",
       "    <tr>\n",
       "      <th>50</th>\n",
       "      <td>2015-01-01</td>\n",
       "      <td>B6</td>\n",
       "      <td>1030</td>\n",
       "      <td>BQN</td>\n",
       "      <td>MCO</td>\n",
       "      <td>304.0</td>\n",
       "      <td>-3.0</td>\n",
       "      <td>196.0</td>\n",
       "      <td>1129</td>\n",
       "      <td>520.0</td>\n",
       "      <td>20.0</td>\n",
       "      <td>20.0</td>\n",
       "      <td>0.0</td>\n",
       "      <td>0.0</td>\n",
       "      <td>0.0</td>\n",
       "      <td>0.0</td>\n",
       "      <td>0.0</td>\n",
       "    </tr>\n",
       "    <tr>\n",
       "      <th>51</th>\n",
       "      <td>2015-01-01</td>\n",
       "      <td>B6</td>\n",
       "      <td>262</td>\n",
       "      <td>SJU</td>\n",
       "      <td>BOS</td>\n",
       "      <td>316.0</td>\n",
       "      <td>-14.0</td>\n",
       "      <td>243.0</td>\n",
       "      <td>1674</td>\n",
       "      <td>619.0</td>\n",
       "      <td>-16.0</td>\n",
       "      <td>NaN</td>\n",
       "      <td>NaN</td>\n",
       "      <td>NaN</td>\n",
       "      <td>NaN</td>\n",
       "      <td>NaN</td>\n",
       "      <td>-16.0</td>\n",
       "    </tr>\n",
       "  </tbody>\n",
       "</table>\n",
       "</div>"
      ],
      "text/plain": [
       "         DATE AIRLINE FLIGHT_NUMBER ORIGIN_AIRPORT DESTINATION_AIRPORT  \\\n",
       "47 2015-01-01      AS           114            ANC                 SEA   \n",
       "48 2015-01-01      B6           668            PSE                 MCO   \n",
       "49 2015-01-01      UA          1162            BQN                 EWR   \n",
       "50 2015-01-01      B6          1030            BQN                 MCO   \n",
       "51 2015-01-01      B6           262            SJU                 BOS   \n",
       "\n",
       "    DEPARTURE_TIME  DEPARTURE_DELAY  ELAPSED_TIME  DISTANCE  ARRIVAL_TIME  \\\n",
       "47           209.0            -11.0         199.0      1448         628.0   \n",
       "48           248.0             -7.0         183.0      1179         451.0   \n",
       "49           258.0             -1.0         247.0      1585         605.0   \n",
       "50           304.0             -3.0         196.0      1129         520.0   \n",
       "51           316.0            -14.0         243.0      1674         619.0   \n",
       "\n",
       "    ARRIVAL_DELAY  AIR_SYSTEM_DELAY  SECURITY_DELAY  AIRLINE_DELAY  \\\n",
       "47          -12.0               NaN             NaN            NaN   \n",
       "48           -9.0               NaN             NaN            NaN   \n",
       "49            6.0               NaN             NaN            NaN   \n",
       "50           20.0              20.0             0.0            0.0   \n",
       "51          -16.0               NaN             NaN            NaN   \n",
       "\n",
       "    LATE_AIRCRAFT_DELAY  WEATHER_DELAY  OTHER_DELAY  \n",
       "47                  NaN            NaN        -12.0  \n",
       "48                  NaN            NaN         -9.0  \n",
       "49                  NaN            NaN          6.0  \n",
       "50                  0.0            0.0          0.0  \n",
       "51                  NaN            NaN        -16.0  "
      ]
     },
     "execution_count": 27,
     "metadata": {},
     "output_type": "execute_result"
    }
   ],
   "source": [
    "# Creamos la OTHER_DELAY con los mismos datos que ARRIVAL_DELAY\n",
    "df['OTHER_DELAY'] = df['ARRIVAL_DELAY']\n",
    "\n",
    "# Como hemos visto que si una columna _DELAY es NaN el resto también, utilizamos una única columa para comparar, y asignamos a OTHER_DELAY la diferencia entre el delay a la llegada y el resto de delays\n",
    "df.loc[pd.notna(df['AIR_SYSTEM_DELAY']),'OTHER_DELAY'] = df['ARRIVAL_DELAY'] - df['AIR_SYSTEM_DELAY'] - df['SECURITY_DELAY'] - df['AIRLINE_DELAY'] -df['LATE_AIRCRAFT_DELAY'] - df['WEATHER_DELAY']\n",
    "df[45:50]"
   ]
  },
  {
   "cell_type": "code",
   "execution_count": 28,
   "metadata": {},
   "outputs": [
    {
     "data": {
      "text/html": [
       "<div>\n",
       "<style scoped>\n",
       "    .dataframe tbody tr th:only-of-type {\n",
       "        vertical-align: middle;\n",
       "    }\n",
       "\n",
       "    .dataframe tbody tr th {\n",
       "        vertical-align: top;\n",
       "    }\n",
       "\n",
       "    .dataframe thead th {\n",
       "        text-align: right;\n",
       "    }\n",
       "</style>\n",
       "<table border=\"1\" class=\"dataframe\">\n",
       "  <thead>\n",
       "    <tr style=\"text-align: right;\">\n",
       "      <th></th>\n",
       "      <th>DATE</th>\n",
       "      <th>AIRLINE</th>\n",
       "      <th>FLIGHT_NUMBER</th>\n",
       "      <th>ORIGIN_AIRPORT</th>\n",
       "      <th>DESTINATION_AIRPORT</th>\n",
       "      <th>DEPARTURE_TIME</th>\n",
       "      <th>DEPARTURE_DELAY</th>\n",
       "      <th>ELAPSED_TIME</th>\n",
       "      <th>DISTANCE</th>\n",
       "      <th>ARRIVAL_TIME</th>\n",
       "      <th>ARRIVAL_DELAY</th>\n",
       "      <th>AIR_SYSTEM_DELAY</th>\n",
       "      <th>SECURITY_DELAY</th>\n",
       "      <th>AIRLINE_DELAY</th>\n",
       "      <th>LATE_AIRCRAFT_DELAY</th>\n",
       "      <th>WEATHER_DELAY</th>\n",
       "      <th>OTHER_DELAY</th>\n",
       "    </tr>\n",
       "  </thead>\n",
       "  <tbody>\n",
       "    <tr>\n",
       "      <th>47</th>\n",
       "      <td>2015-01-01</td>\n",
       "      <td>AS</td>\n",
       "      <td>114</td>\n",
       "      <td>ANC</td>\n",
       "      <td>SEA</td>\n",
       "      <td>209.0</td>\n",
       "      <td>-11.0</td>\n",
       "      <td>199.0</td>\n",
       "      <td>1448</td>\n",
       "      <td>628.0</td>\n",
       "      <td>-12.0</td>\n",
       "      <td>NaN</td>\n",
       "      <td>NaN</td>\n",
       "      <td>NaN</td>\n",
       "      <td>NaN</td>\n",
       "      <td>NaN</td>\n",
       "      <td>0.0</td>\n",
       "    </tr>\n",
       "    <tr>\n",
       "      <th>48</th>\n",
       "      <td>2015-01-01</td>\n",
       "      <td>B6</td>\n",
       "      <td>668</td>\n",
       "      <td>PSE</td>\n",
       "      <td>MCO</td>\n",
       "      <td>248.0</td>\n",
       "      <td>-7.0</td>\n",
       "      <td>183.0</td>\n",
       "      <td>1179</td>\n",
       "      <td>451.0</td>\n",
       "      <td>-9.0</td>\n",
       "      <td>NaN</td>\n",
       "      <td>NaN</td>\n",
       "      <td>NaN</td>\n",
       "      <td>NaN</td>\n",
       "      <td>NaN</td>\n",
       "      <td>0.0</td>\n",
       "    </tr>\n",
       "    <tr>\n",
       "      <th>49</th>\n",
       "      <td>2015-01-01</td>\n",
       "      <td>UA</td>\n",
       "      <td>1162</td>\n",
       "      <td>BQN</td>\n",
       "      <td>EWR</td>\n",
       "      <td>258.0</td>\n",
       "      <td>-1.0</td>\n",
       "      <td>247.0</td>\n",
       "      <td>1585</td>\n",
       "      <td>605.0</td>\n",
       "      <td>6.0</td>\n",
       "      <td>NaN</td>\n",
       "      <td>NaN</td>\n",
       "      <td>NaN</td>\n",
       "      <td>NaN</td>\n",
       "      <td>NaN</td>\n",
       "      <td>6.0</td>\n",
       "    </tr>\n",
       "    <tr>\n",
       "      <th>50</th>\n",
       "      <td>2015-01-01</td>\n",
       "      <td>B6</td>\n",
       "      <td>1030</td>\n",
       "      <td>BQN</td>\n",
       "      <td>MCO</td>\n",
       "      <td>304.0</td>\n",
       "      <td>-3.0</td>\n",
       "      <td>196.0</td>\n",
       "      <td>1129</td>\n",
       "      <td>520.0</td>\n",
       "      <td>20.0</td>\n",
       "      <td>20.0</td>\n",
       "      <td>0.0</td>\n",
       "      <td>0.0</td>\n",
       "      <td>0.0</td>\n",
       "      <td>0.0</td>\n",
       "      <td>0.0</td>\n",
       "    </tr>\n",
       "    <tr>\n",
       "      <th>51</th>\n",
       "      <td>2015-01-01</td>\n",
       "      <td>B6</td>\n",
       "      <td>262</td>\n",
       "      <td>SJU</td>\n",
       "      <td>BOS</td>\n",
       "      <td>316.0</td>\n",
       "      <td>-14.0</td>\n",
       "      <td>243.0</td>\n",
       "      <td>1674</td>\n",
       "      <td>619.0</td>\n",
       "      <td>-16.0</td>\n",
       "      <td>NaN</td>\n",
       "      <td>NaN</td>\n",
       "      <td>NaN</td>\n",
       "      <td>NaN</td>\n",
       "      <td>NaN</td>\n",
       "      <td>0.0</td>\n",
       "    </tr>\n",
       "  </tbody>\n",
       "</table>\n",
       "</div>"
      ],
      "text/plain": [
       "         DATE AIRLINE FLIGHT_NUMBER ORIGIN_AIRPORT DESTINATION_AIRPORT  \\\n",
       "47 2015-01-01      AS           114            ANC                 SEA   \n",
       "48 2015-01-01      B6           668            PSE                 MCO   \n",
       "49 2015-01-01      UA          1162            BQN                 EWR   \n",
       "50 2015-01-01      B6          1030            BQN                 MCO   \n",
       "51 2015-01-01      B6           262            SJU                 BOS   \n",
       "\n",
       "    DEPARTURE_TIME  DEPARTURE_DELAY  ELAPSED_TIME  DISTANCE  ARRIVAL_TIME  \\\n",
       "47           209.0            -11.0         199.0      1448         628.0   \n",
       "48           248.0             -7.0         183.0      1179         451.0   \n",
       "49           258.0             -1.0         247.0      1585         605.0   \n",
       "50           304.0             -3.0         196.0      1129         520.0   \n",
       "51           316.0            -14.0         243.0      1674         619.0   \n",
       "\n",
       "    ARRIVAL_DELAY  AIR_SYSTEM_DELAY  SECURITY_DELAY  AIRLINE_DELAY  \\\n",
       "47          -12.0               NaN             NaN            NaN   \n",
       "48           -9.0               NaN             NaN            NaN   \n",
       "49            6.0               NaN             NaN            NaN   \n",
       "50           20.0              20.0             0.0            0.0   \n",
       "51          -16.0               NaN             NaN            NaN   \n",
       "\n",
       "    LATE_AIRCRAFT_DELAY  WEATHER_DELAY  OTHER_DELAY  \n",
       "47                  NaN            NaN          0.0  \n",
       "48                  NaN            NaN          0.0  \n",
       "49                  NaN            NaN          6.0  \n",
       "50                  0.0            0.0          0.0  \n",
       "51                  NaN            NaN          0.0  "
      ]
     },
     "execution_count": 28,
     "metadata": {},
     "output_type": "execute_result"
    }
   ],
   "source": [
    "# Cambiamos OTHEY_DELAY <0 por 0 dado que estos vuelos han llegado antes de lo previsto, no han experimentado un retraso\n",
    "df.loc[df[\"OTHER_DELAY\"] < 0, \"OTHER_DELAY\"] = 0\n",
    "df[45:50]"
   ]
  },
  {
   "cell_type": "code",
   "execution_count": 29,
   "metadata": {},
   "outputs": [
    {
     "name": "stdout",
     "output_type": "stream",
     "text": [
      "3625371\n"
     ]
    },
    {
     "data": {
      "text/plain": [
       "DATE                         0\n",
       "AIRLINE                      0\n",
       "FLIGHT_NUMBER                0\n",
       "ORIGIN_AIRPORT               0\n",
       "DESTINATION_AIRPORT          0\n",
       "DEPARTURE_TIME               0\n",
       "DEPARTURE_DELAY              0\n",
       "ELAPSED_TIME                 0\n",
       "DISTANCE                     0\n",
       "ARRIVAL_TIME                 0\n",
       "ARRIVAL_DELAY                0\n",
       "AIR_SYSTEM_DELAY       3625371\n",
       "SECURITY_DELAY         3625371\n",
       "AIRLINE_DELAY          3625371\n",
       "LATE_AIRCRAFT_DELAY    3625371\n",
       "WEATHER_DELAY          3625371\n",
       "OTHER_DELAY                  0\n",
       "dtype: int64"
      ]
     },
     "execution_count": 29,
     "metadata": {},
     "output_type": "execute_result"
    }
   ],
   "source": [
    "# Early arrival flights\n",
    "early_arrival = df[df['ARRIVAL_DELAY']<=0]\n",
    "\n",
    "print(len(early_arrival))\n",
    "early_arrival.isna().sum()"
   ]
  },
  {
   "cell_type": "markdown",
   "metadata": {},
   "source": [
    "El resto de valores NaN en dichas columnas corresponden a aquellos vuelos que han llegado antes de tiempo a destino, cosa que tiene sentido dado que no han experimentado ningún delay"
   ]
  },
  {
   "cell_type": "markdown",
   "metadata": {},
   "source": [
    "Una vez analizado el por qué de los valores NaN presentes en el dataset parece razonable sustituir dichos valores por 0"
   ]
  },
  {
   "cell_type": "code",
   "execution_count": 30,
   "metadata": {},
   "outputs": [
    {
     "data": {
      "text/html": [
       "<div>\n",
       "<style scoped>\n",
       "    .dataframe tbody tr th:only-of-type {\n",
       "        vertical-align: middle;\n",
       "    }\n",
       "\n",
       "    .dataframe tbody tr th {\n",
       "        vertical-align: top;\n",
       "    }\n",
       "\n",
       "    .dataframe thead th {\n",
       "        text-align: right;\n",
       "    }\n",
       "</style>\n",
       "<table border=\"1\" class=\"dataframe\">\n",
       "  <thead>\n",
       "    <tr style=\"text-align: right;\">\n",
       "      <th></th>\n",
       "      <th>DATE</th>\n",
       "      <th>AIRLINE</th>\n",
       "      <th>FLIGHT_NUMBER</th>\n",
       "      <th>ORIGIN_AIRPORT</th>\n",
       "      <th>DESTINATION_AIRPORT</th>\n",
       "      <th>DEPARTURE_TIME</th>\n",
       "      <th>DEPARTURE_DELAY</th>\n",
       "      <th>ELAPSED_TIME</th>\n",
       "      <th>DISTANCE</th>\n",
       "      <th>ARRIVAL_TIME</th>\n",
       "      <th>ARRIVAL_DELAY</th>\n",
       "      <th>AIR_SYSTEM_DELAY</th>\n",
       "      <th>SECURITY_DELAY</th>\n",
       "      <th>AIRLINE_DELAY</th>\n",
       "      <th>LATE_AIRCRAFT_DELAY</th>\n",
       "      <th>WEATHER_DELAY</th>\n",
       "      <th>OTHER_DELAY</th>\n",
       "    </tr>\n",
       "  </thead>\n",
       "  <tbody>\n",
       "    <tr>\n",
       "      <th>47</th>\n",
       "      <td>2015-01-01</td>\n",
       "      <td>AS</td>\n",
       "      <td>114</td>\n",
       "      <td>ANC</td>\n",
       "      <td>SEA</td>\n",
       "      <td>209.0</td>\n",
       "      <td>-11.0</td>\n",
       "      <td>199.0</td>\n",
       "      <td>1448</td>\n",
       "      <td>628.0</td>\n",
       "      <td>-12.0</td>\n",
       "      <td>0.0</td>\n",
       "      <td>0.0</td>\n",
       "      <td>0.0</td>\n",
       "      <td>0.0</td>\n",
       "      <td>0.0</td>\n",
       "      <td>0.0</td>\n",
       "    </tr>\n",
       "    <tr>\n",
       "      <th>48</th>\n",
       "      <td>2015-01-01</td>\n",
       "      <td>B6</td>\n",
       "      <td>668</td>\n",
       "      <td>PSE</td>\n",
       "      <td>MCO</td>\n",
       "      <td>248.0</td>\n",
       "      <td>-7.0</td>\n",
       "      <td>183.0</td>\n",
       "      <td>1179</td>\n",
       "      <td>451.0</td>\n",
       "      <td>-9.0</td>\n",
       "      <td>0.0</td>\n",
       "      <td>0.0</td>\n",
       "      <td>0.0</td>\n",
       "      <td>0.0</td>\n",
       "      <td>0.0</td>\n",
       "      <td>0.0</td>\n",
       "    </tr>\n",
       "    <tr>\n",
       "      <th>49</th>\n",
       "      <td>2015-01-01</td>\n",
       "      <td>UA</td>\n",
       "      <td>1162</td>\n",
       "      <td>BQN</td>\n",
       "      <td>EWR</td>\n",
       "      <td>258.0</td>\n",
       "      <td>-1.0</td>\n",
       "      <td>247.0</td>\n",
       "      <td>1585</td>\n",
       "      <td>605.0</td>\n",
       "      <td>6.0</td>\n",
       "      <td>0.0</td>\n",
       "      <td>0.0</td>\n",
       "      <td>0.0</td>\n",
       "      <td>0.0</td>\n",
       "      <td>0.0</td>\n",
       "      <td>6.0</td>\n",
       "    </tr>\n",
       "    <tr>\n",
       "      <th>50</th>\n",
       "      <td>2015-01-01</td>\n",
       "      <td>B6</td>\n",
       "      <td>1030</td>\n",
       "      <td>BQN</td>\n",
       "      <td>MCO</td>\n",
       "      <td>304.0</td>\n",
       "      <td>-3.0</td>\n",
       "      <td>196.0</td>\n",
       "      <td>1129</td>\n",
       "      <td>520.0</td>\n",
       "      <td>20.0</td>\n",
       "      <td>20.0</td>\n",
       "      <td>0.0</td>\n",
       "      <td>0.0</td>\n",
       "      <td>0.0</td>\n",
       "      <td>0.0</td>\n",
       "      <td>0.0</td>\n",
       "    </tr>\n",
       "    <tr>\n",
       "      <th>51</th>\n",
       "      <td>2015-01-01</td>\n",
       "      <td>B6</td>\n",
       "      <td>262</td>\n",
       "      <td>SJU</td>\n",
       "      <td>BOS</td>\n",
       "      <td>316.0</td>\n",
       "      <td>-14.0</td>\n",
       "      <td>243.0</td>\n",
       "      <td>1674</td>\n",
       "      <td>619.0</td>\n",
       "      <td>-16.0</td>\n",
       "      <td>0.0</td>\n",
       "      <td>0.0</td>\n",
       "      <td>0.0</td>\n",
       "      <td>0.0</td>\n",
       "      <td>0.0</td>\n",
       "      <td>0.0</td>\n",
       "    </tr>\n",
       "  </tbody>\n",
       "</table>\n",
       "</div>"
      ],
      "text/plain": [
       "         DATE AIRLINE  FLIGHT_NUMBER ORIGIN_AIRPORT DESTINATION_AIRPORT  \\\n",
       "47 2015-01-01      AS            114            ANC                 SEA   \n",
       "48 2015-01-01      B6            668            PSE                 MCO   \n",
       "49 2015-01-01      UA           1162            BQN                 EWR   \n",
       "50 2015-01-01      B6           1030            BQN                 MCO   \n",
       "51 2015-01-01      B6            262            SJU                 BOS   \n",
       "\n",
       "    DEPARTURE_TIME  DEPARTURE_DELAY  ELAPSED_TIME  DISTANCE  ARRIVAL_TIME  \\\n",
       "47           209.0            -11.0         199.0      1448         628.0   \n",
       "48           248.0             -7.0         183.0      1179         451.0   \n",
       "49           258.0             -1.0         247.0      1585         605.0   \n",
       "50           304.0             -3.0         196.0      1129         520.0   \n",
       "51           316.0            -14.0         243.0      1674         619.0   \n",
       "\n",
       "    ARRIVAL_DELAY  AIR_SYSTEM_DELAY  SECURITY_DELAY  AIRLINE_DELAY  \\\n",
       "47          -12.0               0.0             0.0            0.0   \n",
       "48           -9.0               0.0             0.0            0.0   \n",
       "49            6.0               0.0             0.0            0.0   \n",
       "50           20.0              20.0             0.0            0.0   \n",
       "51          -16.0               0.0             0.0            0.0   \n",
       "\n",
       "    LATE_AIRCRAFT_DELAY  WEATHER_DELAY  OTHER_DELAY  \n",
       "47                  0.0            0.0          0.0  \n",
       "48                  0.0            0.0          0.0  \n",
       "49                  0.0            0.0          6.0  \n",
       "50                  0.0            0.0          0.0  \n",
       "51                  0.0            0.0          0.0  "
      ]
     },
     "execution_count": 30,
     "metadata": {},
     "output_type": "execute_result"
    }
   ],
   "source": [
    "# Asignamos a todos los NaNs el valor 0, ya que ahora todo el retraso de sus vuelos está plasmado en la variable OTHER_DELAY\n",
    "df = df.fillna(0)\n",
    "df[45:50]"
   ]
  },
  {
   "cell_type": "markdown",
   "metadata": {},
   "source": [
    "fillna() sustituye los NaN de todo el dataframe por lo que es importante destacar que podemos utilizar este método dado que los únicos campos NaN del dataframe se encuentran en las variables de delay analizadas. "
   ]
  },
  {
   "cell_type": "code",
   "execution_count": 31,
   "metadata": {},
   "outputs": [
    {
     "data": {
      "text/plain": [
       "DATE                   0\n",
       "AIRLINE                0\n",
       "FLIGHT_NUMBER          0\n",
       "ORIGIN_AIRPORT         0\n",
       "DESTINATION_AIRPORT    0\n",
       "DEPARTURE_TIME         0\n",
       "DEPARTURE_DELAY        0\n",
       "ELAPSED_TIME           0\n",
       "DISTANCE               0\n",
       "ARRIVAL_TIME           0\n",
       "ARRIVAL_DELAY          0\n",
       "AIR_SYSTEM_DELAY       0\n",
       "SECURITY_DELAY         0\n",
       "AIRLINE_DELAY          0\n",
       "LATE_AIRCRAFT_DELAY    0\n",
       "WEATHER_DELAY          0\n",
       "OTHER_DELAY            0\n",
       "dtype: int64"
      ]
     },
     "execution_count": 31,
     "metadata": {},
     "output_type": "execute_result"
    }
   ],
   "source": [
    "df.isna().sum()"
   ]
  },
  {
   "cell_type": "markdown",
   "metadata": {},
   "source": [
    "Resulta interesante saber si los vuelos pueden retrasarse por un único motivo o exclusivamente por uno. Vamos a investigarlo"
   ]
  },
  {
   "cell_type": "code",
   "execution_count": 32,
   "metadata": {},
   "outputs": [
    {
     "data": {
      "text/html": [
       "<div>\n",
       "<style scoped>\n",
       "    .dataframe tbody tr th:only-of-type {\n",
       "        vertical-align: middle;\n",
       "    }\n",
       "\n",
       "    .dataframe tbody tr th {\n",
       "        vertical-align: top;\n",
       "    }\n",
       "\n",
       "    .dataframe thead th {\n",
       "        text-align: right;\n",
       "    }\n",
       "</style>\n",
       "<table border=\"1\" class=\"dataframe\">\n",
       "  <thead>\n",
       "    <tr style=\"text-align: right;\">\n",
       "      <th></th>\n",
       "      <th>DATE</th>\n",
       "      <th>AIRLINE</th>\n",
       "      <th>FLIGHT_NUMBER</th>\n",
       "      <th>ORIGIN_AIRPORT</th>\n",
       "      <th>DESTINATION_AIRPORT</th>\n",
       "      <th>DEPARTURE_TIME</th>\n",
       "      <th>DEPARTURE_DELAY</th>\n",
       "      <th>ELAPSED_TIME</th>\n",
       "      <th>DISTANCE</th>\n",
       "      <th>ARRIVAL_TIME</th>\n",
       "      <th>ARRIVAL_DELAY</th>\n",
       "      <th>AIR_SYSTEM_DELAY</th>\n",
       "      <th>SECURITY_DELAY</th>\n",
       "      <th>AIRLINE_DELAY</th>\n",
       "      <th>LATE_AIRCRAFT_DELAY</th>\n",
       "      <th>WEATHER_DELAY</th>\n",
       "      <th>OTHER_DELAY</th>\n",
       "    </tr>\n",
       "  </thead>\n",
       "  <tbody>\n",
       "    <tr>\n",
       "      <th>165</th>\n",
       "      <td>2015-01-01</td>\n",
       "      <td>EV</td>\n",
       "      <td>5976</td>\n",
       "      <td>BUF</td>\n",
       "      <td>EWR</td>\n",
       "      <td>928.0</td>\n",
       "      <td>213.0</td>\n",
       "      <td>93.0</td>\n",
       "      <td>282</td>\n",
       "      <td>1101.0</td>\n",
       "      <td>226.0</td>\n",
       "      <td>13.0</td>\n",
       "      <td>0.0</td>\n",
       "      <td>0.0</td>\n",
       "      <td>0.0</td>\n",
       "      <td>213.0</td>\n",
       "      <td>0.0</td>\n",
       "    </tr>\n",
       "    <tr>\n",
       "      <th>174</th>\n",
       "      <td>2015-01-01</td>\n",
       "      <td>UA</td>\n",
       "      <td>247</td>\n",
       "      <td>PHX</td>\n",
       "      <td>IAH</td>\n",
       "      <td>751.0</td>\n",
       "      <td>111.0</td>\n",
       "      <td>160.0</td>\n",
       "      <td>1009</td>\n",
       "      <td>1131.0</td>\n",
       "      <td>123.0</td>\n",
       "      <td>12.0</td>\n",
       "      <td>0.0</td>\n",
       "      <td>0.0</td>\n",
       "      <td>0.0</td>\n",
       "      <td>111.0</td>\n",
       "      <td>0.0</td>\n",
       "    </tr>\n",
       "    <tr>\n",
       "      <th>344</th>\n",
       "      <td>2015-01-01</td>\n",
       "      <td>OO</td>\n",
       "      <td>5466</td>\n",
       "      <td>CLD</td>\n",
       "      <td>LAX</td>\n",
       "      <td>654.0</td>\n",
       "      <td>54.0</td>\n",
       "      <td>85.0</td>\n",
       "      <td>86</td>\n",
       "      <td>819.0</td>\n",
       "      <td>88.0</td>\n",
       "      <td>34.0</td>\n",
       "      <td>0.0</td>\n",
       "      <td>0.0</td>\n",
       "      <td>0.0</td>\n",
       "      <td>54.0</td>\n",
       "      <td>0.0</td>\n",
       "    </tr>\n",
       "    <tr>\n",
       "      <th>369</th>\n",
       "      <td>2015-01-01</td>\n",
       "      <td>OO</td>\n",
       "      <td>6420</td>\n",
       "      <td>PSP</td>\n",
       "      <td>DEN</td>\n",
       "      <td>812.0</td>\n",
       "      <td>131.0</td>\n",
       "      <td>144.0</td>\n",
       "      <td>776</td>\n",
       "      <td>1136.0</td>\n",
       "      <td>144.0</td>\n",
       "      <td>13.0</td>\n",
       "      <td>0.0</td>\n",
       "      <td>0.0</td>\n",
       "      <td>0.0</td>\n",
       "      <td>131.0</td>\n",
       "      <td>0.0</td>\n",
       "    </tr>\n",
       "    <tr>\n",
       "      <th>502</th>\n",
       "      <td>2015-01-01</td>\n",
       "      <td>OO</td>\n",
       "      <td>6571</td>\n",
       "      <td>DRO</td>\n",
       "      <td>PHX</td>\n",
       "      <td>631.0</td>\n",
       "      <td>16.0</td>\n",
       "      <td>124.0</td>\n",
       "      <td>351</td>\n",
       "      <td>835.0</td>\n",
       "      <td>56.0</td>\n",
       "      <td>40.0</td>\n",
       "      <td>0.0</td>\n",
       "      <td>0.0</td>\n",
       "      <td>0.0</td>\n",
       "      <td>16.0</td>\n",
       "      <td>0.0</td>\n",
       "    </tr>\n",
       "  </tbody>\n",
       "</table>\n",
       "</div>"
      ],
      "text/plain": [
       "          DATE AIRLINE  FLIGHT_NUMBER ORIGIN_AIRPORT DESTINATION_AIRPORT  \\\n",
       "165 2015-01-01      EV           5976            BUF                 EWR   \n",
       "174 2015-01-01      UA            247            PHX                 IAH   \n",
       "344 2015-01-01      OO           5466            CLD                 LAX   \n",
       "369 2015-01-01      OO           6420            PSP                 DEN   \n",
       "502 2015-01-01      OO           6571            DRO                 PHX   \n",
       "\n",
       "     DEPARTURE_TIME  DEPARTURE_DELAY  ELAPSED_TIME  DISTANCE  ARRIVAL_TIME  \\\n",
       "165           928.0            213.0          93.0       282        1101.0   \n",
       "174           751.0            111.0         160.0      1009        1131.0   \n",
       "344           654.0             54.0          85.0        86         819.0   \n",
       "369           812.0            131.0         144.0       776        1136.0   \n",
       "502           631.0             16.0         124.0       351         835.0   \n",
       "\n",
       "     ARRIVAL_DELAY  AIR_SYSTEM_DELAY  SECURITY_DELAY  AIRLINE_DELAY  \\\n",
       "165          226.0              13.0             0.0            0.0   \n",
       "174          123.0              12.0             0.0            0.0   \n",
       "344           88.0              34.0             0.0            0.0   \n",
       "369          144.0              13.0             0.0            0.0   \n",
       "502           56.0              40.0             0.0            0.0   \n",
       "\n",
       "     LATE_AIRCRAFT_DELAY  WEATHER_DELAY  OTHER_DELAY  \n",
       "165                  0.0          213.0          0.0  \n",
       "174                  0.0          111.0          0.0  \n",
       "344                  0.0           54.0          0.0  \n",
       "369                  0.0          131.0          0.0  \n",
       "502                  0.0           16.0          0.0  "
      ]
     },
     "execution_count": 32,
     "metadata": {},
     "output_type": "execute_result"
    }
   ],
   "source": [
    "# Tomamos la variable WEATHER_DELAY como referencia\n",
    "weather = df.loc[(df['WEATHER_DELAY'] != df['ARRIVAL_DELAY']) & (df['WEATHER_DELAY']>0 )]\n",
    "weather.head()"
   ]
  },
  {
   "cell_type": "markdown",
   "metadata": {},
   "source": [
    "Confirmamos, el retraso puedes estar asociado a varios motivos"
   ]
  },
  {
   "cell_type": "markdown",
   "metadata": {},
   "source": [
    "## CHECKPOINT. Datos de vuelos limpios"
   ]
  },
  {
   "cell_type": "code",
   "execution_count": 33,
   "metadata": {},
   "outputs": [
    {
     "data": {
      "text/html": [
       "<div>\n",
       "<style scoped>\n",
       "    .dataframe tbody tr th:only-of-type {\n",
       "        vertical-align: middle;\n",
       "    }\n",
       "\n",
       "    .dataframe tbody tr th {\n",
       "        vertical-align: top;\n",
       "    }\n",
       "\n",
       "    .dataframe thead th {\n",
       "        text-align: right;\n",
       "    }\n",
       "</style>\n",
       "<table border=\"1\" class=\"dataframe\">\n",
       "  <thead>\n",
       "    <tr style=\"text-align: right;\">\n",
       "      <th></th>\n",
       "      <th>DATE</th>\n",
       "      <th>AIRLINE</th>\n",
       "      <th>FLIGHT_NUMBER</th>\n",
       "      <th>ORIGIN_AIRPORT</th>\n",
       "      <th>DESTINATION_AIRPORT</th>\n",
       "      <th>DEPARTURE_TIME</th>\n",
       "      <th>DEPARTURE_DELAY</th>\n",
       "      <th>ELAPSED_TIME</th>\n",
       "      <th>DISTANCE</th>\n",
       "      <th>ARRIVAL_TIME</th>\n",
       "      <th>ARRIVAL_DELAY</th>\n",
       "      <th>AIR_SYSTEM_DELAY</th>\n",
       "      <th>SECURITY_DELAY</th>\n",
       "      <th>AIRLINE_DELAY</th>\n",
       "      <th>LATE_AIRCRAFT_DELAY</th>\n",
       "      <th>WEATHER_DELAY</th>\n",
       "      <th>OTHER_DELAY</th>\n",
       "    </tr>\n",
       "  </thead>\n",
       "  <tbody>\n",
       "    <tr>\n",
       "      <th>0</th>\n",
       "      <td>2015-01-01</td>\n",
       "      <td>AS</td>\n",
       "      <td>98</td>\n",
       "      <td>ANC</td>\n",
       "      <td>SEA</td>\n",
       "      <td>2354.0</td>\n",
       "      <td>-11.0</td>\n",
       "      <td>194.0</td>\n",
       "      <td>1448</td>\n",
       "      <td>408.0</td>\n",
       "      <td>-22.0</td>\n",
       "      <td>0.0</td>\n",
       "      <td>0.0</td>\n",
       "      <td>0.0</td>\n",
       "      <td>0.0</td>\n",
       "      <td>0.0</td>\n",
       "      <td>0.0</td>\n",
       "    </tr>\n",
       "    <tr>\n",
       "      <th>1</th>\n",
       "      <td>2015-01-01</td>\n",
       "      <td>AA</td>\n",
       "      <td>2336</td>\n",
       "      <td>LAX</td>\n",
       "      <td>PBI</td>\n",
       "      <td>2.0</td>\n",
       "      <td>-8.0</td>\n",
       "      <td>279.0</td>\n",
       "      <td>2330</td>\n",
       "      <td>741.0</td>\n",
       "      <td>-9.0</td>\n",
       "      <td>0.0</td>\n",
       "      <td>0.0</td>\n",
       "      <td>0.0</td>\n",
       "      <td>0.0</td>\n",
       "      <td>0.0</td>\n",
       "      <td>0.0</td>\n",
       "    </tr>\n",
       "    <tr>\n",
       "      <th>2</th>\n",
       "      <td>2015-01-01</td>\n",
       "      <td>US</td>\n",
       "      <td>840</td>\n",
       "      <td>SFO</td>\n",
       "      <td>CLT</td>\n",
       "      <td>18.0</td>\n",
       "      <td>-2.0</td>\n",
       "      <td>293.0</td>\n",
       "      <td>2296</td>\n",
       "      <td>811.0</td>\n",
       "      <td>5.0</td>\n",
       "      <td>0.0</td>\n",
       "      <td>0.0</td>\n",
       "      <td>0.0</td>\n",
       "      <td>0.0</td>\n",
       "      <td>0.0</td>\n",
       "      <td>5.0</td>\n",
       "    </tr>\n",
       "    <tr>\n",
       "      <th>3</th>\n",
       "      <td>2015-01-01</td>\n",
       "      <td>AA</td>\n",
       "      <td>258</td>\n",
       "      <td>LAX</td>\n",
       "      <td>MIA</td>\n",
       "      <td>15.0</td>\n",
       "      <td>-5.0</td>\n",
       "      <td>281.0</td>\n",
       "      <td>2342</td>\n",
       "      <td>756.0</td>\n",
       "      <td>-9.0</td>\n",
       "      <td>0.0</td>\n",
       "      <td>0.0</td>\n",
       "      <td>0.0</td>\n",
       "      <td>0.0</td>\n",
       "      <td>0.0</td>\n",
       "      <td>0.0</td>\n",
       "    </tr>\n",
       "    <tr>\n",
       "      <th>4</th>\n",
       "      <td>2015-01-01</td>\n",
       "      <td>AS</td>\n",
       "      <td>135</td>\n",
       "      <td>SEA</td>\n",
       "      <td>ANC</td>\n",
       "      <td>24.0</td>\n",
       "      <td>-1.0</td>\n",
       "      <td>215.0</td>\n",
       "      <td>1448</td>\n",
       "      <td>259.0</td>\n",
       "      <td>-21.0</td>\n",
       "      <td>0.0</td>\n",
       "      <td>0.0</td>\n",
       "      <td>0.0</td>\n",
       "      <td>0.0</td>\n",
       "      <td>0.0</td>\n",
       "      <td>0.0</td>\n",
       "    </tr>\n",
       "  </tbody>\n",
       "</table>\n",
       "</div>"
      ],
      "text/plain": [
       "        DATE AIRLINE  FLIGHT_NUMBER ORIGIN_AIRPORT DESTINATION_AIRPORT  \\\n",
       "0 2015-01-01      AS             98            ANC                 SEA   \n",
       "1 2015-01-01      AA           2336            LAX                 PBI   \n",
       "2 2015-01-01      US            840            SFO                 CLT   \n",
       "3 2015-01-01      AA            258            LAX                 MIA   \n",
       "4 2015-01-01      AS            135            SEA                 ANC   \n",
       "\n",
       "   DEPARTURE_TIME  DEPARTURE_DELAY  ELAPSED_TIME  DISTANCE  ARRIVAL_TIME  \\\n",
       "0          2354.0            -11.0         194.0      1448         408.0   \n",
       "1             2.0             -8.0         279.0      2330         741.0   \n",
       "2            18.0             -2.0         293.0      2296         811.0   \n",
       "3            15.0             -5.0         281.0      2342         756.0   \n",
       "4            24.0             -1.0         215.0      1448         259.0   \n",
       "\n",
       "   ARRIVAL_DELAY  AIR_SYSTEM_DELAY  SECURITY_DELAY  AIRLINE_DELAY  \\\n",
       "0          -22.0               0.0             0.0            0.0   \n",
       "1           -9.0               0.0             0.0            0.0   \n",
       "2            5.0               0.0             0.0            0.0   \n",
       "3           -9.0               0.0             0.0            0.0   \n",
       "4          -21.0               0.0             0.0            0.0   \n",
       "\n",
       "   LATE_AIRCRAFT_DELAY  WEATHER_DELAY  OTHER_DELAY  \n",
       "0                  0.0            0.0          0.0  \n",
       "1                  0.0            0.0          0.0  \n",
       "2                  0.0            0.0          5.0  \n",
       "3                  0.0            0.0          0.0  \n",
       "4                  0.0            0.0          0.0  "
      ]
     },
     "execution_count": 33,
     "metadata": {},
     "output_type": "execute_result"
    }
   ],
   "source": [
    "df.head()"
   ]
  },
  {
   "cell_type": "markdown",
   "metadata": {},
   "source": [
    "## Info Aerolíneas"
   ]
  },
  {
   "cell_type": "code",
   "execution_count": 34,
   "metadata": {},
   "outputs": [
    {
     "data": {
      "text/html": [
       "<div>\n",
       "<style scoped>\n",
       "    .dataframe tbody tr th:only-of-type {\n",
       "        vertical-align: middle;\n",
       "    }\n",
       "\n",
       "    .dataframe tbody tr th {\n",
       "        vertical-align: top;\n",
       "    }\n",
       "\n",
       "    .dataframe thead th {\n",
       "        text-align: right;\n",
       "    }\n",
       "</style>\n",
       "<table border=\"1\" class=\"dataframe\">\n",
       "  <thead>\n",
       "    <tr style=\"text-align: right;\">\n",
       "      <th></th>\n",
       "      <th>IATA_CODE</th>\n",
       "      <th>AIRLINE</th>\n",
       "    </tr>\n",
       "  </thead>\n",
       "  <tbody>\n",
       "    <tr>\n",
       "      <th>0</th>\n",
       "      <td>UA</td>\n",
       "      <td>United Air Lines Inc.</td>\n",
       "    </tr>\n",
       "    <tr>\n",
       "      <th>1</th>\n",
       "      <td>AA</td>\n",
       "      <td>American Airlines Inc.</td>\n",
       "    </tr>\n",
       "    <tr>\n",
       "      <th>2</th>\n",
       "      <td>US</td>\n",
       "      <td>US Airways Inc.</td>\n",
       "    </tr>\n",
       "    <tr>\n",
       "      <th>3</th>\n",
       "      <td>F9</td>\n",
       "      <td>Frontier Airlines Inc.</td>\n",
       "    </tr>\n",
       "    <tr>\n",
       "      <th>4</th>\n",
       "      <td>B6</td>\n",
       "      <td>JetBlue Airways</td>\n",
       "    </tr>\n",
       "  </tbody>\n",
       "</table>\n",
       "</div>"
      ],
      "text/plain": [
       "  IATA_CODE                 AIRLINE\n",
       "0        UA   United Air Lines Inc.\n",
       "1        AA  American Airlines Inc.\n",
       "2        US         US Airways Inc.\n",
       "3        F9  Frontier Airlines Inc.\n",
       "4        B6         JetBlue Airways"
      ]
     },
     "execution_count": 34,
     "metadata": {},
     "output_type": "execute_result"
    }
   ],
   "source": [
    "# Vamos a añadir la el nombre asociado a las airlines\n",
    "# Cargamos los datos\n",
    "airlines = pd.read_csv(\"../Data/airlines.csv\")\n",
    "airlines.head()"
   ]
  },
  {
   "cell_type": "code",
   "execution_count": 35,
   "metadata": {},
   "outputs": [
    {
     "data": {
      "text/plain": [
       "IATA_CODE    0\n",
       "AIRLINE      0\n",
       "dtype: int64"
      ]
     },
     "execution_count": 35,
     "metadata": {},
     "output_type": "execute_result"
    }
   ],
   "source": [
    "# Vamos a examinar ahora los valores nulos\n",
    "airlines.isna().sum()"
   ]
  },
  {
   "cell_type": "code",
   "execution_count": 36,
   "metadata": {},
   "outputs": [
    {
     "data": {
      "text/html": [
       "<div>\n",
       "<style scoped>\n",
       "    .dataframe tbody tr th:only-of-type {\n",
       "        vertical-align: middle;\n",
       "    }\n",
       "\n",
       "    .dataframe tbody tr th {\n",
       "        vertical-align: top;\n",
       "    }\n",
       "\n",
       "    .dataframe thead th {\n",
       "        text-align: right;\n",
       "    }\n",
       "</style>\n",
       "<table border=\"1\" class=\"dataframe\">\n",
       "  <thead>\n",
       "    <tr style=\"text-align: right;\">\n",
       "      <th></th>\n",
       "      <th>DATE</th>\n",
       "      <th>AIRLINE_CODE</th>\n",
       "      <th>FLIGHT_NUMBER</th>\n",
       "      <th>ORIGIN_AIRPORT</th>\n",
       "      <th>DESTINATION_AIRPORT</th>\n",
       "      <th>DEPARTURE_TIME</th>\n",
       "      <th>DEPARTURE_DELAY</th>\n",
       "      <th>ELAPSED_TIME</th>\n",
       "      <th>DISTANCE</th>\n",
       "      <th>ARRIVAL_TIME</th>\n",
       "      <th>ARRIVAL_DELAY</th>\n",
       "      <th>AIR_SYSTEM_DELAY</th>\n",
       "      <th>SECURITY_DELAY</th>\n",
       "      <th>AIRLINE_DELAY</th>\n",
       "      <th>LATE_AIRCRAFT_DELAY</th>\n",
       "      <th>WEATHER_DELAY</th>\n",
       "      <th>OTHER_DELAY</th>\n",
       "    </tr>\n",
       "  </thead>\n",
       "  <tbody>\n",
       "    <tr>\n",
       "      <th>0</th>\n",
       "      <td>2015-01-01</td>\n",
       "      <td>AS</td>\n",
       "      <td>98</td>\n",
       "      <td>ANC</td>\n",
       "      <td>SEA</td>\n",
       "      <td>2354.0</td>\n",
       "      <td>-11.0</td>\n",
       "      <td>194.0</td>\n",
       "      <td>1448</td>\n",
       "      <td>408.0</td>\n",
       "      <td>-22.0</td>\n",
       "      <td>0.0</td>\n",
       "      <td>0.0</td>\n",
       "      <td>0.0</td>\n",
       "      <td>0.0</td>\n",
       "      <td>0.0</td>\n",
       "      <td>0.0</td>\n",
       "    </tr>\n",
       "    <tr>\n",
       "      <th>1</th>\n",
       "      <td>2015-01-01</td>\n",
       "      <td>AA</td>\n",
       "      <td>2336</td>\n",
       "      <td>LAX</td>\n",
       "      <td>PBI</td>\n",
       "      <td>2.0</td>\n",
       "      <td>-8.0</td>\n",
       "      <td>279.0</td>\n",
       "      <td>2330</td>\n",
       "      <td>741.0</td>\n",
       "      <td>-9.0</td>\n",
       "      <td>0.0</td>\n",
       "      <td>0.0</td>\n",
       "      <td>0.0</td>\n",
       "      <td>0.0</td>\n",
       "      <td>0.0</td>\n",
       "      <td>0.0</td>\n",
       "    </tr>\n",
       "    <tr>\n",
       "      <th>2</th>\n",
       "      <td>2015-01-01</td>\n",
       "      <td>US</td>\n",
       "      <td>840</td>\n",
       "      <td>SFO</td>\n",
       "      <td>CLT</td>\n",
       "      <td>18.0</td>\n",
       "      <td>-2.0</td>\n",
       "      <td>293.0</td>\n",
       "      <td>2296</td>\n",
       "      <td>811.0</td>\n",
       "      <td>5.0</td>\n",
       "      <td>0.0</td>\n",
       "      <td>0.0</td>\n",
       "      <td>0.0</td>\n",
       "      <td>0.0</td>\n",
       "      <td>0.0</td>\n",
       "      <td>5.0</td>\n",
       "    </tr>\n",
       "    <tr>\n",
       "      <th>3</th>\n",
       "      <td>2015-01-01</td>\n",
       "      <td>AA</td>\n",
       "      <td>258</td>\n",
       "      <td>LAX</td>\n",
       "      <td>MIA</td>\n",
       "      <td>15.0</td>\n",
       "      <td>-5.0</td>\n",
       "      <td>281.0</td>\n",
       "      <td>2342</td>\n",
       "      <td>756.0</td>\n",
       "      <td>-9.0</td>\n",
       "      <td>0.0</td>\n",
       "      <td>0.0</td>\n",
       "      <td>0.0</td>\n",
       "      <td>0.0</td>\n",
       "      <td>0.0</td>\n",
       "      <td>0.0</td>\n",
       "    </tr>\n",
       "    <tr>\n",
       "      <th>4</th>\n",
       "      <td>2015-01-01</td>\n",
       "      <td>AS</td>\n",
       "      <td>135</td>\n",
       "      <td>SEA</td>\n",
       "      <td>ANC</td>\n",
       "      <td>24.0</td>\n",
       "      <td>-1.0</td>\n",
       "      <td>215.0</td>\n",
       "      <td>1448</td>\n",
       "      <td>259.0</td>\n",
       "      <td>-21.0</td>\n",
       "      <td>0.0</td>\n",
       "      <td>0.0</td>\n",
       "      <td>0.0</td>\n",
       "      <td>0.0</td>\n",
       "      <td>0.0</td>\n",
       "      <td>0.0</td>\n",
       "    </tr>\n",
       "  </tbody>\n",
       "</table>\n",
       "</div>"
      ],
      "text/plain": [
       "        DATE AIRLINE_CODE  FLIGHT_NUMBER ORIGIN_AIRPORT DESTINATION_AIRPORT  \\\n",
       "0 2015-01-01           AS             98            ANC                 SEA   \n",
       "1 2015-01-01           AA           2336            LAX                 PBI   \n",
       "2 2015-01-01           US            840            SFO                 CLT   \n",
       "3 2015-01-01           AA            258            LAX                 MIA   \n",
       "4 2015-01-01           AS            135            SEA                 ANC   \n",
       "\n",
       "   DEPARTURE_TIME  DEPARTURE_DELAY  ELAPSED_TIME  DISTANCE  ARRIVAL_TIME  \\\n",
       "0          2354.0            -11.0         194.0      1448         408.0   \n",
       "1             2.0             -8.0         279.0      2330         741.0   \n",
       "2            18.0             -2.0         293.0      2296         811.0   \n",
       "3            15.0             -5.0         281.0      2342         756.0   \n",
       "4            24.0             -1.0         215.0      1448         259.0   \n",
       "\n",
       "   ARRIVAL_DELAY  AIR_SYSTEM_DELAY  SECURITY_DELAY  AIRLINE_DELAY  \\\n",
       "0          -22.0               0.0             0.0            0.0   \n",
       "1           -9.0               0.0             0.0            0.0   \n",
       "2            5.0               0.0             0.0            0.0   \n",
       "3           -9.0               0.0             0.0            0.0   \n",
       "4          -21.0               0.0             0.0            0.0   \n",
       "\n",
       "   LATE_AIRCRAFT_DELAY  WEATHER_DELAY  OTHER_DELAY  \n",
       "0                  0.0            0.0          0.0  \n",
       "1                  0.0            0.0          0.0  \n",
       "2                  0.0            0.0          5.0  \n",
       "3                  0.0            0.0          0.0  \n",
       "4                  0.0            0.0          0.0  "
      ]
     },
     "execution_count": 36,
     "metadata": {},
     "output_type": "execute_result"
    }
   ],
   "source": [
    "# Renombramos la columna \"AIRLINE\" para poder hacer el join con la tabla de aerolineas\n",
    "airlines = airlines.rename(columns={\"IATA_CODE\": \"AIRLINE_CODE\"})\n",
    "df = df.rename(columns={\"AIRLINE\": \"AIRLINE_CODE\"})\n",
    "df.head()"
   ]
  },
  {
   "cell_type": "code",
   "execution_count": 37,
   "metadata": {},
   "outputs": [],
   "source": [
    "# Unimos ambas tablas\n",
    "flights = df.merge(airlines, on='AIRLINE_CODE', how='left')"
   ]
  },
  {
   "cell_type": "code",
   "execution_count": 38,
   "metadata": {},
   "outputs": [
    {
     "data": {
      "text/html": [
       "<div>\n",
       "<style scoped>\n",
       "    .dataframe tbody tr th:only-of-type {\n",
       "        vertical-align: middle;\n",
       "    }\n",
       "\n",
       "    .dataframe tbody tr th {\n",
       "        vertical-align: top;\n",
       "    }\n",
       "\n",
       "    .dataframe thead th {\n",
       "        text-align: right;\n",
       "    }\n",
       "</style>\n",
       "<table border=\"1\" class=\"dataframe\">\n",
       "  <thead>\n",
       "    <tr style=\"text-align: right;\">\n",
       "      <th></th>\n",
       "      <th>DATE</th>\n",
       "      <th>AIRLINE_CODE</th>\n",
       "      <th>AIRLINE</th>\n",
       "      <th>FLIGHT_NUMBER</th>\n",
       "      <th>ORIGIN_AIRPORT</th>\n",
       "      <th>DESTINATION_AIRPORT</th>\n",
       "      <th>DEPARTURE_TIME</th>\n",
       "      <th>DEPARTURE_DELAY</th>\n",
       "      <th>ELAPSED_TIME</th>\n",
       "      <th>DISTANCE</th>\n",
       "      <th>ARRIVAL_TIME</th>\n",
       "      <th>ARRIVAL_DELAY</th>\n",
       "      <th>AIR_SYSTEM_DELAY</th>\n",
       "      <th>SECURITY_DELAY</th>\n",
       "      <th>AIRLINE_DELAY</th>\n",
       "      <th>LATE_AIRCRAFT_DELAY</th>\n",
       "      <th>WEATHER_DELAY</th>\n",
       "      <th>OTHER_DELAY</th>\n",
       "    </tr>\n",
       "  </thead>\n",
       "  <tbody>\n",
       "    <tr>\n",
       "      <th>0</th>\n",
       "      <td>2015-01-01</td>\n",
       "      <td>AS</td>\n",
       "      <td>Alaska Airlines Inc.</td>\n",
       "      <td>98</td>\n",
       "      <td>ANC</td>\n",
       "      <td>SEA</td>\n",
       "      <td>2354.0</td>\n",
       "      <td>-11.0</td>\n",
       "      <td>194.0</td>\n",
       "      <td>1448</td>\n",
       "      <td>408.0</td>\n",
       "      <td>-22.0</td>\n",
       "      <td>0.0</td>\n",
       "      <td>0.0</td>\n",
       "      <td>0.0</td>\n",
       "      <td>0.0</td>\n",
       "      <td>0.0</td>\n",
       "      <td>0.0</td>\n",
       "    </tr>\n",
       "    <tr>\n",
       "      <th>1</th>\n",
       "      <td>2015-01-01</td>\n",
       "      <td>AA</td>\n",
       "      <td>American Airlines Inc.</td>\n",
       "      <td>2336</td>\n",
       "      <td>LAX</td>\n",
       "      <td>PBI</td>\n",
       "      <td>2.0</td>\n",
       "      <td>-8.0</td>\n",
       "      <td>279.0</td>\n",
       "      <td>2330</td>\n",
       "      <td>741.0</td>\n",
       "      <td>-9.0</td>\n",
       "      <td>0.0</td>\n",
       "      <td>0.0</td>\n",
       "      <td>0.0</td>\n",
       "      <td>0.0</td>\n",
       "      <td>0.0</td>\n",
       "      <td>0.0</td>\n",
       "    </tr>\n",
       "    <tr>\n",
       "      <th>2</th>\n",
       "      <td>2015-01-01</td>\n",
       "      <td>US</td>\n",
       "      <td>US Airways Inc.</td>\n",
       "      <td>840</td>\n",
       "      <td>SFO</td>\n",
       "      <td>CLT</td>\n",
       "      <td>18.0</td>\n",
       "      <td>-2.0</td>\n",
       "      <td>293.0</td>\n",
       "      <td>2296</td>\n",
       "      <td>811.0</td>\n",
       "      <td>5.0</td>\n",
       "      <td>0.0</td>\n",
       "      <td>0.0</td>\n",
       "      <td>0.0</td>\n",
       "      <td>0.0</td>\n",
       "      <td>0.0</td>\n",
       "      <td>5.0</td>\n",
       "    </tr>\n",
       "    <tr>\n",
       "      <th>3</th>\n",
       "      <td>2015-01-01</td>\n",
       "      <td>AA</td>\n",
       "      <td>American Airlines Inc.</td>\n",
       "      <td>258</td>\n",
       "      <td>LAX</td>\n",
       "      <td>MIA</td>\n",
       "      <td>15.0</td>\n",
       "      <td>-5.0</td>\n",
       "      <td>281.0</td>\n",
       "      <td>2342</td>\n",
       "      <td>756.0</td>\n",
       "      <td>-9.0</td>\n",
       "      <td>0.0</td>\n",
       "      <td>0.0</td>\n",
       "      <td>0.0</td>\n",
       "      <td>0.0</td>\n",
       "      <td>0.0</td>\n",
       "      <td>0.0</td>\n",
       "    </tr>\n",
       "    <tr>\n",
       "      <th>4</th>\n",
       "      <td>2015-01-01</td>\n",
       "      <td>AS</td>\n",
       "      <td>Alaska Airlines Inc.</td>\n",
       "      <td>135</td>\n",
       "      <td>SEA</td>\n",
       "      <td>ANC</td>\n",
       "      <td>24.0</td>\n",
       "      <td>-1.0</td>\n",
       "      <td>215.0</td>\n",
       "      <td>1448</td>\n",
       "      <td>259.0</td>\n",
       "      <td>-21.0</td>\n",
       "      <td>0.0</td>\n",
       "      <td>0.0</td>\n",
       "      <td>0.0</td>\n",
       "      <td>0.0</td>\n",
       "      <td>0.0</td>\n",
       "      <td>0.0</td>\n",
       "    </tr>\n",
       "  </tbody>\n",
       "</table>\n",
       "</div>"
      ],
      "text/plain": [
       "        DATE AIRLINE_CODE                 AIRLINE  FLIGHT_NUMBER  \\\n",
       "0 2015-01-01           AS    Alaska Airlines Inc.             98   \n",
       "1 2015-01-01           AA  American Airlines Inc.           2336   \n",
       "2 2015-01-01           US         US Airways Inc.            840   \n",
       "3 2015-01-01           AA  American Airlines Inc.            258   \n",
       "4 2015-01-01           AS    Alaska Airlines Inc.            135   \n",
       "\n",
       "  ORIGIN_AIRPORT DESTINATION_AIRPORT  DEPARTURE_TIME  DEPARTURE_DELAY  \\\n",
       "0            ANC                 SEA          2354.0            -11.0   \n",
       "1            LAX                 PBI             2.0             -8.0   \n",
       "2            SFO                 CLT            18.0             -2.0   \n",
       "3            LAX                 MIA            15.0             -5.0   \n",
       "4            SEA                 ANC            24.0             -1.0   \n",
       "\n",
       "   ELAPSED_TIME  DISTANCE  ARRIVAL_TIME  ARRIVAL_DELAY  AIR_SYSTEM_DELAY  \\\n",
       "0         194.0      1448         408.0          -22.0               0.0   \n",
       "1         279.0      2330         741.0           -9.0               0.0   \n",
       "2         293.0      2296         811.0            5.0               0.0   \n",
       "3         281.0      2342         756.0           -9.0               0.0   \n",
       "4         215.0      1448         259.0          -21.0               0.0   \n",
       "\n",
       "   SECURITY_DELAY  AIRLINE_DELAY  LATE_AIRCRAFT_DELAY  WEATHER_DELAY  \\\n",
       "0             0.0            0.0                  0.0            0.0   \n",
       "1             0.0            0.0                  0.0            0.0   \n",
       "2             0.0            0.0                  0.0            0.0   \n",
       "3             0.0            0.0                  0.0            0.0   \n",
       "4             0.0            0.0                  0.0            0.0   \n",
       "\n",
       "   OTHER_DELAY  \n",
       "0          0.0  \n",
       "1          0.0  \n",
       "2          5.0  \n",
       "3          0.0  \n",
       "4          0.0  "
      ]
     },
     "execution_count": 38,
     "metadata": {},
     "output_type": "execute_result"
    }
   ],
   "source": [
    "# Ponemos la nueva columna a continuación del código de la aerolinea\n",
    "cols = flights.columns.tolist()\n",
    "cols = cols[0:2]+cols[-1:] + cols[2:-1]\n",
    "flights = flights[cols] \n",
    "flights.head()"
   ]
  },
  {
   "cell_type": "markdown",
   "metadata": {},
   "source": [
    "## Info Aeropuertos"
   ]
  },
  {
   "cell_type": "code",
   "execution_count": 39,
   "metadata": {},
   "outputs": [
    {
     "data": {
      "text/html": [
       "<div>\n",
       "<style scoped>\n",
       "    .dataframe tbody tr th:only-of-type {\n",
       "        vertical-align: middle;\n",
       "    }\n",
       "\n",
       "    .dataframe tbody tr th {\n",
       "        vertical-align: top;\n",
       "    }\n",
       "\n",
       "    .dataframe thead th {\n",
       "        text-align: right;\n",
       "    }\n",
       "</style>\n",
       "<table border=\"1\" class=\"dataframe\">\n",
       "  <thead>\n",
       "    <tr style=\"text-align: right;\">\n",
       "      <th></th>\n",
       "      <th>IATA_CODE</th>\n",
       "      <th>AIRPORT</th>\n",
       "      <th>CITY</th>\n",
       "      <th>STATE</th>\n",
       "      <th>COUNTRY</th>\n",
       "      <th>LATITUDE</th>\n",
       "      <th>LONGITUDE</th>\n",
       "    </tr>\n",
       "  </thead>\n",
       "  <tbody>\n",
       "    <tr>\n",
       "      <th>0</th>\n",
       "      <td>ABE</td>\n",
       "      <td>Lehigh Valley International Airport</td>\n",
       "      <td>Allentown</td>\n",
       "      <td>PA</td>\n",
       "      <td>USA</td>\n",
       "      <td>40.65236</td>\n",
       "      <td>-75.44040</td>\n",
       "    </tr>\n",
       "    <tr>\n",
       "      <th>1</th>\n",
       "      <td>ABI</td>\n",
       "      <td>Abilene Regional Airport</td>\n",
       "      <td>Abilene</td>\n",
       "      <td>TX</td>\n",
       "      <td>USA</td>\n",
       "      <td>32.41132</td>\n",
       "      <td>-99.68190</td>\n",
       "    </tr>\n",
       "    <tr>\n",
       "      <th>2</th>\n",
       "      <td>ABQ</td>\n",
       "      <td>Albuquerque International Sunport</td>\n",
       "      <td>Albuquerque</td>\n",
       "      <td>NM</td>\n",
       "      <td>USA</td>\n",
       "      <td>35.04022</td>\n",
       "      <td>-106.60919</td>\n",
       "    </tr>\n",
       "    <tr>\n",
       "      <th>3</th>\n",
       "      <td>ABR</td>\n",
       "      <td>Aberdeen Regional Airport</td>\n",
       "      <td>Aberdeen</td>\n",
       "      <td>SD</td>\n",
       "      <td>USA</td>\n",
       "      <td>45.44906</td>\n",
       "      <td>-98.42183</td>\n",
       "    </tr>\n",
       "    <tr>\n",
       "      <th>4</th>\n",
       "      <td>ABY</td>\n",
       "      <td>Southwest Georgia Regional Airport</td>\n",
       "      <td>Albany</td>\n",
       "      <td>GA</td>\n",
       "      <td>USA</td>\n",
       "      <td>31.53552</td>\n",
       "      <td>-84.19447</td>\n",
       "    </tr>\n",
       "  </tbody>\n",
       "</table>\n",
       "</div>"
      ],
      "text/plain": [
       "  IATA_CODE                              AIRPORT         CITY STATE COUNTRY  \\\n",
       "0       ABE  Lehigh Valley International Airport    Allentown    PA     USA   \n",
       "1       ABI             Abilene Regional Airport      Abilene    TX     USA   \n",
       "2       ABQ    Albuquerque International Sunport  Albuquerque    NM     USA   \n",
       "3       ABR            Aberdeen Regional Airport     Aberdeen    SD     USA   \n",
       "4       ABY   Southwest Georgia Regional Airport       Albany    GA     USA   \n",
       "\n",
       "   LATITUDE  LONGITUDE  \n",
       "0  40.65236  -75.44040  \n",
       "1  32.41132  -99.68190  \n",
       "2  35.04022 -106.60919  \n",
       "3  45.44906  -98.42183  \n",
       "4  31.53552  -84.19447  "
      ]
     },
     "execution_count": 39,
     "metadata": {},
     "output_type": "execute_result"
    }
   ],
   "source": [
    "# Vamos a añadir la el nombre asociado a las airlines\n",
    "# Cargamos los datos\n",
    "airports = pd.read_csv(\"../Data/airports.csv\")\n",
    "airports.head()"
   ]
  },
  {
   "cell_type": "code",
   "execution_count": 40,
   "metadata": {},
   "outputs": [
    {
     "data": {
      "text/plain": [
       "IATA_CODE    0\n",
       "AIRPORT      0\n",
       "CITY         0\n",
       "STATE        0\n",
       "COUNTRY      0\n",
       "LATITUDE     3\n",
       "LONGITUDE    3\n",
       "dtype: int64"
      ]
     },
     "execution_count": 40,
     "metadata": {},
     "output_type": "execute_result"
    }
   ],
   "source": [
    "# Vamos a examinar ahora los valores nulos\n",
    "airports.isna().sum()"
   ]
  },
  {
   "cell_type": "markdown",
   "metadata": {},
   "source": [
    "Falta información de 3 aeropuertos, así que la rellenaremos buscando sus datos en internet e introduciéndola manualmente"
   ]
  },
  {
   "cell_type": "code",
   "execution_count": 41,
   "metadata": {},
   "outputs": [
    {
     "data": {
      "text/plain": [
       "IATA_CODE    0\n",
       "AIRPORT      0\n",
       "CITY         0\n",
       "STATE        0\n",
       "COUNTRY      0\n",
       "LATITUDE     0\n",
       "LONGITUDE    0\n",
       "dtype: int64"
      ]
     },
     "execution_count": 41,
     "metadata": {},
     "output_type": "execute_result"
    }
   ],
   "source": [
    "ECP_COORD = [30.3549, 85.7995]\n",
    "PBG_COORD = [44.6521, 73.4679]\n",
    "UST_COORD = [29.9544, 81.3429]\n",
    "airports.at[96,[\"LATITUDE\",\"LONGITUDE\"]]= ECP_COORD\n",
    "airports.at[234,[\"LATITUDE\",\"LONGITUDE\"]]= PBG_COORD\n",
    "airports.at[313,[\"LATITUDE\",\"LONGITUDE\"]]= UST_COORD\n",
    "airports.isna().sum()"
   ]
  },
  {
   "cell_type": "markdown",
   "metadata": {},
   "source": [
    "Eliminamos la columna COUNTRY, ya que todos los aerupuertos son de Estados Unidos"
   ]
  },
  {
   "cell_type": "code",
   "execution_count": 42,
   "metadata": {},
   "outputs": [],
   "source": [
    "airports = airports.drop(\"COUNTRY\", axis=1)"
   ]
  },
  {
   "cell_type": "markdown",
   "metadata": {},
   "source": [
    "Cambiamos el nombre de la columna airport, ya que trabajaremos únicamente con los códigos de los aeropuertos y con sus nombres"
   ]
  },
  {
   "cell_type": "code",
   "execution_count": 43,
   "metadata": {},
   "outputs": [],
   "source": [
    "airports= airports.rename(columns={\"AIRPORT\": \"AIRPORT_NAME\"})\n",
    "airports= airports.rename(columns={\"IATA_CODE\": \"AIRPORT\"})"
   ]
  },
  {
   "cell_type": "code",
   "execution_count": 44,
   "metadata": {},
   "outputs": [
    {
     "data": {
      "text/html": [
       "<div>\n",
       "<style scoped>\n",
       "    .dataframe tbody tr th:only-of-type {\n",
       "        vertical-align: middle;\n",
       "    }\n",
       "\n",
       "    .dataframe tbody tr th {\n",
       "        vertical-align: top;\n",
       "    }\n",
       "\n",
       "    .dataframe thead th {\n",
       "        text-align: right;\n",
       "    }\n",
       "</style>\n",
       "<table border=\"1\" class=\"dataframe\">\n",
       "  <thead>\n",
       "    <tr style=\"text-align: right;\">\n",
       "      <th></th>\n",
       "      <th>ORIGIN_AIRPORT</th>\n",
       "      <th>ORIGIN_AIRPORT_NAME</th>\n",
       "      <th>ORIGIN_CITY</th>\n",
       "      <th>ORIGIN_STATE</th>\n",
       "      <th>ORIGIN_LATITUDE</th>\n",
       "      <th>ORIGIN_LONGITUDE</th>\n",
       "    </tr>\n",
       "  </thead>\n",
       "  <tbody>\n",
       "    <tr>\n",
       "      <th>0</th>\n",
       "      <td>ABE</td>\n",
       "      <td>Lehigh Valley International Airport</td>\n",
       "      <td>Allentown</td>\n",
       "      <td>PA</td>\n",
       "      <td>40.65236</td>\n",
       "      <td>-75.44040</td>\n",
       "    </tr>\n",
       "    <tr>\n",
       "      <th>1</th>\n",
       "      <td>ABI</td>\n",
       "      <td>Abilene Regional Airport</td>\n",
       "      <td>Abilene</td>\n",
       "      <td>TX</td>\n",
       "      <td>32.41132</td>\n",
       "      <td>-99.68190</td>\n",
       "    </tr>\n",
       "    <tr>\n",
       "      <th>2</th>\n",
       "      <td>ABQ</td>\n",
       "      <td>Albuquerque International Sunport</td>\n",
       "      <td>Albuquerque</td>\n",
       "      <td>NM</td>\n",
       "      <td>35.04022</td>\n",
       "      <td>-106.60919</td>\n",
       "    </tr>\n",
       "    <tr>\n",
       "      <th>3</th>\n",
       "      <td>ABR</td>\n",
       "      <td>Aberdeen Regional Airport</td>\n",
       "      <td>Aberdeen</td>\n",
       "      <td>SD</td>\n",
       "      <td>45.44906</td>\n",
       "      <td>-98.42183</td>\n",
       "    </tr>\n",
       "    <tr>\n",
       "      <th>4</th>\n",
       "      <td>ABY</td>\n",
       "      <td>Southwest Georgia Regional Airport</td>\n",
       "      <td>Albany</td>\n",
       "      <td>GA</td>\n",
       "      <td>31.53552</td>\n",
       "      <td>-84.19447</td>\n",
       "    </tr>\n",
       "  </tbody>\n",
       "</table>\n",
       "</div>"
      ],
      "text/plain": [
       "  ORIGIN_AIRPORT                  ORIGIN_AIRPORT_NAME  ORIGIN_CITY  \\\n",
       "0            ABE  Lehigh Valley International Airport    Allentown   \n",
       "1            ABI             Abilene Regional Airport      Abilene   \n",
       "2            ABQ    Albuquerque International Sunport  Albuquerque   \n",
       "3            ABR            Aberdeen Regional Airport     Aberdeen   \n",
       "4            ABY   Southwest Georgia Regional Airport       Albany   \n",
       "\n",
       "  ORIGIN_STATE  ORIGIN_LATITUDE  ORIGIN_LONGITUDE  \n",
       "0           PA         40.65236         -75.44040  \n",
       "1           TX         32.41132         -99.68190  \n",
       "2           NM         35.04022        -106.60919  \n",
       "3           SD         45.44906         -98.42183  \n",
       "4           GA         31.53552         -84.19447  "
      ]
     },
     "execution_count": 44,
     "metadata": {},
     "output_type": "execute_result"
    }
   ],
   "source": [
    "# Creamos dos bases de datos para hacer el join con la principal tanto para aeropuertos de llegada como de salida\n",
    "airports= airports.rename(columns={\"IATA_CODE\": \"AIRPORT\"})\n",
    "\n",
    "origin_airports = airports.add_prefix('ORIGIN_')\n",
    "destination_airports = airports.add_prefix('DESTINATION_')\n",
    "\n",
    "origin_airports.head()"
   ]
  },
  {
   "cell_type": "code",
   "execution_count": 45,
   "metadata": {},
   "outputs": [
    {
     "data": {
      "text/html": [
       "<div>\n",
       "<style scoped>\n",
       "    .dataframe tbody tr th:only-of-type {\n",
       "        vertical-align: middle;\n",
       "    }\n",
       "\n",
       "    .dataframe tbody tr th {\n",
       "        vertical-align: top;\n",
       "    }\n",
       "\n",
       "    .dataframe thead th {\n",
       "        text-align: right;\n",
       "    }\n",
       "</style>\n",
       "<table border=\"1\" class=\"dataframe\">\n",
       "  <thead>\n",
       "    <tr style=\"text-align: right;\">\n",
       "      <th></th>\n",
       "      <th>DATE</th>\n",
       "      <th>AIRLINE_CODE</th>\n",
       "      <th>AIRLINE</th>\n",
       "      <th>FLIGHT_NUMBER</th>\n",
       "      <th>ORIGIN_AIRPORT</th>\n",
       "      <th>DESTINATION_AIRPORT</th>\n",
       "      <th>DEPARTURE_TIME</th>\n",
       "      <th>DEPARTURE_DELAY</th>\n",
       "      <th>ELAPSED_TIME</th>\n",
       "      <th>DISTANCE</th>\n",
       "      <th>ARRIVAL_TIME</th>\n",
       "      <th>ARRIVAL_DELAY</th>\n",
       "      <th>AIR_SYSTEM_DELAY</th>\n",
       "      <th>SECURITY_DELAY</th>\n",
       "      <th>AIRLINE_DELAY</th>\n",
       "      <th>LATE_AIRCRAFT_DELAY</th>\n",
       "      <th>WEATHER_DELAY</th>\n",
       "      <th>OTHER_DELAY</th>\n",
       "      <th>ORIGIN_AIRPORT_NAME</th>\n",
       "      <th>ORIGIN_CITY</th>\n",
       "      <th>ORIGIN_STATE</th>\n",
       "      <th>ORIGIN_LATITUDE</th>\n",
       "      <th>ORIGIN_LONGITUDE</th>\n",
       "      <th>DESTINATION_AIRPORT_NAME</th>\n",
       "      <th>DESTINATION_CITY</th>\n",
       "      <th>DESTINATION_STATE</th>\n",
       "      <th>DESTINATION_LATITUDE</th>\n",
       "      <th>DESTINATION_LONGITUDE</th>\n",
       "    </tr>\n",
       "  </thead>\n",
       "  <tbody>\n",
       "    <tr>\n",
       "      <th>0</th>\n",
       "      <td>2015-01-01</td>\n",
       "      <td>AS</td>\n",
       "      <td>Alaska Airlines Inc.</td>\n",
       "      <td>98</td>\n",
       "      <td>ANC</td>\n",
       "      <td>SEA</td>\n",
       "      <td>2354.0</td>\n",
       "      <td>-11.0</td>\n",
       "      <td>194.0</td>\n",
       "      <td>1448</td>\n",
       "      <td>408.0</td>\n",
       "      <td>-22.0</td>\n",
       "      <td>0.0</td>\n",
       "      <td>0.0</td>\n",
       "      <td>0.0</td>\n",
       "      <td>0.0</td>\n",
       "      <td>0.0</td>\n",
       "      <td>0.0</td>\n",
       "      <td>Ted Stevens Anchorage International Airport</td>\n",
       "      <td>Anchorage</td>\n",
       "      <td>AK</td>\n",
       "      <td>61.17432</td>\n",
       "      <td>-149.99619</td>\n",
       "      <td>Seattle-Tacoma International Airport</td>\n",
       "      <td>Seattle</td>\n",
       "      <td>WA</td>\n",
       "      <td>47.44898</td>\n",
       "      <td>-122.30931</td>\n",
       "    </tr>\n",
       "    <tr>\n",
       "      <th>1</th>\n",
       "      <td>2015-01-01</td>\n",
       "      <td>AA</td>\n",
       "      <td>American Airlines Inc.</td>\n",
       "      <td>2336</td>\n",
       "      <td>LAX</td>\n",
       "      <td>PBI</td>\n",
       "      <td>2.0</td>\n",
       "      <td>-8.0</td>\n",
       "      <td>279.0</td>\n",
       "      <td>2330</td>\n",
       "      <td>741.0</td>\n",
       "      <td>-9.0</td>\n",
       "      <td>0.0</td>\n",
       "      <td>0.0</td>\n",
       "      <td>0.0</td>\n",
       "      <td>0.0</td>\n",
       "      <td>0.0</td>\n",
       "      <td>0.0</td>\n",
       "      <td>Los Angeles International Airport</td>\n",
       "      <td>Los Angeles</td>\n",
       "      <td>CA</td>\n",
       "      <td>33.94254</td>\n",
       "      <td>-118.40807</td>\n",
       "      <td>Palm Beach International Airport</td>\n",
       "      <td>West Palm Beach</td>\n",
       "      <td>FL</td>\n",
       "      <td>26.68316</td>\n",
       "      <td>-80.09559</td>\n",
       "    </tr>\n",
       "    <tr>\n",
       "      <th>2</th>\n",
       "      <td>2015-01-01</td>\n",
       "      <td>US</td>\n",
       "      <td>US Airways Inc.</td>\n",
       "      <td>840</td>\n",
       "      <td>SFO</td>\n",
       "      <td>CLT</td>\n",
       "      <td>18.0</td>\n",
       "      <td>-2.0</td>\n",
       "      <td>293.0</td>\n",
       "      <td>2296</td>\n",
       "      <td>811.0</td>\n",
       "      <td>5.0</td>\n",
       "      <td>0.0</td>\n",
       "      <td>0.0</td>\n",
       "      <td>0.0</td>\n",
       "      <td>0.0</td>\n",
       "      <td>0.0</td>\n",
       "      <td>5.0</td>\n",
       "      <td>San Francisco International Airport</td>\n",
       "      <td>San Francisco</td>\n",
       "      <td>CA</td>\n",
       "      <td>37.61900</td>\n",
       "      <td>-122.37484</td>\n",
       "      <td>Charlotte Douglas International Airport</td>\n",
       "      <td>Charlotte</td>\n",
       "      <td>NC</td>\n",
       "      <td>35.21401</td>\n",
       "      <td>-80.94313</td>\n",
       "    </tr>\n",
       "    <tr>\n",
       "      <th>3</th>\n",
       "      <td>2015-01-01</td>\n",
       "      <td>AA</td>\n",
       "      <td>American Airlines Inc.</td>\n",
       "      <td>258</td>\n",
       "      <td>LAX</td>\n",
       "      <td>MIA</td>\n",
       "      <td>15.0</td>\n",
       "      <td>-5.0</td>\n",
       "      <td>281.0</td>\n",
       "      <td>2342</td>\n",
       "      <td>756.0</td>\n",
       "      <td>-9.0</td>\n",
       "      <td>0.0</td>\n",
       "      <td>0.0</td>\n",
       "      <td>0.0</td>\n",
       "      <td>0.0</td>\n",
       "      <td>0.0</td>\n",
       "      <td>0.0</td>\n",
       "      <td>Los Angeles International Airport</td>\n",
       "      <td>Los Angeles</td>\n",
       "      <td>CA</td>\n",
       "      <td>33.94254</td>\n",
       "      <td>-118.40807</td>\n",
       "      <td>Miami International Airport</td>\n",
       "      <td>Miami</td>\n",
       "      <td>FL</td>\n",
       "      <td>25.79325</td>\n",
       "      <td>-80.29056</td>\n",
       "    </tr>\n",
       "    <tr>\n",
       "      <th>4</th>\n",
       "      <td>2015-01-01</td>\n",
       "      <td>AS</td>\n",
       "      <td>Alaska Airlines Inc.</td>\n",
       "      <td>135</td>\n",
       "      <td>SEA</td>\n",
       "      <td>ANC</td>\n",
       "      <td>24.0</td>\n",
       "      <td>-1.0</td>\n",
       "      <td>215.0</td>\n",
       "      <td>1448</td>\n",
       "      <td>259.0</td>\n",
       "      <td>-21.0</td>\n",
       "      <td>0.0</td>\n",
       "      <td>0.0</td>\n",
       "      <td>0.0</td>\n",
       "      <td>0.0</td>\n",
       "      <td>0.0</td>\n",
       "      <td>0.0</td>\n",
       "      <td>Seattle-Tacoma International Airport</td>\n",
       "      <td>Seattle</td>\n",
       "      <td>WA</td>\n",
       "      <td>47.44898</td>\n",
       "      <td>-122.30931</td>\n",
       "      <td>Ted Stevens Anchorage International Airport</td>\n",
       "      <td>Anchorage</td>\n",
       "      <td>AK</td>\n",
       "      <td>61.17432</td>\n",
       "      <td>-149.99619</td>\n",
       "    </tr>\n",
       "  </tbody>\n",
       "</table>\n",
       "</div>"
      ],
      "text/plain": [
       "        DATE AIRLINE_CODE                 AIRLINE  FLIGHT_NUMBER  \\\n",
       "0 2015-01-01           AS    Alaska Airlines Inc.             98   \n",
       "1 2015-01-01           AA  American Airlines Inc.           2336   \n",
       "2 2015-01-01           US         US Airways Inc.            840   \n",
       "3 2015-01-01           AA  American Airlines Inc.            258   \n",
       "4 2015-01-01           AS    Alaska Airlines Inc.            135   \n",
       "\n",
       "  ORIGIN_AIRPORT DESTINATION_AIRPORT  DEPARTURE_TIME  DEPARTURE_DELAY  \\\n",
       "0            ANC                 SEA          2354.0            -11.0   \n",
       "1            LAX                 PBI             2.0             -8.0   \n",
       "2            SFO                 CLT            18.0             -2.0   \n",
       "3            LAX                 MIA            15.0             -5.0   \n",
       "4            SEA                 ANC            24.0             -1.0   \n",
       "\n",
       "   ELAPSED_TIME  DISTANCE  ARRIVAL_TIME  ARRIVAL_DELAY  AIR_SYSTEM_DELAY  \\\n",
       "0         194.0      1448         408.0          -22.0               0.0   \n",
       "1         279.0      2330         741.0           -9.0               0.0   \n",
       "2         293.0      2296         811.0            5.0               0.0   \n",
       "3         281.0      2342         756.0           -9.0               0.0   \n",
       "4         215.0      1448         259.0          -21.0               0.0   \n",
       "\n",
       "   SECURITY_DELAY  AIRLINE_DELAY  LATE_AIRCRAFT_DELAY  WEATHER_DELAY  \\\n",
       "0             0.0            0.0                  0.0            0.0   \n",
       "1             0.0            0.0                  0.0            0.0   \n",
       "2             0.0            0.0                  0.0            0.0   \n",
       "3             0.0            0.0                  0.0            0.0   \n",
       "4             0.0            0.0                  0.0            0.0   \n",
       "\n",
       "   OTHER_DELAY                          ORIGIN_AIRPORT_NAME    ORIGIN_CITY  \\\n",
       "0          0.0  Ted Stevens Anchorage International Airport      Anchorage   \n",
       "1          0.0            Los Angeles International Airport    Los Angeles   \n",
       "2          5.0          San Francisco International Airport  San Francisco   \n",
       "3          0.0            Los Angeles International Airport    Los Angeles   \n",
       "4          0.0         Seattle-Tacoma International Airport        Seattle   \n",
       "\n",
       "  ORIGIN_STATE  ORIGIN_LATITUDE  ORIGIN_LONGITUDE  \\\n",
       "0           AK         61.17432        -149.99619   \n",
       "1           CA         33.94254        -118.40807   \n",
       "2           CA         37.61900        -122.37484   \n",
       "3           CA         33.94254        -118.40807   \n",
       "4           WA         47.44898        -122.30931   \n",
       "\n",
       "                      DESTINATION_AIRPORT_NAME DESTINATION_CITY  \\\n",
       "0         Seattle-Tacoma International Airport          Seattle   \n",
       "1             Palm Beach International Airport  West Palm Beach   \n",
       "2      Charlotte Douglas International Airport        Charlotte   \n",
       "3                  Miami International Airport            Miami   \n",
       "4  Ted Stevens Anchorage International Airport        Anchorage   \n",
       "\n",
       "  DESTINATION_STATE  DESTINATION_LATITUDE  DESTINATION_LONGITUDE  \n",
       "0                WA              47.44898             -122.30931  \n",
       "1                FL              26.68316              -80.09559  \n",
       "2                NC              35.21401              -80.94313  \n",
       "3                FL              25.79325              -80.29056  \n",
       "4                AK              61.17432             -149.99619  "
      ]
     },
     "execution_count": 45,
     "metadata": {},
     "output_type": "execute_result"
    }
   ],
   "source": [
    "# Unimos las tres tablas\n",
    "flights_origin = flights.merge(origin_airports, on='ORIGIN_AIRPORT', how='left')\n",
    "flights_complete = flights_origin.merge(destination_airports, on='DESTINATION_AIRPORT', how='left')\n",
    "flights_complete.head()"
   ]
  },
  {
   "cell_type": "code",
   "execution_count": 46,
   "metadata": {},
   "outputs": [
    {
     "data": {
      "text/plain": [
       "5711569"
      ]
     },
     "execution_count": 46,
     "metadata": {},
     "output_type": "execute_result"
    }
   ],
   "source": [
    "len(flights_complete)"
   ]
  },
  {
   "cell_type": "markdown",
   "metadata": {},
   "source": [
    "Guardamos los datos de todos los vuelos preprocesados, para ser utilizados en la predicción posterior"
   ]
  },
  {
   "cell_type": "code",
   "execution_count": 47,
   "metadata": {},
   "outputs": [],
   "source": [
    "\n",
    "flights_complete.to_parquet(\"flightsCleaned.parquet\", index=False)"
   ]
  },
  {
   "cell_type": "markdown",
   "metadata": {},
   "source": [
    "## Filtrado´- Análisis por aeropuerto"
   ]
  },
  {
   "cell_type": "markdown",
   "metadata": {},
   "source": [
    "Dado que en Estados Unidos se producen millones de vuelos al año y queremos hacer cambios en aeropuerto de origen pare reducir estos cambios, vamos a escoger solo un grupo de aeropuertos reducido para realizar los análisis y propuestas sobre ellos. <br>\n",
    "Lo ideal será llevar a cabo las propuestas en un grupo reducido de aeropuertos, para disminuir costes, de donde salgan entorno a un 50% de los vuelos anuales. De esta forma podremos comprobar si hay mejoría respecto a los aeropuertos no analizados en un futuro."
   ]
  },
  {
   "cell_type": "markdown",
   "metadata": {},
   "source": [
    "### Búsqueda de los aeropuertos con más vuelos"
   ]
  },
  {
   "cell_type": "code",
   "execution_count": 48,
   "metadata": {},
   "outputs": [
    {
     "data": {
      "text/html": [
       "<div>\n",
       "<style scoped>\n",
       "    .dataframe tbody tr th:only-of-type {\n",
       "        vertical-align: middle;\n",
       "    }\n",
       "\n",
       "    .dataframe tbody tr th {\n",
       "        vertical-align: top;\n",
       "    }\n",
       "\n",
       "    .dataframe thead th {\n",
       "        text-align: right;\n",
       "    }\n",
       "</style>\n",
       "<table border=\"1\" class=\"dataframe\">\n",
       "  <thead>\n",
       "    <tr style=\"text-align: right;\">\n",
       "      <th></th>\n",
       "      <th>ORIGIN_AIRPORT</th>\n",
       "      <th>DATE</th>\n",
       "    </tr>\n",
       "  </thead>\n",
       "  <tbody>\n",
       "    <tr>\n",
       "      <th>0</th>\n",
       "      <td>ATL</td>\n",
       "      <td>375903</td>\n",
       "    </tr>\n",
       "    <tr>\n",
       "      <th>1</th>\n",
       "      <td>ORD</td>\n",
       "      <td>303888</td>\n",
       "    </tr>\n",
       "    <tr>\n",
       "      <th>2</th>\n",
       "      <td>DFW</td>\n",
       "      <td>252938</td>\n",
       "    </tr>\n",
       "    <tr>\n",
       "      <th>3</th>\n",
       "      <td>DEN</td>\n",
       "      <td>211369</td>\n",
       "    </tr>\n",
       "    <tr>\n",
       "      <th>4</th>\n",
       "      <td>LAX</td>\n",
       "      <td>209631</td>\n",
       "    </tr>\n",
       "    <tr>\n",
       "      <th>5</th>\n",
       "      <td>SFO</td>\n",
       "      <td>159523</td>\n",
       "    </tr>\n",
       "    <tr>\n",
       "      <th>6</th>\n",
       "      <td>PHX</td>\n",
       "      <td>158436</td>\n",
       "    </tr>\n",
       "    <tr>\n",
       "      <th>7</th>\n",
       "      <td>IAH</td>\n",
       "      <td>157110</td>\n",
       "    </tr>\n",
       "    <tr>\n",
       "      <th>8</th>\n",
       "      <td>LAS</td>\n",
       "      <td>144586</td>\n",
       "    </tr>\n",
       "    <tr>\n",
       "      <th>9</th>\n",
       "      <td>MSP</td>\n",
       "      <td>121457</td>\n",
       "    </tr>\n",
       "    <tr>\n",
       "      <th>10</th>\n",
       "      <td>SEA</td>\n",
       "      <td>120539</td>\n",
       "    </tr>\n",
       "    <tr>\n",
       "      <th>11</th>\n",
       "      <td>MCO</td>\n",
       "      <td>118538</td>\n",
       "    </tr>\n",
       "    <tr>\n",
       "      <th>12</th>\n",
       "      <td>DTW</td>\n",
       "      <td>116817</td>\n",
       "    </tr>\n",
       "    <tr>\n",
       "      <th>13</th>\n",
       "      <td>BOS</td>\n",
       "      <td>114895</td>\n",
       "    </tr>\n",
       "    <tr>\n",
       "      <th>14</th>\n",
       "      <td>CLT</td>\n",
       "      <td>108589</td>\n",
       "    </tr>\n",
       "    <tr>\n",
       "      <th>15</th>\n",
       "      <td>EWR</td>\n",
       "      <td>107849</td>\n",
       "    </tr>\n",
       "    <tr>\n",
       "      <th>16</th>\n",
       "      <td>SLC</td>\n",
       "      <td>105126</td>\n",
       "    </tr>\n",
       "    <tr>\n",
       "      <th>17</th>\n",
       "      <td>LGA</td>\n",
       "      <td>103281</td>\n",
       "    </tr>\n",
       "    <tr>\n",
       "      <th>18</th>\n",
       "      <td>JFK</td>\n",
       "      <td>99918</td>\n",
       "    </tr>\n",
       "    <tr>\n",
       "      <th>19</th>\n",
       "      <td>BWI</td>\n",
       "      <td>92320</td>\n",
       "    </tr>\n",
       "    <tr>\n",
       "      <th>20</th>\n",
       "      <td>MDW</td>\n",
       "      <td>86283</td>\n",
       "    </tr>\n",
       "    <tr>\n",
       "      <th>21</th>\n",
       "      <td>DCA</td>\n",
       "      <td>78338</td>\n",
       "    </tr>\n",
       "    <tr>\n",
       "      <th>22</th>\n",
       "      <td>FLL</td>\n",
       "      <td>78333</td>\n",
       "    </tr>\n",
       "    <tr>\n",
       "      <th>23</th>\n",
       "      <td>SAN</td>\n",
       "      <td>75454</td>\n",
       "    </tr>\n",
       "    <tr>\n",
       "      <th>24</th>\n",
       "      <td>MIA</td>\n",
       "      <td>74230</td>\n",
       "    </tr>\n",
       "  </tbody>\n",
       "</table>\n",
       "</div>"
      ],
      "text/plain": [
       "   ORIGIN_AIRPORT    DATE\n",
       "0             ATL  375903\n",
       "1             ORD  303888\n",
       "2             DFW  252938\n",
       "3             DEN  211369\n",
       "4             LAX  209631\n",
       "5             SFO  159523\n",
       "6             PHX  158436\n",
       "7             IAH  157110\n",
       "8             LAS  144586\n",
       "9             MSP  121457\n",
       "10            SEA  120539\n",
       "11            MCO  118538\n",
       "12            DTW  116817\n",
       "13            BOS  114895\n",
       "14            CLT  108589\n",
       "15            EWR  107849\n",
       "16            SLC  105126\n",
       "17            LGA  103281\n",
       "18            JFK   99918\n",
       "19            BWI   92320\n",
       "20            MDW   86283\n",
       "21            DCA   78338\n",
       "22            FLL   78333\n",
       "23            SAN   75454\n",
       "24            MIA   74230"
      ]
     },
     "execution_count": 48,
     "metadata": {},
     "output_type": "execute_result"
    }
   ],
   "source": [
    "airports = flights_complete.groupby(\"ORIGIN_AIRPORT\")[\"DATE\"].count().sort_values(ascending=False).reset_index()\n",
    "airports.head(25)"
   ]
  },
  {
   "cell_type": "code",
   "execution_count": 49,
   "metadata": {},
   "outputs": [
    {
     "data": {
      "application/vnd.plotly.v1+json": {
       "config": {
        "plotlyServerURL": "https://plot.ly"
       },
       "data": [
        {
         "branchvalues": "total",
         "customdata": [
          [
           2466
          ],
          [
           2423
          ],
          [
           20723
          ],
          [
           733
          ],
          [
           952
          ],
          [
           513
          ],
          [
           1679
          ],
          [
           1387
          ],
          [
           3772
          ],
          [
           97
          ],
          [
           465
          ],
          [
           3332
          ],
          [
           2568
          ],
          [
           63
          ],
          [
           8053
          ],
          [
           638
          ],
          [
           4378
          ],
          [
           16959
          ],
          [
           596
          ],
          [
           3321
          ],
          [
           375903
          ],
          [
           3018
          ],
          [
           45263
          ],
          [
           2952
          ],
          [
           1438
          ],
          [
           1863
          ],
          [
           20080
          ],
          [
           880
          ],
          [
           2770
          ],
          [
           321
          ],
          [
           390
          ],
          [
           13421
          ],
          [
           3114
          ],
          [
           3719
          ],
          [
           664
          ],
          [
           704
          ],
          [
           2857
          ],
          [
           50821
          ],
          [
           12680
          ],
          [
           114895
          ],
          [
           990
          ],
          [
           954
          ],
          [
           1427
          ],
          [
           635
          ],
          [
           2454
          ],
          [
           902
          ],
          [
           708
          ],
          [
           7631
          ],
          [
           3229
          ],
          [
           18061
          ],
          [
           20280
          ],
          [
           92320
          ],
          [
           3890
          ],
          [
           5439
          ],
          [
           6463
          ],
          [
           625
          ],
          [
           714
          ],
          [
           173
          ],
          [
           4540
          ],
          [
           2328
          ],
          [
           12752
          ],
          [
           7117
          ],
          [
           596
          ],
          [
           628
          ],
          [
           36967
          ],
          [
           2418
          ],
          [
           108589
          ],
          [
           25735
          ],
          [
           2199
          ],
          [
           679
          ],
          [
           205
          ],
          [
           651
          ],
          [
           7350
          ],
          [
           1364
          ],
          [
           1881
          ],
          [
           5075
          ],
          [
           2539
          ],
          [
           1172
          ],
          [
           21370
          ],
          [
           1361
          ],
          [
           1605
          ],
          [
           64545
          ],
          [
           9106
          ],
          [
           956
          ],
          [
           78338
          ],
          [
           211369
          ],
          [
           252938
          ],
          [
           1361
          ],
          [
           979
          ],
          [
           77
          ],
          [
           1887
          ],
          [
           2194
          ],
          [
           8804
          ],
          [
           116817
          ],
          [
           514
          ],
          [
           696
          ],
          [
           4513
          ],
          [
           1202
          ],
          [
           570
          ],
          [
           2202
          ],
          [
           12842
          ],
          [
           765
          ],
          [
           606
          ],
          [
           3883
          ],
          [
           4103
          ],
          [
           620
          ],
          [
           107849
          ],
          [
           2091
          ],
          [
           2345
          ],
          [
           6088
          ],
          [
           7577
          ],
          [
           1762
          ],
          [
           2119
          ],
          [
           1766
          ],
          [
           78333
          ],
          [
           5041
          ],
          [
           5599
          ],
          [
           2084
          ],
          [
           5589
          ],
          [
           1070
          ],
          [
           697
          ],
          [
           10265
          ],
          [
           714
          ],
          [
           613
          ],
          [
           3390
          ],
          [
           2869
          ],
          [
           3809
          ],
          [
           5208
          ],
          [
           662
          ],
          [
           4230
          ],
          [
           11463
          ],
          [
           7055
          ],
          [
           7006
          ],
          [
           76
          ],
          [
           2134
          ],
          [
           1000
          ],
          [
           472
          ],
          [
           360
          ],
          [
           706
          ],
          [
           961
          ],
          [
           1560
          ],
          [
           46707
          ],
          [
           600
          ],
          [
           55813
          ],
          [
           7850
          ],
          [
           3301
          ],
          [
           4812
          ],
          [
           82
          ],
          [
           557
          ],
          [
           36643
          ],
          [
           334
          ],
          [
           157110
          ],
          [
           8567
          ],
          [
           2426
          ],
          [
           95
          ],
          [
           2052
          ],
          [
           662
          ],
          [
           27409
          ],
          [
           608
          ],
          [
           2699
          ],
          [
           4604
          ],
          [
           30
          ],
          [
           6211
          ],
          [
           3602
          ],
          [
           7548
          ],
          [
           19478
          ],
          [
           99918
          ],
          [
           687
          ],
          [
           818
          ],
          [
           4361
          ],
          [
           12018
          ],
          [
           2467
          ],
          [
           2019
          ],
          [
           556
          ],
          [
           144586
          ],
          [
           1236
          ],
          [
           209631
          ],
          [
           4888
          ],
          [
           1360
          ],
          [
           1993
          ],
          [
           6384
          ],
          [
           5428
          ],
          [
           103281
          ],
          [
           9475
          ],
          [
           11365
          ],
          [
           11167
          ],
          [
           2850
          ],
          [
           2324
          ],
          [
           1746
          ],
          [
           641
          ],
          [
           7844
          ],
          [
           1794
          ],
          [
           41642
          ],
          [
           118538
          ],
          [
           3495
          ],
          [
           86283
          ],
          [
           970
          ],
          [
           15891
          ],
          [
           3525
          ],
          [
           2670
          ],
          [
           3412
          ],
          [
           1711
          ],
          [
           6686
          ],
          [
           74230
          ],
          [
           31803
          ],
          [
           680
          ],
          [
           1438
          ],
          [
           3922
          ],
          [
           3150
          ],
          [
           140
          ],
          [
           5333
          ],
          [
           2037
          ],
          [
           322
          ],
          [
           3068
          ],
          [
           9667
          ],
          [
           2224
          ],
          [
           121457
          ],
          [
           41938
          ],
          [
           966
          ],
          [
           216
          ],
          [
           5231
          ],
          [
           1118
          ],
          [
           45663
          ],
          [
           22291
          ],
          [
           17424
          ],
          [
           17934
          ],
          [
           689
          ],
          [
           19503
          ],
          [
           303888
          ],
          [
           9996
          ],
          [
           691
          ],
          [
           296
          ],
          [
           691
          ],
          [
           682
          ],
          [
           291
          ],
          [
           23868
          ],
          [
           51316
          ],
          [
           1343
          ],
          [
           70816
          ],
          [
           158436
          ],
          [
           4960
          ],
          [
           615
          ],
          [
           709
          ],
          [
           25791
          ],
          [
           792
          ],
          [
           6876
          ],
          [
           115
          ],
          [
           2603
          ],
          [
           798
          ],
          [
           712
          ],
          [
           9537
          ],
          [
           253
          ],
          [
           11849
          ],
          [
           5004
          ],
          [
           3430
          ],
          [
           706
          ],
          [
           2319
          ],
          [
           34058
          ],
          [
           1023
          ],
          [
           16515
          ],
          [
           727
          ],
          [
           13988
          ],
          [
           2440
          ],
          [
           7971
          ],
          [
           1003
          ],
          [
           2156
          ],
          [
           28694
          ],
          [
           1523
          ],
          [
           75454
          ],
          [
           31969
          ],
          [
           8028
          ],
          [
           6441
          ],
          [
           4757
          ],
          [
           3309
          ],
          [
           896
          ],
          [
           944
          ],
          [
           10781
          ],
          [
           120539
          ],
          [
           159523
          ],
          [
           6556
          ],
          [
           1973
          ],
          [
           6478
          ],
          [
           1414
          ],
          [
           41165
          ],
          [
           1693
          ],
          [
           26257
          ],
          [
           105126
          ],
          [
           40386
          ],
          [
           713
          ],
          [
           40232
          ],
          [
           1665
          ],
          [
           1170
          ],
          [
           3622
          ],
          [
           77
          ],
          [
           50476
          ],
          [
           4405
          ],
          [
           1000
          ],
          [
           927
          ],
          [
           646
          ],
          [
           738
          ],
          [
           6080
          ],
          [
           3419
          ],
          [
           897
          ],
          [
           68202
          ],
          [
           2065
          ],
          [
           3048
          ],
          [
           15010
          ],
          [
           16221
          ],
          [
           2868
          ],
          [
           805
          ],
          [
           1000
          ],
          [
           2422
          ],
          [
           7375
          ],
          [
           158
          ],
          [
           200
          ],
          [
           1013
          ],
          [
           5151
          ],
          [
           707
          ],
          [
           208
          ],
          [
           9895
          ],
          [
           712
          ],
          [
           2031
          ]
         ],
         "domain": {
          "x": [
           0,
           1
          ],
          "y": [
           0,
           1
          ]
         },
         "hovertemplate": "labels=%{label}<br>DATE_sum=%{value}<br>parent=%{parent}<br>id=%{id}<br>DATE=%{color}<extra></extra>",
         "ids": [
          "ABE",
          "ABI",
          "ABQ",
          "ABR",
          "ABY",
          "ACK",
          "ACT",
          "ACV",
          "ACY",
          "ADK",
          "ADQ",
          "AEX",
          "AGS",
          "AKN",
          "ALB",
          "ALO",
          "AMA",
          "ANC",
          "APN",
          "ASE",
          "ATL",
          "ATW",
          "AUS",
          "AVL",
          "AVP",
          "AZO",
          "BDL",
          "BET",
          "BFL",
          "BGM",
          "BGR",
          "BHM",
          "BIL",
          "BIS",
          "BJI",
          "BLI",
          "BMI",
          "BNA",
          "BOI",
          "BOS",
          "BPT",
          "BQK",
          "BQN",
          "BRD",
          "BRO",
          "BRW",
          "BTM",
          "BTR",
          "BTV",
          "BUF",
          "BUR",
          "BWI",
          "BZN",
          "CAE",
          "CAK",
          "CDC",
          "CDV",
          "CEC",
          "CHA",
          "CHO",
          "CHS",
          "CID",
          "CIU",
          "CLD",
          "CLE",
          "CLL",
          "CLT",
          "CMH",
          "CMI",
          "CMX",
          "CNY",
          "COD",
          "COS",
          "COU",
          "CPR",
          "CRP",
          "CRW",
          "CSG",
          "CVG",
          "CWA",
          "DAB",
          "DAL",
          "DAY",
          "DBQ",
          "DCA",
          "DEN",
          "DFW",
          "DHN",
          "DIK",
          "DLG",
          "DLH",
          "DRO",
          "DSM",
          "DTW",
          "DVL",
          "EAU",
          "ECP",
          "EGE",
          "EKO",
          "ELM",
          "ELP",
          "ERI",
          "ESC",
          "EUG",
          "EVV",
          "EWN",
          "EWR",
          "EYW",
          "FAI",
          "FAR",
          "FAT",
          "FAY",
          "FCA",
          "FLG",
          "FLL",
          "FNT",
          "FSD",
          "FSM",
          "FWA",
          "GCC",
          "GCK",
          "GEG",
          "GFK",
          "GGG",
          "GJT",
          "GNV",
          "GPT",
          "GRB",
          "GRI",
          "GRK",
          "GRR",
          "GSO",
          "GSP",
          "GST",
          "GTF",
          "GTR",
          "GUC",
          "GUM",
          "HDN",
          "HIB",
          "HLN",
          "HNL",
          "HOB",
          "HOU",
          "HPN",
          "HRL",
          "HSV",
          "HYA",
          "HYS",
          "IAD",
          "IAG",
          "IAH",
          "ICT",
          "IDA",
          "ILG",
          "ILM",
          "IMT",
          "IND",
          "INL",
          "ISN",
          "ISP",
          "ITH",
          "ITO",
          "JAC",
          "JAN",
          "JAX",
          "JFK",
          "JLN",
          "JMS",
          "JNU",
          "KOA",
          "KTN",
          "LAN",
          "LAR",
          "LAS",
          "LAW",
          "LAX",
          "LBB",
          "LBE",
          "LCH",
          "LEX",
          "LFT",
          "LGA",
          "LGB",
          "LIH",
          "LIT",
          "LNK",
          "LRD",
          "LSE",
          "LWS",
          "MAF",
          "MBS",
          "MCI",
          "MCO",
          "MDT",
          "MDW",
          "MEI",
          "MEM",
          "MFE",
          "MFR",
          "MGM",
          "MHK",
          "MHT",
          "MIA",
          "MKE",
          "MKG",
          "MLB",
          "MLI",
          "MLU",
          "MMH",
          "MOB",
          "MOT",
          "MQT",
          "MRY",
          "MSN",
          "MSO",
          "MSP",
          "MSY",
          "MTJ",
          "MVY",
          "MYR",
          "OAJ",
          "OAK",
          "OGG",
          "OKC",
          "OMA",
          "OME",
          "ONT",
          "ORD",
          "ORF",
          "ORH",
          "OTH",
          "OTZ",
          "PAH",
          "PBG",
          "PBI",
          "PDX",
          "PHF",
          "PHL",
          "PHX",
          "PIA",
          "PIB",
          "PIH",
          "PIT",
          "PLN",
          "PNS",
          "PPG",
          "PSC",
          "PSE",
          "PSG",
          "PSP",
          "PUB",
          "PVD",
          "PWM",
          "RAP",
          "RDD",
          "RDM",
          "RDU",
          "RHI",
          "RIC",
          "RKS",
          "RNO",
          "ROA",
          "ROC",
          "ROW",
          "RST",
          "RSW",
          "SAF",
          "SAN",
          "SAT",
          "SAV",
          "SBA",
          "SBN",
          "SBP",
          "SCC",
          "SCE",
          "SDF",
          "SEA",
          "SFO",
          "SGF",
          "SGU",
          "SHV",
          "SIT",
          "SJC",
          "SJT",
          "SJU",
          "SLC",
          "SMF",
          "SMX",
          "SNA",
          "SPI",
          "SPS",
          "SRQ",
          "STC",
          "STL",
          "STT",
          "STX",
          "SUN",
          "SUX",
          "SWF",
          "SYR",
          "TLH",
          "TOL",
          "TPA",
          "TRI",
          "TTN",
          "TUL",
          "TUS",
          "TVC",
          "TWF",
          "TXK",
          "TYR",
          "TYS",
          "UST",
          "VEL",
          "VLD",
          "VPS",
          "WRG",
          "WYS",
          "XNA",
          "YAK",
          "YUM"
         ],
         "labels": [
          "ABE",
          "ABI",
          "ABQ",
          "ABR",
          "ABY",
          "ACK",
          "ACT",
          "ACV",
          "ACY",
          "ADK",
          "ADQ",
          "AEX",
          "AGS",
          "AKN",
          "ALB",
          "ALO",
          "AMA",
          "ANC",
          "APN",
          "ASE",
          "ATL",
          "ATW",
          "AUS",
          "AVL",
          "AVP",
          "AZO",
          "BDL",
          "BET",
          "BFL",
          "BGM",
          "BGR",
          "BHM",
          "BIL",
          "BIS",
          "BJI",
          "BLI",
          "BMI",
          "BNA",
          "BOI",
          "BOS",
          "BPT",
          "BQK",
          "BQN",
          "BRD",
          "BRO",
          "BRW",
          "BTM",
          "BTR",
          "BTV",
          "BUF",
          "BUR",
          "BWI",
          "BZN",
          "CAE",
          "CAK",
          "CDC",
          "CDV",
          "CEC",
          "CHA",
          "CHO",
          "CHS",
          "CID",
          "CIU",
          "CLD",
          "CLE",
          "CLL",
          "CLT",
          "CMH",
          "CMI",
          "CMX",
          "CNY",
          "COD",
          "COS",
          "COU",
          "CPR",
          "CRP",
          "CRW",
          "CSG",
          "CVG",
          "CWA",
          "DAB",
          "DAL",
          "DAY",
          "DBQ",
          "DCA",
          "DEN",
          "DFW",
          "DHN",
          "DIK",
          "DLG",
          "DLH",
          "DRO",
          "DSM",
          "DTW",
          "DVL",
          "EAU",
          "ECP",
          "EGE",
          "EKO",
          "ELM",
          "ELP",
          "ERI",
          "ESC",
          "EUG",
          "EVV",
          "EWN",
          "EWR",
          "EYW",
          "FAI",
          "FAR",
          "FAT",
          "FAY",
          "FCA",
          "FLG",
          "FLL",
          "FNT",
          "FSD",
          "FSM",
          "FWA",
          "GCC",
          "GCK",
          "GEG",
          "GFK",
          "GGG",
          "GJT",
          "GNV",
          "GPT",
          "GRB",
          "GRI",
          "GRK",
          "GRR",
          "GSO",
          "GSP",
          "GST",
          "GTF",
          "GTR",
          "GUC",
          "GUM",
          "HDN",
          "HIB",
          "HLN",
          "HNL",
          "HOB",
          "HOU",
          "HPN",
          "HRL",
          "HSV",
          "HYA",
          "HYS",
          "IAD",
          "IAG",
          "IAH",
          "ICT",
          "IDA",
          "ILG",
          "ILM",
          "IMT",
          "IND",
          "INL",
          "ISN",
          "ISP",
          "ITH",
          "ITO",
          "JAC",
          "JAN",
          "JAX",
          "JFK",
          "JLN",
          "JMS",
          "JNU",
          "KOA",
          "KTN",
          "LAN",
          "LAR",
          "LAS",
          "LAW",
          "LAX",
          "LBB",
          "LBE",
          "LCH",
          "LEX",
          "LFT",
          "LGA",
          "LGB",
          "LIH",
          "LIT",
          "LNK",
          "LRD",
          "LSE",
          "LWS",
          "MAF",
          "MBS",
          "MCI",
          "MCO",
          "MDT",
          "MDW",
          "MEI",
          "MEM",
          "MFE",
          "MFR",
          "MGM",
          "MHK",
          "MHT",
          "MIA",
          "MKE",
          "MKG",
          "MLB",
          "MLI",
          "MLU",
          "MMH",
          "MOB",
          "MOT",
          "MQT",
          "MRY",
          "MSN",
          "MSO",
          "MSP",
          "MSY",
          "MTJ",
          "MVY",
          "MYR",
          "OAJ",
          "OAK",
          "OGG",
          "OKC",
          "OMA",
          "OME",
          "ONT",
          "ORD",
          "ORF",
          "ORH",
          "OTH",
          "OTZ",
          "PAH",
          "PBG",
          "PBI",
          "PDX",
          "PHF",
          "PHL",
          "PHX",
          "PIA",
          "PIB",
          "PIH",
          "PIT",
          "PLN",
          "PNS",
          "PPG",
          "PSC",
          "PSE",
          "PSG",
          "PSP",
          "PUB",
          "PVD",
          "PWM",
          "RAP",
          "RDD",
          "RDM",
          "RDU",
          "RHI",
          "RIC",
          "RKS",
          "RNO",
          "ROA",
          "ROC",
          "ROW",
          "RST",
          "RSW",
          "SAF",
          "SAN",
          "SAT",
          "SAV",
          "SBA",
          "SBN",
          "SBP",
          "SCC",
          "SCE",
          "SDF",
          "SEA",
          "SFO",
          "SGF",
          "SGU",
          "SHV",
          "SIT",
          "SJC",
          "SJT",
          "SJU",
          "SLC",
          "SMF",
          "SMX",
          "SNA",
          "SPI",
          "SPS",
          "SRQ",
          "STC",
          "STL",
          "STT",
          "STX",
          "SUN",
          "SUX",
          "SWF",
          "SYR",
          "TLH",
          "TOL",
          "TPA",
          "TRI",
          "TTN",
          "TUL",
          "TUS",
          "TVC",
          "TWF",
          "TXK",
          "TYR",
          "TYS",
          "UST",
          "VEL",
          "VLD",
          "VPS",
          "WRG",
          "WYS",
          "XNA",
          "YAK",
          "YUM"
         ],
         "marker": {
          "coloraxis": "coloraxis",
          "colors": [
           2466,
           2423,
           20723,
           733,
           952,
           513,
           1679,
           1387,
           3772,
           97,
           465,
           3332,
           2568,
           63,
           8053,
           638,
           4378,
           16959,
           596,
           3321,
           375903,
           3018,
           45263,
           2952,
           1438,
           1863,
           20080,
           880,
           2770,
           321,
           390,
           13421,
           3114,
           3719,
           664,
           704,
           2857,
           50821,
           12680,
           114895,
           990,
           954,
           1427,
           635,
           2454,
           902,
           708,
           7631,
           3229,
           18061,
           20280,
           92320,
           3890,
           5439,
           6463,
           625,
           714,
           173,
           4540,
           2328,
           12752,
           7117,
           596,
           628,
           36967,
           2418,
           108589,
           25735,
           2199,
           679,
           205,
           651,
           7350,
           1364,
           1881,
           5075,
           2539,
           1172,
           21370,
           1361,
           1605,
           64545,
           9106,
           956,
           78338,
           211369,
           252938,
           1361,
           979,
           77,
           1887,
           2194,
           8804,
           116817,
           514,
           696,
           4513,
           1202,
           570,
           2202,
           12842,
           765,
           606,
           3883,
           4103,
           620,
           107849,
           2091,
           2345,
           6088,
           7577,
           1762,
           2119,
           1766,
           78333,
           5041,
           5599,
           2084,
           5589,
           1070,
           697,
           10265,
           714,
           613,
           3390,
           2869,
           3809,
           5208,
           662,
           4230,
           11463,
           7055,
           7006,
           76,
           2134,
           1000,
           472,
           360,
           706,
           961,
           1560,
           46707,
           600,
           55813,
           7850,
           3301,
           4812,
           82,
           557,
           36643,
           334,
           157110,
           8567,
           2426,
           95,
           2052,
           662,
           27409,
           608,
           2699,
           4604,
           30,
           6211,
           3602,
           7548,
           19478,
           99918,
           687,
           818,
           4361,
           12018,
           2467,
           2019,
           556,
           144586,
           1236,
           209631,
           4888,
           1360,
           1993,
           6384,
           5428,
           103281,
           9475,
           11365,
           11167,
           2850,
           2324,
           1746,
           641,
           7844,
           1794,
           41642,
           118538,
           3495,
           86283,
           970,
           15891,
           3525,
           2670,
           3412,
           1711,
           6686,
           74230,
           31803,
           680,
           1438,
           3922,
           3150,
           140,
           5333,
           2037,
           322,
           3068,
           9667,
           2224,
           121457,
           41938,
           966,
           216,
           5231,
           1118,
           45663,
           22291,
           17424,
           17934,
           689,
           19503,
           303888,
           9996,
           691,
           296,
           691,
           682,
           291,
           23868,
           51316,
           1343,
           70816,
           158436,
           4960,
           615,
           709,
           25791,
           792,
           6876,
           115,
           2603,
           798,
           712,
           9537,
           253,
           11849,
           5004,
           3430,
           706,
           2319,
           34058,
           1023,
           16515,
           727,
           13988,
           2440,
           7971,
           1003,
           2156,
           28694,
           1523,
           75454,
           31969,
           8028,
           6441,
           4757,
           3309,
           896,
           944,
           10781,
           120539,
           159523,
           6556,
           1973,
           6478,
           1414,
           41165,
           1693,
           26257,
           105126,
           40386,
           713,
           40232,
           1665,
           1170,
           3622,
           77,
           50476,
           4405,
           1000,
           927,
           646,
           738,
           6080,
           3419,
           897,
           68202,
           2065,
           3048,
           15010,
           16221,
           2868,
           805,
           1000,
           2422,
           7375,
           158,
           200,
           1013,
           5151,
           707,
           208,
           9895,
           712,
           2031
          ]
         },
         "name": "",
         "parents": [
          "",
          "",
          "",
          "",
          "",
          "",
          "",
          "",
          "",
          "",
          "",
          "",
          "",
          "",
          "",
          "",
          "",
          "",
          "",
          "",
          "",
          "",
          "",
          "",
          "",
          "",
          "",
          "",
          "",
          "",
          "",
          "",
          "",
          "",
          "",
          "",
          "",
          "",
          "",
          "",
          "",
          "",
          "",
          "",
          "",
          "",
          "",
          "",
          "",
          "",
          "",
          "",
          "",
          "",
          "",
          "",
          "",
          "",
          "",
          "",
          "",
          "",
          "",
          "",
          "",
          "",
          "",
          "",
          "",
          "",
          "",
          "",
          "",
          "",
          "",
          "",
          "",
          "",
          "",
          "",
          "",
          "",
          "",
          "",
          "",
          "",
          "",
          "",
          "",
          "",
          "",
          "",
          "",
          "",
          "",
          "",
          "",
          "",
          "",
          "",
          "",
          "",
          "",
          "",
          "",
          "",
          "",
          "",
          "",
          "",
          "",
          "",
          "",
          "",
          "",
          "",
          "",
          "",
          "",
          "",
          "",
          "",
          "",
          "",
          "",
          "",
          "",
          "",
          "",
          "",
          "",
          "",
          "",
          "",
          "",
          "",
          "",
          "",
          "",
          "",
          "",
          "",
          "",
          "",
          "",
          "",
          "",
          "",
          "",
          "",
          "",
          "",
          "",
          "",
          "",
          "",
          "",
          "",
          "",
          "",
          "",
          "",
          "",
          "",
          "",
          "",
          "",
          "",
          "",
          "",
          "",
          "",
          "",
          "",
          "",
          "",
          "",
          "",
          "",
          "",
          "",
          "",
          "",
          "",
          "",
          "",
          "",
          "",
          "",
          "",
          "",
          "",
          "",
          "",
          "",
          "",
          "",
          "",
          "",
          "",
          "",
          "",
          "",
          "",
          "",
          "",
          "",
          "",
          "",
          "",
          "",
          "",
          "",
          "",
          "",
          "",
          "",
          "",
          "",
          "",
          "",
          "",
          "",
          "",
          "",
          "",
          "",
          "",
          "",
          "",
          "",
          "",
          "",
          "",
          "",
          "",
          "",
          "",
          "",
          "",
          "",
          "",
          "",
          "",
          "",
          "",
          "",
          "",
          "",
          "",
          "",
          "",
          "",
          "",
          "",
          "",
          "",
          "",
          "",
          "",
          "",
          "",
          "",
          "",
          "",
          "",
          "",
          "",
          "",
          "",
          "",
          "",
          "",
          "",
          "",
          "",
          "",
          "",
          "",
          "",
          "",
          "",
          "",
          "",
          "",
          "",
          "",
          "",
          "",
          "",
          "",
          "",
          "",
          "",
          "",
          "",
          "",
          "",
          "",
          "",
          "",
          "",
          "",
          "",
          "",
          "",
          "",
          "",
          "",
          "",
          "",
          "",
          "",
          "",
          "",
          "",
          "",
          "",
          "",
          "",
          "",
          ""
         ],
         "type": "treemap",
         "values": [
          2466,
          2423,
          20723,
          733,
          952,
          513,
          1679,
          1387,
          3772,
          97,
          465,
          3332,
          2568,
          63,
          8053,
          638,
          4378,
          16959,
          596,
          3321,
          375903,
          3018,
          45263,
          2952,
          1438,
          1863,
          20080,
          880,
          2770,
          321,
          390,
          13421,
          3114,
          3719,
          664,
          704,
          2857,
          50821,
          12680,
          114895,
          990,
          954,
          1427,
          635,
          2454,
          902,
          708,
          7631,
          3229,
          18061,
          20280,
          92320,
          3890,
          5439,
          6463,
          625,
          714,
          173,
          4540,
          2328,
          12752,
          7117,
          596,
          628,
          36967,
          2418,
          108589,
          25735,
          2199,
          679,
          205,
          651,
          7350,
          1364,
          1881,
          5075,
          2539,
          1172,
          21370,
          1361,
          1605,
          64545,
          9106,
          956,
          78338,
          211369,
          252938,
          1361,
          979,
          77,
          1887,
          2194,
          8804,
          116817,
          514,
          696,
          4513,
          1202,
          570,
          2202,
          12842,
          765,
          606,
          3883,
          4103,
          620,
          107849,
          2091,
          2345,
          6088,
          7577,
          1762,
          2119,
          1766,
          78333,
          5041,
          5599,
          2084,
          5589,
          1070,
          697,
          10265,
          714,
          613,
          3390,
          2869,
          3809,
          5208,
          662,
          4230,
          11463,
          7055,
          7006,
          76,
          2134,
          1000,
          472,
          360,
          706,
          961,
          1560,
          46707,
          600,
          55813,
          7850,
          3301,
          4812,
          82,
          557,
          36643,
          334,
          157110,
          8567,
          2426,
          95,
          2052,
          662,
          27409,
          608,
          2699,
          4604,
          30,
          6211,
          3602,
          7548,
          19478,
          99918,
          687,
          818,
          4361,
          12018,
          2467,
          2019,
          556,
          144586,
          1236,
          209631,
          4888,
          1360,
          1993,
          6384,
          5428,
          103281,
          9475,
          11365,
          11167,
          2850,
          2324,
          1746,
          641,
          7844,
          1794,
          41642,
          118538,
          3495,
          86283,
          970,
          15891,
          3525,
          2670,
          3412,
          1711,
          6686,
          74230,
          31803,
          680,
          1438,
          3922,
          3150,
          140,
          5333,
          2037,
          322,
          3068,
          9667,
          2224,
          121457,
          41938,
          966,
          216,
          5231,
          1118,
          45663,
          22291,
          17424,
          17934,
          689,
          19503,
          303888,
          9996,
          691,
          296,
          691,
          682,
          291,
          23868,
          51316,
          1343,
          70816,
          158436,
          4960,
          615,
          709,
          25791,
          792,
          6876,
          115,
          2603,
          798,
          712,
          9537,
          253,
          11849,
          5004,
          3430,
          706,
          2319,
          34058,
          1023,
          16515,
          727,
          13988,
          2440,
          7971,
          1003,
          2156,
          28694,
          1523,
          75454,
          31969,
          8028,
          6441,
          4757,
          3309,
          896,
          944,
          10781,
          120539,
          159523,
          6556,
          1973,
          6478,
          1414,
          41165,
          1693,
          26257,
          105126,
          40386,
          713,
          40232,
          1665,
          1170,
          3622,
          77,
          50476,
          4405,
          1000,
          927,
          646,
          738,
          6080,
          3419,
          897,
          68202,
          2065,
          3048,
          15010,
          16221,
          2868,
          805,
          1000,
          2422,
          7375,
          158,
          200,
          1013,
          5151,
          707,
          208,
          9895,
          712,
          2031
         ]
        }
       ],
       "layout": {
        "coloraxis": {
         "colorbar": {
          "title": {
           "text": "DATE"
          }
         },
         "colorscale": [
          [
           0,
           "#440154"
          ],
          [
           0.1111111111111111,
           "#482878"
          ],
          [
           0.2222222222222222,
           "#3e4989"
          ],
          [
           0.3333333333333333,
           "#31688e"
          ],
          [
           0.4444444444444444,
           "#26828e"
          ],
          [
           0.5555555555555556,
           "#1f9e89"
          ],
          [
           0.6666666666666666,
           "#35b779"
          ],
          [
           0.7777777777777778,
           "#6ece58"
          ],
          [
           0.8888888888888888,
           "#b5de2b"
          ],
          [
           1,
           "#fde725"
          ]
         ]
        },
        "legend": {
         "tracegroupgap": 0
        },
        "margin": {
         "b": 25,
         "l": 25,
         "r": 25,
         "t": 75
        },
        "template": {
         "data": {
          "bar": [
           {
            "error_x": {
             "color": "#f2f5fa"
            },
            "error_y": {
             "color": "#f2f5fa"
            },
            "marker": {
             "line": {
              "color": "rgb(17,17,17)",
              "width": 0.5
             },
             "pattern": {
              "fillmode": "overlay",
              "size": 10,
              "solidity": 0.2
             }
            },
            "type": "bar"
           }
          ],
          "barpolar": [
           {
            "marker": {
             "line": {
              "color": "rgb(17,17,17)",
              "width": 0.5
             },
             "pattern": {
              "fillmode": "overlay",
              "size": 10,
              "solidity": 0.2
             }
            },
            "type": "barpolar"
           }
          ],
          "carpet": [
           {
            "aaxis": {
             "endlinecolor": "#A2B1C6",
             "gridcolor": "#506784",
             "linecolor": "#506784",
             "minorgridcolor": "#506784",
             "startlinecolor": "#A2B1C6"
            },
            "baxis": {
             "endlinecolor": "#A2B1C6",
             "gridcolor": "#506784",
             "linecolor": "#506784",
             "minorgridcolor": "#506784",
             "startlinecolor": "#A2B1C6"
            },
            "type": "carpet"
           }
          ],
          "choropleth": [
           {
            "colorbar": {
             "outlinewidth": 0,
             "ticks": ""
            },
            "type": "choropleth"
           }
          ],
          "contour": [
           {
            "colorbar": {
             "outlinewidth": 0,
             "ticks": ""
            },
            "colorscale": [
             [
              0,
              "#0d0887"
             ],
             [
              0.1111111111111111,
              "#46039f"
             ],
             [
              0.2222222222222222,
              "#7201a8"
             ],
             [
              0.3333333333333333,
              "#9c179e"
             ],
             [
              0.4444444444444444,
              "#bd3786"
             ],
             [
              0.5555555555555556,
              "#d8576b"
             ],
             [
              0.6666666666666666,
              "#ed7953"
             ],
             [
              0.7777777777777778,
              "#fb9f3a"
             ],
             [
              0.8888888888888888,
              "#fdca26"
             ],
             [
              1,
              "#f0f921"
             ]
            ],
            "type": "contour"
           }
          ],
          "contourcarpet": [
           {
            "colorbar": {
             "outlinewidth": 0,
             "ticks": ""
            },
            "type": "contourcarpet"
           }
          ],
          "heatmap": [
           {
            "colorbar": {
             "outlinewidth": 0,
             "ticks": ""
            },
            "colorscale": [
             [
              0,
              "#0d0887"
             ],
             [
              0.1111111111111111,
              "#46039f"
             ],
             [
              0.2222222222222222,
              "#7201a8"
             ],
             [
              0.3333333333333333,
              "#9c179e"
             ],
             [
              0.4444444444444444,
              "#bd3786"
             ],
             [
              0.5555555555555556,
              "#d8576b"
             ],
             [
              0.6666666666666666,
              "#ed7953"
             ],
             [
              0.7777777777777778,
              "#fb9f3a"
             ],
             [
              0.8888888888888888,
              "#fdca26"
             ],
             [
              1,
              "#f0f921"
             ]
            ],
            "type": "heatmap"
           }
          ],
          "heatmapgl": [
           {
            "colorbar": {
             "outlinewidth": 0,
             "ticks": ""
            },
            "colorscale": [
             [
              0,
              "#0d0887"
             ],
             [
              0.1111111111111111,
              "#46039f"
             ],
             [
              0.2222222222222222,
              "#7201a8"
             ],
             [
              0.3333333333333333,
              "#9c179e"
             ],
             [
              0.4444444444444444,
              "#bd3786"
             ],
             [
              0.5555555555555556,
              "#d8576b"
             ],
             [
              0.6666666666666666,
              "#ed7953"
             ],
             [
              0.7777777777777778,
              "#fb9f3a"
             ],
             [
              0.8888888888888888,
              "#fdca26"
             ],
             [
              1,
              "#f0f921"
             ]
            ],
            "type": "heatmapgl"
           }
          ],
          "histogram": [
           {
            "marker": {
             "pattern": {
              "fillmode": "overlay",
              "size": 10,
              "solidity": 0.2
             }
            },
            "type": "histogram"
           }
          ],
          "histogram2d": [
           {
            "colorbar": {
             "outlinewidth": 0,
             "ticks": ""
            },
            "colorscale": [
             [
              0,
              "#0d0887"
             ],
             [
              0.1111111111111111,
              "#46039f"
             ],
             [
              0.2222222222222222,
              "#7201a8"
             ],
             [
              0.3333333333333333,
              "#9c179e"
             ],
             [
              0.4444444444444444,
              "#bd3786"
             ],
             [
              0.5555555555555556,
              "#d8576b"
             ],
             [
              0.6666666666666666,
              "#ed7953"
             ],
             [
              0.7777777777777778,
              "#fb9f3a"
             ],
             [
              0.8888888888888888,
              "#fdca26"
             ],
             [
              1,
              "#f0f921"
             ]
            ],
            "type": "histogram2d"
           }
          ],
          "histogram2dcontour": [
           {
            "colorbar": {
             "outlinewidth": 0,
             "ticks": ""
            },
            "colorscale": [
             [
              0,
              "#0d0887"
             ],
             [
              0.1111111111111111,
              "#46039f"
             ],
             [
              0.2222222222222222,
              "#7201a8"
             ],
             [
              0.3333333333333333,
              "#9c179e"
             ],
             [
              0.4444444444444444,
              "#bd3786"
             ],
             [
              0.5555555555555556,
              "#d8576b"
             ],
             [
              0.6666666666666666,
              "#ed7953"
             ],
             [
              0.7777777777777778,
              "#fb9f3a"
             ],
             [
              0.8888888888888888,
              "#fdca26"
             ],
             [
              1,
              "#f0f921"
             ]
            ],
            "type": "histogram2dcontour"
           }
          ],
          "mesh3d": [
           {
            "colorbar": {
             "outlinewidth": 0,
             "ticks": ""
            },
            "type": "mesh3d"
           }
          ],
          "parcoords": [
           {
            "line": {
             "colorbar": {
              "outlinewidth": 0,
              "ticks": ""
             }
            },
            "type": "parcoords"
           }
          ],
          "pie": [
           {
            "automargin": true,
            "type": "pie"
           }
          ],
          "scatter": [
           {
            "marker": {
             "line": {
              "color": "#283442"
             }
            },
            "type": "scatter"
           }
          ],
          "scatter3d": [
           {
            "line": {
             "colorbar": {
              "outlinewidth": 0,
              "ticks": ""
             }
            },
            "marker": {
             "colorbar": {
              "outlinewidth": 0,
              "ticks": ""
             }
            },
            "type": "scatter3d"
           }
          ],
          "scattercarpet": [
           {
            "marker": {
             "colorbar": {
              "outlinewidth": 0,
              "ticks": ""
             }
            },
            "type": "scattercarpet"
           }
          ],
          "scattergeo": [
           {
            "marker": {
             "colorbar": {
              "outlinewidth": 0,
              "ticks": ""
             }
            },
            "type": "scattergeo"
           }
          ],
          "scattergl": [
           {
            "marker": {
             "line": {
              "color": "#283442"
             }
            },
            "type": "scattergl"
           }
          ],
          "scattermapbox": [
           {
            "marker": {
             "colorbar": {
              "outlinewidth": 0,
              "ticks": ""
             }
            },
            "type": "scattermapbox"
           }
          ],
          "scatterpolar": [
           {
            "marker": {
             "colorbar": {
              "outlinewidth": 0,
              "ticks": ""
             }
            },
            "type": "scatterpolar"
           }
          ],
          "scatterpolargl": [
           {
            "marker": {
             "colorbar": {
              "outlinewidth": 0,
              "ticks": ""
             }
            },
            "type": "scatterpolargl"
           }
          ],
          "scatterternary": [
           {
            "marker": {
             "colorbar": {
              "outlinewidth": 0,
              "ticks": ""
             }
            },
            "type": "scatterternary"
           }
          ],
          "surface": [
           {
            "colorbar": {
             "outlinewidth": 0,
             "ticks": ""
            },
            "colorscale": [
             [
              0,
              "#0d0887"
             ],
             [
              0.1111111111111111,
              "#46039f"
             ],
             [
              0.2222222222222222,
              "#7201a8"
             ],
             [
              0.3333333333333333,
              "#9c179e"
             ],
             [
              0.4444444444444444,
              "#bd3786"
             ],
             [
              0.5555555555555556,
              "#d8576b"
             ],
             [
              0.6666666666666666,
              "#ed7953"
             ],
             [
              0.7777777777777778,
              "#fb9f3a"
             ],
             [
              0.8888888888888888,
              "#fdca26"
             ],
             [
              1,
              "#f0f921"
             ]
            ],
            "type": "surface"
           }
          ],
          "table": [
           {
            "cells": {
             "fill": {
              "color": "#506784"
             },
             "line": {
              "color": "rgb(17,17,17)"
             }
            },
            "header": {
             "fill": {
              "color": "#2a3f5f"
             },
             "line": {
              "color": "rgb(17,17,17)"
             }
            },
            "type": "table"
           }
          ]
         },
         "layout": {
          "annotationdefaults": {
           "arrowcolor": "#f2f5fa",
           "arrowhead": 0,
           "arrowwidth": 1
          },
          "autotypenumbers": "strict",
          "coloraxis": {
           "colorbar": {
            "outlinewidth": 0,
            "ticks": ""
           }
          },
          "colorscale": {
           "diverging": [
            [
             0,
             "#8e0152"
            ],
            [
             0.1,
             "#c51b7d"
            ],
            [
             0.2,
             "#de77ae"
            ],
            [
             0.3,
             "#f1b6da"
            ],
            [
             0.4,
             "#fde0ef"
            ],
            [
             0.5,
             "#f7f7f7"
            ],
            [
             0.6,
             "#e6f5d0"
            ],
            [
             0.7,
             "#b8e186"
            ],
            [
             0.8,
             "#7fbc41"
            ],
            [
             0.9,
             "#4d9221"
            ],
            [
             1,
             "#276419"
            ]
           ],
           "sequential": [
            [
             0,
             "#0d0887"
            ],
            [
             0.1111111111111111,
             "#46039f"
            ],
            [
             0.2222222222222222,
             "#7201a8"
            ],
            [
             0.3333333333333333,
             "#9c179e"
            ],
            [
             0.4444444444444444,
             "#bd3786"
            ],
            [
             0.5555555555555556,
             "#d8576b"
            ],
            [
             0.6666666666666666,
             "#ed7953"
            ],
            [
             0.7777777777777778,
             "#fb9f3a"
            ],
            [
             0.8888888888888888,
             "#fdca26"
            ],
            [
             1,
             "#f0f921"
            ]
           ],
           "sequentialminus": [
            [
             0,
             "#0d0887"
            ],
            [
             0.1111111111111111,
             "#46039f"
            ],
            [
             0.2222222222222222,
             "#7201a8"
            ],
            [
             0.3333333333333333,
             "#9c179e"
            ],
            [
             0.4444444444444444,
             "#bd3786"
            ],
            [
             0.5555555555555556,
             "#d8576b"
            ],
            [
             0.6666666666666666,
             "#ed7953"
            ],
            [
             0.7777777777777778,
             "#fb9f3a"
            ],
            [
             0.8888888888888888,
             "#fdca26"
            ],
            [
             1,
             "#f0f921"
            ]
           ]
          },
          "colorway": [
           "#636efa",
           "#EF553B",
           "#00cc96",
           "#ab63fa",
           "#FFA15A",
           "#19d3f3",
           "#FF6692",
           "#B6E880",
           "#FF97FF",
           "#FECB52"
          ],
          "font": {
           "color": "#f2f5fa"
          },
          "geo": {
           "bgcolor": "rgb(17,17,17)",
           "lakecolor": "rgb(17,17,17)",
           "landcolor": "rgb(17,17,17)",
           "showlakes": true,
           "showland": true,
           "subunitcolor": "#506784"
          },
          "hoverlabel": {
           "align": "left"
          },
          "hovermode": "closest",
          "mapbox": {
           "style": "dark"
          },
          "paper_bgcolor": "rgb(17,17,17)",
          "plot_bgcolor": "rgb(17,17,17)",
          "polar": {
           "angularaxis": {
            "gridcolor": "#506784",
            "linecolor": "#506784",
            "ticks": ""
           },
           "bgcolor": "rgb(17,17,17)",
           "radialaxis": {
            "gridcolor": "#506784",
            "linecolor": "#506784",
            "ticks": ""
           }
          },
          "scene": {
           "xaxis": {
            "backgroundcolor": "rgb(17,17,17)",
            "gridcolor": "#506784",
            "gridwidth": 2,
            "linecolor": "#506784",
            "showbackground": true,
            "ticks": "",
            "zerolinecolor": "#C8D4E3"
           },
           "yaxis": {
            "backgroundcolor": "rgb(17,17,17)",
            "gridcolor": "#506784",
            "gridwidth": 2,
            "linecolor": "#506784",
            "showbackground": true,
            "ticks": "",
            "zerolinecolor": "#C8D4E3"
           },
           "zaxis": {
            "backgroundcolor": "rgb(17,17,17)",
            "gridcolor": "#506784",
            "gridwidth": 2,
            "linecolor": "#506784",
            "showbackground": true,
            "ticks": "",
            "zerolinecolor": "#C8D4E3"
           }
          },
          "shapedefaults": {
           "line": {
            "color": "#f2f5fa"
           }
          },
          "sliderdefaults": {
           "bgcolor": "#C8D4E3",
           "bordercolor": "rgb(17,17,17)",
           "borderwidth": 1,
           "tickwidth": 0
          },
          "ternary": {
           "aaxis": {
            "gridcolor": "#506784",
            "linecolor": "#506784",
            "ticks": ""
           },
           "baxis": {
            "gridcolor": "#506784",
            "linecolor": "#506784",
            "ticks": ""
           },
           "bgcolor": "rgb(17,17,17)",
           "caxis": {
            "gridcolor": "#506784",
            "linecolor": "#506784",
            "ticks": ""
           }
          },
          "title": {
           "x": 0.05
          },
          "updatemenudefaults": {
           "bgcolor": "#506784",
           "borderwidth": 0
          },
          "xaxis": {
           "automargin": true,
           "gridcolor": "#283442",
           "linecolor": "#506784",
           "ticks": "",
           "title": {
            "standoff": 15
           },
           "zerolinecolor": "#283442",
           "zerolinewidth": 2
          },
          "yaxis": {
           "automargin": true,
           "gridcolor": "#283442",
           "linecolor": "#506784",
           "ticks": "",
           "title": {
            "standoff": 15
           },
           "zerolinecolor": "#283442",
           "zerolinewidth": 2
          }
         }
        },
        "title": {
         "text": "Departure Flights by Airport"
        },
        "width": 1200
       }
      }
     },
     "metadata": {},
     "output_type": "display_data"
    }
   ],
   "source": [
    "# Representamos la misma información en una visualización para verlo más claro\n",
    "fig = px.treemap(airports, path=[\"ORIGIN_AIRPORT\"], values='DATE',\n",
    "                 color='DATE',\n",
    "                 color_continuous_scale='Viridis',\n",
    "                 template=\"plotly_dark\")\n",
    "fig.update_layout(title=\"Departure Flights by Airport\",\n",
    "                  margin = dict(t=75, l=25, r=25, b=25),\n",
    "                  width = 1200)\n",
    "fig.show()"
   ]
  },
  {
   "cell_type": "markdown",
   "metadata": {},
   "source": [
    "Gracias a esta visualización podemos observar que cogiendo los 16 prmeros aeropuertos, hasta EWR, tendremos entorno al 50% de los vuelos."
   ]
  },
  {
   "cell_type": "code",
   "execution_count": 50,
   "metadata": {},
   "outputs": [],
   "source": [
    "top16_airports = airports.head(16)[\"ORIGIN_AIRPORT\"]"
   ]
  },
  {
   "cell_type": "markdown",
   "metadata": {},
   "source": [
    "Escogemos los 16 aeropuertos con más vuelos para hacer el análisis. De estos aeropuertos salen la mayor parte de vuelos nacionales en EEUU y por ello implantaremos las medidas necesarias en ellos como prueba beta. <br>\n",
    "Filtramos en el dataframe principal por estos aeropuertos"
   ]
  },
  {
   "cell_type": "code",
   "execution_count": 51,
   "metadata": {},
   "outputs": [
    {
     "data": {
      "text/html": [
       "<div>\n",
       "<style scoped>\n",
       "    .dataframe tbody tr th:only-of-type {\n",
       "        vertical-align: middle;\n",
       "    }\n",
       "\n",
       "    .dataframe tbody tr th {\n",
       "        vertical-align: top;\n",
       "    }\n",
       "\n",
       "    .dataframe thead th {\n",
       "        text-align: right;\n",
       "    }\n",
       "</style>\n",
       "<table border=\"1\" class=\"dataframe\">\n",
       "  <thead>\n",
       "    <tr style=\"text-align: right;\">\n",
       "      <th></th>\n",
       "      <th>DATE</th>\n",
       "      <th>AIRLINE_CODE</th>\n",
       "      <th>AIRLINE</th>\n",
       "      <th>FLIGHT_NUMBER</th>\n",
       "      <th>ORIGIN_AIRPORT</th>\n",
       "      <th>DESTINATION_AIRPORT</th>\n",
       "      <th>DEPARTURE_TIME</th>\n",
       "      <th>DEPARTURE_DELAY</th>\n",
       "      <th>ELAPSED_TIME</th>\n",
       "      <th>DISTANCE</th>\n",
       "      <th>ARRIVAL_TIME</th>\n",
       "      <th>ARRIVAL_DELAY</th>\n",
       "      <th>AIR_SYSTEM_DELAY</th>\n",
       "      <th>SECURITY_DELAY</th>\n",
       "      <th>AIRLINE_DELAY</th>\n",
       "      <th>LATE_AIRCRAFT_DELAY</th>\n",
       "      <th>WEATHER_DELAY</th>\n",
       "      <th>OTHER_DELAY</th>\n",
       "      <th>ORIGIN_AIRPORT_NAME</th>\n",
       "      <th>ORIGIN_CITY</th>\n",
       "      <th>ORIGIN_STATE</th>\n",
       "      <th>ORIGIN_LATITUDE</th>\n",
       "      <th>ORIGIN_LONGITUDE</th>\n",
       "      <th>DESTINATION_AIRPORT_NAME</th>\n",
       "      <th>DESTINATION_CITY</th>\n",
       "      <th>DESTINATION_STATE</th>\n",
       "      <th>DESTINATION_LATITUDE</th>\n",
       "      <th>DESTINATION_LONGITUDE</th>\n",
       "    </tr>\n",
       "  </thead>\n",
       "  <tbody>\n",
       "    <tr>\n",
       "      <th>1</th>\n",
       "      <td>2015-01-01</td>\n",
       "      <td>AA</td>\n",
       "      <td>American Airlines Inc.</td>\n",
       "      <td>2336</td>\n",
       "      <td>LAX</td>\n",
       "      <td>PBI</td>\n",
       "      <td>2.0</td>\n",
       "      <td>-8.0</td>\n",
       "      <td>279.0</td>\n",
       "      <td>2330</td>\n",
       "      <td>741.0</td>\n",
       "      <td>-9.0</td>\n",
       "      <td>0.0</td>\n",
       "      <td>0.0</td>\n",
       "      <td>0.0</td>\n",
       "      <td>0.0</td>\n",
       "      <td>0.0</td>\n",
       "      <td>0.0</td>\n",
       "      <td>Los Angeles International Airport</td>\n",
       "      <td>Los Angeles</td>\n",
       "      <td>CA</td>\n",
       "      <td>33.94254</td>\n",
       "      <td>-118.40807</td>\n",
       "      <td>Palm Beach International Airport</td>\n",
       "      <td>West Palm Beach</td>\n",
       "      <td>FL</td>\n",
       "      <td>26.68316</td>\n",
       "      <td>-80.09559</td>\n",
       "    </tr>\n",
       "    <tr>\n",
       "      <th>2</th>\n",
       "      <td>2015-01-01</td>\n",
       "      <td>US</td>\n",
       "      <td>US Airways Inc.</td>\n",
       "      <td>840</td>\n",
       "      <td>SFO</td>\n",
       "      <td>CLT</td>\n",
       "      <td>18.0</td>\n",
       "      <td>-2.0</td>\n",
       "      <td>293.0</td>\n",
       "      <td>2296</td>\n",
       "      <td>811.0</td>\n",
       "      <td>5.0</td>\n",
       "      <td>0.0</td>\n",
       "      <td>0.0</td>\n",
       "      <td>0.0</td>\n",
       "      <td>0.0</td>\n",
       "      <td>0.0</td>\n",
       "      <td>5.0</td>\n",
       "      <td>San Francisco International Airport</td>\n",
       "      <td>San Francisco</td>\n",
       "      <td>CA</td>\n",
       "      <td>37.61900</td>\n",
       "      <td>-122.37484</td>\n",
       "      <td>Charlotte Douglas International Airport</td>\n",
       "      <td>Charlotte</td>\n",
       "      <td>NC</td>\n",
       "      <td>35.21401</td>\n",
       "      <td>-80.94313</td>\n",
       "    </tr>\n",
       "    <tr>\n",
       "      <th>3</th>\n",
       "      <td>2015-01-01</td>\n",
       "      <td>AA</td>\n",
       "      <td>American Airlines Inc.</td>\n",
       "      <td>258</td>\n",
       "      <td>LAX</td>\n",
       "      <td>MIA</td>\n",
       "      <td>15.0</td>\n",
       "      <td>-5.0</td>\n",
       "      <td>281.0</td>\n",
       "      <td>2342</td>\n",
       "      <td>756.0</td>\n",
       "      <td>-9.0</td>\n",
       "      <td>0.0</td>\n",
       "      <td>0.0</td>\n",
       "      <td>0.0</td>\n",
       "      <td>0.0</td>\n",
       "      <td>0.0</td>\n",
       "      <td>0.0</td>\n",
       "      <td>Los Angeles International Airport</td>\n",
       "      <td>Los Angeles</td>\n",
       "      <td>CA</td>\n",
       "      <td>33.94254</td>\n",
       "      <td>-118.40807</td>\n",
       "      <td>Miami International Airport</td>\n",
       "      <td>Miami</td>\n",
       "      <td>FL</td>\n",
       "      <td>25.79325</td>\n",
       "      <td>-80.29056</td>\n",
       "    </tr>\n",
       "    <tr>\n",
       "      <th>4</th>\n",
       "      <td>2015-01-01</td>\n",
       "      <td>AS</td>\n",
       "      <td>Alaska Airlines Inc.</td>\n",
       "      <td>135</td>\n",
       "      <td>SEA</td>\n",
       "      <td>ANC</td>\n",
       "      <td>24.0</td>\n",
       "      <td>-1.0</td>\n",
       "      <td>215.0</td>\n",
       "      <td>1448</td>\n",
       "      <td>259.0</td>\n",
       "      <td>-21.0</td>\n",
       "      <td>0.0</td>\n",
       "      <td>0.0</td>\n",
       "      <td>0.0</td>\n",
       "      <td>0.0</td>\n",
       "      <td>0.0</td>\n",
       "      <td>0.0</td>\n",
       "      <td>Seattle-Tacoma International Airport</td>\n",
       "      <td>Seattle</td>\n",
       "      <td>WA</td>\n",
       "      <td>47.44898</td>\n",
       "      <td>-122.30931</td>\n",
       "      <td>Ted Stevens Anchorage International Airport</td>\n",
       "      <td>Anchorage</td>\n",
       "      <td>AK</td>\n",
       "      <td>61.17432</td>\n",
       "      <td>-149.99619</td>\n",
       "    </tr>\n",
       "    <tr>\n",
       "      <th>5</th>\n",
       "      <td>2015-01-01</td>\n",
       "      <td>DL</td>\n",
       "      <td>Delta Air Lines Inc.</td>\n",
       "      <td>806</td>\n",
       "      <td>SFO</td>\n",
       "      <td>MSP</td>\n",
       "      <td>20.0</td>\n",
       "      <td>-5.0</td>\n",
       "      <td>230.0</td>\n",
       "      <td>1589</td>\n",
       "      <td>610.0</td>\n",
       "      <td>8.0</td>\n",
       "      <td>0.0</td>\n",
       "      <td>0.0</td>\n",
       "      <td>0.0</td>\n",
       "      <td>0.0</td>\n",
       "      <td>0.0</td>\n",
       "      <td>8.0</td>\n",
       "      <td>San Francisco International Airport</td>\n",
       "      <td>San Francisco</td>\n",
       "      <td>CA</td>\n",
       "      <td>37.61900</td>\n",
       "      <td>-122.37484</td>\n",
       "      <td>Minneapolis-Saint Paul International Airport</td>\n",
       "      <td>Minneapolis</td>\n",
       "      <td>MN</td>\n",
       "      <td>44.88055</td>\n",
       "      <td>-93.21692</td>\n",
       "    </tr>\n",
       "  </tbody>\n",
       "</table>\n",
       "</div>"
      ],
      "text/plain": [
       "        DATE AIRLINE_CODE                 AIRLINE  FLIGHT_NUMBER  \\\n",
       "1 2015-01-01           AA  American Airlines Inc.           2336   \n",
       "2 2015-01-01           US         US Airways Inc.            840   \n",
       "3 2015-01-01           AA  American Airlines Inc.            258   \n",
       "4 2015-01-01           AS    Alaska Airlines Inc.            135   \n",
       "5 2015-01-01           DL    Delta Air Lines Inc.            806   \n",
       "\n",
       "  ORIGIN_AIRPORT DESTINATION_AIRPORT  DEPARTURE_TIME  DEPARTURE_DELAY  \\\n",
       "1            LAX                 PBI             2.0             -8.0   \n",
       "2            SFO                 CLT            18.0             -2.0   \n",
       "3            LAX                 MIA            15.0             -5.0   \n",
       "4            SEA                 ANC            24.0             -1.0   \n",
       "5            SFO                 MSP            20.0             -5.0   \n",
       "\n",
       "   ELAPSED_TIME  DISTANCE  ARRIVAL_TIME  ARRIVAL_DELAY  AIR_SYSTEM_DELAY  \\\n",
       "1         279.0      2330         741.0           -9.0               0.0   \n",
       "2         293.0      2296         811.0            5.0               0.0   \n",
       "3         281.0      2342         756.0           -9.0               0.0   \n",
       "4         215.0      1448         259.0          -21.0               0.0   \n",
       "5         230.0      1589         610.0            8.0               0.0   \n",
       "\n",
       "   SECURITY_DELAY  AIRLINE_DELAY  LATE_AIRCRAFT_DELAY  WEATHER_DELAY  \\\n",
       "1             0.0            0.0                  0.0            0.0   \n",
       "2             0.0            0.0                  0.0            0.0   \n",
       "3             0.0            0.0                  0.0            0.0   \n",
       "4             0.0            0.0                  0.0            0.0   \n",
       "5             0.0            0.0                  0.0            0.0   \n",
       "\n",
       "   OTHER_DELAY                   ORIGIN_AIRPORT_NAME    ORIGIN_CITY  \\\n",
       "1          0.0     Los Angeles International Airport    Los Angeles   \n",
       "2          5.0   San Francisco International Airport  San Francisco   \n",
       "3          0.0     Los Angeles International Airport    Los Angeles   \n",
       "4          0.0  Seattle-Tacoma International Airport        Seattle   \n",
       "5          8.0   San Francisco International Airport  San Francisco   \n",
       "\n",
       "  ORIGIN_STATE  ORIGIN_LATITUDE  ORIGIN_LONGITUDE  \\\n",
       "1           CA         33.94254        -118.40807   \n",
       "2           CA         37.61900        -122.37484   \n",
       "3           CA         33.94254        -118.40807   \n",
       "4           WA         47.44898        -122.30931   \n",
       "5           CA         37.61900        -122.37484   \n",
       "\n",
       "                       DESTINATION_AIRPORT_NAME DESTINATION_CITY  \\\n",
       "1              Palm Beach International Airport  West Palm Beach   \n",
       "2       Charlotte Douglas International Airport        Charlotte   \n",
       "3                   Miami International Airport            Miami   \n",
       "4   Ted Stevens Anchorage International Airport        Anchorage   \n",
       "5  Minneapolis-Saint Paul International Airport      Minneapolis   \n",
       "\n",
       "  DESTINATION_STATE  DESTINATION_LATITUDE  DESTINATION_LONGITUDE  \n",
       "1                FL              26.68316              -80.09559  \n",
       "2                NC              35.21401              -80.94313  \n",
       "3                FL              25.79325              -80.29056  \n",
       "4                AK              61.17432             -149.99619  \n",
       "5                MN              44.88055              -93.21692  "
      ]
     },
     "execution_count": 51,
     "metadata": {},
     "output_type": "execute_result"
    }
   ],
   "source": [
    "flights_filtered=flights_complete[flights_complete[\"ORIGIN_AIRPORT\"].isin(top16_airports)]\n",
    "flights_filtered.head()"
   ]
  },
  {
   "cell_type": "markdown",
   "metadata": {},
   "source": [
    "Comprobamos que representan entorno al 50 % de los vuelos que teníamos al inicio"
   ]
  },
  {
   "cell_type": "code",
   "execution_count": 52,
   "metadata": {},
   "outputs": [
    {
     "name": "stdout",
     "output_type": "stream",
     "text": [
      "Nuestro dataframe filtrado tiene un 48.71% de los vuelos del dataframe inicial\n"
     ]
    }
   ],
   "source": [
    "print(\"Nuestro dataframe filtrado tiene un {:.2%} de los vuelos del dataframe inicial\".format(flights_filtered.shape[0] / flights_complete.shape[0]))"
   ]
  },
  {
   "cell_type": "markdown",
   "metadata": {},
   "source": [
    "Tenemos casi un 50% de los datos, por lo que los guardamos:"
   ]
  },
  {
   "cell_type": "code",
   "execution_count": 53,
   "metadata": {},
   "outputs": [],
   "source": [
    "# Guardamos los datos procesados, para ser utilizados en la predicción posterior\n",
    "flights_filtered.to_parquet(\"flightsFilteredCleaned.parquet\", index=False)"
   ]
  },
  {
   "cell_type": "markdown",
   "metadata": {},
   "source": [
    "### FIN"
   ]
  }
 ],
 "metadata": {
  "kernelspec": {
   "display_name": "Python 3 (ipykernel)",
   "language": "python",
   "name": "python3"
  },
  "language_info": {
   "codemirror_mode": {
    "name": "ipython",
    "version": 3
   },
   "file_extension": ".py",
   "mimetype": "text/x-python",
   "name": "python",
   "nbconvert_exporter": "python",
   "pygments_lexer": "ipython3",
   "version": "3.9.12"
  },
  "vscode": {
   "interpreter": {
    "hash": "b3472844a7ad831f024780a557c10180eb151bb97358fb439eb3b23af04efba3"
   }
  }
 },
 "nbformat": 4,
 "nbformat_minor": 4
}
