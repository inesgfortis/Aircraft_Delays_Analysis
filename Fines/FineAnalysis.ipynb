{
 "cells": [
  {
   "cell_type": "code",
   "execution_count": null,
   "metadata": {},
   "outputs": [],
   "source": [
    "import pandas as pd\n",
    "import numpy as np\n",
    "import plotly.graph_objs as go\n",
    "import plotly.express as px\n",
    "import seaborn as sns"
   ]
  },
  {
   "cell_type": "code",
   "execution_count": null,
   "metadata": {},
   "outputs": [],
   "source": [
    "# Cargamos los datos y seleccionamos las columnas\n",
    "df = pd.read_parquet(\"../Preprocessing/flightsCleaned.parquet\")\n",
    "df.head()"
   ]
  },
  {
   "cell_type": "code",
   "execution_count": null,
   "metadata": {},
   "outputs": [],
   "source": [
    "# Seleccionamos las variables que nos interesan para este análisis\n",
    "df = df.loc[:, ['AIRLINE', 'FLIGHT_NUMBER','ARRIVAL_DELAY','DISTANCE']]"
   ]
  },
  {
   "cell_type": "code",
   "execution_count": null,
   "metadata": {
    "scrolled": true
   },
   "outputs": [],
   "source": [
    "# Distribución de los vuelos en función de la aerolínea\n",
    "airlines = pd.DataFrame(df.groupby(df['AIRLINE'])[\"FLIGHT_NUMBER\"].count())\n",
    "airlines = airlines.rename(columns={\"FLIGHT_NUMBER\":\"TOTAL_FLIGHTS\"})\n",
    "airlines[\"ON_TIME_FLIGHTS\"] =  df[df[\"ARRIVAL_DELAY\"]<=0].groupby(df['AIRLINE'])[\"FLIGHT_NUMBER\"].count()\n",
    "airlines[\"DELAYED_FLIGHTS\"] =  df[df[\"ARRIVAL_DELAY\"]>0].groupby(df['AIRLINE'])[\"FLIGHT_NUMBER\"].count()\n",
    "airlines[\"ON_TIME_PERCENTAGE\"] = np.round(airlines['ON_TIME_FLIGHTS']/airlines['TOTAL_FLIGHTS']*100,2)\n",
    "airlines[\"DELAY_PERCENTAGE\"] = np.round(airlines['DELAYED_FLIGHTS']/airlines['TOTAL_FLIGHTS']*100,2)\n",
    "airlines = airlines.sort_values('TOTAL_FLIGHTS',ascending=False)\n",
    "airlines = airlines.reset_index(level=0, drop=False)\n",
    "airlines"
   ]
  },
  {
   "cell_type": "code",
   "execution_count": null,
   "metadata": {},
   "outputs": [],
   "source": [
    "fig = go.Figure()\n",
    "\n",
    "fig.add_trace(go.Bar(\n",
    "    x=airlines['AIRLINE'],\n",
    "    y=airlines['TOTAL_FLIGHTS'],\n",
    "    name='Total Flights',\n",
    "    marker_color=px.colors.qualitative.Vivid[5]\n",
    "))\n",
    "fig.add_trace(go.Bar(\n",
    "    x=airlines['AIRLINE'],\n",
    "    y=airlines['DELAYED_FLIGHTS'],\n",
    "    name='Delayed Flights',\n",
    "    marker_color=px.colors.qualitative.Vivid[9]\n",
    "))\n",
    "\n",
    "# Here we modify the tickangle of the xaxis, resulting in rotated labels.\n",
    "fig.update_layout(\n",
    "    title=\"Flights Distribution per Airline\",\n",
    "    xaxis_title=\"Airlines\",\n",
    "    yaxis_title=\"Air traffic\",\n",
    "    legend_title=\"Leyend\",\n",
    "    template=\"plotly_dark\",\n",
    "    barmode='group', \n",
    "    xaxis_tickangle=-45   \n",
    ")\n",
    "\n",
    "fig.update_layout(barmode='group', xaxis_tickangle=-45)\n",
    "fig.show()"
   ]
  },
  {
   "cell_type": "markdown",
   "metadata": {},
   "source": [
    "Creamos una serie de variables relacionadas con las rutas y las multas"
   ]
  },
  {
   "cell_type": "code",
   "execution_count": null,
   "metadata": {},
   "outputs": [],
   "source": [
    "# Creamos la columna tipo de vuelos según la distancia\n",
    "condition_distance = [\n",
    "    (df['DISTANCE'] < 750) ,\n",
    "    (df['DISTANCE'] >= 750) & (df['DISTANCE'] <1500),\n",
    "    (df['DISTANCE'] >= 1500)]\n",
    "\n",
    "choice_distance = ['Short', 'Mid', 'Long']\n",
    "\n",
    "# Creamos la columna tipo de retraso\n",
    "condition_delay = [\n",
    "    (df['ARRIVAL_DELAY'] <= 0) ,\n",
    "    (df['ARRIVAL_DELAY'] > 0) & (df['ARRIVAL_DELAY'] <= 30),\n",
    "    (df['ARRIVAL_DELAY'] > 30) & (df['ARRIVAL_DELAY'] <=60),\n",
    "    (df['ARRIVAL_DELAY'] > 60)]\n",
    "\n",
    "choice_delay = ['Early arrival', '(0-30)mins', '(30-60)mins','>1h']\n",
    "\n",
    "# Añadimos las columnas\n",
    "df['DISTANCE_TYPE'] = np.select(condition_distance, choice_distance, default='Not Specified')\n",
    "df['DELAY_TYPE'] = np.select(condition_delay, choice_delay, default='Not Specified')"
   ]
  },
  {
   "cell_type": "code",
   "execution_count": null,
   "metadata": {
    "scrolled": false
   },
   "outputs": [],
   "source": [
    "# Agrupamos por aerolineas la info de los retrasos\n",
    "level_count = pd.DataFrame(df.groupby(\"AIRLINE\")[\"DELAY_TYPE\"].value_counts()).rename(columns = {\"DELAY_TYPE\": \"count\"}).reset_index()\n",
    "\n",
    "fig = px.histogram(level_count, x=\"AIRLINE\", y=\"count\",barnorm='percent', color=\"DELAY_TYPE\",text_auto='.2f',\n",
    "                   title=\"Flights Distribution per Airline\", color_discrete_sequence=px.colors.qualitative.Vivid, template=\"plotly_dark\")\n",
    "\n",
    "fig.update_layout(\n",
    "    title=\"Flights Distribution per Airline\",\n",
    "    xaxis_title=\"Airlines\",\n",
    "    yaxis_title=\"% of flights per delay type\",\n",
    "    legend_title=\"Leyend\",\n",
    "    template=\"plotly_dark\",\n",
    "    hovermode=\"x unified\"\n",
    "    \n",
    ")\n",
    "\n",
    "\n",
    "fig.show()"
   ]
  },
  {
   "cell_type": "markdown",
   "metadata": {},
   "source": [
    "El 80% de los vuelos de todas las aerolíneas están exentos de multa dado el tipo de retraso. No obstante, Frontier y Spririt destacan por ser las dos compañías con menor % de vuelos libres de multas. Vamos a analizar más detenidamente los vuelos objetivo de multa"
   ]
  },
  {
   "cell_type": "code",
   "execution_count": null,
   "metadata": {},
   "outputs": [],
   "source": [
    "# Agrupamos por aerolineas la info de los retrasos\n",
    "level_count = level_count.loc[(level_count['DELAY_TYPE'] == '(30-60)mins') | (level_count['DELAY_TYPE'] == \">1h\")]\n",
    "\n",
    "fig = px.histogram(level_count, x=\"AIRLINE\", y=\"count\", color=\"DELAY_TYPE\",text_auto='.2f',\n",
    "                   title=\"Flights Distribution per Airline\", color_discrete_sequence=px.colors.qualitative.Vivid[2:], template=\"plotly_dark\")\n",
    "\n",
    "fig.update_layout(\n",
    "    title=\"Late arrival flights distribution per Airline\",\n",
    "    xaxis_title=\"Airlines\",\n",
    "    yaxis_title=\"Amount of flights per delay type\",\n",
    "    legend_title=\"Leyend\",\n",
    "    template=\"plotly_dark\",\n",
    "    hovermode=\"x unified\"\n",
    "    \n",
    ")\n",
    "\n",
    "\n",
    "fig.show()"
   ]
  },
  {
   "cell_type": "markdown",
   "metadata": {},
   "source": [
    "Alarmante el caso de Southwest. En la gráfica anterior veíamos que en torno al 89% de sus vuelos llegaban a destino con un máximo de retraso de 30 min. En esta gráfica se observa que ese 11% restante incluye una gran cantidad de vuelos, lo que podría costarle a la compaía mucho dinero."
   ]
  },
  {
   "cell_type": "markdown",
   "metadata": {},
   "source": [
    "# FINES"
   ]
  },
  {
   "cell_type": "markdown",
   "metadata": {},
   "source": [
    "Vamos a analizar cuánto le costaría a cada compañia dada esta distribución de retrasos"
   ]
  },
  {
   "cell_type": "markdown",
   "metadata": {},
   "source": [
    "**RECAP:** Las compañias pagarán una multa en función de la distancia del trayecto y el tiempo de retraso. Además también deberén reembolsar a los pasajeros un % del importe de su billete como consecuencia del tiempo de retraso"
   ]
  },
  {
   "cell_type": "markdown",
   "metadata": {},
   "source": [
    "Para calcular cuánto se deberá pagar en cada caso necesitamos hacer una serie de estimaciones las cuales detallaremos a continuación.\n",
    "\n",
    "**IMPORTE DEL BILLETE**\n",
    "\n",
    "\"In 2015, an average flight cost $430.\" https://www.mercurynews.com/2016/07/08/see-how-the-cost-of-a-flight-has-changed-since-1963/\n",
    "\n",
    "Asociamos avg flight con distancia media. También asumimos que a mayor distancia mayor precio (un 30% superior al avg), así mismo como a menor distancia, menor precio (un 30% inferior al avg). Como consecuencia, asumimos que el importe de cada billete en función de la distancia es el siguiente:"
   ]
  },
  {
   "cell_type": "code",
   "execution_count": null,
   "metadata": {},
   "outputs": [],
   "source": [
    "AVG_TICKET_SHORT = 0.7*430 # $301\n",
    "AVG_TICKET_MID = 430\n",
    "AVG_TICKET_LONG = 1.3*430  # $559"
   ]
  },
  {
   "cell_type": "markdown",
   "metadata": {},
   "source": [
    "**NIVEL DE OCUPACIÓN**\n",
    "\n",
    "Por otro lado, necesitamos estimar el número de pasajeros por vuelo para estimar el importe a pagar a los pasajeros en los vuelos que sufren mayores retrasos. De acuerdo con https://datos.bancomundial.org/indicator/IS.AIR.PSGR?locations=US en el año 2015 se transportaron en Estados Unidos un total de 798,222,000 pasajeros en todo el año. Asumimos una distribución uniforme de pasajeros en los vuelos dado que no existen evidencias claras de que la capacidad de los aviones sea fija en función de la distancia.\n",
    "\n",
    "Dicho esto:"
   ]
  },
  {
   "cell_type": "code",
   "execution_count": null,
   "metadata": {},
   "outputs": [],
   "source": [
    "total_passsengers = 798222000\n",
    "total_flights = len(df)\n",
    "pass_per_flight = round(total_passsengers/total_flights,2) # 139,76\n",
    "pass_per_flight = int(round(pass_per_flight,0))\n",
    "pass_per_flight"
   ]
  },
  {
   "cell_type": "markdown",
   "metadata": {},
   "source": [
    "#### Cálculo del importe a pagar "
   ]
  },
  {
   "cell_type": "code",
   "execution_count": null,
   "metadata": {},
   "outputs": [],
   "source": [
    "# Retrasos (30-60) mins --> multa en función de la distancia + 50% del importe del billete\n",
    "AVG_TICKET_SHORT_TYPE_I =  5000 + 0.5*pass_per_flight*AVG_TICKET_SHORT\n",
    "AVG_TICKET_MID_TYPE_I   = 10000 + 0.5*pass_per_flight*AVG_TICKET_MID\n",
    "AVG_TICKET_LONG_TYPE_I  = 20000 + 0.5*pass_per_flight*AVG_TICKET_LONG\n",
    "\n",
    "# Retrasos >1h --> multa en función de la distancia + 100% del importe del billete\n",
    "AVG_TICKET_SHORT_TYPE_II =  7500 + 0.5*pass_per_flight*AVG_TICKET_SHORT\n",
    "AVG_TICKET_MID_TYPE_II   = 20000 + 0.5*pass_per_flight*AVG_TICKET_MID\n",
    "AVG_TICKET_LONG_TYPE_II  = 40000 + 0.5*pass_per_flight*AVG_TICKET_LONG\n",
    "\n",
    "# Creamos una lista de los $ a pagar en función de la distancia y el retraso de los vuelos\n",
    "choice_multa = [0,AVG_TICKET_SHORT_TYPE_I,AVG_TICKET_MID_TYPE_I,AVG_TICKET_LONG_TYPE_I,\n",
    "                AVG_TICKET_SHORT_TYPE_II,AVG_TICKET_MID_TYPE_II,AVG_TICKET_LONG_TYPE_II]"
   ]
  },
  {
   "cell_type": "code",
   "execution_count": null,
   "metadata": {},
   "outputs": [],
   "source": [
    "# Creamos la columna correspondiente a la multa\n",
    "condition_multa = [\n",
    "    (df['DELAY_TYPE'] == 'Early arrival') | (df['DELAY_TYPE'] == '(0-30)mins'),\n",
    "    (df['DISTANCE_TYPE'] == 'Short') & (df['DELAY_TYPE'] == '(30-60)mins'),\n",
    "    (df['DISTANCE_TYPE'] == 'Mid') & (df['DELAY_TYPE'] == '(30-60)mins'),\n",
    "    (df['DISTANCE_TYPE'] == 'Long') & (df['DELAY_TYPE'] == '(30-60)mins'),   \n",
    "    \n",
    "    (df['DISTANCE_TYPE'] == 'Short') & (df['DELAY_TYPE'] == '>1h'),\n",
    "    (df['DISTANCE_TYPE'] == 'Mid') & (df['DELAY_TYPE'] == '>1h'),\n",
    "    (df['DISTANCE_TYPE'] == 'Long') & (df['DELAY_TYPE'] == '>1h')]\n",
    "\n",
    "# Añadimos la columna de multas\n",
    "df['FINE'] = np.select(condition_multa, choice_multa, default=int())"
   ]
  },
  {
   "cell_type": "markdown",
   "metadata": {},
   "source": [
    "## Distribución de las multas por aerolínea y retraso en función de la distancia"
   ]
  },
  {
   "cell_type": "code",
   "execution_count": null,
   "metadata": {},
   "outputs": [],
   "source": [
    "fines = pd.DataFrame(df.groupby(df['AIRLINE'])[\"FLIGHT_NUMBER\"].count())\n",
    "fines = fines.rename(columns={\"FLIGHT_NUMBER\":\"TOTAL_FLIGHTS\"})\n",
    "fines[\"AMOUNT_DUE\"] = df.groupby(df['AIRLINE'])[\"FINE\"].sum()\n",
    "fines = fines.sort_values('AMOUNT_DUE',ascending=False)\n",
    "fines = fines.reset_index(level=0, drop=False)\n",
    "fines"
   ]
  },
  {
   "cell_type": "code",
   "execution_count": null,
   "metadata": {},
   "outputs": [],
   "source": [
    "# Seleccionamos las 5 aerolíneas con mayor cantidad de $$ a pagar\n",
    "top_5 = list(fines['AIRLINE'].loc[0:4])\n",
    "top_5_fined = df[df.AIRLINE.isin(top_5)]\n",
    "top_5_fined.head()"
   ]
  },
  {
   "cell_type": "code",
   "execution_count": null,
   "metadata": {},
   "outputs": [],
   "source": [
    "data_sunb = pd.DataFrame(top_5_fined.groupby(df['AIRLINE'])[\"FLIGHT_NUMBER\"].count())\n",
    "data_sunb = data_sunb.rename(columns={\"FLIGHT_NUMBER\":\"TOTAL_FLIGHTS\"})\n",
    "data_sunb[\"AMOUNT_SHORT\"] =  top_5_fined[top_5_fined[\"DISTANCE_TYPE\"]== \"Short\"].groupby(df['AIRLINE'])[\"FINE\"].sum()\n",
    "data_sunb[\"AMOUNT_MID\"] =  top_5_fined[top_5_fined[\"DISTANCE_TYPE\"]== \"Mid\"].groupby(df['AIRLINE'])[\"FINE\"].sum()\n",
    "data_sunb[\"AMOUNT_LONG\"] =  top_5_fined[top_5_fined[\"DISTANCE_TYPE\"]== \"Long\"].groupby(df['AIRLINE'])[\"FINE\"].sum()\n",
    "data_sunb = data_sunb.reset_index(level=0, drop=False)\n",
    "data_sunb"
   ]
  },
  {
   "cell_type": "code",
   "execution_count": null,
   "metadata": {},
   "outputs": [],
   "source": [
    "total = data_sunb['TOTAL_FLIGHTS'].sum()\n",
    "values =[total]\n",
    "values"
   ]
  },
  {
   "cell_type": "code",
   "execution_count": null,
   "metadata": {},
   "outputs": [],
   "source": []
  },
  {
   "cell_type": "code",
   "execution_count": null,
   "metadata": {},
   "outputs": [],
   "source": [
    "top5 = list(data_sunb['AIRLINE'])\n",
    "values = [total]+list(data_sunb.iloc[0,1:])+list(data_sunb.iloc[1,1:])+list(data_sunb.iloc[2,1:])+list(data_sunb.iloc[3,1:])+list(data_sunb.iloc[4,1:])\n",
    "len(values)\n",
    "\n",
    "fig =go.Figure(go.Sunburst(\n",
    "    \n",
    "#         ids=[\"North America\", \"Europe\", \"Australia\", \"North America - Football\", \"Soccer\",\n",
    "#             \"North America - Rugby\", \"Europe - Football\", \"Rugby\",\n",
    "#             \"Europe - American Football\",\"Australia - Football\", \"Association\",\n",
    "#             \"Australian Rules\", \"Autstralia - American Football\", \"Australia - Rugby\",\n",
    "#             \"Rugby League\", \"Rugby Union\"],\n",
    "    \n",
    "        labels=[\"Airlines\", top5[0], \"Short 1\",\"Mid 1\",\"Long 1\",\n",
    "                top5[1],\"Short 2\",\"Mid 2\",\"Long 2\",\n",
    "                top5[2],\"Short 3\",\"Mid 3\",\"Long 3\",\n",
    "                top5[3],\"Short 4\",\"Mid 4\",\"Long 4\",\n",
    "                top5[4],\"Short 5\",\"Mid 5\",\"Long 5\"],\n",
    "        \n",
    "        parents=[\"\",\"Airlines\",top5[0],top5[0],top5[0],\n",
    "                    \"Airlines\",top5[1],top5[1],top5[1],\n",
    "                    \"Airlines\",top5[2],top5[2],top5[2],\n",
    "                    \"Airlines\",top5[3],top5[3],top5[3],\n",
    "                    \"Airlines\",top5[4],top5[4],top5[4]],\n",
    "                           \n",
    "#         values=[100, 140, 120, 100, 200, \n",
    "#                 600,600,400,400,\n",
    "#                 200,200,100,500,\n",
    "#                 600,600,700,500,\n",
    "#                 600,600,500,400],\n",
    "        values = values,\n",
    "        #marker_colors = px.colors.qualitative.Vivid,\n",
    "))\n",
    "\n",
    "\n",
    "fig.update_layout()\n",
    "\n",
    "fig.update_layout(\n",
    "    title=\"Fines distribution per airline and type of flight\",\n",
    "    template=\"plotly_dark\",\n",
    "    margin = dict(t=60, l=0, r=0, b=30),\n",
    "    #hovermode=\"x unified\"\n",
    "    \n",
    ")\n",
    "\n",
    "\n",
    "fig.show()"
   ]
  },
  {
   "cell_type": "markdown",
   "metadata": {},
   "source": [
    "# Cambiar número de vuelos por $?"
   ]
  },
  {
   "cell_type": "code",
   "execution_count": null,
   "metadata": {},
   "outputs": [],
   "source": []
  },
  {
   "cell_type": "markdown",
   "metadata": {},
   "source": [
    "# Airtime - distance"
   ]
  },
  {
   "cell_type": "code",
   "execution_count": null,
   "metadata": {},
   "outputs": [],
   "source": []
  },
  {
   "cell_type": "code",
   "execution_count": null,
   "metadata": {},
   "outputs": [],
   "source": []
  },
  {
   "cell_type": "code",
   "execution_count": null,
   "metadata": {},
   "outputs": [],
   "source": []
  }
 ],
 "metadata": {
  "kernelspec": {
   "display_name": "Python 3 (ipykernel)",
   "language": "python",
   "name": "python3"
  },
  "language_info": {
   "codemirror_mode": {
    "name": "ipython",
    "version": 3
   },
   "file_extension": ".py",
   "mimetype": "text/x-python",
   "name": "python",
   "nbconvert_exporter": "python",
   "pygments_lexer": "ipython3",
   "version": "3.9.12"
  },
  "vscode": {
   "interpreter": {
    "hash": "b3472844a7ad831f024780a557c10180eb151bb97358fb439eb3b23af04efba3"
   }
  }
 },
 "nbformat": 4,
 "nbformat_minor": 4
}
