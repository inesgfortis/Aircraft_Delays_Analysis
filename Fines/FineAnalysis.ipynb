{
 "cells": [
  {
   "cell_type": "code",
   "execution_count": null,
   "metadata": {},
   "outputs": [],
   "source": [
    "import pandas as pd\n",
    "import numpy as np\n",
    "import plotly.graph_objs as go\n",
    "import plotly.express as px\n",
    "\n",
    "import warnings\n",
    "warnings.filterwarnings(\"ignore\")"
   ]
  },
  {
   "cell_type": "markdown",
   "metadata": {},
   "source": [
    "El gobierno de EEUU quiere que las multas a la aerolíneas sean directamente proporcionales a la distancia del trayecto realizado, entendemos que un trayecto corto es aquel que tiene una distancia inferior a 750, uno medio tiene una distancia comprendida entre 750 y 1500 y uno largo es aquel que supera las 1500 millas. Si un vuelo se llega antes de media hora más tarde respecto al horario previsto, asumiremos que ese retraso no ha tenido impacto, si se retrasa entre media hora y una hora se debera devolver el 50% de los billetes a los pasajeros y una multa den función de la distancia. Así mismo si el retraso es superior a 1 hora se deberá devolver el importe total de los billetes a los pasajeros y se deberá pagar una multa mayor que la del caso anterior.\n",
    "\n",
    "**NOTA** Las aerolíneas se consideran plenamente responsables del retraso de los vuelos independientemente de la causa"
   ]
  },
  {
   "cell_type": "code",
   "execution_count": null,
   "metadata": {},
   "outputs": [],
   "source": [
    "# Cargamos los datos y seleccionamos las columnas\n",
    "df = pd.read_parquet(\"../Preprocessing/flightsCleaned.parquet\")\n",
    "#df.head()"
   ]
  },
  {
   "cell_type": "code",
   "execution_count": null,
   "metadata": {},
   "outputs": [],
   "source": [
    "#df.columns"
   ]
  },
  {
   "cell_type": "code",
   "execution_count": null,
   "metadata": {
    "scrolled": false
   },
   "outputs": [],
   "source": [
    "# Seleccionamos las variables que nos interesan para el análisis de las multas\n",
    "fines_df = df.loc[:, ['DATE','AIRLINE', 'FLIGHT_NUMBER','ARRIVAL_DELAY','AIRLINE_DELAY','DISTANCE']]\n",
    "#fines_df.head()"
   ]
  },
  {
   "cell_type": "markdown",
   "metadata": {},
   "source": [
    "En primer lugar vamos a analizar el tráfico aéreo por aerolínea"
   ]
  },
  {
   "cell_type": "code",
   "execution_count": null,
   "metadata": {},
   "outputs": [],
   "source": [
    "airlines = pd.DataFrame(fines_df.groupby(fines_df['AIRLINE'])[\"FLIGHT_NUMBER\"].count())\n",
    "airlines = airlines.rename(columns={\"FLIGHT_NUMBER\":\"TOTAL_FLIGHTS\"})\n",
    "airlines[\"DELAYED_FLIGHTS\"] =  fines_df[fines_df[\"ARRIVAL_DELAY\"]>0].groupby(fines_df['AIRLINE'])[\"FLIGHT_NUMBER\"].count()\n",
    "airlines[\"AIRLINE_DELAYED_FLIGHTS\"] =  fines_df[fines_df[\"AIRLINE_DELAY\"]>0].groupby(fines_df['AIRLINE'])[\"FLIGHT_NUMBER\"].count()\n",
    "airlines = airlines.sort_values('TOTAL_FLIGHTS',ascending=False)\n",
    "airlines = airlines.reset_index(level=0, drop=False)\n",
    "\n",
    "\n",
    "fig = go.Figure()\n",
    "\n",
    "fig.add_trace(go.Bar(\n",
    "    x=airlines['AIRLINE'],\n",
    "    y=airlines['TOTAL_FLIGHTS'],\n",
    "    name='Total Flights',\n",
    "    marker_color=px.colors.qualitative.Vivid[5]\n",
    "))\n",
    "fig.add_trace(go.Bar(\n",
    "    x=airlines['AIRLINE'],\n",
    "    y=airlines['DELAYED_FLIGHTS'],\n",
    "    name='Delayed Flights',\n",
    "    marker_color=px.colors.qualitative.Vivid[9]\n",
    "))\n",
    "fig.add_trace(go.Bar(\n",
    "    x=airlines['AIRLINE'],\n",
    "    y=airlines['AIRLINE_DELAYED_FLIGHTS'],\n",
    "    name='Airline Delayed Flights',\n",
    "    marker_color=px.colors.qualitative.Vivid[10]\n",
    "))\n",
    "\n",
    "# Here we modify the tickangle of the xaxis, resulting in rotated labels.\n",
    "fig.update_layout(\n",
    "    title=\"Flights Distribution per Airline\",\n",
    "    xaxis_title=\"Airlines\",\n",
    "    yaxis_title=\"Air traffic\",\n",
    "    legend_title=\"Leyend\",\n",
    "    template=\"plotly_dark\",\n",
    "    barmode='group', \n",
    "    xaxis_tickangle=-45   \n",
    ")\n",
    "\n",
    "fig.update_layout(barmode='group', xaxis_tickangle=-45, height = 650)\n",
    "fig.show()"
   ]
  },
  {
   "cell_type": "markdown",
   "metadata": {},
   "source": [
    "A continuación creamos una serie de variables relacionadas con las rutas y las multas"
   ]
  },
  {
   "cell_type": "code",
   "execution_count": null,
   "metadata": {},
   "outputs": [],
   "source": [
    "# Creamos la columna tipo de vuelos según la distancia\n",
    "condition_distance = [\n",
    "    (fines_df['DISTANCE'] < 750) ,\n",
    "    (fines_df['DISTANCE'] >= 750) & (fines_df['DISTANCE'] <1500),\n",
    "    (fines_df['DISTANCE'] >= 1500)]\n",
    "\n",
    "choice_distance = ['Short', 'Mid', 'Long']\n",
    "\n",
    "# Creamos la columna tipo de retraso\n",
    "condition_delay = [\n",
    "    (fines_df['ARRIVAL_DELAY'] <= 0) ,\n",
    "    (fines_df['ARRIVAL_DELAY'] > 0) & (fines_df['ARRIVAL_DELAY'] <= 30),\n",
    "    (fines_df['ARRIVAL_DELAY'] > 30) & (fines_df['ARRIVAL_DELAY'] <=60),\n",
    "    (fines_df['ARRIVAL_DELAY'] > 60)]\n",
    "\n",
    "choice_delay = ['Early arrival', '(0-30)mins', '(30-60)mins','>1h']\n",
    "\n",
    "# Añadimos las columnas\n",
    "fines_df['DISTANCE_TYPE'] = np.select(condition_distance, choice_distance, default='Not Specified')\n",
    "fines_df['DELAY_TYPE'] = np.select(condition_delay, choice_delay, default='Not Specified')"
   ]
  },
  {
   "cell_type": "code",
   "execution_count": null,
   "metadata": {
    "scrolled": false
   },
   "outputs": [],
   "source": [
    "# Agrupamos por aerolineas la info de los retrasos\n",
    "level_count = pd.DataFrame(fines_df.groupby(\"AIRLINE\")[\"DELAY_TYPE\"].value_counts()).rename(columns = {\"DELAY_TYPE\": \"count\"}).reset_index()\n",
    "level_count = level_count.sort_values('count',ascending=False)\n",
    "\n",
    "fig = px.histogram(level_count, x=\"AIRLINE\", y=\"count\",barnorm='percent', color=\"DELAY_TYPE\",text_auto='.2f',\n",
    "                   title=\"Flights Distribution per Airline\", color_discrete_sequence=px.colors.qualitative.Vivid, template=\"plotly_dark\")\n",
    "\n",
    "fig.update_layout(\n",
    "    title=\"Flights Distribution per Airline\",\n",
    "    xaxis_title=\"Airlines\",\n",
    "    yaxis_title=\"% of flights per delay type\",\n",
    "    legend_title=\"Leyend\",\n",
    "    template=\"plotly_dark\",\n",
    "    hovermode=\"x unified\", \n",
    "    height = 650\n",
    ")\n",
    "\n",
    "\n",
    "fig.show()"
   ]
  },
  {
   "cell_type": "markdown",
   "metadata": {},
   "source": [
    "El 80% de los vuelos de todas las aerolíneas están exentos de multa dado el tipo de retraso. No obstante, Frontier y Spririt destacan por ser las dos compañías con menor % de vuelos libres de multas. Vamos a analizar más detenidamente los vuelos objetivo de multa"
   ]
  },
  {
   "cell_type": "code",
   "execution_count": null,
   "metadata": {},
   "outputs": [],
   "source": [
    "# Agrupamos por aerolineas la info de los retrasos\n",
    "level_count = pd.DataFrame(fines_df[fines_df[\"AIRLINE_DELAY\"]>0].groupby(\"AIRLINE\")[\"DELAY_TYPE\"].value_counts()).rename(columns = {\"DELAY_TYPE\": \"count\"}).reset_index()\n",
    "level_count = level_count.loc[(level_count['DELAY_TYPE'] == '(30-60)mins') | (level_count['DELAY_TYPE'] == \">1h\")]\n",
    "level_count = level_count.sort_values('count',ascending=False)\n",
    "\n",
    "fig = px.histogram(level_count, x=\"AIRLINE\", y=\"count\", color=\"DELAY_TYPE\",text_auto='.f',\n",
    "                   title=\"Flights Distribution per Airline\", color_discrete_sequence=px.colors.qualitative.Vivid[2:], template=\"plotly_dark\")\n",
    "\n",
    "fig.update_layout(\n",
    "    title=\"Late arrival flights distribution per Airline\",\n",
    "    xaxis_title=\"Airlines\",\n",
    "    yaxis_title=\"Amount of flights per delay type\",\n",
    "    legend_title=\"Leyend\",\n",
    "    template=\"plotly_dark\",\n",
    "    hovermode=\"x unified\", \n",
    "    height = 650\n",
    ")\n",
    "\n",
    "\n",
    "fig.show()"
   ]
  },
  {
   "cell_type": "markdown",
   "metadata": {},
   "source": [
    "Alarmante el caso de Southwest. En la gráfica anterior veíamos que en torno al 89% de sus vuelos llegaban a destino con un máximo de retraso de 30 min. En esta gráfica se observa que ese 11% restante incluye una gran cantidad de vuelos, lo que podría costarle a la compaía mucho dinero."
   ]
  },
  {
   "cell_type": "markdown",
   "metadata": {},
   "source": [
    "# FINES"
   ]
  },
  {
   "cell_type": "markdown",
   "metadata": {},
   "source": [
    "Vamos a analizar cuánto le costaría a cada compañia dada esta distribución de retrasos\n",
    "\n",
    "**RECAP:** Las compañias pagarán una multa en función de la distancia del trayecto y el tiempo de retraso. Además también deberén reembolsar a los pasajeros un % del importe de su billete como consecuencia del tiempo de retraso\n",
    "\n",
    "Para calcular cuánto se deberá pagar en cada caso necesitamos hacer una serie de estimaciones las cuales detallaremos a continuación.\n",
    "\n",
    "**IMPORTE DEL BILLETE**\n",
    "\n",
    "\"In 2015, an average flight cost $430.\" https://www.mercurynews.com/2016/07/08/see-how-the-cost-of-a-flight-has-changed-since-1963/\n",
    "\n",
    "Asociamos avg flight con distancia media. También asumimos que a mayor distancia mayor precio (un 30% superior al avg), así mismo como a menor distancia, menor precio (un 30% inferior al avg). Como consecuencia, asumimos que el importe de cada billete en función de la distancia es el siguiente:"
   ]
  },
  {
   "cell_type": "code",
   "execution_count": null,
   "metadata": {},
   "outputs": [],
   "source": [
    "AVG_TICKET_SHORT = 0.7*430 # $301\n",
    "AVG_TICKET_MID = 430\n",
    "AVG_TICKET_LONG = 1.3*430  # $559"
   ]
  },
  {
   "cell_type": "markdown",
   "metadata": {},
   "source": [
    "**NIVEL DE OCUPACIÓN**\n",
    "\n",
    "Por otro lado, necesitamos estimar el número de pasajeros por vuelo para estimar el importe a pagar a los pasajeros en los vuelos que sufren mayores retrasos. De acuerdo con https://datos.bancomundial.org/indicator/IS.AIR.PSGR?locations=US en el año 2015 se transportaron en Estados Unidos un total de 798,222,000 pasajeros en todo el año. Asumimos una distribución uniforme de pasajeros en los vuelos dado que no existen evidencias claras de que la capacidad de los aviones sea fija en función de la distancia.\n",
    "\n",
    "Dicho esto:"
   ]
  },
  {
   "cell_type": "code",
   "execution_count": null,
   "metadata": {},
   "outputs": [],
   "source": [
    "total_passsengers = 798222000\n",
    "total_flights = len(fines_df)\n",
    "pass_per_flight = round(total_passsengers/total_flights,2) # 139,76\n",
    "pass_per_flight = int(round(pass_per_flight,0))\n",
    "pass_per_flight"
   ]
  },
  {
   "cell_type": "markdown",
   "metadata": {},
   "source": [
    "#### Cálculo del importe a pagar "
   ]
  },
  {
   "cell_type": "code",
   "execution_count": null,
   "metadata": {},
   "outputs": [],
   "source": [
    "# Retrasos (30-60) mins --> multa en función de la distancia + 50% del importe del billete\n",
    "AVG_TICKET_SHORT_TYPE_I =  5000 + 0.5*pass_per_flight*AVG_TICKET_SHORT\n",
    "AVG_TICKET_MID_TYPE_I   = 10000 + 0.5*pass_per_flight*AVG_TICKET_MID\n",
    "AVG_TICKET_LONG_TYPE_I  = 20000 + 0.5*pass_per_flight*AVG_TICKET_LONG\n",
    "\n",
    "# Retrasos >1h --> multa en función de la distancia + 100% del importe del billete\n",
    "AVG_TICKET_SHORT_TYPE_II =  7500 + 0.5*pass_per_flight*AVG_TICKET_SHORT\n",
    "AVG_TICKET_MID_TYPE_II   = 20000 + 0.5*pass_per_flight*AVG_TICKET_MID\n",
    "AVG_TICKET_LONG_TYPE_II  = 40000 + 0.5*pass_per_flight*AVG_TICKET_LONG\n",
    "\n",
    "# Creamos una lista de los $ a pagar en función de la distancia y el retraso de los vuelos\n",
    "choice_multa = [0,AVG_TICKET_SHORT_TYPE_I,AVG_TICKET_MID_TYPE_I,AVG_TICKET_LONG_TYPE_I,\n",
    "                AVG_TICKET_SHORT_TYPE_II,AVG_TICKET_MID_TYPE_II,AVG_TICKET_LONG_TYPE_II]\n",
    "\n",
    "# Creamos la columna correspondiente a la multa\n",
    "condition_multa = [\n",
    "    (fines_df['DELAY_TYPE'] == 'Early arrival') | (fines_df['DELAY_TYPE'] == '(0-30)mins'),\n",
    "    (fines_df['DISTANCE_TYPE'] == 'Short') & (fines_df['DELAY_TYPE'] == '(30-60)mins'),\n",
    "    (fines_df['DISTANCE_TYPE'] == 'Mid') & (fines_df['DELAY_TYPE'] == '(30-60)mins'),\n",
    "    (fines_df['DISTANCE_TYPE'] == 'Long') & (fines_df['DELAY_TYPE'] == '(30-60)mins'),   \n",
    "    \n",
    "    (fines_df['DISTANCE_TYPE'] == 'Short') & (fines_df['DELAY_TYPE'] == '>1h'),\n",
    "    (fines_df['DISTANCE_TYPE'] == 'Mid') & (fines_df['DELAY_TYPE'] == '>1h'),\n",
    "    (fines_df['DISTANCE_TYPE'] == 'Long') & (fines_df['DELAY_TYPE'] == '>1h')]\n",
    "\n",
    "# Añadimos la columna de multas\n",
    "fines_df['FINE'] = np.select(condition_multa, choice_multa, default=int())"
   ]
  },
  {
   "cell_type": "code",
   "execution_count": null,
   "metadata": {},
   "outputs": [],
   "source": [
    "# # Guardamos los datos preprocesados, para ser utilizados en la predicción posterior\n",
    "# fines_df.to_parquet(\"dataFines.parquet\", index=False)"
   ]
  },
  {
   "cell_type": "markdown",
   "metadata": {},
   "source": [
    "## Distribución de las multas por aerolínea y retraso en función de la distancia"
   ]
  },
  {
   "cell_type": "code",
   "execution_count": null,
   "metadata": {
    "scrolled": true
   },
   "outputs": [],
   "source": [
    "multas = pd.DataFrame(fines_df.groupby(fines_df['AIRLINE'])[\"FLIGHT_NUMBER\"].count())\n",
    "multas = multas.rename(columns={\"FLIGHT_NUMBER\":\"TOTAL_FLIGHTS\"})\n",
    "multas[\"SHORT_FLIGHTS\"] =  fines_df[fines_df[\"DISTANCE_TYPE\"]== \"Short\"].groupby(fines_df['AIRLINE'])[\"FLIGHT_NUMBER\"].count()\n",
    "multas[\"MID_FLIGHTS\"] =  fines_df[fines_df[\"DISTANCE_TYPE\"]== \"Mid\"].groupby(fines_df['AIRLINE'])[\"FLIGHT_NUMBER\"].count()\n",
    "multas[\"LONG_FLIGHTS\"] =  fines_df[fines_df[\"DISTANCE_TYPE\"]== \"Long\"].groupby(fines_df['AIRLINE'])[\"FLIGHT_NUMBER\"].count()\n",
    "\n",
    "multas['FINE'] = fines_df.groupby(fines_df['AIRLINE'])[\"FINE\"].sum()\n",
    "\n",
    "multas[\"FINE_SHORT\"] =  fines_df[fines_df[\"DISTANCE_TYPE\"]== \"Short\"].groupby(fines_df['AIRLINE'])[\"FINE\"].sum()\n",
    "multas[\"FINE_MID\"] =  fines_df[fines_df[\"DISTANCE_TYPE\"]== \"Mid\"].groupby(fines_df['AIRLINE'])[\"FINE\"].sum()\n",
    "multas[\"FINE_LONG\"] =  fines_df[fines_df[\"DISTANCE_TYPE\"]== \"Long\"].groupby(fines_df['AIRLINE'])[\"FINE\"].sum()\n",
    "\n",
    "# Una columna para repartir las multas en función del tiempo retrasado. Type I = (0-30mins) Type II = >1h\n",
    "multas[\"FINE_SHORT_I\"] =  fines_df[(fines_df['DISTANCE_TYPE'] == 'Short') & (fines_df['DELAY_TYPE'] == '(30-60)mins')].groupby(fines_df['AIRLINE'])[\"FINE\"].sum()\n",
    "multas[\"FINE_SHORT_II\"] =  fines_df[(fines_df['DISTANCE_TYPE'] == 'Short') & (fines_df['DELAY_TYPE'] == '>1h')].groupby(fines_df['AIRLINE'])[\"FINE\"].sum()\n",
    "multas[\"FINE_MID_I\"] =  fines_df[(fines_df['DISTANCE_TYPE'] == 'Mid') & (fines_df['DELAY_TYPE'] == '(30-60)mins')].groupby(fines_df['AIRLINE'])[\"FINE\"].sum()\n",
    "multas[\"FINE_MID_II\"] =  fines_df[(fines_df['DISTANCE_TYPE'] == 'Mid') & (fines_df['DELAY_TYPE'] == '>1h')].groupby(fines_df['AIRLINE'])[\"FINE\"].sum()\n",
    "multas[\"FINE_LONG_I\"] =  fines_df[(fines_df['DISTANCE_TYPE'] == 'Long') & (fines_df['DELAY_TYPE'] == '(30-60)mins')].groupby(fines_df['AIRLINE'])[\"FINE\"].sum()\n",
    "multas[\"FINE_LONG_II\"] =  fines_df[(fines_df['DISTANCE_TYPE'] == 'Long') & (fines_df['DELAY_TYPE'] == '>1h')].groupby(fines_df['AIRLINE'])[\"FINE\"].sum()\n",
    "\n",
    "# Cuantos vuelos se han retrasado de cada tipo\n",
    "multas[\"SHORT_DELAYED_I\"] =  fines_df[(fines_df['DISTANCE_TYPE'] == 'Short') & (fines_df['DELAY_TYPE'] == '(30-60)mins')].groupby(fines_df['AIRLINE'])[\"FLIGHT_NUMBER\"].count()\n",
    "multas[\"SHORT_DELAYED_II\"] =  fines_df[(fines_df['DISTANCE_TYPE'] == 'Short') & (fines_df['DELAY_TYPE'] == '>1h')].groupby(fines_df['AIRLINE'])[\"FLIGHT_NUMBER\"].count()\n",
    "multas[\"MID_DELAYED_I\"] =  fines_df[(fines_df['DISTANCE_TYPE'] == 'Mid') & (fines_df['DELAY_TYPE'] == '(30-60)mins')].groupby(fines_df['AIRLINE'])[\"FLIGHT_NUMBER\"].count()\n",
    "multas[\"MID_DELAYED_II\"] =  fines_df[(fines_df['DISTANCE_TYPE'] == 'Mid') & (fines_df['DELAY_TYPE'] == '>1h')].groupby(fines_df['AIRLINE'])[\"FLIGHT_NUMBER\"].count()\n",
    "multas[\"LONG_DELAYED_I\"] =  fines_df[(fines_df['DISTANCE_TYPE'] == 'Long') & (fines_df['DELAY_TYPE'] == '(30-60)mins')].groupby(fines_df['AIRLINE'])[\"FLIGHT_NUMBER\"].count()\n",
    "multas[\"LONG_DELAYED_II\"] =  fines_df[(fines_df['DISTANCE_TYPE'] == 'Long') & (fines_df['DELAY_TYPE'] == '>1h')].groupby(fines_df['AIRLINE'])[\"FLIGHT_NUMBER\"].count()\n",
    "\n",
    "multas = multas.fillna(0)\n",
    "multas = multas.reset_index(level=0, drop=False)\n",
    "# multas"
   ]
  },
  {
   "cell_type": "code",
   "execution_count": null,
   "metadata": {},
   "outputs": [],
   "source": [
    "# Guardamos los datos preprocesados, para ser utilizados en la predicción posterior\n",
    "# multas.to_parquet(\"dataFines.parquet\", index=False)"
   ]
  },
  {
   "cell_type": "code",
   "execution_count": null,
   "metadata": {},
   "outputs": [],
   "source": [
    "# multas.head()"
   ]
  },
  {
   "cell_type": "markdown",
   "metadata": {},
   "source": [
    "## General fines distribution overview. Distance-Delay"
   ]
  },
  {
   "cell_type": "code",
   "execution_count": null,
   "metadata": {},
   "outputs": [],
   "source": [
    "fig =go.Figure(go.Sunburst(\n",
    "    \n",
    "        labels=[\"Fines\", \"Short Flights\", \"S.(30-60 mins)\",\"S.>1h\",\n",
    "                \"Mid Flights\", \"M.(30-60 mins)\",\"M.>1h\",\n",
    "                \"Long Flights\", \"L.(30-60 mins)\",\"L.>1h\"],\n",
    "        \n",
    "        parents=[\"\",\"Fines\",\"Short Flights\",\"Short Flights\",\n",
    "                    \"Fines\",\"Mid Flights\",\"Mid Flights\",\n",
    "                    \"Fines\",\"Long Flights\", \"Long Flights\"],\n",
    "\n",
    "        values = [multas['FINE'].sum()]+[multas['FINE_SHORT'].sum()]+[multas['FINE_SHORT_I'].sum()]+[multas['FINE_SHORT_II'].sum()]+\n",
    "             [multas['FINE_MID'].sum()]+[multas['FINE_MID_I'].sum()]+[multas['FINE_MID_II'].sum()]+\n",
    "             [multas['FINE_LONG'].sum()]+[multas['FINE_LONG_I'].sum()]+[multas['FINE_MID_II'].sum()],\n",
    "\n",
    "        #marker=dict(colors=px.colors.qualitative.Vivid)\n",
    "        marker = dict(colors=[\"silver\",\"paleturquoise\",\"paleturquoise\",\"paleturquoise\",\n",
    "                              \"yellowgreen\",\"yellowgreen\",\"yellowgreen\",\n",
    "                              \"mediumseagreen\",\"mediumseagreen\",\"mediumseagreen\"]),\n",
    "))\n",
    "\n",
    "fig.update_layout(\n",
    "    title=\"Fines distribution by flight distance and delay\",\n",
    "    template=\"plotly_dark\",\n",
    "    margin = dict(t=60, l=0, r=0, b=0),\n",
    "    font_size=14,\n",
    "    height = 650\n",
    ")\n",
    "\n",
    "\n",
    "fig.show()"
   ]
  },
  {
   "cell_type": "markdown",
   "metadata": {},
   "source": [
    "## Flights distribution. Airline-Distance-Delay"
   ]
  },
  {
   "cell_type": "code",
   "execution_count": null,
   "metadata": {
    "scrolled": true
   },
   "outputs": [],
   "source": [
    "suma_delays = [multas['SHORT_DELAYED_I'].sum()]+[multas['SHORT_DELAYED_II'].sum()]+[multas['MID_DELAYED_I'].sum()]+[multas['MID_DELAYED_II'].sum()]+[multas['LONG_DELAYED_I'].sum()]+[multas['LONG_DELAYED_II'].sum()]\n",
    "\n",
    "fig = go.Figure(data=[go.Sankey(\n",
    "    node = dict(\n",
    "      pad = 15,\n",
    "      thickness = 20,\n",
    "      line = dict(color = \"black\", width = 0.5),\n",
    "      label = list(multas['AIRLINE'])+[\"Short\", \"Mid\", \"Long\", \"(30-60)mins\", \">1h\"],\n",
    "            #   0     1     2         3       4        5             6        \n",
    "      color = [\"mediumseagreen\"]*14+[\"yellowgreen\"]*3+[\"paleturquoise\"]*2\n",
    "    ),\n",
    "    link = dict(\n",
    "\n",
    "      source =  [0,1,2,3,4,5,6,7,8,9,10,11,12,13]*3+[14,14,15,15,16,16],\n",
    "        \n",
    "             #  B1 B2 B2 C1 C1 C2\n",
    "      target = list([14]*14+[15]*14+[16]*14+[17,18]*3),\n",
    "      value  = list(multas['SHORT_FLIGHTS'])+list(multas['MID_FLIGHTS'])+list(multas['LONG_FLIGHTS'])+suma_delays,\n",
    "      #color = [\"mediumseagreen\"]*14+[\"yellowgreen\"]*3+[\"paleturquoise\"]*2\n",
    "\n",
    "  ))])\n",
    "\n",
    "fig.update_layout(title_text=\"Flights distribution. Airline-Distance-Delay\", font_size=10, template=\"plotly_dark\", \n",
    "    height = 650)\n",
    "fig.show()"
   ]
  },
  {
   "cell_type": "markdown",
   "metadata": {},
   "source": [
    "## Fines distribution. Airline-Distance-Delay"
   ]
  },
  {
   "cell_type": "code",
   "execution_count": null,
   "metadata": {},
   "outputs": [],
   "source": [
    "suma_fines = [multas['FINE_SHORT_I'].sum()]+[multas['FINE_SHORT_II'].sum()]+[multas['FINE_MID_I'].sum()]+[multas['FINE_MID_II'].sum()]+[multas['FINE_LONG_I'].sum()]+[multas['FINE_LONG_II'].sum()]\n",
    "\n",
    "fig = go.Figure(data=[go.Sankey(\n",
    "    node = dict(\n",
    "      pad = 15,\n",
    "      thickness = 20,\n",
    "      line = dict(color = \"black\", width = 0.5),\n",
    "      label = list(multas['AIRLINE'])+[\"Short\", \"Mid\", \"Long\", \"(30-60)mins\", \">1h\"],\n",
    "            #   0     1     2         3       4        5             6        \n",
    "      color = [\"mediumseagreen\"]*14+[\"yellowgreen\"]*3+[\"paleturquoise\"]*2\n",
    "    ),\n",
    "    link = dict(\n",
    "\n",
    "      source =  [0,1,2,3,4,5,6,7,8,9,10,11,12,13]*3+[14,14,15,15,16,16],\n",
    "        \n",
    "             #  B1 B2 B2 C1 C1 C2\n",
    "      target = list([14]*14+[15]*14+[16]*14+[17,18]*3),\n",
    "      value  = list(multas['FINE_SHORT'])+list(multas['FINE_MID'])+list(multas['FINE_LONG'])+suma_fines\n",
    "\n",
    "  ))])\n",
    "\n",
    "fig.update_layout(title_text=\"Fines distribution. Airline-Distance-Delay\", font_size=10, template=\"plotly_dark\", \n",
    "    height = 650)\n",
    "fig.show()"
   ]
  },
  {
   "cell_type": "markdown",
   "metadata": {},
   "source": [
    "**NOTA:** G = mil millones de $"
   ]
  },
  {
   "cell_type": "markdown",
   "metadata": {},
   "source": [
    "## Alternative visualization"
   ]
  },
  {
   "cell_type": "code",
   "execution_count": null,
   "metadata": {
    "scrolled": true
   },
   "outputs": [],
   "source": [
    "# fig = px.treemap(\n",
    "#     fines_df[fines_df[\"DELAY_TYPE\"].isin([\"(30-60)mins\",\">1h\"])], path= [\"AIRLINE\", \"DISTANCE_TYPE\", \"DELAY_TYPE\"], values='FINE',\n",
    "#         color='ARRIVAL_DELAY', color_continuous_scale='Oryel')\n",
    "\n",
    "# fig.update_layout(\n",
    "#     title=\"Fines distribution. Airline-Distance-Delay\",\n",
    "#     template=\"plotly_dark\",\n",
    "#     margin = dict(t=50, l=25, r=25, b=25))\n",
    "# fig.show()"
   ]
  },
  {
   "cell_type": "markdown",
   "metadata": {},
   "source": [
    "Arrival delay = mean; Fine = sum"
   ]
  }
 ],
 "metadata": {
  "kernelspec": {
   "display_name": "Python 3 (ipykernel)",
   "language": "python",
   "name": "python3"
  },
  "language_info": {
   "codemirror_mode": {
    "name": "ipython",
    "version": 3
   },
   "file_extension": ".py",
   "mimetype": "text/x-python",
   "name": "python",
   "nbconvert_exporter": "python",
   "pygments_lexer": "ipython3",
   "version": "3.8.5"
  },
  "vscode": {
   "interpreter": {
    "hash": "b3472844a7ad831f024780a557c10180eb151bb97358fb439eb3b23af04efba3"
   }
  }
 },
 "nbformat": 4,
 "nbformat_minor": 4
}
