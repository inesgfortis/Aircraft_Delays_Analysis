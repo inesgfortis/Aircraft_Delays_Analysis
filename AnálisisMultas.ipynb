{
 "cells": [
  {
   "cell_type": "code",
   "execution_count": null,
   "metadata": {},
   "outputs": [],
   "source": [
    "import pandas as pd\n",
    "import numpy as np\n",
    "import plotly.graph_objs as go\n",
    "import plotly.express as px\n",
    "import seaborn as sns"
   ]
  },
  {
   "cell_type": "code",
   "execution_count": null,
   "metadata": {},
   "outputs": [],
   "source": [
    "df = pd.read_csv(\"flightsCleaned.csv\")\n",
    "df.dtypes"
   ]
  },
  {
   "cell_type": "code",
   "execution_count": null,
   "metadata": {},
   "outputs": [],
   "source": [
    "# Añadimos el FlightNum como variable categórica\n",
    "df['FLIGHT_NUMBER']=df['FLIGHT_NUMBER'].astype(object) \n",
    "\n",
    "# Configuramos DATE como variable de tipo datetime\n",
    "df['DATE'] = pd.to_datetime(df['DATE'])\n",
    "\n",
    "# Mostramos el dataset\n",
    "pd.set_option('display.max_columns', None)\n",
    "df.head()"
   ]
  },
  {
   "cell_type": "code",
   "execution_count": null,
   "metadata": {},
   "outputs": [],
   "source": [
    "airports = pd.DataFrame(df.groupby(df['ORIGIN_AIRPORT'])[\"FLIGHT_NUMBER\"].count())\n",
    "airports = airports.rename(columns={\"FLIGHT_NUMBER\":\"TOTAL_FLIGHTS\"})\n",
    "airports[\"DELAYED_FLIGHTS\"] =  df[df[\"ARRIVAL_DELAY\"]>0].groupby(df['ORIGIN_AIRPORT'])[\"FLIGHT_NUMBER\"].count()\n",
    "airports[\"DELAY_PERCENTAGE\"] = np.round(airports['DELAYED_FLIGHTS']/airports['TOTAL_FLIGHTS']*100,2)\n",
    "\n",
    "# Ordenamos los aeropuertos de tal manera que los 5 con mayor % de retrasos aparezcan los primeros\n",
    "airports = airports.sort_values('DELAY_PERCENTAGE',ascending=False)\n",
    "airports"
   ]
  },
  {
   "cell_type": "code",
   "execution_count": null,
   "metadata": {},
   "outputs": [],
   "source": [
    "from urllib.request import urlopen\n",
    "import json\n",
    "with urlopen('https://raw.githubusercontent.com/plotly/datasets/master/geojson-counties-fips.json') as response:\n",
    "    counties = json.load(response)\n",
    "\n",
    "import pandas as pd\n",
    "df2 = pd.read_csv(\"https://raw.githubusercontent.com/plotly/datasets/master/fips-unemp-16.csv\",\n",
    "                   dtype={\"fips\": str})\n",
    "counties\n",
    "#df"
   ]
  },
  {
   "cell_type": "code",
   "execution_count": null,
   "metadata": {},
   "outputs": [],
   "source": [
    "{'type': 'FeatureCollection',\n",
    " 'features': [{'type': 'Feature',\n",
    "   'properties': {'GEO_ID': '0500000US01001',\n",
    "    'STATE': '01',\n",
    "    'COUNTY': '001',\n",
    "    'NAME': 'Autauga',\n",
    "    'LSAD': 'County',\n",
    "    'CENSUSAREA': 594.436},\n",
    "   'geometry': {'type': 'Polygon',\n",
    "    'coordinates': [[[-86.496774, 32.344437],\n",
    "      [-86.717897, 32.402814],\n",
    "      [-86.814912, 32.340803],\n",
    "      [-86.890581, 32.502974],\n",
    "      [-86.917595, 32.664169],\n",
    "      [-86.71339, 32.661732],\n",
    "      [-86.714219, 32.705694],\n",
    "      [-86.413116, 32.707386],\n",
    "      [-86.411172, 32.409937],\n",
    "      [-86.496774, 32.344437]]]},\n",
    "   'id': '01001'}]\n",
    "}"
   ]
  },
  {
   "cell_type": "code",
   "execution_count": null,
   "metadata": {},
   "outputs": [],
   "source": [
    "import plotly.graph_objects as go\n",
    "\n",
    "fig = go.Figure(go.Choroplethmapbox(geojson=counties, locations=df.fips, z=df.unemp,\n",
    "                                    colorscale=\"Viridis\", zmin=0, zmax=12, marker_line_width=0))\n",
    "fig.update_layout(mapbox_style=\"light\", mapbox_accesstoken=token,\n",
    "                  mapbox_zoom=3, mapbox_center = {\"lat\": 37.0902, \"lon\": -95.7129})\n",
    "fig.update_layout(margin={\"r\":0,\"t\":0,\"l\":0,\"b\":0})\n",
    "fig.show()"
   ]
  },
  {
   "cell_type": "markdown",
   "metadata": {},
   "source": [
    "## Información Multas"
   ]
  },
  {
   "cell_type": "code",
   "execution_count": null,
   "metadata": {},
   "outputs": [],
   "source": [
    "df.head()"
   ]
  },
  {
   "cell_type": "markdown",
   "metadata": {},
   "source": [
    "Añadimos un campo con el tipo de trayecto en función de la distancia"
   ]
  },
  {
   "cell_type": "code",
   "execution_count": null,
   "metadata": {},
   "outputs": [],
   "source": [
    "# crear una lista de nuestras condiciones\n",
    "conditions = [\n",
    "    (df['DISTANCE'] < 750),\n",
    "    (df['DISTANCE'] >= 750) & (df['DISTANCE'] <= 1500),\n",
    "    (df['DISTANCE'] > 1500)\n",
    "    ]\n",
    "\n",
    "# crear una lista de los valores que queremos asignar a cada condición\n",
    "values = ['Corto', 'Medio', 'Largo']\n",
    "\n",
    "# crear una nueva columna y utilizar np.select para asignarle valores utilizando nuestras listas como argumentos\n",
    "df['TYPE'] = np.select(conditions, values)\n",
    "\n",
    "df.head()"
   ]
  },
  {
   "cell_type": "markdown",
   "metadata": {},
   "source": [
    "Hacemos lo mismo con el campo de las multas, teniendo en cuenta el coste medio del trayecto en EEUU:\n",
    "\"In 2015, an average flight cost $430.\" https://www.mercurynews.com/2016/07/08/see-how-the-cost-of-a-flight-has-changed-since-1963/"
   ]
  },
  {
   "cell_type": "markdown",
   "metadata": {},
   "source": [
    "# DUDAS\n",
    "¿Deberíamos usar el precio medio?\n",
    "¿Deberíamos tener en cuenta ARRIVAL_DELAY o solo AIRLINE_DELAY?"
   ]
  },
  {
   "cell_type": "code",
   "execution_count": null,
   "metadata": {},
   "outputs": [],
   "source": [
    "# crear una lista de nuestras condiciones\n",
    "AVG_TICKET = 430\n",
    "conditions = [\n",
    "    (df['ARRIVAL_DELAY'] <= 30),\n",
    "    (df['DISTANCE_TYPE']==\"Corto\") & (df['ARRIVAL_DELAY'] <= 60),\n",
    "    (df['DISTANCE_TYPE']==\"Medio\") & (df['ARRIVAL_DELAY'] <= 60),\n",
    "    (df['DISTANCE_TYPE']==\"Largo\") & (df['ARRIVAL_DELAY'] <= 60),\n",
    "    (df['DISTANCE_TYPE']==\"Corto\") & (df['ARRIVAL_DELAY'] > 60),\n",
    "    (df['DISTANCE_TYPE']==\"Medio\") & (df['ARRIVAL_DELAY'] > 60),\n",
    "    (df['DISTANCE_TYPE']==\"Largo\") & (df['ARRIVAL_DELAY'] > 60)\n",
    "    ]\n",
    "\n",
    "# crear una lista de los valores que queremos asignar a cada condición\n",
    "values = [0, 5000+AVG_TICKET/2, 10000+AVG_TICKET/2, 20000+AVG_TICKET/2, 7500+AVG_TICKET, 20000+AVG_TICKET, 40000+AVG_TICKET]\n",
    "\n",
    "# crear una nueva columna y utilizar np.select para asignarle valores utilizando nuestras listas como argumentos\n",
    "df['FINE'] = np.select(conditions, values)\n",
    "\n",
    "df[27:32]"
   ]
  },
  {
   "cell_type": "markdown",
   "metadata": {},
   "source": [
    "## Datos Multas"
   ]
  },
  {
   "cell_type": "code",
   "execution_count": 2,
   "metadata": {},
   "outputs": [],
   "source": [
    "# Creamos la columna tipo de vuelos\n",
    "condition_distance = [\n",
    "    (df['DISTANCE'] < 750) ,\n",
    "    (df['DISTANCE'] >= 750) & (df['DISTANCE'] <1500),\n",
    "    (df['DISTANCE'] >= 1500)]\n",
    "\n",
    "choice_distance = ['Short', 'Mid', 'Long']\n",
    "\n",
    "# Creamos la columna tipo de retraso\n",
    "condition_delay = [\n",
    "    (df['ARRIVAL_DELAY'] < 0) ,\n",
    "    (df['ARRIVAL_DELAY'] <= 30) ,\n",
    "    (df['ARRIVAL_DELAY'] > 30) & (df['DISTANCE'] <=60),\n",
    "    (df['ARRIVAL_DELAY'] > 60)]\n",
    "\n",
    "choice_delay = ['Early arrival', '(0-30)mins', '(30-60)mins','>1h']\n",
    "\n",
    "# Añadimos las columnas\n",
    "df['TYPE'] = np.select(condition_distance, choice_distance, default='Not Specified')\n",
    "df['DELAY_TYPE'] = np.select(condition_delay, choice_delay, default='Not Specified')\n",
    "\n",
    "# Creamos la columna tipo de retraso\n",
    "condition_multa = [\n",
    "    (df['TYPE'] == 'Early arrival') | (df['TYPE'] == '(0-30)mins'),\n",
    "    (df['DISTANCE'] == 'Short') & (df['ARRIVAL_DELAY'] == '(30-60)mins'),\n",
    "    (df['DISTANCE'] == 'Mid') & (df['ARRIVAL_DELAY'] == '(30-60)mins'),\n",
    "    (df['DISTANCE'] == 'Long') & (df['ARRIVAL_DELAY'] == '(30-60)mins'),   \n",
    "    \n",
    "    (df['DISTANCE'] == 'Short') & (df['ARRIVAL_DELAY'] == '>1h'),\n",
    "    (df['DISTANCE'] == 'Mid') & (df['ARRIVAL_DELAY'] == '>1h'),\n",
    "    (df['DISTANCE'] == 'Long') & (df['ARRIVAL_DELAY'] == '>1h')]\n",
    "\n",
    "choice_multa = [0,5000,10000,20000,7500,20000,40000]\n",
    "\n",
    "# Añadimos la columna de multas\n",
    "df['FINE'] = np.select(condition_multa, choice_multa, default='Not Specified')"
   ]
  },
  {
   "cell_type": "code",
   "execution_count": null,
   "metadata": {},
   "outputs": [],
   "source": []
  },
  {
   "cell_type": "code",
   "execution_count": null,
   "metadata": {},
   "outputs": [],
   "source": []
  },
  {
   "cell_type": "code",
   "execution_count": null,
   "metadata": {},
   "outputs": [],
   "source": [
    "# Variables numéricas\n",
    "df[\"FINE\"].describe()"
   ]
  },
  {
   "cell_type": "markdown",
   "metadata": {},
   "source": [
    "# EDA"
   ]
  },
  {
   "cell_type": "markdown",
   "metadata": {},
   "source": [
    "## Tendencia vuelos actuales"
   ]
  },
  {
   "cell_type": "markdown",
   "metadata": {},
   "source": [
    "### ¿Existe variación de vuelos efectuados y retrasados mes a mes?"
   ]
  },
  {
   "cell_type": "code",
   "execution_count": null,
   "metadata": {},
   "outputs": [],
   "source": [
    "dg = pd.DataFrame(df.groupby(df['DATE'].dt.month_name())[\"FLIGHT_NUMBER\"].count())\n",
    "dg = dg.rename(columns={\"FLIGHT_NUMBER\":\"TOTAL_FLIGHTS\"})\n",
    "dg"
   ]
  },
  {
   "cell_type": "code",
   "execution_count": null,
   "metadata": {},
   "outputs": [],
   "source": [
    "dg[\"DELAYED_FLIGHTS\"] =  df[df[\"ARRIVAL_DELAY\"]>0].groupby(df['DATE'].dt.month_name())[\"FLIGHT_NUMBER\"].count()\n",
    "dg[\"PERCENTAGE\"] = np.round(dg['DELAYED_FLIGHTS']/dg['TOTAL_FLIGHTS']*100,2)\n",
    "ORDERED_MONTHS = [\"January\", \"February\", \"March\", \"April\", \"May\", \"June\",\n",
    "      \"July\", \"August\", \"September\", \"October\", \"November\", \"December\"]\n",
    "dg = dg.reindex(index = ORDERED_MONTHS)\n",
    "dg.head()"
   ]
  },
  {
   "cell_type": "code",
   "execution_count": null,
   "metadata": {},
   "outputs": [],
   "source": [
    "# Numero de vuelos totales y retrasados a lo largo del tiempo\n",
    "fig = go.Figure()\n",
    "fig.add_trace(go.Scatter(x=dg.index, y=dg[\"DELAYED_FLIGHTS\"], fill='tozeroy',name=\"Retrasados\", \n",
    "text= dg[\"PERCENTAGE\"],hovertemplate=\"Porcentaje sobre el total: %{text}%\")) # fill down to xaxis\n",
    "fig.add_trace(go.Scatter(x=dg.index, y=dg[\"TOTAL_FLIGHTS\"], fill='tonexty',name=\"Totales\")) # fill to trace0 y\n",
    "fig.update_layout(\n",
    "    title=\"Variación vuelos totales y retrasados a lo largo del año\",\n",
    "    xaxis_title=\"Mes\",\n",
    "    yaxis_title=\"Vuelos\",\n",
    "    legend_title=\"Leyenda\"\n",
    ")\n",
    "fig.show()"
   ]
  },
  {
   "cell_type": "markdown",
   "metadata": {},
   "source": [
    "Como se puede observar, no hay grandes variaciones mes a mes, aunque es cierto que en febrero parecen volar bastante menos aviones."
   ]
  },
  {
   "cell_type": "markdown",
   "metadata": {},
   "source": [
    "### ¿Existe variación de vuelos efectuados y retrasados a lo largo de la semana?"
   ]
  },
  {
   "cell_type": "code",
   "execution_count": null,
   "metadata": {},
   "outputs": [],
   "source": [
    "dh = pd.DataFrame(df.groupby(df['DATE'].dt.day_name())[\"FLIGHT_NUMBER\"].count())\n",
    "dh = dh.rename(columns={\"FLIGHT_NUMBER\":\"TOTAL_FLIGHTS\"})\n",
    "dh.head()"
   ]
  },
  {
   "cell_type": "code",
   "execution_count": null,
   "metadata": {},
   "outputs": [],
   "source": [
    "dh[\"DELAYED_FLIGHTS\"] =  df[df[\"ARRIVAL_DELAY\"]>0].groupby(df['DATE'].dt.day_name())[\"FLIGHT_NUMBER\"].count()\n",
    "dh[\"PERCENTAGE\"] = np.round(dh['DELAYED_FLIGHTS']/dh['TOTAL_FLIGHTS']*100,2)\n",
    "dh = dh.reindex(index = ['Monday','Tuesday','Wednesday','Thursday','Friday','Saturday','Sunday'])\n",
    "dh.head()"
   ]
  },
  {
   "cell_type": "code",
   "execution_count": null,
   "metadata": {},
   "outputs": [],
   "source": [
    "# Numero de vuelos totales y retrasados a lo largo del tiempo\n",
    "fig = go.Figure()\n",
    "fig.add_trace(go.Scatter(x=dh.index, y=dh[\"DELAYED_FLIGHTS\"], fill='tozeroy',name=\"Retrasados\", \n",
    "text= dh[\"PERCENTAGE\"],hovertemplate=\"Vuelos retrasados : %{y}<br>\" + \"Porcentaje sobre el total: %{text}%\")) # fill down to xaxis\n",
    "fig.add_trace(go.Scatter(x=dh.index, y=dh[\"TOTAL_FLIGHTS\"], fill='tonexty',name=\"Totales\",\n",
    "                        hovertemplate=\"Vuelos totales : %{y}<br>\")) # fill to trace0 y\n",
    "fig.update_layout(\n",
    "    title=\"Variación vuelos totales y retrasados a lo largo del año\",\n",
    "    xaxis_title=\"Mes\",\n",
    "    yaxis_title=\"Vuelos\",\n",
    "    legend_title=\"Leyenda\"\n",
    ")\n",
    "fig.show()"
   ]
  },
  {
   "cell_type": "markdown",
   "metadata": {},
   "source": [
    "Se puede observar una notable disminución de vuelos los sábados, lo que tiene sentido puesto que la gente prefiere volar antes y aprovechar el fin de semana, no en medio de este"
   ]
  },
  {
   "cell_type": "code",
   "execution_count": null,
   "metadata": {},
   "outputs": [],
   "source": []
  },
  {
   "cell_type": "code",
   "execution_count": null,
   "metadata": {},
   "outputs": [],
   "source": [
    "di = pd.DataFrame(df.groupby(df['AIRLINE'])[\"FLIGHT_NUMBER\"].count())\n",
    "di = di.rename(columns={\"FLIGHT_NUMBER\":\"TOTAL_FLIGHTS\"})\n",
    "di.head()"
   ]
  },
  {
   "cell_type": "code",
   "execution_count": null,
   "metadata": {},
   "outputs": [],
   "source": [
    "di[\"DELAYED_FLIGHTS\"] =  df[df[\"ARRIVAL_DELAY\"]>0].groupby(df['AIRLINE'])[\"FLIGHT_NUMBER\"].count()\n",
    "di[\"PERCENTAGE\"] = np.round(di['DELAYED_FLIGHTS']/di['TOTAL_FLIGHTS']*100,2)\n",
    "di = di.sort_values(by=['TOTAL_FLIGHTS'], ascending=False)\n",
    "di.head()"
   ]
  },
  {
   "cell_type": "code",
   "execution_count": null,
   "metadata": {},
   "outputs": [],
   "source": [
    "# Numero de vuelos totales y retrasados a lo largo del tiempo\n",
    "fig = go.Figure()\n",
    "fig.add_trace(go.Scatter(x=di.index, y=di[\"DELAYED_FLIGHTS\"],name=\"Retrasados\", \n",
    "text= di[\"PERCENTAGE\"],hovertemplate=\"Vuelos retrasados : %{y}<br>\" + \"Porcentaje sobre el total: %{text}%\")) # fill down to xaxis\n",
    "fig.add_trace(go.Bar(x=di.index, y=di[\"TOTAL_FLIGHTS\"],name=\"Totales\",\n",
    "                        hovertemplate=\"Vuelos totales : %{y}<br>\")) # fill to trace0 y\n",
    "fig.update_layout(\n",
    "    title=\"Vuelos totales y retrasados en función de la aerolinea\",\n",
    "    xaxis_title=\"Aerolinea\",\n",
    "    yaxis_title=\"Vuelos\",\n",
    "    legend_title=\"Leyenda\"\n",
    ")\n",
    "fig.show()"
   ]
  },
  {
   "cell_type": "code",
   "execution_count": null,
   "metadata": {},
   "outputs": [],
   "source": [
    "# Podemos bservar también la media de los retrasos de las aerolineas cada mes, para detectar aerolíneas más problemáticas y las fechas de los problemas\n",
    "fig = px.density_heatmap(df, x=df[\"AIRLINE\"], y=df[\"DATE\"].dt.month, z='ARRIVAL_DELAY', histfunc=\"avg\",\n",
    "                         color_continuous_scale='RdYlGn_r')\n",
    "fig.show()"
   ]
  },
  {
   "cell_type": "code",
   "execution_count": null,
   "metadata": {},
   "outputs": [],
   "source": [
    "# Podemos bservar también la media de los retrasos de las aerolineas cada mes, para detectar aerolíneas más problemáticas y las fechas de los problemas\n",
    "fig = px.density_heatmap(df, x=df[\"AIRLINE\"], y=df[\"DATE\"].dt.month, z='FINE', histfunc=\"avg\",\n",
    "                         color_continuous_scale='RdYlGn_r')\n",
    "fig.show()"
   ]
  },
  {
   "cell_type": "code",
   "execution_count": null,
   "metadata": {},
   "outputs": [],
   "source": [
    "# Market Share de las aerolíneas"
   ]
  },
  {
   "cell_type": "markdown",
   "metadata": {},
   "source": [
    "No queda muy claro lo de las multas, es por pasajero? Como sabemos el número de pasajeros? Qué quieren exactamente mejorar las aerolíneas?"
   ]
  },
  {
   "cell_type": "code",
   "execution_count": null,
   "metadata": {},
   "outputs": [],
   "source": [
    "# You can add histograms\n",
    "fig = px.density_heatmap(df, x=df[\"DATE\"].dt.month, y=df[\"DATE\"].dt.day, z='ARRIVAL_DELAY', \n",
    "                         marginal_x=\"histogram\", marginal_y=\"histogram\")\n",
    "fig"
   ]
  },
  {
   "cell_type": "code",
   "execution_count": null,
   "metadata": {},
   "outputs": [],
   "source": []
  },
  {
   "cell_type": "code",
   "execution_count": null,
   "metadata": {},
   "outputs": [],
   "source": []
  },
  {
   "cell_type": "code",
   "execution_count": null,
   "metadata": {},
   "outputs": [],
   "source": []
  },
  {
   "cell_type": "code",
   "execution_count": null,
   "metadata": {},
   "outputs": [],
   "source": []
  },
  {
   "cell_type": "code",
   "execution_count": null,
   "metadata": {},
   "outputs": [],
   "source": []
  },
  {
   "cell_type": "code",
   "execution_count": null,
   "metadata": {},
   "outputs": [],
   "source": [
    "# Correlación entre variables númericamente\n",
    "corr = df.corr()\n",
    "corr.style.background_gradient(cmap='coolwarm').set_precision(4)"
   ]
  },
  {
   "cell_type": "markdown",
   "metadata": {},
   "source": [
    "**NOTA:** cambiar colores :)"
   ]
  },
  {
   "cell_type": "code",
   "execution_count": null,
   "metadata": {},
   "outputs": [],
   "source": []
  },
  {
   "cell_type": "code",
   "execution_count": null,
   "metadata": {},
   "outputs": [],
   "source": [
    "# Estudio de las fechas --> ¿Algún mes en el que se produzcan más retrasos?\n",
    "# Querría hacer una matriz: filas  = días del mes | columnas = meses | valor = numero de vuelos retrasados\n",
    "# Plot retrasos por día del mes"
   ]
  },
  {
   "cell_type": "code",
   "execution_count": null,
   "metadata": {},
   "outputs": [],
   "source": []
  },
  {
   "cell_type": "code",
   "execution_count": null,
   "metadata": {},
   "outputs": [],
   "source": [
    "# Comparación razones de retraso"
   ]
  },
  {
   "cell_type": "code",
   "execution_count": null,
   "metadata": {},
   "outputs": [],
   "source": []
  },
  {
   "cell_type": "markdown",
   "metadata": {},
   "source": [
    "### Estudio origen y destino"
   ]
  },
  {
   "cell_type": "markdown",
   "metadata": {},
   "source": [
    "1) mapa geográfico térmico (colo en función de salidas retrasadas)\n",
    "\n",
    "2) rutas qué experimentan más retrasos"
   ]
  },
  {
   "cell_type": "code",
   "execution_count": null,
   "metadata": {},
   "outputs": [],
   "source": [
    "print(\"Numero de vuelos repetidos: \" +str(len(df['FlightNum'].unique()))+ \" de un total de \"+ str(df.size))"
   ]
  },
  {
   "cell_type": "code",
   "execution_count": null,
   "metadata": {},
   "outputs": [],
   "source": [
    "# Comprobar rutas de los vuelos repetidos"
   ]
  },
  {
   "cell_type": "code",
   "execution_count": null,
   "metadata": {},
   "outputs": [],
   "source": []
  },
  {
   "cell_type": "code",
   "execution_count": null,
   "metadata": {},
   "outputs": [],
   "source": []
  },
  {
   "cell_type": "code",
   "execution_count": null,
   "metadata": {},
   "outputs": [],
   "source": []
  },
  {
   "cell_type": "code",
   "execution_count": null,
   "metadata": {},
   "outputs": [],
   "source": []
  },
  {
   "cell_type": "markdown",
   "metadata": {},
   "source": [
    "### Carriers"
   ]
  },
  {
   "cell_type": "code",
   "execution_count": null,
   "metadata": {},
   "outputs": [],
   "source": [
    "# Visualizar carriers\n",
    "\n",
    "# Causas cese\n",
    "level_count = df[\"AIRLINE\"].value_counts()\n",
    "level_count\n",
    "\n",
    "level_df = pd.DataFrame(level_count).reset_index().rename(columns = {\"index\": \"Carrier\", \"DelayedFlights\": \"count\"})\n",
    "level_count.sort_values(ascending = True,inplace = True) # Reordeno para que me quede de mayor a menor el gráfico\n",
    "\n",
    "data = [\n",
    "    go.Bar(\n",
    "        y = level_count.index,\n",
    "        x = level_count,\n",
    "        name = \"Vuelos retrasados por Compañia\",\n",
    "        marker_color = \"cadetblue\",\n",
    "        width= np.repeat(0.65,len(level_count)), # Cambiar la anchura de cada barra,\n",
    "        orientation = 'h'\n",
    "    )\n",
    "]\n",
    "\n",
    "layout = go.Layout(title = \"Vuelos retrasados por Compañia\", yaxis_title = \"Carriers\", \n",
    "                   xaxis_title = \"Número de vuelos retrasados\",\n",
    "                  )\n",
    "\n",
    "fig = go.Figure(data = data, layout = layout)\n",
    "\n",
    "fig.show()\n"
   ]
  },
  {
   "cell_type": "markdown",
   "metadata": {},
   "source": [
    "Dentro de las compañias que sufren más retrasos, mostrar:\n",
    "- rango de retraso salida\n",
    "- rango de retraso llegada\n"
   ]
  },
  {
   "cell_type": "code",
   "execution_count": null,
   "metadata": {},
   "outputs": [],
   "source": []
  },
  {
   "cell_type": "markdown",
   "metadata": {},
   "source": [
    "### Caso anterior con aeropuertos de salida"
   ]
  },
  {
   "cell_type": "code",
   "execution_count": null,
   "metadata": {},
   "outputs": [],
   "source": []
  },
  {
   "cell_type": "code",
   "execution_count": null,
   "metadata": {},
   "outputs": [],
   "source": []
  },
  {
   "cell_type": "markdown",
   "metadata": {},
   "source": [
    "## Cinco aeropuertos con mayor retraso"
   ]
  },
  {
   "cell_type": "markdown",
   "metadata": {},
   "source": [
    "Definir si el aeropuerto con mayor retraso es en números aboslutos o comparado con la cantidad de vuelos que operan por aeropuerto --> % respecto a la cantidad de vuelos que opera"
   ]
  },
  {
   "cell_type": "code",
   "execution_count": null,
   "metadata": {},
   "outputs": [],
   "source": [
    "# Representación de los aeropuetos\n",
    "airports = pd.read_csv(\"airports.csv\")\n",
    "pd.set_option('display.max_columns', None)\n",
    "airports.head()"
   ]
  },
  {
   "cell_type": "code",
   "execution_count": null,
   "metadata": {},
   "outputs": [],
   "source": [
    "airports.columns"
   ]
  },
  {
   "cell_type": "code",
   "execution_count": null,
   "metadata": {},
   "outputs": [],
   "source": [
    "airports['COUNTRY'].unique()"
   ]
  },
  {
   "cell_type": "markdown",
   "metadata": {},
   "source": [
    "http://www.geomapik.com/desarrollo-programacion-gis/mapas-plotly-visualizacion-datos-espaciales/"
   ]
  },
  {
   "cell_type": "code",
   "execution_count": null,
   "metadata": {},
   "outputs": [],
   "source": [
    "# Agrupar por fechas\n",
    "#flights[flights[\"ORIGIN_AIRPORT\"] == \"LAX\"].groupby([\"YEAR\",\"MONTH\"]).size()"
   ]
  },
  {
   "cell_type": "code",
   "execution_count": null,
   "metadata": {},
   "outputs": [],
   "source": []
  }
 ],
 "metadata": {
  "kernelspec": {
   "display_name": "Python 3",
   "language": "python",
   "name": "python3"
  },
  "language_info": {
   "codemirror_mode": {
    "name": "ipython",
    "version": 3
   },
   "file_extension": ".py",
   "mimetype": "text/x-python",
   "name": "python",
   "nbconvert_exporter": "python",
   "pygments_lexer": "ipython3",
   "version": "3.7.4"
  },
  "vscode": {
   "interpreter": {
    "hash": "b3472844a7ad831f024780a557c10180eb151bb97358fb439eb3b23af04efba3"
   }
  }
 },
 "nbformat": 4,
 "nbformat_minor": 4
}
