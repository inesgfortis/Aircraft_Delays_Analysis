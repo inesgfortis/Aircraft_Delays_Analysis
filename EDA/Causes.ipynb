{
 "cells": [
  {
   "cell_type": "code",
   "execution_count": null,
   "id": "feba1f1e",
   "metadata": {},
   "outputs": [],
   "source": [
    "import pandas as pd\n",
    "import numpy as np\n",
    "import plotly.graph_objects as go\n",
    "import plotly.express as px\n",
    "from plotly.subplots import make_subplots"
   ]
  },
  {
   "cell_type": "code",
   "execution_count": null,
   "id": "613ddd46",
   "metadata": {},
   "outputs": [],
   "source": [
    "pd.set_option('display.max_columns', None)"
   ]
  },
  {
   "cell_type": "markdown",
   "id": "43a6695a",
   "metadata": {},
   "source": [
    "## Lectura de datos"
   ]
  },
  {
   "cell_type": "code",
   "execution_count": null,
   "id": "862009fa",
   "metadata": {},
   "outputs": [],
   "source": [
    "df = pd.read_parquet(\"top_5_delay.parquet\")"
   ]
  },
  {
   "cell_type": "markdown",
   "id": "b97dfe8b",
   "metadata": {},
   "source": [
    "## Análisis de las causas de retraso"
   ]
  },
  {
   "cell_type": "markdown",
   "id": "a0727ec6",
   "metadata": {},
   "source": [
    "Vamos a explorar las causas de retraso en estos aeropuertos. En primer lugar, analizaremos el impacto en el tiempo de retraso de cada una de estas causas. Después examinaremos el número de vuelos al que impactan cada una de estas causas"
   ]
  },
  {
   "cell_type": "code",
   "execution_count": null,
   "id": "0df2614e",
   "metadata": {},
   "outputs": [],
   "source": [
    "airports = df.groupby([\"ORIGIN_AIRPORT\",\"ORIGIN_CITY\"]).mean()\n",
    "airports[\"FLIGHTS\"] = df.groupby([\"ORIGIN_AIRPORT\",\"ORIGIN_CITY\"]).size()\n",
    "airports[\"DELAYED_FLIGHTS\"] = df[df[\"ARRIVAL_DELAY\"]>0].groupby([\"ORIGIN_AIRPORT\",\"ORIGIN_CITY\"]).size()\n",
    "airports[\"DELAYED_PERCENTAGE\"] = airports[\"DELAYED_FLIGHTS\"]/airports[\"FLIGHTS\"]\n",
    "airports = airports.reset_index()\n",
    "airports"
   ]
  },
  {
   "cell_type": "markdown",
   "id": "f4f9a6b8",
   "metadata": {},
   "source": [
    "Añadimos variables recuento"
   ]
  },
  {
   "cell_type": "code",
   "execution_count": null,
   "id": "da389ef9",
   "metadata": {},
   "outputs": [],
   "source": [
    "air_sys_delay = []\n",
    "security_delay = []\n",
    "airline_delay = []\n",
    "late_aircrat_delay = []\n",
    "weather_delay = []\n",
    "other_delay = []\n",
    "\n",
    "origin_airports = list(airports['ORIGIN_AIRPORT'].unique())\n",
    "for origin in origin_airports:\n",
    "    #print(origin)\n",
    "    data = df[df['ORIGIN_AIRPORT']==origin]\n",
    "    air_sys_delay.append(np.count_nonzero(data['AIR_SYSTEM_DELAY']))\n",
    "    security_delay.append(np.count_nonzero(data['SECURITY_DELAY']))\n",
    "    airline_delay.append(np.count_nonzero(data['AIRLINE_DELAY']))\n",
    "    late_aircrat_delay.append(np.count_nonzero(data['LATE_AIRCRAFT_DELAY'])) \n",
    "    weather_delay.append(np.count_nonzero(data['WEATHER_DELAY']))\n",
    "    other_delay.append(np.count_nonzero(data['OTHER_DELAY']))\n",
    "    \n",
    "airports[\"COUNT_AIR_SYSTEM_DELAY\"] = air_sys_delay\n",
    "airports[\"COUNT_SECURITY_DELAY\"] = security_delay\n",
    "airports[\"COUNT_AIRLINE_DELAY\"] = airline_delay\n",
    "airports[\"COUNT_LATE_AIRCRAFT_DELAY\"] = late_aircrat_delay\n",
    "airports[\"COUNT_WEATHER_DELAY\"] = weather_delay\n",
    "airports[\"COUNT_OTHER_DELAY\"] = other_delay\n",
    "airports"
   ]
  },
  {
   "cell_type": "code",
   "execution_count": null,
   "id": "cccccd02",
   "metadata": {
    "scrolled": false
   },
   "outputs": [],
   "source": [
    "fig = make_subplots(rows=2, cols=5, subplot_titles=list(airports[\"ORIGIN_AIRPORT\"].values)*2,\n",
    "                    specs=[[{\"type\": \"pie\"}, {\"type\": \"pie\"}, {\"type\": \"pie\"}, {\"type\": \"pie\"}, {\"type\": \"pie\"}],\n",
    "                           [{\"type\": \"pie\"}, {\"type\": \"pie\"}, {\"type\": \"pie\"}, {\"type\": \"pie\"}, {\"type\": \"pie\"}]])\n",
    "\n",
    "delay_labels = [\"AIR_SYSTEM_DELAY\",\"SECURITY_DELAY\",\"AIRLINE_DELAY\",\"LATE_AIRCRAFT_DELAY\",\"WEATHER_DELAY\",\"OTHER_DELAY\"]\n",
    "count_labels = [\"COUNT_AIR_SYSTEM_DELAY\",\"COUNT_SECURITY_DELAY\",\"COUNT_AIRLINE_DELAY\",\"COUNT_LATE_AIRCRAFT_DELAY\",\"COUNT_WEATHER_DELAY\",\"COUNT_OTHER_DELAY\"]\n",
    "\n",
    "for i in range(5):\n",
    "    values1 = airports[delay_labels].iloc[i]\n",
    "    fig.add_trace(go.Pie(labels=delay_labels, values=values1, direction ='clockwise', marker_colors=px.colors.qualitative.Vivid, hole=.3),\n",
    "              row=1, col=i+1)\n",
    "    values2 = airports[count_labels].iloc[i]\n",
    "    fig.add_trace(go.Pie(labels=delay_labels, values=values2, direction ='clockwise', marker_colors=px.colors.qualitative.Vivid, hole=.3),\n",
    "              row=2, col=i+1)\n",
    "\n",
    "fig.update_layout(title_text=\"Average Delay Distribution by Airport<br><br><br><br><br><br><br><br><br><br><br><br><br><br><br><br><br>Percentage of flights affected by each cause per airport\", \n",
    "                  \n",
    "                  legend_title=\"Delay Cause\", template=\"plotly_dark\", height=750,\n",
    "                    legend=dict(orientation=\"h\", y=0.63, x =0.015))\n",
    "fig.update_annotations(yshift=-119)\n",
    "\n",
    "fig.show()"
   ]
  },
  {
   "cell_type": "markdown",
   "id": "dfa90ffe",
   "metadata": {},
   "source": [
    "Estos gráficos corresponden con el tiempo medio de retraso provocado por cada una de las causas en cada uno de los aeropuertos. Por ejemplo, vemos que en el caso de Atlanta la causa que provoca retrasos más largos es la arelína, que provoca un retraso medio de 3.4 minutos [...]\n",
    "\n",
    "Por otro lado, la segunda fila representa el % de vuelos que se ven afectados por cada causa en cada uno de los aeropuertos, independientemente del tiempo de retraso. Siguendo con el caso de Atlanta, en esta ocasión vemos que la mayoría de vuelos sufren un retraso por causa no desconicida. \n",
    "\n",
    "Si juntamos la información de ambas gráficas vemos que en Atlanta la mayoría de vuelos se retrasan por causa desconocida, aunque el tiempo de retraso asociado a esta causa suele ser pequeño, en torno a 1 minuto. Así mismo observamos que la causa que mayores retrasos produce, retraso por culpa de la aerolína, afecta únicamente a un 21.9% de los vuelos"
   ]
  }
 ],
 "metadata": {
  "kernelspec": {
   "display_name": "Python 3 (ipykernel)",
   "language": "python",
   "name": "python3"
  },
  "language_info": {
   "codemirror_mode": {
    "name": "ipython",
    "version": 3
   },
   "file_extension": ".py",
   "mimetype": "text/x-python",
   "name": "python",
   "nbconvert_exporter": "python",
   "pygments_lexer": "ipython3",
   "version": "3.9.12"
  }
 },
 "nbformat": 4,
 "nbformat_minor": 5
}
