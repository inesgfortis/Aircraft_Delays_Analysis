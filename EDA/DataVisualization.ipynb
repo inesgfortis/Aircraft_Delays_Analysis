{
 "cells": [
  {
   "cell_type": "markdown",
   "metadata": {},
   "source": [
    "# EDA"
   ]
  },
  {
   "cell_type": "markdown",
   "metadata": {},
   "source": [
    "## Pre-análisis descriptivo"
   ]
  },
  {
   "cell_type": "code",
   "execution_count": null,
   "metadata": {},
   "outputs": [],
   "source": [
    "import pandas as pd\n",
    "import numpy as np\n",
    "import plotly.graph_objs as go\n",
    "import plotly.express as px\n",
    "from plotly.subplots import make_subplots"
   ]
  },
  {
   "cell_type": "code",
   "execution_count": null,
   "metadata": {},
   "outputs": [],
   "source": [
    "# base de datos de vuelos\n",
    "df = pd.read_parquet(\"../Preprocessing/flightsCleaned.parquet\")\n",
    "\n",
    "# Añadimos el FlightNum como variable categórica\n",
    "df['FLIGHT_NUMBER']=df['FLIGHT_NUMBER'].astype(object) \n",
    "\n",
    "pd.set_option('display.max_columns', None)\n",
    "df.head()"
   ]
  },
  {
   "cell_type": "code",
   "execution_count": null,
   "metadata": {},
   "outputs": [],
   "source": [
    "# base de datos de aeropuertos\n",
    "airports_date = pd.read_parquet(\"../Preprocessing/airportsDateCleaned.parquet\")\n",
    "airports_date.head()"
   ]
  },
  {
   "cell_type": "code",
   "execution_count": null,
   "metadata": {},
   "outputs": [],
   "source": [
    "# Observamos el tamaño de los aeropuertos\n",
    "fig = px.treemap(airports_date, path=[\"ORIGIN_AIRPORT\"], values='FLIGHTS',\n",
    "                  color='DELAYED_PERCENTAGE', hover_data=['ORIGIN_CITY'],\n",
    "                  color_continuous_scale='Viridis',\n",
    "                  template=\"plotly_dark\")\n",
    "fig.update_layout(title=\"Departure Flights by Airport\",\n",
    "                  margin = dict(t=75, l=25, r=25, b=25),\n",
    "                  width = 1400)\n",
    "fig.show()"
   ]
  },
  {
   "cell_type": "markdown",
   "metadata": {},
   "source": [
    "Escogemos los 16 aeropuertos con más vuelos para hacer el análisis. De estos aeropuertos salen la mayor parte de vuelos nacionales en EEUU y por ello implantaremos las medidas necesarias en ellos como prueba beta."
   ]
  },
  {
   "cell_type": "code",
   "execution_count": null,
   "metadata": {},
   "outputs": [],
   "source": [
    "airports = pd.read_parquet(\"../Preprocessing/airportsCleaned.parquet\")\n",
    "top16_airports = airports.head(16)[\"ORIGIN_AIRPORT\"]"
   ]
  },
  {
   "cell_type": "markdown",
   "metadata": {},
   "source": [
    "Filtramos en los dos dataframes que usaremos por estos aeropuertos"
   ]
  },
  {
   "cell_type": "code",
   "execution_count": null,
   "metadata": {},
   "outputs": [],
   "source": [
    "df_airports_date = airports_date[airports_date[\"ORIGIN_AIRPORT\"].isin(top16_airports)]\n",
    "df_airports_date.head()"
   ]
  },
  {
   "cell_type": "code",
   "execution_count": null,
   "metadata": {},
   "outputs": [],
   "source": [
    "df_airports = airports[airports[\"ORIGIN_AIRPORT\"].isin(top16_airports)]\n",
    "df_airports.head()"
   ]
  },
  {
   "cell_type": "code",
   "execution_count": null,
   "metadata": {},
   "outputs": [],
   "source": [
    "df_flights=df[df[\"ORIGIN_AIRPORT\"].isin(top16_airports)]\n",
    "df_flights.head()"
   ]
  },
  {
   "cell_type": "code",
   "execution_count": null,
   "metadata": {},
   "outputs": [],
   "source": [
    "# Porcentaje de vuelos con los que nos quedamos\n",
    "print(\"{:.2%}\".format(df_flights.shape[0] / df.shape[0]))"
   ]
  },
  {
   "cell_type": "markdown",
   "metadata": {},
   "source": [
    "Es interesante el dato de que el 48.71% de los vuelos nacionales de EEUU salen de tan solo 16 aeropuertos. <br>\n",
    "Esto reducirá el coste de implantar las recomendaciones sacadas de este análisis, ya que solo habrá que realizar cambios en 16 aeropuertos para mejorar casi el 50% de los vuelos. Es parecido a realizar un test A/B en la vida real."
   ]
  },
  {
   "cell_type": "code",
   "execution_count": null,
   "metadata": {},
   "outputs": [],
   "source": [
    "#fig = px.bar(airports, x=\"FLIGHTS\", y=\"ORIGIN_AIRPORT\", orientation='h')\n",
    "#fig.update_layout(yaxis={'categoryorder':'total ascending'}) # add only this line\n",
    "#fig.show()"
   ]
  },
  {
   "cell_type": "code",
   "execution_count": null,
   "metadata": {},
   "outputs": [],
   "source": [
    "# Guardamos los datos ya que serán los utilizados en la mayoría nuestros análisis\n",
    "df_flights.to_parquet(\"df_flights.parquet\", index=False)\n",
    "df_airports_date.to_parquet(\"df_airports_date.parquet\", index=False)\n",
    "df_airports.to_parquet(\"df_airports.parquet\", index=False)"
   ]
  },
  {
   "cell_type": "markdown",
   "metadata": {},
   "source": [
    "## Análisis Descriptivo"
   ]
  },
  {
   "cell_type": "markdown",
   "metadata": {},
   "source": [
    "Primero hacemos un análisis de los retrasos a lo largo del año"
   ]
  },
  {
   "cell_type": "code",
   "execution_count": null,
   "metadata": {},
   "outputs": [],
   "source": [
    "#del data\n",
    "data = pd.DataFrame()\n",
    "data[\"Total\"] = df_flights.groupby('DATE')[\"FLIGHT_NUMBER\"].count()\n",
    "data[\"Delayed\"] = df_flights[df_flights[\"ARRIVAL_DELAY\"]>0].groupby('DATE')[\"FLIGHT_NUMBER\"].count()\n",
    "data.head()"
   ]
  },
  {
   "cell_type": "code",
   "execution_count": null,
   "metadata": {},
   "outputs": [],
   "source": [
    "np.mean(data[\"Delayed\"])"
   ]
  },
  {
   "cell_type": "code",
   "execution_count": null,
   "metadata": {},
   "outputs": [],
   "source": [
    "fig = px.line(data, x=data.index, y=[\"Total\", \"Delayed\"], color_discrete_sequence=px.colors.qualitative.Vivid)\n",
    "fig.update_layout(\n",
    "    title=\"Trend in total and delayed flights throughout the year\",\n",
    "    xaxis_title=\"Date\",\n",
    "    yaxis_title=\"Flights\",\n",
    "    legend_title=\"Number of flights\",\n",
    "    template=\"plotly_dark\",\n",
    "    hovermode=\"x unified\"\n",
    ")\n",
    "\n",
    "fig.add_hline(y=np.mean(data[\"Total\"]), line_dash=\"dash\", line_color=\"white\", annotation_text=\"mean\", annotation_position=\"top right\")\n",
    "fig.add_hline(y=np.mean(data[\"Delayed\"]), line_dash=\"dash\", line_color=\"white\", annotation_text=\"mean\", annotation_position=\"bottom right\")\n",
    "\n",
    "fig.show()"
   ]
  },
  {
   "cell_type": "markdown",
   "metadata": {},
   "source": [
    "Parece haber una tendencia semanal, vamos a confirmarlo"
   ]
  },
  {
   "cell_type": "code",
   "execution_count": null,
   "metadata": {},
   "outputs": [],
   "source": [
    "## Definimos la paleta usada con plotly express, para poder utilizarla con plotly normal\n",
    "color_palette = px.colors.qualitative.Vivid"
   ]
  },
  {
   "cell_type": "code",
   "execution_count": null,
   "metadata": {},
   "outputs": [],
   "source": [
    "data = pd.DataFrame()\n",
    "data[\"Total\"] = df_flights.groupby(df_flights['DATE'].dt.day_name())[\"FLIGHT_NUMBER\"].count()\n",
    "data[\"Delayed\"] = df_flights[df_flights[\"ARRIVAL_DELAY\"]>0].groupby(df_flights['DATE'].dt.day_name())[\"FLIGHT_NUMBER\"].count()\n",
    "data = data.reindex(index = ['Monday','Tuesday','Wednesday','Thursday','Friday','Saturday','Sunday'])\n",
    "data.head()"
   ]
  },
  {
   "cell_type": "code",
   "execution_count": null,
   "metadata": {},
   "outputs": [],
   "source": [
    "fig = go.Figure()\n",
    "fig.add_trace(go.Bar(x=data.index, y=data[\"Total\"], name=\"Total\", marker_color = color_palette[0]))\n",
    "fig.add_trace(go.Scatter(x=data.index, y=data[\"Delayed\"], name=\"Delayed\", line_color=color_palette[1]))\n",
    "fig.update_layout(\n",
    "    title=\"Total and delayed flights by airline\",\n",
    "    xaxis_title=\"Weekday\",\n",
    "    yaxis_title=\"Flights\",\n",
    "    legend_title=\"Number of Flights\",\n",
    "    template=\"plotly_dark\",\n",
    "    hovermode=\"x unified\"\n",
    ")\n",
    "fig.show()"
   ]
  },
  {
   "cell_type": "markdown",
   "metadata": {},
   "source": [
    "Efectivamente, los sábados hay menos vuelos"
   ]
  },
  {
   "cell_type": "markdown",
   "metadata": {},
   "source": [
    "Lo siguiente será analizar cuánto se retrasan de media los vuelos y debido a qué causas, a lo largo del año"
   ]
  },
  {
   "cell_type": "code",
   "execution_count": null,
   "metadata": {},
   "outputs": [],
   "source": [
    "data = df_flights.groupby(df_flights['DATE'].dt.month_name()).mean()\n",
    "ORDERED_MONTHS = [\"January\", \"February\", \"March\", \"April\", \"May\", \"June\",\n",
    "      \"July\", \"August\", \"September\", \"October\", \"November\", \"December\"]\n",
    "data = data.reindex(index = ORDERED_MONTHS)"
   ]
  },
  {
   "cell_type": "code",
   "execution_count": null,
   "metadata": {},
   "outputs": [],
   "source": [
    "fig = go.Figure()\n",
    "\n",
    "fig.add_trace(go.Scatter(x=data.index, y=data[\"AIR_SYSTEM_DELAY\"], stackgroup='one', name=\"Air system\", line_color=color_palette[0]))\n",
    "fig.add_trace(go.Scatter(x=data.index, y=data[\"SECURITY_DELAY\"], stackgroup='one', name=\"Security\", line_color=color_palette[1])) \n",
    "fig.add_trace(go.Scatter(x=data.index, y=data[\"AIRLINE_DELAY\"], stackgroup='one', name=\"Airline\", line_color=color_palette[2])) \n",
    "fig.add_trace(go.Scatter(x=data.index, y=data[\"LATE_AIRCRAFT_DELAY\"], stackgroup='one', name=\"Late aircraft\", line_color=color_palette[3])) \n",
    "fig.add_trace(go.Scatter(x=data.index, y=data[\"WEATHER_DELAY\"], stackgroup='one', name=\"Weather\", line_color=color_palette[4])) \n",
    "fig.add_trace(go.Scatter(x=data.index, y=data[\"OTHER_DELAY\"], stackgroup='one', name=\"Other\", line_color=color_palette[5])) \n",
    "\n",
    "fig.update_layout(\n",
    "    title=\"Average delay and cause over the year\",\n",
    "    xaxis_title=\"Month\",\n",
    "    yaxis_title=\"Minutes\",\n",
    "    legend_title=\"Cause of delay\",\n",
    "    template=\"plotly_dark\",\n",
    "    hovermode=\"x unified\"\n",
    ")\n",
    "\n",
    "fig.show()"
   ]
  },
  {
   "cell_type": "markdown",
   "metadata": {},
   "source": [
    "¿Correlación entre distancia y retraso?"
   ]
  },
  {
   "cell_type": "code",
   "execution_count": null,
   "metadata": {},
   "outputs": [],
   "source": [
    "# fig = px.scatter(df_flights[df_flights[\"ARRIVAL_DELAY\"]>0], x=\"ARRIVAL_DELAY\", y=\"DISTANCE\", color_discrete_sequence=px.colors.qualitative.Vivid)\n",
    "# fig.update_layout(\n",
    "#     title=\"Tendencia vuelos totales y retrasados a lo largo del año\",\n",
    "#     xaxis_title=\"Fecha\",\n",
    "#     yaxis_title=\"Vuelos\",\n",
    "#     legend_title=\"Leyenda\",\n",
    "#     template=\"plotly_dark\"\n",
    "# )\n",
    "# fig.show()"
   ]
  },
  {
   "cell_type": "markdown",
   "metadata": {},
   "source": [
    "No hay correlación entre la distancia y el retraso de los vuelos"
   ]
  },
  {
   "cell_type": "code",
   "execution_count": null,
   "metadata": {},
   "outputs": [],
   "source": [
    "df_airports2 = airports[airports[\"ORIGIN_AIRPORT\"].isin(top16_airports)]\n",
    "df_airports2.head()"
   ]
  },
  {
   "cell_type": "code",
   "execution_count": null,
   "metadata": {},
   "outputs": [],
   "source": [
    "# variables_to_group_by = [\"ORIGIN_AIRPORT\",\"ORIGIN_AIRPORT_NAME\",\"ORIGIN_CITY\",\"ORIGIN_STATE\"]\n",
    "# df_airports.groupby(variables_to_group_by).mean().head()"
   ]
  },
  {
   "cell_type": "code",
   "execution_count": null,
   "metadata": {},
   "outputs": [],
   "source": [
    "variables_to_group_by = [\"ORIGIN_AIRPORT\",\"ORIGIN_AIRPORT_NAME\",\"ORIGIN_CITY\",\"ORIGIN_STATE\"]"
   ]
  },
  {
   "cell_type": "code",
   "execution_count": null,
   "metadata": {},
   "outputs": [],
   "source": [
    "df_airports_date.groupby(variables_to_group_by).agg([\"sum\",\"mean\"]).reset_index().head()"
   ]
  },
  {
   "cell_type": "code",
   "execution_count": null,
   "metadata": {},
   "outputs": [],
   "source": [
    "fig = px.scatter_geo(df_airports2, lat=\"ORIGIN_LATITUDE\", lon = \"ORIGIN_LONGITUDE\",\n",
    "                     size= \"FLIGHTS\", # size of markers\n",
    "                     size_max= 30,\n",
    "                     color= \"DELAYED_PERCENTAGE\", # which column to use to set the color of markers\n",
    "                     scope=\"usa\",\n",
    "                     text = \"ORIGIN_AIRPORT\",\n",
    "                     hover_data  = [\"ORIGIN_CITY\"],\n",
    "                     color_continuous_scale='RdYlGn_r',\n",
    "                     template=\"plotly_dark\")\n",
    "fig.update_traces(textposition=\"top center\")\n",
    "fig.update_layout(\n",
    "    title=\"Origin airports with number of departing flights and percentage of delayed flights <br><br><sup>Size indicates the number of departing flights</sup>\",\n",
    "    legend_title=\"Causa del Retraso\",\n",
    "    width = 1000, \n",
    "    height = 650\n",
    ")\n",
    "fig.show()"
   ]
  },
  {
   "cell_type": "markdown",
   "metadata": {},
   "source": [
    "Estudiamos la disvisión de los retrasos en cada aeropuerto"
   ]
  },
  {
   "cell_type": "code",
   "execution_count": null,
   "metadata": {},
   "outputs": [],
   "source": [
    "fig = make_subplots(rows=4, cols=4, subplot_titles=df_airports2[\"ORIGIN_AIRPORT\"].values,\n",
    "                    specs=[[{\"type\": \"pie\"}, {\"type\": \"pie\"}, {\"type\": \"pie\"}, {\"type\": \"pie\"}],\n",
    "                           [{\"type\": \"pie\"}, {\"type\": \"pie\"}, {\"type\": \"pie\"}, {\"type\": \"pie\"}],\n",
    "                           [{\"type\": \"pie\"}, {\"type\": \"pie\"}, {\"type\": \"pie\"}, {\"type\": \"pie\"}],\n",
    "                           [{\"type\": \"pie\"}, {\"type\": \"pie\"}, {\"type\": \"pie\"}, {\"type\": \"pie\"}]],\n",
    "                    horizontal_spacing = 0.03, vertical_spacing = 0.03)\n",
    "\n",
    "delay_labels = [\"AIR_SYSTEM_DELAY\",\"SECURITY_DELAY\",\"AIRLINE_DELAY\",\"LATE_AIRCRAFT_DELAY\",\"WEATHER_DELAY\",\"OTHER_DELAY\"]\n",
    "\n",
    "for i in range(4):\n",
    "    values1 = df_airports2[delay_labels].iloc[i]\n",
    "    fig.add_trace(go.Pie(labels=delay_labels, values=values1, direction ='clockwise', marker_colors=px.colors.qualitative.Vivid, hole=.3),\n",
    "              row=1, col=i+1)\n",
    "    values2 = df_airports2[delay_labels].iloc[i+4]\n",
    "    fig.add_trace(go.Pie(labels=delay_labels, values=values2, direction ='clockwise', marker_colors=px.colors.qualitative.Vivid, hole=.3),\n",
    "              row=2, col=i+1)\n",
    "    values3 = df_airports2[delay_labels].iloc[i+8]\n",
    "    fig.add_trace(go.Pie(labels=delay_labels, values=values3, direction ='clockwise', marker_colors=px.colors.qualitative.Vivid, hole=.3),\n",
    "              row=3, col=i+1)\n",
    "    values4 = df_airports2[delay_labels].iloc[i+12]\n",
    "    fig.add_trace(go.Pie(labels=delay_labels, values=values4, direction ='clockwise', marker_colors=px.colors.qualitative.Vivid, hole=.3),\n",
    "              row=4, col=i+1)\n",
    "\n",
    "fig.update_layout(title_text=\"Average Delay Distribution by Airport\", legend_title=\"Delay Cause\", template=\"plotly_dark\", height=1400, width=1400,\n",
    "                    legend=dict(orientation=\"h\", y=-0.02, x =0.08))\n",
    "fig.update_annotations(yshift=-150)\n",
    "\n",
    "fig.show()"
   ]
  },
  {
   "cell_type": "markdown",
   "metadata": {},
   "source": [
    "No se si hacer barras apiladas con la misma información"
   ]
  },
  {
   "cell_type": "code",
   "execution_count": null,
   "metadata": {},
   "outputs": [],
   "source": [
    "round(df[\"ARRIVAL_DELAY\"],2)"
   ]
  },
  {
   "cell_type": "code",
   "execution_count": null,
   "metadata": {},
   "outputs": [],
   "source": [
    "fig = px.density_heatmap(df_flights, y=df_flights[\"DATE\"].dt.month_name(), x=df_flights[\"ORIGIN_AIRPORT\"], z='ARRIVAL_DELAY', histfunc=\"avg\",\n",
    "                         color_continuous_scale='RdYlGn_r', text_auto=\".2f\")\n",
    "\n",
    "fig.update_layout(\n",
    "    title=\"Average Delay by Airport and Month\",\n",
    "    xaxis_title=\"Month\",\n",
    "    yaxis_title=\"Airport\",\n",
    "    template=\"plotly_dark\",\n",
    "    width = 1200, \n",
    "    height = 650\n",
    ")\n",
    "\n",
    "fig.layout.coloraxis.colorbar.title = 'Average Delay'\n",
    "\n",
    "fig.show()"
   ]
  },
  {
   "cell_type": "markdown",
   "metadata": {},
   "source": [
    "# FIN"
   ]
  }
 ],
 "metadata": {
  "kernelspec": {
   "display_name": "Python 3 (ipykernel)",
   "language": "python",
   "name": "python3"
  },
  "language_info": {
   "codemirror_mode": {
    "name": "ipython",
    "version": 3
   },
   "file_extension": ".py",
   "mimetype": "text/x-python",
   "name": "python",
   "nbconvert_exporter": "python",
   "pygments_lexer": "ipython3",
   "version": "3.8.5"
  },
  "vscode": {
   "interpreter": {
    "hash": "b3472844a7ad831f024780a557c10180eb151bb97358fb439eb3b23af04efba3"
   }
  }
 },
 "nbformat": 4,
 "nbformat_minor": 4
}
