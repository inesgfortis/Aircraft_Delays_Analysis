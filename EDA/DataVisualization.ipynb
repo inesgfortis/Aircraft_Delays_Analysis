{
 "cells": [
  {
   "cell_type": "markdown",
   "metadata": {},
   "source": [
    "# Análisis Exploratorio"
   ]
  },
  {
   "cell_type": "code",
   "execution_count": null,
   "metadata": {},
   "outputs": [],
   "source": [
    "import pandas as pd\n",
    "import numpy as np\n",
    "import plotly.graph_objs as go\n",
    "import plotly.express as px\n",
    "from plotly.subplots import make_subplots"
   ]
  },
  {
   "cell_type": "code",
   "execution_count": null,
   "metadata": {},
   "outputs": [],
   "source": [
    "# base de datos de vuelos preprocesada\n",
    "df = pd.read_parquet(\"../Preprocessing/flightsFilteredCleaned.parquet\")\n",
    "\n",
    "# Añadimos el FlightNum como variable categórica\n",
    "df['FLIGHT_NUMBER']=df['FLIGHT_NUMBER'].astype(object) \n",
    "\n",
    "pd.set_option('display.max_columns', None)\n",
    "df.head()"
   ]
  },
  {
   "cell_type": "markdown",
   "metadata": {},
   "source": [
    "Primero hacemos un análisis de los retrasos en EEUU a lo largo del año"
   ]
  },
  {
   "cell_type": "code",
   "execution_count": null,
   "metadata": {},
   "outputs": [],
   "source": [
    "data = pd.DataFrame()\n",
    "data[\"Total\"] = df.groupby('DATE')[\"FLIGHT_NUMBER\"].count()\n",
    "data[\"Delayed\"] = df[df[\"ARRIVAL_DELAY\"]>0].groupby('DATE')[\"FLIGHT_NUMBER\"].count()\n",
    "data.head()"
   ]
  },
  {
   "cell_type": "code",
   "execution_count": null,
   "metadata": {},
   "outputs": [],
   "source": [
    "fig = px.line(data, x=data.index, y=[\"Total\", \"Delayed\"], color_discrete_sequence=px.colors.qualitative.Vivid)\n",
    "fig.update_layout(\n",
    "    title=\"Trend in total and delayed flights throughout the year\",\n",
    "    xaxis_title=\"Date\",\n",
    "    yaxis_title=\"Flights\",\n",
    "    legend_title=\"Number of flights\",\n",
    "    template=\"plotly_dark\",\n",
    "    hovermode=\"x unified\"\n",
    ")\n",
    "\n",
    "fig.add_hline(y=np.mean(data[\"Total\"]), line_dash=\"dash\", line_color=\"white\", annotation_text=\"mean\", annotation_position=\"top right\")\n",
    "fig.add_hline(y=np.mean(data[\"Delayed\"]), line_dash=\"dash\", line_color=\"white\", annotation_text=\"mean\", annotation_position=\"bottom right\")\n",
    "\n",
    "fig.show()"
   ]
  },
  {
   "cell_type": "markdown",
   "metadata": {},
   "source": [
    "En los meses de verano los vuelos realizados son superiores a la media, como cabría esperar. Pero lo interesante aparece al observar los retrasos, no solo repuntan en esas fechas sino también a final de año. Podríamos plantear la hipótesis inicial de que en fechas de mayores vuelos hay más retrasos debido a la falta de capacidad en ciertos aeropuertos.\n",
    "<br><br>Además, parece haber una tendencia semanal, vamos a confirmarlo:"
   ]
  },
  {
   "cell_type": "code",
   "execution_count": null,
   "metadata": {},
   "outputs": [],
   "source": [
    "## Definimos la paleta usada con plotly express, y la utilizaremos con plotly go\n",
    "color_palette = px.colors.qualitative.Vivid"
   ]
  },
  {
   "cell_type": "code",
   "execution_count": null,
   "metadata": {},
   "outputs": [],
   "source": [
    "data = pd.DataFrame()\n",
    "data[\"Total\"] = df.groupby(df['DATE'].dt.day_name())[\"FLIGHT_NUMBER\"].count()\n",
    "data[\"Delayed\"] = df[df[\"ARRIVAL_DELAY\"]>0].groupby(df['DATE'].dt.day_name())[\"FLIGHT_NUMBER\"].count()\n",
    "data = data.reindex(index = ['Monday','Tuesday','Wednesday','Thursday','Friday','Saturday','Sunday'])\n",
    "data.head()"
   ]
  },
  {
   "cell_type": "code",
   "execution_count": null,
   "metadata": {},
   "outputs": [],
   "source": [
    "fig = go.Figure()\n",
    "fig.add_trace(go.Bar(x=data.index, y=data[\"Total\"], name=\"Total\", marker_color = color_palette[0]))\n",
    "fig.add_trace(go.Scatter(x=data.index, y=data[\"Delayed\"], name=\"Delayed\", line_color=color_palette[1]))\n",
    "fig.update_layout(\n",
    "    title=\"Total and delayed flights by airline\",\n",
    "    xaxis_title=\"Weekday\",\n",
    "    yaxis_title=\"Flights\",\n",
    "    legend_title=\"Number of Flights\",\n",
    "    template=\"plotly_dark\",\n",
    "    hovermode=\"x unified\"\n",
    ")\n",
    "fig.show()"
   ]
  },
  {
   "cell_type": "markdown",
   "metadata": {},
   "source": [
    "Efectivamente, de media los sábados hay menos vuelos. Esto tiene sentido, ya que es raro volar en medio del fin de semana."
   ]
  },
  {
   "cell_type": "markdown",
   "metadata": {},
   "source": [
    "Lo siguiente será analizar cuánto se retrasan de media los vuelos y debido a qué causas, a lo largo del año"
   ]
  },
  {
   "cell_type": "code",
   "execution_count": null,
   "metadata": {},
   "outputs": [],
   "source": [
    "data = df.groupby(df['DATE'].dt.month_name()).mean()\n",
    "ORDERED_MONTHS = [\"January\", \"February\", \"March\", \"April\", \"May\", \"June\",\n",
    "      \"July\", \"August\", \"September\", \"October\", \"November\", \"December\"]\n",
    "data = data.reindex(index = ORDERED_MONTHS)"
   ]
  },
  {
   "cell_type": "code",
   "execution_count": null,
   "metadata": {},
   "outputs": [],
   "source": [
    "fig = go.Figure()\n",
    "\n",
    "fig.add_trace(go.Scatter(x=data.index, y=data[\"AIR_SYSTEM_DELAY\"], stackgroup='one', name=\"Air system\", line_color=color_palette[0]))\n",
    "fig.add_trace(go.Scatter(x=data.index, y=data[\"SECURITY_DELAY\"], stackgroup='one', name=\"Security\", line_color=color_palette[1])) \n",
    "fig.add_trace(go.Scatter(x=data.index, y=data[\"AIRLINE_DELAY\"], stackgroup='one', name=\"Airline\", line_color=color_palette[2])) \n",
    "fig.add_trace(go.Scatter(x=data.index, y=data[\"LATE_AIRCRAFT_DELAY\"], stackgroup='one', name=\"Late aircraft\", line_color=color_palette[3])) \n",
    "fig.add_trace(go.Scatter(x=data.index, y=data[\"WEATHER_DELAY\"], stackgroup='one', name=\"Weather\", line_color=color_palette[4])) \n",
    "fig.add_trace(go.Scatter(x=data.index, y=data[\"OTHER_DELAY\"], stackgroup='one', name=\"Other\", line_color=color_palette[5])) \n",
    "\n",
    "fig.update_layout(\n",
    "    title=\"Average delay and cause over the year\",\n",
    "    xaxis_title=\"Month\",\n",
    "    yaxis_title=\"Minutes\",\n",
    "    legend_title=\"Cause of delay\",\n",
    "    template=\"plotly_dark\",\n",
    "    hovermode=\"x unified\"\n",
    ")\n",
    "\n",
    "fig.show()"
   ]
  },
  {
   "cell_type": "markdown",
   "metadata": {},
   "source": [
    "Observamos que en general el retraso medio repunta en los meses de verano y de final e inicio de año, datos acordes al número de retrasos elevados que veíamos en esos meses. <br><br>\n",
    "Además, la distribución de causas de los retrasos parece mantenerse relativamente estable a lo largo del año."
   ]
  },
  {
   "cell_type": "markdown",
   "metadata": {},
   "source": [
    "### ¿Correlación entre distancia y retraso?"
   ]
  },
  {
   "cell_type": "code",
   "execution_count": null,
   "metadata": {},
   "outputs": [],
   "source": [
    "fig = px.scatter(df[df[\"ARRIVAL_DELAY\"]>0], x=\"ARRIVAL_DELAY\", y=\"DISTANCE\", color_discrete_sequence=px.colors.qualitative.Vivid)\n",
    "fig.update_layout(\n",
    "    title=\"Tendencia vuelos totales y retrasados a lo largo del año\",\n",
    "    xaxis_title=\"Fecha\",\n",
    "    yaxis_title=\"Vuelos\",\n",
    "    legend_title=\"Leyenda\",\n",
    "    template=\"plotly_dark\"\n",
    ")\n",
    "fig.show()"
   ]
  },
  {
   "cell_type": "markdown",
   "metadata": {},
   "source": [
    "No hay correlación entre la distancia y el retraso de los vuelos. Esto lleva a pensar que la causa del retraso estará más relacionada con el despegue y aterrizaje del avión, que con un problema durante el trayecto."
   ]
  },
  {
   "cell_type": "markdown",
   "metadata": {},
   "source": [
    "## Análisis por Aeropuerto"
   ]
  },
  {
   "cell_type": "markdown",
   "metadata": {},
   "source": [
    "Para hacer un análisis por aeropuertos, primero debemos agrupar los datos que nos interesan por aeropuerto"
   ]
  },
  {
   "cell_type": "code",
   "execution_count": null,
   "metadata": {},
   "outputs": [],
   "source": [
    "# Agrupamos por aeropuertos\n",
    "variables_to_group_by = [\"ORIGIN_AIRPORT\",\"ORIGIN_AIRPORT_NAME\",\"ORIGIN_CITY\",\"ORIGIN_STATE\"]\n",
    "airports = df.groupby(variables_to_group_by)\\\n",
    "             .agg({'ARRIVAL_DELAY':'mean','AIR_SYSTEM_DELAY':'mean',\n",
    "                    'SECURITY_DELAY':'mean','AIRLINE_DELAY':'mean','LATE_AIRCRAFT_DELAY':'mean',\n",
    "                    'WEATHER_DELAY':'mean','OTHER_DELAY':'mean', 'ORIGIN_LATITUDE':'mean',\n",
    "                    'ORIGIN_LONGITUDE':'mean', 'FLIGHT_NUMBER':'count'})\n",
    "airports = airports.rename(columns={\"FLIGHT_NUMBER\": \"FLIGHTS\"})\n",
    "airports[\"DELAYED_FLIGHTS\"] = df[df[\"ARRIVAL_DELAY\"]>0].groupby(variables_to_group_by).size()\n",
    "airports[\"DELAY_PERCENTAGE\"] = airports[\"DELAYED_FLIGHTS\"]/airports[\"FLIGHTS\"]\n",
    "airports = airports.sort_values(\"FLIGHTS\",ascending=False).reset_index()\n",
    "airports.head()"
   ]
  },
  {
   "cell_type": "markdown",
   "metadata": {},
   "source": [
    "Será interesante ver cuantos vuelos salen de cada aeropuerto y cuantos de ellos se retrasan. Esto lo podemos analizar con las dos próximas visualizaciones."
   ]
  },
  {
   "cell_type": "code",
   "execution_count": null,
   "metadata": {},
   "outputs": [],
   "source": [
    "# Observamos el tamaño de los aeropuertos\n",
    "fig = px.treemap(airports, path=[\"ORIGIN_AIRPORT\"], values='FLIGHTS',\n",
    "                  color='DELAY_PERCENTAGE', hover_data=['ORIGIN_CITY','ORIGIN_AIRPORT_NAME'],\n",
    "                  color_continuous_scale='RdYlGn_r',\n",
    "                  template=\"plotly_dark\")\n",
    "fig.update_layout(title=\"Departure Flights by Airport\",\n",
    "                  margin = dict(t=75, l=25, r=25, b=25))\n",
    "fig.update_coloraxes(colorbar_tickformat = ',.2%', colorbar_title=\"Delayed Flights %\")\n",
    "fig.show()"
   ]
  },
  {
   "cell_type": "markdown",
   "metadata": {},
   "source": [
    "Aquí podemos observar que entre los 16 aeropuertos con más vuelos nacionales, claramente los de Atlanta, Chicago y Dallas tienen un volumen de vuelos bastante superior al resto. <br><br>\n",
    "Es curioso que en general los aeropuertos de menor tamaño tienen menos porcentaje de retrasos, a excepción de Atlanta, cuya cifra porcentual de retrasos es la más baja. Esta información es muy util, quizás en un futuro nos interese tomar este aeropuerto como referencia de buenas prácticas."
   ]
  },
  {
   "cell_type": "code",
   "execution_count": null,
   "metadata": {},
   "outputs": [],
   "source": [
    "fig = px.scatter_geo(airports, lat=\"ORIGIN_LATITUDE\", lon = \"ORIGIN_LONGITUDE\",\n",
    "                     size= \"FLIGHTS\", # size of markers\n",
    "                     size_max= 30,\n",
    "                     color= \"ARRIVAL_DELAY\", # which column to use to set the color of markers\n",
    "                     scope=\"usa\",\n",
    "                     text = \"ORIGIN_AIRPORT\",\n",
    "                     hover_data  = ['ORIGIN_CITY','ORIGIN_AIRPORT_NAME'],\n",
    "                     color_continuous_scale='RdYlGn_r',\n",
    "                     template=\"plotly_dark\")\n",
    "fig.update_traces(textposition=\"top center\")\n",
    "fig.update_layout(\n",
    "    title=\"Origin airports with number of departing flights and percentage of delayed flights <br><br><sup>Size indicates the number of departing flights</sup>\",\n",
    "    legend_title=\"Causa del Retraso\"\n",
    ")\n",
    "fig.update_coloraxes(colorbar_title=\"Average Delay\")\n",
    "fig.show()"
   ]
  },
  {
   "cell_type": "markdown",
   "metadata": {},
   "source": [
    "Este mapa nos otorga información sobre la localización de estos dieciseis aeropuertos y su comparativa de retraso medio de vuelos de salida. Además de su tamaño, que ya conocíamos previamente. <br><br>\n",
    "Es interesante observar como Atlanta tiene un retraso medio de los vuelos bastante bajo en comparación con el resto, por lo que parece ser sin duda una referencia para buenas prácticas en el sector."
   ]
  },
  {
   "cell_type": "markdown",
   "metadata": {},
   "source": [
    "### Estudiamos la disvisión de los retrasos en cada aeropuerto"
   ]
  },
  {
   "cell_type": "code",
   "execution_count": null,
   "metadata": {},
   "outputs": [],
   "source": [
    "fig = make_subplots(rows=4, cols=4,\n",
    "                    specs=[[{\"type\": \"pie\"}, {\"type\": \"pie\"}, {\"type\": \"pie\"}, {\"type\": \"pie\"}],\n",
    "                           [{\"type\": \"pie\"}, {\"type\": \"pie\"}, {\"type\": \"pie\"}, {\"type\": \"pie\"}],\n",
    "                           [{\"type\": \"pie\"}, {\"type\": \"pie\"}, {\"type\": \"pie\"}, {\"type\": \"pie\"}],\n",
    "                           [{\"type\": \"pie\"}, {\"type\": \"pie\"}, {\"type\": \"pie\"}, {\"type\": \"pie\"}]],\n",
    "                    horizontal_spacing = 0.03, vertical_spacing = 0.04)\n",
    "\n",
    "delay_labels = [\"AIR_SYSTEM_DELAY\",\"SECURITY_DELAY\",\"AIRLINE_DELAY\",\"LATE_AIRCRAFT_DELAY\",\"WEATHER_DELAY\",\"OTHER_DELAY\"]\n",
    "\n",
    "for i in range(4):\n",
    "    values1 = airports[delay_labels].iloc[i]\n",
    "    fig.add_trace(go.Pie(labels=delay_labels, values=values1, direction ='clockwise', marker_colors=px.colors.qualitative.Vivid, hole=.33, \n",
    "                            title=\"%s:<br>%.3f s\" % (airports[\"ORIGIN_AIRPORT\"].iloc[i],np.sum(airports[delay_labels].iloc[i]))),\n",
    "              row=1, col=i+1)\n",
    "    values2 = airports[delay_labels].iloc[i+4]\n",
    "    fig.add_trace(go.Pie(labels=delay_labels, values=values2, direction ='clockwise', marker_colors=px.colors.qualitative.Vivid, hole=.33, \n",
    "                            title=\"%s:<br>%.3f s\" % (airports[\"ORIGIN_AIRPORT\"].iloc[i+4],np.sum(airports[delay_labels].iloc[i+4]))),\n",
    "              row=2, col=i+1)\n",
    "    values3 = airports[delay_labels].iloc[i+8]\n",
    "    fig.add_trace(go.Pie(labels=delay_labels, values=values3, direction ='clockwise', marker_colors=px.colors.qualitative.Vivid, hole=.33, \n",
    "                            title=\"%s:<br>%.3f s\" % (airports[\"ORIGIN_AIRPORT\"].iloc[i+8],np.sum(airports[delay_labels].iloc[i+8]))),\n",
    "              row=3, col=i+1)\n",
    "    values4 = airports[delay_labels].iloc[i+12]\n",
    "    fig.add_trace(go.Pie(labels=delay_labels, values=values4, direction ='clockwise', marker_colors=px.colors.qualitative.Vivid, hole=.33, \n",
    "                            title=\"%s:<br>%.3f s\" % (airports[\"ORIGIN_AIRPORT\"].iloc[i+12],np.sum(airports[delay_labels].iloc[i+12]))),\n",
    "              row=4, col=i+1)\n",
    "\n",
    "fig.update_layout(title_text=\"Average Delay Distribution by Airport<br><sub>Values in seconds<sub>\", \n",
    "                  legend_title=\"Delay Cause\", template=\"plotly_dark\", height=1200, width=1200,\n",
    "                  legend=dict(orientation=\"h\", y=-0.02, x =0.08))\n",
    "fig.update_annotations(yshift=-125)\n",
    "\n",
    "fig.show()"
   ]
  },
  {
   "cell_type": "markdown",
   "metadata": {},
   "source": [
    "Vemos que aquí el retraso medio de cada aeropuerto es mayor que en el anterior mapa, esto es porque aquí tenemos en cuenta solo los vuelos retrasados, y por lo tanto la suma de los retrasos se divide entre menos vuelos."
   ]
  },
  {
   "cell_type": "markdown",
   "metadata": {},
   "source": [
    "La razón que más tiempo de retraso causa varía entre aeropuertos, pero está claro que el retraso de la aerolínea y los aviones tardíos son lo que más retraso causa en los vuelos. Eiste bastante homogeneidad en los resultados de los aeropuertos, por lo que podremos aplicar una estrategia similar a la hora de afrontar el plan de mejora."
   ]
  },
  {
   "cell_type": "markdown",
   "metadata": {},
   "source": [
    "### Por ultimo realizamos un estudio de los retrasos de los aeropuertos en función de la época del año"
   ]
  },
  {
   "cell_type": "code",
   "execution_count": null,
   "metadata": {},
   "outputs": [],
   "source": [
    "fig = px.density_heatmap(df, y=df[\"DATE\"].dt.month_name(), x=df[\"ORIGIN_AIRPORT\"], z='ARRIVAL_DELAY', histfunc=\"avg\",\n",
    "                         color_continuous_scale='RdYlGn_r', text_auto=\".2f\")\n",
    "\n",
    "fig.update_layout(\n",
    "    title=\"Average Delay by Airport and Month\",\n",
    "    xaxis_title=\"Month\",\n",
    "    yaxis_title=\"Airport\",\n",
    "    template=\"plotly_dark\",\n",
    "    width = 1200, \n",
    "    height = 650\n",
    ")\n",
    "\n",
    "fig.layout.coloraxis.colorbar.title = 'Average Delay'\n",
    "\n",
    "fig.show()"
   ]
  },
  {
   "cell_type": "markdown",
   "metadata": {},
   "source": [
    "De aquí podemos sacar información mucho más personalizada para cada aeropuerto. Por ejemplo tanto ORD como BOS han de tener más cuidado con los retrasos en los dos primeros meses del año, mientras que aeropuertos como DFW o IAH empeoran su retraso medio al acercarse el verano."
   ]
  },
  {
   "cell_type": "markdown",
   "metadata": {},
   "source": [
    "# FIN"
   ]
  }
 ],
 "metadata": {
  "kernelspec": {
   "display_name": "Python 3.8.5 ('base')",
   "language": "python",
   "name": "python3"
  },
  "language_info": {
   "codemirror_mode": {
    "name": "ipython",
    "version": 3
   },
   "file_extension": ".py",
   "mimetype": "text/x-python",
   "name": "python",
   "nbconvert_exporter": "python",
   "pygments_lexer": "ipython3",
   "version": "3.8.5"
  },
  "vscode": {
   "interpreter": {
    "hash": "b3472844a7ad831f024780a557c10180eb151bb97358fb439eb3b23af04efba3"
   }
  }
 },
 "nbformat": 4,
 "nbformat_minor": 4
}
