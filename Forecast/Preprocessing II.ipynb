{
 "cells": [
  {
   "cell_type": "code",
   "execution_count": 1,
   "id": "86de63bd",
   "metadata": {},
   "outputs": [],
   "source": [
    "import pandas as pd\n",
    "import numpy as np\n",
    "from datetime import datetime, timedelta\n",
    "\n",
    "pd.set_option('display.max_columns', None)"
   ]
  },
  {
   "cell_type": "code",
   "execution_count": 3,
   "id": "fff8f9f0",
   "metadata": {},
   "outputs": [
    {
     "data": {
      "text/plain": [
       "array(['LAX', 'DEN', 'ORD', 'DFW', 'ATL'], dtype=object)"
      ]
     },
     "execution_count": 3,
     "metadata": {},
     "output_type": "execute_result"
    }
   ],
   "source": [
    "df = pd.read_parquet(\"top_5_delay.parquet\")"
   ]
  },
  {
   "cell_type": "code",
   "execution_count": 76,
   "id": "c5315808",
   "metadata": {
    "scrolled": false
   },
   "outputs": [
    {
     "data": {
      "text/html": [
       "<div>\n",
       "<style scoped>\n",
       "    .dataframe tbody tr th:only-of-type {\n",
       "        vertical-align: middle;\n",
       "    }\n",
       "\n",
       "    .dataframe tbody tr th {\n",
       "        vertical-align: top;\n",
       "    }\n",
       "\n",
       "    .dataframe thead th {\n",
       "        text-align: right;\n",
       "    }\n",
       "</style>\n",
       "<table border=\"1\" class=\"dataframe\">\n",
       "  <thead>\n",
       "    <tr style=\"text-align: right;\">\n",
       "      <th></th>\n",
       "      <th>DATE</th>\n",
       "      <th>ORIGIN_AIRPORT</th>\n",
       "      <th>DELAYED_FLIGHTS</th>\n",
       "    </tr>\n",
       "  </thead>\n",
       "  <tbody>\n",
       "    <tr>\n",
       "      <th>0</th>\n",
       "      <td>2015-01-01</td>\n",
       "      <td>ATL</td>\n",
       "      <td>162</td>\n",
       "    </tr>\n",
       "    <tr>\n",
       "      <th>1</th>\n",
       "      <td>2015-01-01</td>\n",
       "      <td>DEN</td>\n",
       "      <td>406</td>\n",
       "    </tr>\n",
       "    <tr>\n",
       "      <th>2</th>\n",
       "      <td>2015-01-01</td>\n",
       "      <td>DFW</td>\n",
       "      <td>453</td>\n",
       "    </tr>\n",
       "    <tr>\n",
       "      <th>3</th>\n",
       "      <td>2015-01-01</td>\n",
       "      <td>LAX</td>\n",
       "      <td>236</td>\n",
       "    </tr>\n",
       "    <tr>\n",
       "      <th>4</th>\n",
       "      <td>2015-01-01</td>\n",
       "      <td>ORD</td>\n",
       "      <td>271</td>\n",
       "    </tr>\n",
       "  </tbody>\n",
       "</table>\n",
       "</div>"
      ],
      "text/plain": [
       "        DATE ORIGIN_AIRPORT  DELAYED_FLIGHTS\n",
       "0 2015-01-01            ATL              162\n",
       "1 2015-01-01            DEN              406\n",
       "2 2015-01-01            DFW              453\n",
       "3 2015-01-01            LAX              236\n",
       "4 2015-01-01            ORD              271"
      ]
     },
     "execution_count": 76,
     "metadata": {},
     "output_type": "execute_result"
    }
   ],
   "source": [
    "# Agrupamos los datos por aerolinea, fecha, y aeropuerto de origen y contamos el número de vuelos\n",
    "data = pd.DataFrame(df[df[\"ARRIVAL_DELAY\"]>0].groupby([\"DATE\",\"ORIGIN_AIRPORT\"])[\"FLIGHT_NUMBER\"].count()).reset_index()\n",
    "#data = pd.DataFrame(df[df[\"ARRIVAL_DELAY\"]>0].groupby([\"AIRLINE\",\"DATE\",\"ORIGIN_AIRPORT\"])[\"FLIGHT_NUMBER\"].count()).reset_index()\n",
    "data = data.rename(columns={\"FLIGHT_NUMBER\":\"DELAYED_FLIGHTS\"})\n",
    "data.head()"
   ]
  },
  {
   "cell_type": "markdown",
   "id": "f40c4441",
   "metadata": {},
   "source": [
    "Pueder ser que haya aeropuertos que no tengan retrasos algún día (caso raro). Para realizar el forecast necesitamos tener datos en todos los días de de todos los aeropuertos para todas las aerolíneas así que vamos a asegurarnos de que esto ocurra. Para ello crearemos un dataframe auxiliar con contenga todos los datos de fechas y aeropuertos, pero sin el número de vuelos retrasados"
   ]
  },
  {
   "cell_type": "code",
   "execution_count": 79,
   "id": "31c9c42f",
   "metadata": {},
   "outputs": [
    {
     "data": {
      "text/html": [
       "<div>\n",
       "<style scoped>\n",
       "    .dataframe tbody tr th:only-of-type {\n",
       "        vertical-align: middle;\n",
       "    }\n",
       "\n",
       "    .dataframe tbody tr th {\n",
       "        vertical-align: top;\n",
       "    }\n",
       "\n",
       "    .dataframe thead th {\n",
       "        text-align: right;\n",
       "    }\n",
       "</style>\n",
       "<table border=\"1\" class=\"dataframe\">\n",
       "  <thead>\n",
       "    <tr style=\"text-align: right;\">\n",
       "      <th></th>\n",
       "      <th>DATE</th>\n",
       "      <th>ORIGIN_AIRPORT</th>\n",
       "    </tr>\n",
       "  </thead>\n",
       "  <tbody>\n",
       "    <tr>\n",
       "      <th>0</th>\n",
       "      <td>2015-01-01</td>\n",
       "      <td>LAX</td>\n",
       "    </tr>\n",
       "    <tr>\n",
       "      <th>1</th>\n",
       "      <td>2015-01-02</td>\n",
       "      <td>LAX</td>\n",
       "    </tr>\n",
       "    <tr>\n",
       "      <th>2</th>\n",
       "      <td>2015-01-03</td>\n",
       "      <td>LAX</td>\n",
       "    </tr>\n",
       "    <tr>\n",
       "      <th>3</th>\n",
       "      <td>2015-01-04</td>\n",
       "      <td>LAX</td>\n",
       "    </tr>\n",
       "    <tr>\n",
       "      <th>4</th>\n",
       "      <td>2015-01-05</td>\n",
       "      <td>LAX</td>\n",
       "    </tr>\n",
       "  </tbody>\n",
       "</table>\n",
       "</div>"
      ],
      "text/plain": [
       "        DATE ORIGIN_AIRPORT\n",
       "0 2015-01-01            LAX\n",
       "1 2015-01-02            LAX\n",
       "2 2015-01-03            LAX\n",
       "3 2015-01-04            LAX\n",
       "4 2015-01-05            LAX"
      ]
     },
     "execution_count": 79,
     "metadata": {},
     "output_type": "execute_result"
    }
   ],
   "source": [
    "dates = [datetime(2015,1,1) + timedelta(days=d) for d in range((datetime(2015,12,31) - datetime(2015,1,1)).days + 1)]*5\n",
    "\n",
    "airports = []\n",
    "for airport in df['ORIGIN_AIRPORT'].unique():\n",
    "    airport_dates=[airport]*365\n",
    "    airports=airports+airport_dates\n",
    "\n",
    "# Creamos el dataframe\n",
    "aux = pd.DataFrame()\n",
    "aux['DATE'] = dates\n",
    "aux['ORIGIN_AIRPORT'] = airports\n",
    "\n",
    "aux.head()"
   ]
  },
  {
   "cell_type": "code",
   "execution_count": 72,
   "id": "1e0eed1c",
   "metadata": {},
   "outputs": [],
   "source": [
    "# dates = [datetime(2015,1,1) + timedelta(days=d) for d in range((datetime(2015,12,31) - datetime(2015,1,1)).days + 1)]*5*len(df['AIRLINE'].unique())\n",
    "\n",
    "# airlines = []\n",
    "# for airline in df['AIRLINE'].unique():\n",
    "#     airline_dates=[airline]*365*5\n",
    "#     airlines=airlines+airline_dates\n",
    "    \n",
    "# airports = []\n",
    "# for airport in df['ORIGIN_AIRPORT'].unique():\n",
    "#     airport_dates=[airport]*365*14\n",
    "#     airports=airports+airport_dates\n",
    "\n",
    "# # Creamos el dataframe\n",
    "# aux = pd.DataFrame()\n",
    "# aux['DATE'] = dates\n",
    "# aux['AIRLINE'] = airlines\n",
    "# aux['ORIGIN_AIRPORT'] = airports\n",
    "\n",
    "# aux.head()"
   ]
  },
  {
   "cell_type": "markdown",
   "id": "78ede936",
   "metadata": {},
   "source": [
    "Una vez hecho esto vamos a unir el dataframe actual con el obtenido a partir del groupby, mediante un left join, de tal manera que si no tenemos datos de algún aeropuerto en alguna fecha exista una fila con valor nulo, el cual sustituiremos por cero"
   ]
  },
  {
   "cell_type": "code",
   "execution_count": 80,
   "id": "f3a30656",
   "metadata": {
    "scrolled": true
   },
   "outputs": [
    {
     "data": {
      "text/html": [
       "<div>\n",
       "<style scoped>\n",
       "    .dataframe tbody tr th:only-of-type {\n",
       "        vertical-align: middle;\n",
       "    }\n",
       "\n",
       "    .dataframe tbody tr th {\n",
       "        vertical-align: top;\n",
       "    }\n",
       "\n",
       "    .dataframe thead th {\n",
       "        text-align: right;\n",
       "    }\n",
       "</style>\n",
       "<table border=\"1\" class=\"dataframe\">\n",
       "  <thead>\n",
       "    <tr style=\"text-align: right;\">\n",
       "      <th></th>\n",
       "      <th>DATE</th>\n",
       "      <th>ORIGIN_AIRPORT</th>\n",
       "      <th>DELAYED_FLIGHTS</th>\n",
       "    </tr>\n",
       "  </thead>\n",
       "  <tbody>\n",
       "    <tr>\n",
       "      <th>0</th>\n",
       "      <td>2015-01-01</td>\n",
       "      <td>LAX</td>\n",
       "      <td>236</td>\n",
       "    </tr>\n",
       "    <tr>\n",
       "      <th>1</th>\n",
       "      <td>2015-01-02</td>\n",
       "      <td>LAX</td>\n",
       "      <td>409</td>\n",
       "    </tr>\n",
       "    <tr>\n",
       "      <th>2</th>\n",
       "      <td>2015-01-03</td>\n",
       "      <td>LAX</td>\n",
       "      <td>437</td>\n",
       "    </tr>\n",
       "    <tr>\n",
       "      <th>3</th>\n",
       "      <td>2015-01-04</td>\n",
       "      <td>LAX</td>\n",
       "      <td>467</td>\n",
       "    </tr>\n",
       "    <tr>\n",
       "      <th>4</th>\n",
       "      <td>2015-01-05</td>\n",
       "      <td>LAX</td>\n",
       "      <td>400</td>\n",
       "    </tr>\n",
       "  </tbody>\n",
       "</table>\n",
       "</div>"
      ],
      "text/plain": [
       "        DATE ORIGIN_AIRPORT  DELAYED_FLIGHTS\n",
       "0 2015-01-01            LAX              236\n",
       "1 2015-01-02            LAX              409\n",
       "2 2015-01-03            LAX              437\n",
       "3 2015-01-04            LAX              467\n",
       "4 2015-01-05            LAX              400"
      ]
     },
     "execution_count": 80,
     "metadata": {},
     "output_type": "execute_result"
    }
   ],
   "source": [
    "forecast_data = aux.merge(data, on=['DATE','ORIGIN_AIRPORT'], how='left')\n",
    "forecast_data = forecast_data.fillna(0)\n",
    "forecast_data['DELAYED_FLIGHTS'] = forecast_data['DELAYED_FLIGHTS'].astype(int)\n",
    "forecast_data.head()"
   ]
  },
  {
   "cell_type": "code",
   "execution_count": 81,
   "id": "981919ae",
   "metadata": {},
   "outputs": [],
   "source": [
    "# Guardamos\n",
    "forecast_data.to_parquet(\"forecast_data.parquet\", index=False)"
   ]
  }
 ],
 "metadata": {
  "kernelspec": {
   "display_name": "Python 3 (ipykernel)",
   "language": "python",
   "name": "python3"
  },
  "language_info": {
   "codemirror_mode": {
    "name": "ipython",
    "version": 3
   },
   "file_extension": ".py",
   "mimetype": "text/x-python",
   "name": "python",
   "nbconvert_exporter": "python",
   "pygments_lexer": "ipython3",
   "version": "3.9.12"
  }
 },
 "nbformat": 4,
 "nbformat_minor": 5
}
