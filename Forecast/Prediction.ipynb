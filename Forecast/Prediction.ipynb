{
 "cells": [
  {
   "cell_type": "code",
   "execution_count": null,
   "metadata": {},
   "outputs": [],
   "source": [
    "import pandas as pd\n",
    "import numpy as np\n",
    "from neuralprophet import NeuralProphet\n",
    "\n",
    "import plotly.graph_objects as go\n",
    "import plotly.express as px\n",
    "\n",
    "from prophet import Prophet\n",
    "\n",
    "#import matplotlib.pyplot as plt"
   ]
  },
  {
   "cell_type": "markdown",
   "metadata": {},
   "source": [
    "## Lectura de los datos"
   ]
  },
  {
   "cell_type": "code",
   "execution_count": null,
   "metadata": {},
   "outputs": [],
   "source": [
    "df = pd.read_csv(\"flightsCleaned.csv\")\n",
    "pd.set_option('display.max_columns', None)"
   ]
  },
  {
   "cell_type": "markdown",
   "metadata": {},
   "source": [
    "## Seleccionamos los datos"
   ]
  },
  {
   "cell_type": "markdown",
   "metadata": {},
   "source": [
    "Queremos predecir los retrasos correspondientes con los 5 aeropuertos que experimentan mayor número de retrasos. En primer lugar debemos seleccionar dichos aeropuertos. Para ello calcularemos el número total de vuelos, el número total de vuelos retrasados y el % de vuelos retrasados para cada uno de los aeropuertos. Una vez hecho esto nos quedaremos con aquellos 5 que muestren un % de retrasos más elevado"
   ]
  },
  {
   "cell_type": "code",
   "execution_count": null,
   "metadata": {},
   "outputs": [],
   "source": [
    "airports = pd.DataFrame(df.groupby(df['ORIGIN_AIRPORT'])[\"FLIGHT_NUMBER\"].count())\n",
    "airports = airports.rename(columns={\"FLIGHT_NUMBER\":\"TOTAL_FLIGHTS\"})\n",
    "airports[\"DELAYED_FLIGHTS\"] =  df[df[\"ARRIVAL_DELAY\"]>0].groupby(df['ORIGIN_AIRPORT'])[\"FLIGHT_NUMBER\"].count()\n",
    "airports[\"DELAY_PERCENTAGE\"] = np.round(airports['DELAYED_FLIGHTS']/airports['TOTAL_FLIGHTS']*100,2)\n",
    "\n",
    "# Ordenamos los aeropuertos de tal manera que los 5 con mayor % de retrasos aparezcan los primeros\n",
    "airports = airports.sort_values('DELAY_PERCENTAGE',ascending=False)\n",
    "airports = airports.reset_index(level=0, drop=False)\n",
    "airports"
   ]
  },
  {
   "cell_type": "code",
   "execution_count": null,
   "metadata": {},
   "outputs": [],
   "source": [
    "# Seleccionamos el top 5\n",
    "top_5_delay = airports.loc[0:4]\n",
    "top_5_delay = top_5_delay['ORIGIN_AIRPORT']\n",
    "\n",
    "# Filtramos nuestros datos para quedarnos únicamente con los correspondientes a dichos aeropuertos\n",
    "df = df[df.ORIGIN_AIRPORT.isin(top_5_delay)]\n",
    "list(top_5_delay)"
   ]
  },
  {
   "cell_type": "code",
   "execution_count": null,
   "metadata": {},
   "outputs": [],
   "source": [
    "df.head()"
   ]
  },
  {
   "cell_type": "code",
   "execution_count": null,
   "metadata": {},
   "outputs": [],
   "source": [
    "# Adjuntar mapa de los 5 aeropuertos\n"
   ]
  },
  {
   "cell_type": "markdown",
   "metadata": {},
   "source": [
    "### Por qué no va?"
   ]
  },
  {
   "cell_type": "code",
   "execution_count": null,
   "metadata": {},
   "outputs": [],
   "source": [
    "# Arrival delay per airport\n",
    "a1 = df[df['ORIGIN_AIRPORT']== top_5_delay[0]]\n",
    "a2 = df[df['ORIGIN_AIRPORT']== top_5_delay[1]]\n",
    "\n",
    "fig = go.Figure()\n",
    "\n",
    "fig.add_trace(\n",
    "    go.Box(\n",
    "        x = a1[\"ARRIVAL_DELAY\"],\n",
    "        marker_color = \"gold\",\n",
    "        name = str(top_5_delay[0]),\n",
    "        boxpoints='all',\n",
    "        boxmean=True\n",
    "    )\n",
    ")\n",
    "fig.add_trace(\n",
    "    go.Box(\n",
    "        x = a2[\"ARRIVAL_DELAY\"],\n",
    "        marker_color = \"mediumseagreen\",\n",
    "        name = str(top_5_delay[1]),\n",
    "        boxpoints='all',\n",
    "        boxmean=True\n",
    "    )\n",
    ")\n",
    "\n",
    "fig.update_layout(title = \"Arrival Delay Distribution\", yaxis_title = \"Arrival delay\")\n",
    "\n",
    "fig.show()\n"
   ]
  },
  {
   "cell_type": "markdown",
   "metadata": {},
   "source": [
    "## Forecast"
   ]
  },
  {
   "cell_type": "markdown",
   "metadata": {},
   "source": [
    "NeuralProphet: https://medium.com/analytics-vidhya/neuralprophet-a-neural-network-based-time-series-model-3c74af3b0ec6"
   ]
  },
  {
   "cell_type": "markdown",
   "metadata": {},
   "source": [
    "Variable a predecir: **number of delays per airport and day**"
   ]
  },
  {
   "cell_type": "markdown",
   "metadata": {},
   "source": [
    "### Aeropuerto 1"
   ]
  },
  {
   "cell_type": "code",
   "execution_count": null,
   "metadata": {},
   "outputs": [],
   "source": [
    "airport_1 = df[df['ORIGIN_AIRPORT']== top_5_delay[0]]\n",
    "\n",
    "# Tenemos que agrupar los datos por día\n",
    "airport_1_df = pd.DataFrame(airport_1.groupby(airport_1['DATE'])[\"FLIGHT_NUMBER\"].count())\n",
    "airport_1_df = airport_1_df.rename(columns={\"FLIGHT_NUMBER\":\"TOTAL_FLIGHTS\"})\n",
    "airport_1_df[\"DELAYED_FLIGHTS\"] =  airport_1[airport_1[\"ARRIVAL_DELAY\"]>0].groupby(airport_1['DATE'])[\"FLIGHT_NUMBER\"].count()\n",
    "airport_1_df[\"DELAY_PERCENTAGE\"] = np.round(airport_1_df['DELAYED_FLIGHTS']/airport_1_df['TOTAL_FLIGHTS']*100,2)\n",
    "\n",
    "# Ordenamos los aeropuertos de tal manera que los 5 con mayor % de retrasos aparezcan los primeros\n",
    "airport_1_df = airport_1_df.sort_values('DELAY_PERCENTAGE',ascending=False)\n",
    "airport_1_df.describe()"
   ]
  },
  {
   "cell_type": "code",
   "execution_count": null,
   "metadata": {},
   "outputs": [],
   "source": [
    "airport_1.head()"
   ]
  },
  {
   "cell_type": "markdown",
   "metadata": {},
   "source": [
    "#### Data preparation"
   ]
  },
  {
   "cell_type": "code",
   "execution_count": null,
   "metadata": {},
   "outputs": [],
   "source": [
    "data = airport_1_df.reset_index(level=0, drop=False)\n",
    "data = data.loc[:,['DATE', 'DELAYED_FLIGHTS']] \n",
    "data['DATE'] = pd.to_datetime(data['DATE'])\n",
    "\n",
    "# Cambiamos el nombre a las columnas para que vaya a corde con el modelo\n",
    "data.columns = ['ds','y']\n",
    "data['ds'] = pd.to_datetime(data['ds'],format = \"%m/%d/%Y\")\n",
    "data = data.sort_values('ds')\n",
    "data = data.reset_index(level=0, drop=True)\n",
    "data.head()"
   ]
  },
  {
   "cell_type": "code",
   "execution_count": null,
   "metadata": {},
   "outputs": [],
   "source": [
    "# Representación de los datos\n",
    "fig = px.line(data, x=\"ds\", y=\"y\", labels={'ds':'Date', 'y':'Number of delays'},\n",
    "              title = \"Delayed flights per day\")\n",
    "\n",
    "\n",
    "fig.update_traces({\"line\":{\"color\":\"steelblue\", 'dash':'dash'}})\n",
    "fig.show()"
   ]
  },
  {
   "cell_type": "markdown",
   "metadata": {},
   "source": [
    "Seasonability?"
   ]
  },
  {
   "cell_type": "markdown",
   "metadata": {},
   "source": [
    "#### Modelling"
   ]
  },
  {
   "cell_type": "markdown",
   "metadata": {},
   "source": [
    "Model variables explained in: https://neuralprophet.com/code/forecaster.html"
   ]
  },
  {
   "cell_type": "code",
   "execution_count": null,
   "metadata": {},
   "outputs": [],
   "source": [
    "model = NeuralProphet(   \n",
    "    growth=\"linear\",  # Determine trend types: 'linear', 'discontinuous', 'off'\n",
    "    changepoints=None, # list of dates that may include change points (None -> automatic )\n",
    "    n_changepoints=5,\n",
    "    changepoints_range=0.8,\n",
    "    trend_reg=0,\n",
    "    trend_reg_threshold=False,\n",
    "    yearly_seasonality=\"auto\",\n",
    "    weekly_seasonality=\"auto\",\n",
    "    daily_seasonality=\"auto\",\n",
    "    seasonality_mode=\"additive\",\n",
    "    seasonality_reg=0,\n",
    "    n_forecasts=30,       # n_forecasts (int) – Number of steps ahead of prediction time step to forecast.\n",
    "    n_lags= len(data)-30, # n_lags (int) – Previous time series steps to include in auto-regression\n",
    "    num_hidden_layers=0,\n",
    "    d_hidden=None,     # Dimension of hidden layers of AR-Net\n",
    "    #ar_sparsity=None,  # Sparcity in the AR coefficients\n",
    "    learning_rate=None,\n",
    "    epochs=40,\n",
    "    loss_func=\"Huber\",\n",
    "    normalize=\"auto\",  # Type of normalization ('minmax', 'standardize', 'soft', 'off')\n",
    "    impute_missing=True,\n",
    "    #log_level=None, # Determines the logging level of the logger object\n",
    ")"
   ]
  },
  {
   "cell_type": "code",
   "execution_count": null,
   "metadata": {},
   "outputs": [],
   "source": [
    "m.highlight_nth_step_ahead_of_each_forecast(step_number=m.n_forecasts)"
   ]
  },
  {
   "cell_type": "code",
   "execution_count": null,
   "metadata": {},
   "outputs": [],
   "source": [
    "# Data partition\n",
    "train = data [:-30]\n",
    "test = data [-30:] "
   ]
  },
  {
   "cell_type": "code",
   "execution_count": null,
   "metadata": {},
   "outputs": [],
   "source": [
    "en un modelo de forecast hay que hacer fit al modelo?"
   ]
  },
  {
   "cell_type": "code",
   "execution_count": null,
   "metadata": {},
   "outputs": [],
   "source": [
    "# Indicamos que nuestro periodo de predicción son días --> freq = 'D'\n",
    "model = NeuralProphet()\n",
    "metrics = model.fit(train, freq=\"D\") \n",
    "\n",
    "# Dividir train y test\n",
    "\n",
    "# Vamos a predecir el mes de diciembre\n",
    "future = model.make_future_dataframe(data, periods=30) \n",
    "forecast = model.predict(future)\n",
    "forecast.tail()"
   ]
  },
  {
   "cell_type": "code",
   "execution_count": null,
   "metadata": {},
   "outputs": [],
   "source": [
    "forecast[-30*2:-30]"
   ]
  },
  {
   "cell_type": "code",
   "execution_count": null,
   "metadata": {},
   "outputs": [],
   "source": [
    "forecast = model.predict(data)"
   ]
  },
  {
   "cell_type": "code",
   "execution_count": null,
   "metadata": {},
   "outputs": [],
   "source": [
    "plot1 = model.plot(forecast)"
   ]
  },
  {
   "cell_type": "code",
   "execution_count": null,
   "metadata": {},
   "outputs": [],
   "source": [
    "plt2 = model.plot_components(forecast)"
   ]
  },
  {
   "cell_type": "code",
   "execution_count": null,
   "metadata": {},
   "outputs": [],
   "source": [
    "model.plot_parameters()"
   ]
  },
  {
   "cell_type": "code",
   "execution_count": null,
   "metadata": {},
   "outputs": [],
   "source": []
  },
  {
   "cell_type": "code",
   "execution_count": null,
   "metadata": {},
   "outputs": [],
   "source": []
  },
  {
   "cell_type": "code",
   "execution_count": null,
   "metadata": {},
   "outputs": [],
   "source": []
  },
  {
   "cell_type": "markdown",
   "metadata": {},
   "source": [
    "#### Training the model"
   ]
  },
  {
   "cell_type": "code",
   "execution_count": null,
   "metadata": {},
   "outputs": [],
   "source": [
    "int(1/12*365)"
   ]
  },
  {
   "cell_type": "code",
   "execution_count": null,
   "metadata": {},
   "outputs": [],
   "source": [
    "m = NeuralProphet()\n",
    "df_train, df_val = m.split_df(data, freq='D', valid_p = 30)\n",
    "metrics = m.fit(df_train, freq='D', validation_df=df_val)"
   ]
  },
  {
   "cell_type": "code",
   "execution_count": null,
   "metadata": {},
   "outputs": [],
   "source": [
    "# Make predictions using the fitted model once it has been fitted.\n",
    "future = m.make_future_dataframe(data, periods=30, n_historic_predictions=len(data)-30)\n",
    "forecast = m.predict(future)"
   ]
  },
  {
   "cell_type": "code",
   "execution_count": null,
   "metadata": {},
   "outputs": [],
   "source": []
  },
  {
   "cell_type": "code",
   "execution_count": null,
   "metadata": {},
   "outputs": [],
   "source": []
  },
  {
   "cell_type": "code",
   "execution_count": null,
   "metadata": {},
   "outputs": [],
   "source": []
  },
  {
   "cell_type": "code",
   "execution_count": null,
   "metadata": {},
   "outputs": [],
   "source": []
  },
  {
   "cell_type": "code",
   "execution_count": null,
   "metadata": {},
   "outputs": [],
   "source": [
    "# Data preparation\n",
    "# ==============================================================================\n",
    "airport_1['DATE'] = pd.to_datetime(airport_1['DATE'], format='%Y/%m/%d')\n",
    "\n",
    "# airport_1\n",
    "airport_1 = airport_1.set_index('DATE')\n",
    "airport_1 = airport_1.rename(columns={'ARRIVAL_DELAY': 'y'})\n",
    "airport_1 = airport_1.asfreq('MS')\n",
    "airport_1 = airport_1.sort_index()\n",
    "airport_1.head()"
   ]
  },
  {
   "cell_type": "code",
   "execution_count": null,
   "metadata": {},
   "outputs": [],
   "source": [
    "# 20% de los datos para test\n",
    "steps = int(round(0.2*len(airport_1),0))\n",
    "\n",
    "data_train = airport_1[:-steps]\n",
    "data_test  = airport_1[-steps:]\n",
    "\n",
    "print(f\"Train dates : {data_train.DATE.min()} --- {data_train.DATE.max()}  (n={len(data_train)})\")\n",
    "print(f\"Test dates  : {data_test.DATE.min()} --- {data_test.DATE.max()}  (n={len(data_test)})\")\n",
    "\n",
    "fig, ax=plt.subplots(figsize=(9, 4))\n",
    "data_train['y'].plot(ax=ax, label='train')\n",
    "data_test['y'].plot(ax=ax, label='test')\n",
    "ax.legend();"
   ]
  },
  {
   "cell_type": "code",
   "execution_count": null,
   "metadata": {},
   "outputs": [],
   "source": []
  },
  {
   "cell_type": "code",
   "execution_count": null,
   "metadata": {},
   "outputs": [],
   "source": []
  },
  {
   "cell_type": "code",
   "execution_count": null,
   "metadata": {},
   "outputs": [],
   "source": []
  },
  {
   "cell_type": "code",
   "execution_count": null,
   "metadata": {},
   "outputs": [],
   "source": []
  },
  {
   "cell_type": "markdown",
   "metadata": {},
   "source": [
    "#### Exploring the results"
   ]
  },
  {
   "cell_type": "code",
   "execution_count": null,
   "metadata": {},
   "outputs": [],
   "source": [
    "airport_1.head()"
   ]
  },
  {
   "cell_type": "code",
   "execution_count": null,
   "metadata": {},
   "outputs": [],
   "source": [
    "a1[\"DEPARTURE_DELAY\"] =  pd.DataFrame(df.groupby(df['ORIGIN_AIRPORT'])[\"FLIGHT_NUMBER\"].count())"
   ]
  },
  {
   "cell_type": "code",
   "execution_count": null,
   "metadata": {},
   "outputs": [],
   "source": [
    "a1 = airport_1.loc[:,['DEPARTURE_DELAY','AIR_SYSTEM_DELAY','SECURITY_DELAY','AIRLINE_DELAY','LATE_AIRCRAFT_DELAY','WEATHER_DELAY','OTHER_DELAY']]"
   ]
  },
  {
   "cell_type": "code",
   "execution_count": null,
   "metadata": {},
   "outputs": [],
   "source": [
    "a1['DEPARTURE_DELAY'].mean()"
   ]
  },
  {
   "cell_type": "code",
   "execution_count": null,
   "metadata": {},
   "outputs": [],
   "source": [
    "causas = pd.DataFrame(df.groupby(df['ORIGIN_AIRPORT'])[\"FLIGHT_NUMBER\"].count())\n",
    "causas = causas.rename(columns={\"FLIGHT_NUMBER\":\"TOTAL_FLIGHTS\"})\n",
    "causas[\"DEPARTURE_DELAY\"] =  df.groupby(df['ORIGIN_AIRPORT'])[\"DEPARTURE_DELAY\"].mean()\n",
    "causas['AIR_SYSTEM_DELAY'] = df.groupby(df['ORIGIN_AIRPORT'])[\"AIR_SYSTEM_DELAY\"].mean()\n",
    "causas['SECURITY_DELAY'] = df.groupby(df['ORIGIN_AIRPORT'])[\"SECURITY_DELAY\"].mean()\n",
    "causas['AIRLINE_DELAY'] = df.groupby(df['ORIGIN_AIRPORT'])[\"AIRLINE_DELAY\"].mean()\n",
    "causas['LATE_AIRCRAFT_DELAY'] = df.groupby(df['ORIGIN_AIRPORT'])[\"LATE_AIRCRAFT_DELAY\"].mean()\n",
    "causas['WEATHER_DELAY'] = df.groupby(df['ORIGIN_AIRPORT'])[\"WEATHER_DELAY\"].mean()\n",
    "causas['OTHER_DELAY'] = df.groupby(df['ORIGIN_AIRPORT'])[\"OTHER_DELAY\"].mean()\n",
    "causas = causas.reset_index(level=0, drop=False)\n",
    "causas = causas.drop(['TOTAL_FLIGHTS'],axis = 1)\n",
    "causas.head()"
   ]
  },
  {
   "cell_type": "code",
   "execution_count": null,
   "metadata": {},
   "outputs": [],
   "source": [
    "# Contar el número de rergistros != por aeropuerto"
   ]
  },
  {
   "cell_type": "code",
   "execution_count": null,
   "metadata": {},
   "outputs": [],
   "source": [
    "# Causas\n",
    "categories = ['DEPARTURE_DELAY','AIR_SYSTEM_DELAY','SECURITY_DELAY','AIRLINE_DELAY',',LATE_AIRCRAFT_DELAY','WEATHER_DELAY','OTHER_DELAY']\n",
    "\n",
    "fig = go.Figure()\n",
    "\n",
    "fig.add_trace(go.Scatterpolar(\n",
    "      r=list(causas.iloc[0,1:]),\n",
    "      theta=categories,\n",
    "      fill='toself',\n",
    "      name=str(causas.iloc[0,0])\n",
    "))\n",
    "fig.add_trace(go.Scatterpolar(\n",
    "      r=list(causas.iloc[1,1:]),\n",
    "      theta=categories,\n",
    "      fill='toself',\n",
    "      name=str(causas.iloc[1,0])\n",
    "))\n",
    "\n",
    "fig.add_trace(go.Scatterpolar(\n",
    "      r=list(causas.iloc[2,1:]),\n",
    "      theta=categories,\n",
    "      fill='toself',\n",
    "      name=str(causas.iloc[2,0])\n",
    "))\n",
    "              \n",
    "fig.add_trace(go.Scatterpolar(\n",
    "      r=list(causas.iloc[3,1:]),\n",
    "      theta=categories,\n",
    "      fill='toself',\n",
    "      name= str(causas.iloc[3,0])\n",
    "))\n",
    "\n",
    "fig.add_trace(go.Scatterpolar(\n",
    "      r=list(causas.iloc[4,1:]),\n",
    "      theta=categories,\n",
    "      fill='toself',\n",
    "      name=str(causas.iloc[4,0])\n",
    "))\n",
    "\n",
    "\n",
    "fig.update_layout(\n",
    "  polar=dict(\n",
    "    radialaxis=dict(\n",
    "      visible=True,\n",
    "      range=[0, 5]\n",
    "    )),\n",
    "  showlegend=False\n",
    ")\n",
    "\n",
    "fig.show()"
   ]
  },
  {
   "cell_type": "code",
   "execution_count": null,
   "metadata": {},
   "outputs": [],
   "source": [
    "df = pd.read_csv(\"flightsCleaned.csv\")\n",
    "pd.set_option('display.max_columns', None)"
   ]
  },
  {
   "cell_type": "code",
   "execution_count": null,
   "metadata": {},
   "outputs": [],
   "source": [
    "# Creamos la columna tipo de vuelos\n",
    "condition_distance = [\n",
    "    (df['DISTANCE'] < 750) ,\n",
    "    (df['DISTANCE'] >= 750) & (df['DISTANCE'] <1500),\n",
    "    (df['DISTANCE'] >= 1500)]\n",
    "\n",
    "choice_distance = ['Short', 'Mid', 'Long']\n",
    "\n",
    "# Creamos la columna tipo de retraso\n",
    "condition_delay = [\n",
    "    (df['ARRIVAL_DELAY'] < 0) ,\n",
    "    (df['ARRIVAL_DELAY'] <= 30) ,\n",
    "    (df['ARRIVAL_DELAY'] > 30) & (df['DISTANCE'] <=60),\n",
    "    (df['ARRIVAL_DELAY'] > 60)]\n",
    "\n",
    "choice_delay = ['Early arrival', '(0-30)mins', '(30-60)mins','>1h']"
   ]
  },
  {
   "cell_type": "code",
   "execution_count": null,
   "metadata": {},
   "outputs": [],
   "source": [
    "df['TYPE'] = np.select(condition_distance, choice_distance, default='Not Specified')\n",
    "df['DELAY_TYPE'] = np.select(condition_delay, choice_delay, default='Not Specified')"
   ]
  },
  {
   "cell_type": "code",
   "execution_count": null,
   "metadata": {},
   "outputs": [],
   "source": [
    "# Creamos la columna tipo de retraso\n",
    "condition_multa = [\n",
    "    (df['TYPE'] == 'Early arrival') | (df['TYPE'] == '(0-30)mins'),\n",
    "    (df['DISTANCE'] == 'Short') & (df['ARRIVAL_DELAY'] == '(30-60)mins'),\n",
    "    (df['DISTANCE'] == 'Mid') & (df['ARRIVAL_DELAY'] == '(30-60)mins'),\n",
    "    (df['DISTANCE'] == 'Long') & (df['ARRIVAL_DELAY'] == '(30-60)mins'),   \n",
    "    \n",
    "    (df['DISTANCE'] == 'Short') & (df['ARRIVAL_DELAY'] == '>1h'),\n",
    "    (df['DISTANCE'] == 'Mid') & (df['ARRIVAL_DELAY'] == '>1h'),\n",
    "    (df['DISTANCE'] == 'Long') & (df['ARRIVAL_DELAY'] == '>1h')]\n",
    "\n",
    "choice_multa = [0,5000,10000,20000,7500,20000,40000]"
   ]
  },
  {
   "cell_type": "code",
   "execution_count": null,
   "metadata": {},
   "outputs": [],
   "source": [
    "df['FINE'] = np.select(condition_multa, choice_multa, default='Not Specified')"
   ]
  },
  {
   "cell_type": "code",
   "execution_count": null,
   "metadata": {},
   "outputs": [],
   "source": []
  },
  {
   "cell_type": "code",
   "execution_count": null,
   "metadata": {},
   "outputs": [],
   "source": []
  },
  {
   "cell_type": "code",
   "execution_count": null,
   "metadata": {},
   "outputs": [],
   "source": []
  },
  {
   "cell_type": "code",
   "execution_count": null,
   "metadata": {},
   "outputs": [],
   "source": [
    "#df = df.loc[:, ['ORIGIN_AIRPORT','DISTANCE', 'TYPE']]"
   ]
  },
  {
   "cell_type": "code",
   "execution_count": null,
   "metadata": {},
   "outputs": [],
   "source": [
    "df['TYPE'] = np.select(conditionlist, choicelist, default='Not Specified')\n",
    "df = df.loc[:, ['ORIGIN_AIRPORT','DISTANCE', 'TYPE']]\n",
    "\n",
    "distnaces = pd.DataFrame(df.groupby(df['ORIGIN_AIRPORT'])[\"FLIGHT_NUMBER\"].count())\n",
    "distnaces = distnaces.rename(columns={\"FLIGHT_NUMBER\":\"TOTAL_FLIGHTS\"})\n",
    "distnaces[\"DELAYED_FLIGHTS\"] =  df[df[\"ARRIVAL_DELAY\"]>0].groupby(df['ORIGIN_AIRPORT'])[\"FLIGHT_NUMBER\"].count()\n",
    "distnaces[\"DELAY_PERCENTAGE\"] = np.round(airports['DELAYED_FLIGHTS']/airports['TOTAL_FLIGHTS']*100,2)\n"
   ]
  }
 ],
 "metadata": {
  "kernelspec": {
   "display_name": "Python 3",
   "language": "python",
   "name": "python3"
  },
  "language_info": {
   "codemirror_mode": {
    "name": "ipython",
    "version": 3
   },
   "file_extension": ".py",
   "mimetype": "text/x-python",
   "name": "python",
   "nbconvert_exporter": "python",
   "pygments_lexer": "ipython3",
   "version": "3.7.4"
  },
  "vscode": {
   "interpreter": {
    "hash": "b3472844a7ad831f024780a557c10180eb151bb97358fb439eb3b23af04efba3"
   }
  }
 },
 "nbformat": 4,
 "nbformat_minor": 4
}
