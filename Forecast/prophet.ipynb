{
 "cells": [
  {
   "cell_type": "code",
   "execution_count": 32,
   "metadata": {},
   "outputs": [],
   "source": [
    "# Data processing\n",
    "import pandas as pd\n",
    "import numpy as np\n",
    "# Prophet model for time series forecast\n",
    "from prophet import Prophet\n",
    "# Visulaization\n",
    "import plotly.graph_objects as go\n",
    "import plotly.express as px\n",
    "# Hyperparameter tuning\n",
    "import itertools\n",
    "from prophet.diagnostics import cross_validation, performance_metrics\n",
    "\n",
    "from sklearn.metrics import (mean_squared_error, mean_absolute_error)#,mean_absolute_percentage_error)"
   ]
  },
  {
   "cell_type": "markdown",
   "metadata": {},
   "source": [
    "# Prophet Models"
   ]
  },
  {
   "cell_type": "code",
   "execution_count": 2,
   "metadata": {},
   "outputs": [
    {
     "data": {
      "text/html": [
       "<div>\n",
       "<style scoped>\n",
       "    .dataframe tbody tr th:only-of-type {\n",
       "        vertical-align: middle;\n",
       "    }\n",
       "\n",
       "    .dataframe tbody tr th {\n",
       "        vertical-align: top;\n",
       "    }\n",
       "\n",
       "    .dataframe thead th {\n",
       "        text-align: right;\n",
       "    }\n",
       "</style>\n",
       "<table border=\"1\" class=\"dataframe\">\n",
       "  <thead>\n",
       "    <tr style=\"text-align: right;\">\n",
       "      <th></th>\n",
       "      <th>DATE</th>\n",
       "      <th>ORIGIN_AIRPORT</th>\n",
       "      <th>DELAYED_FLIGHTS</th>\n",
       "    </tr>\n",
       "  </thead>\n",
       "  <tbody>\n",
       "    <tr>\n",
       "      <th>0</th>\n",
       "      <td>2015-01-01</td>\n",
       "      <td>LAX</td>\n",
       "      <td>236</td>\n",
       "    </tr>\n",
       "    <tr>\n",
       "      <th>1</th>\n",
       "      <td>2015-01-02</td>\n",
       "      <td>LAX</td>\n",
       "      <td>409</td>\n",
       "    </tr>\n",
       "    <tr>\n",
       "      <th>2</th>\n",
       "      <td>2015-01-03</td>\n",
       "      <td>LAX</td>\n",
       "      <td>437</td>\n",
       "    </tr>\n",
       "    <tr>\n",
       "      <th>3</th>\n",
       "      <td>2015-01-04</td>\n",
       "      <td>LAX</td>\n",
       "      <td>467</td>\n",
       "    </tr>\n",
       "    <tr>\n",
       "      <th>4</th>\n",
       "      <td>2015-01-05</td>\n",
       "      <td>LAX</td>\n",
       "      <td>400</td>\n",
       "    </tr>\n",
       "  </tbody>\n",
       "</table>\n",
       "</div>"
      ],
      "text/plain": [
       "        DATE ORIGIN_AIRPORT  DELAYED_FLIGHTS\n",
       "0 2015-01-01            LAX              236\n",
       "1 2015-01-02            LAX              409\n",
       "2 2015-01-03            LAX              437\n",
       "3 2015-01-04            LAX              467\n",
       "4 2015-01-05            LAX              400"
      ]
     },
     "execution_count": 2,
     "metadata": {},
     "output_type": "execute_result"
    }
   ],
   "source": [
    "# read data\n",
    "df = pd.read_parquet(\"forecast_data.parquet\")\n",
    "\n",
    "airports = list(df['ORIGIN_AIRPORT'].unique())\n",
    "a1 = df[df['ORIGIN_AIRPORT'] == airports[0]].reset_index(drop=True) # .drop('ORIGIN_AIRPORT', axis = 1)\n",
    "a2 = df[df['ORIGIN_AIRPORT'] == airports[1]].reset_index(drop=True)\n",
    "a3 = df[df['ORIGIN_AIRPORT'] == airports[2]].reset_index(drop=True)\n",
    "a4 = df[df['ORIGIN_AIRPORT'] == airports[3]].reset_index(drop=True)\n",
    "a5 = df[df['ORIGIN_AIRPORT'] == airports[4]].reset_index(drop=True)\n",
    "\n",
    "a1.head()"
   ]
  },
  {
   "cell_type": "code",
   "execution_count": 6,
   "metadata": {},
   "outputs": [
    {
     "name": "stderr",
     "output_type": "stream",
     "text": [
      "16:43:52 - cmdstanpy - INFO - Chain [1] start processing\n",
      "16:43:52 - cmdstanpy - INFO - Chain [1] done processing\n"
     ]
    },
    {
     "data": {
      "text/plain": [
       "<prophet.forecaster.Prophet at 0x224db5cce80>"
      ]
     },
     "execution_count": 6,
     "metadata": {},
     "output_type": "execute_result"
    }
   ],
   "source": [
    "# Preparamos los datos\n",
    "airport_1 = str(a1['ORIGIN_AIRPORT'].unique())\n",
    "data_1 = a1.loc[:,['DATE', 'DELAYED_FLIGHTS']]\n",
    "data_1.columns = ['ds','y'] \n",
    "data_1['ds'] = pd.to_datetime(data_1['ds'],format = \"%m/%d/%Y\")\n",
    "\n",
    "# Ajustamos el modelo al conjunto de datos\n",
    "train = data_1.iloc[:len(data_1)-31]\n",
    "test = data_1.iloc[len(data_1)-31:]"
   ]
  },
  {
   "cell_type": "markdown",
   "metadata": {},
   "source": [
    "## Basic Model"
   ]
  },
  {
   "cell_type": "code",
   "execution_count": 12,
   "metadata": {},
   "outputs": [
    {
     "name": "stderr",
     "output_type": "stream",
     "text": [
      "16:58:54 - cmdstanpy - INFO - Chain [1] start processing\n",
      "16:58:54 - cmdstanpy - INFO - Chain [1] done processing\n"
     ]
    },
    {
     "data": {
      "text/plain": [
       "<prophet.forecaster.Prophet at 0x224df3c54c0>"
      ]
     },
     "execution_count": 12,
     "metadata": {},
     "output_type": "execute_result"
    }
   ],
   "source": [
    "# Modelamos\n",
    "# Initiate the model\n",
    "baseline_model = Prophet()\n",
    "# Fit the model on the training dataset\n",
    "baseline_model.fit(train)    "
   ]
  },
  {
   "cell_type": "code",
   "execution_count": 13,
   "metadata": {},
   "outputs": [
    {
     "data": {
      "text/html": [
       "<div>\n",
       "<style scoped>\n",
       "    .dataframe tbody tr th:only-of-type {\n",
       "        vertical-align: middle;\n",
       "    }\n",
       "\n",
       "    .dataframe tbody tr th {\n",
       "        vertical-align: top;\n",
       "    }\n",
       "\n",
       "    .dataframe thead th {\n",
       "        text-align: right;\n",
       "    }\n",
       "</style>\n",
       "<table border=\"1\" class=\"dataframe\">\n",
       "  <thead>\n",
       "    <tr style=\"text-align: right;\">\n",
       "      <th></th>\n",
       "      <th>ds</th>\n",
       "    </tr>\n",
       "  </thead>\n",
       "  <tbody>\n",
       "    <tr>\n",
       "      <th>360</th>\n",
       "      <td>2015-12-27</td>\n",
       "    </tr>\n",
       "    <tr>\n",
       "      <th>361</th>\n",
       "      <td>2015-12-28</td>\n",
       "    </tr>\n",
       "    <tr>\n",
       "      <th>362</th>\n",
       "      <td>2015-12-29</td>\n",
       "    </tr>\n",
       "    <tr>\n",
       "      <th>363</th>\n",
       "      <td>2015-12-30</td>\n",
       "    </tr>\n",
       "    <tr>\n",
       "      <th>364</th>\n",
       "      <td>2015-12-31</td>\n",
       "    </tr>\n",
       "  </tbody>\n",
       "</table>\n",
       "</div>"
      ],
      "text/plain": [
       "            ds\n",
       "360 2015-12-27\n",
       "361 2015-12-28\n",
       "362 2015-12-29\n",
       "363 2015-12-30\n",
       "364 2015-12-31"
      ]
     },
     "execution_count": 13,
     "metadata": {},
     "output_type": "execute_result"
    }
   ],
   "source": [
    "# Prediction\n",
    "future = baseline_model.make_future_dataframe(periods=31)\n",
    "future.tail()"
   ]
  },
  {
   "cell_type": "code",
   "execution_count": 17,
   "metadata": {},
   "outputs": [
    {
     "data": {
      "text/html": [
       "<div>\n",
       "<style scoped>\n",
       "    .dataframe tbody tr th:only-of-type {\n",
       "        vertical-align: middle;\n",
       "    }\n",
       "\n",
       "    .dataframe tbody tr th {\n",
       "        vertical-align: top;\n",
       "    }\n",
       "\n",
       "    .dataframe thead th {\n",
       "        text-align: right;\n",
       "    }\n",
       "</style>\n",
       "<table border=\"1\" class=\"dataframe\">\n",
       "  <thead>\n",
       "    <tr style=\"text-align: right;\">\n",
       "      <th></th>\n",
       "      <th>ds</th>\n",
       "      <th>yhat</th>\n",
       "      <th>yhat_lower</th>\n",
       "      <th>yhat_upper</th>\n",
       "    </tr>\n",
       "  </thead>\n",
       "  <tbody>\n",
       "    <tr>\n",
       "      <th>360</th>\n",
       "      <td>2015-12-27</td>\n",
       "      <td>159.974589</td>\n",
       "      <td>81.023370</td>\n",
       "      <td>238.040999</td>\n",
       "    </tr>\n",
       "    <tr>\n",
       "      <th>361</th>\n",
       "      <td>2015-12-28</td>\n",
       "      <td>161.805919</td>\n",
       "      <td>86.115036</td>\n",
       "      <td>234.438343</td>\n",
       "    </tr>\n",
       "    <tr>\n",
       "      <th>362</th>\n",
       "      <td>2015-12-29</td>\n",
       "      <td>117.717436</td>\n",
       "      <td>41.975805</td>\n",
       "      <td>198.906615</td>\n",
       "    </tr>\n",
       "    <tr>\n",
       "      <th>363</th>\n",
       "      <td>2015-12-30</td>\n",
       "      <td>132.231098</td>\n",
       "      <td>57.057309</td>\n",
       "      <td>207.745556</td>\n",
       "    </tr>\n",
       "    <tr>\n",
       "      <th>364</th>\n",
       "      <td>2015-12-31</td>\n",
       "      <td>168.372344</td>\n",
       "      <td>92.220334</td>\n",
       "      <td>239.249897</td>\n",
       "    </tr>\n",
       "  </tbody>\n",
       "</table>\n",
       "</div>"
      ],
      "text/plain": [
       "            ds        yhat  yhat_lower  yhat_upper\n",
       "360 2015-12-27  159.974589   81.023370  238.040999\n",
       "361 2015-12-28  161.805919   86.115036  234.438343\n",
       "362 2015-12-29  117.717436   41.975805  198.906615\n",
       "363 2015-12-30  132.231098   57.057309  207.745556\n",
       "364 2015-12-31  168.372344   92.220334  239.249897"
      ]
     },
     "execution_count": 17,
     "metadata": {},
     "output_type": "execute_result"
    }
   ],
   "source": [
    "# Forecast\n",
    "forecast = baseline_model.predict(future)\n",
    "forecast[['ds', 'yhat', 'yhat_lower', 'yhat_upper']].tail()"
   ]
  },
  {
   "cell_type": "code",
   "execution_count": 25,
   "metadata": {},
   "outputs": [
    {
     "name": "stderr",
     "output_type": "stream",
     "text": [
      "<ipython-input-25-d8e60f1b14e5>:2: SettingWithCopyWarning:\n",
      "\n",
      "\n",
      "A value is trying to be set on a copy of a slice from a DataFrame.\n",
      "Try using .loc[row_indexer,col_indexer] = value instead\n",
      "\n",
      "See the caveats in the documentation: https://pandas.pydata.org/pandas-docs/stable/user_guide/indexing.html#returning-a-view-versus-a-copy\n",
      "\n"
     ]
    },
    {
     "data": {
      "application/vnd.plotly.v1+json": {
       "config": {
        "plotlyServerURL": "https://plot.ly"
       },
       "data": [
        {
         "line": {
          "color": "rgb(36, 121, 108)"
         },
         "name": "actual",
         "type": "scatter",
         "x": [
          "2015-12-01T00:00:00",
          "2015-12-02T00:00:00",
          "2015-12-03T00:00:00",
          "2015-12-04T00:00:00",
          "2015-12-05T00:00:00",
          "2015-12-06T00:00:00",
          "2015-12-07T00:00:00",
          "2015-12-08T00:00:00",
          "2015-12-09T00:00:00",
          "2015-12-10T00:00:00",
          "2015-12-11T00:00:00",
          "2015-12-12T00:00:00",
          "2015-12-13T00:00:00",
          "2015-12-14T00:00:00",
          "2015-12-15T00:00:00",
          "2015-12-16T00:00:00",
          "2015-12-17T00:00:00",
          "2015-12-18T00:00:00",
          "2015-12-19T00:00:00",
          "2015-12-20T00:00:00",
          "2015-12-21T00:00:00",
          "2015-12-22T00:00:00",
          "2015-12-23T00:00:00",
          "2015-12-24T00:00:00",
          "2015-12-25T00:00:00",
          "2015-12-26T00:00:00",
          "2015-12-27T00:00:00",
          "2015-12-28T00:00:00",
          "2015-12-29T00:00:00",
          "2015-12-30T00:00:00",
          "2015-12-31T00:00:00"
         ],
         "y": [
          152,
          166,
          208,
          149,
          82,
          190,
          227,
          219,
          205,
          217,
          201,
          132,
          219,
          178,
          156,
          277,
          285,
          295,
          245,
          283,
          346,
          384,
          301,
          187,
          148,
          399,
          386,
          318,
          321,
          313,
          124
         ]
        },
        {
         "line": {
          "color": "rgb(153, 201, 69)"
         },
         "name": "predictions",
         "type": "scatter",
         "x": [
          "2015-12-01T00:00:00",
          "2015-12-02T00:00:00",
          "2015-12-03T00:00:00",
          "2015-12-04T00:00:00",
          "2015-12-05T00:00:00",
          "2015-12-06T00:00:00",
          "2015-12-07T00:00:00",
          "2015-12-08T00:00:00",
          "2015-12-09T00:00:00",
          "2015-12-10T00:00:00",
          "2015-12-11T00:00:00",
          "2015-12-12T00:00:00",
          "2015-12-13T00:00:00",
          "2015-12-14T00:00:00",
          "2015-12-15T00:00:00",
          "2015-12-16T00:00:00",
          "2015-12-17T00:00:00",
          "2015-12-18T00:00:00",
          "2015-12-19T00:00:00",
          "2015-12-20T00:00:00",
          "2015-12-21T00:00:00",
          "2015-12-22T00:00:00",
          "2015-12-23T00:00:00",
          "2015-12-24T00:00:00",
          "2015-12-25T00:00:00",
          "2015-12-26T00:00:00",
          "2015-12-27T00:00:00",
          "2015-12-28T00:00:00",
          "2015-12-29T00:00:00",
          "2015-12-30T00:00:00",
          "2015-12-31T00:00:00"
         ],
         "y": [
          137.48037786506458,
          151.99403948083824,
          188.1352856055442,
          184.64689400180595,
          105.87577472201298,
          174.7967952033712,
          176.62812486395273,
          132.53964246868338,
          147.05330408448347,
          183.19455020909368,
          179.70615860526428,
          100.93503932549324,
          169.85605980675393,
          171.68738946743142,
          127.59890707198782,
          142.11256868792123,
          178.25381481249835,
          174.76542320880816,
          95.99430392897708,
          164.91532441025794,
          166.74665407080732,
          122.65817167552137,
          137.1718332912324,
          173.3130794159996,
          169.82468781223983,
          91.05356853245736,
          159.97458901383249,
          161.80591867438866,
          117.71743627914026,
          132.23109789477388,
          168.37234401947666
         ]
        }
       ],
       "layout": {
        "hovermode": "x unified",
        "legend": {
         "title": {
          "text": "Leyend"
         }
        },
        "template": {
         "data": {
          "bar": [
           {
            "error_x": {
             "color": "#f2f5fa"
            },
            "error_y": {
             "color": "#f2f5fa"
            },
            "marker": {
             "line": {
              "color": "rgb(17,17,17)",
              "width": 0.5
             },
             "pattern": {
              "fillmode": "overlay",
              "size": 10,
              "solidity": 0.2
             }
            },
            "type": "bar"
           }
          ],
          "barpolar": [
           {
            "marker": {
             "line": {
              "color": "rgb(17,17,17)",
              "width": 0.5
             },
             "pattern": {
              "fillmode": "overlay",
              "size": 10,
              "solidity": 0.2
             }
            },
            "type": "barpolar"
           }
          ],
          "carpet": [
           {
            "aaxis": {
             "endlinecolor": "#A2B1C6",
             "gridcolor": "#506784",
             "linecolor": "#506784",
             "minorgridcolor": "#506784",
             "startlinecolor": "#A2B1C6"
            },
            "baxis": {
             "endlinecolor": "#A2B1C6",
             "gridcolor": "#506784",
             "linecolor": "#506784",
             "minorgridcolor": "#506784",
             "startlinecolor": "#A2B1C6"
            },
            "type": "carpet"
           }
          ],
          "choropleth": [
           {
            "colorbar": {
             "outlinewidth": 0,
             "ticks": ""
            },
            "type": "choropleth"
           }
          ],
          "contour": [
           {
            "colorbar": {
             "outlinewidth": 0,
             "ticks": ""
            },
            "colorscale": [
             [
              0,
              "#0d0887"
             ],
             [
              0.1111111111111111,
              "#46039f"
             ],
             [
              0.2222222222222222,
              "#7201a8"
             ],
             [
              0.3333333333333333,
              "#9c179e"
             ],
             [
              0.4444444444444444,
              "#bd3786"
             ],
             [
              0.5555555555555556,
              "#d8576b"
             ],
             [
              0.6666666666666666,
              "#ed7953"
             ],
             [
              0.7777777777777778,
              "#fb9f3a"
             ],
             [
              0.8888888888888888,
              "#fdca26"
             ],
             [
              1,
              "#f0f921"
             ]
            ],
            "type": "contour"
           }
          ],
          "contourcarpet": [
           {
            "colorbar": {
             "outlinewidth": 0,
             "ticks": ""
            },
            "type": "contourcarpet"
           }
          ],
          "heatmap": [
           {
            "colorbar": {
             "outlinewidth": 0,
             "ticks": ""
            },
            "colorscale": [
             [
              0,
              "#0d0887"
             ],
             [
              0.1111111111111111,
              "#46039f"
             ],
             [
              0.2222222222222222,
              "#7201a8"
             ],
             [
              0.3333333333333333,
              "#9c179e"
             ],
             [
              0.4444444444444444,
              "#bd3786"
             ],
             [
              0.5555555555555556,
              "#d8576b"
             ],
             [
              0.6666666666666666,
              "#ed7953"
             ],
             [
              0.7777777777777778,
              "#fb9f3a"
             ],
             [
              0.8888888888888888,
              "#fdca26"
             ],
             [
              1,
              "#f0f921"
             ]
            ],
            "type": "heatmap"
           }
          ],
          "heatmapgl": [
           {
            "colorbar": {
             "outlinewidth": 0,
             "ticks": ""
            },
            "colorscale": [
             [
              0,
              "#0d0887"
             ],
             [
              0.1111111111111111,
              "#46039f"
             ],
             [
              0.2222222222222222,
              "#7201a8"
             ],
             [
              0.3333333333333333,
              "#9c179e"
             ],
             [
              0.4444444444444444,
              "#bd3786"
             ],
             [
              0.5555555555555556,
              "#d8576b"
             ],
             [
              0.6666666666666666,
              "#ed7953"
             ],
             [
              0.7777777777777778,
              "#fb9f3a"
             ],
             [
              0.8888888888888888,
              "#fdca26"
             ],
             [
              1,
              "#f0f921"
             ]
            ],
            "type": "heatmapgl"
           }
          ],
          "histogram": [
           {
            "marker": {
             "pattern": {
              "fillmode": "overlay",
              "size": 10,
              "solidity": 0.2
             }
            },
            "type": "histogram"
           }
          ],
          "histogram2d": [
           {
            "colorbar": {
             "outlinewidth": 0,
             "ticks": ""
            },
            "colorscale": [
             [
              0,
              "#0d0887"
             ],
             [
              0.1111111111111111,
              "#46039f"
             ],
             [
              0.2222222222222222,
              "#7201a8"
             ],
             [
              0.3333333333333333,
              "#9c179e"
             ],
             [
              0.4444444444444444,
              "#bd3786"
             ],
             [
              0.5555555555555556,
              "#d8576b"
             ],
             [
              0.6666666666666666,
              "#ed7953"
             ],
             [
              0.7777777777777778,
              "#fb9f3a"
             ],
             [
              0.8888888888888888,
              "#fdca26"
             ],
             [
              1,
              "#f0f921"
             ]
            ],
            "type": "histogram2d"
           }
          ],
          "histogram2dcontour": [
           {
            "colorbar": {
             "outlinewidth": 0,
             "ticks": ""
            },
            "colorscale": [
             [
              0,
              "#0d0887"
             ],
             [
              0.1111111111111111,
              "#46039f"
             ],
             [
              0.2222222222222222,
              "#7201a8"
             ],
             [
              0.3333333333333333,
              "#9c179e"
             ],
             [
              0.4444444444444444,
              "#bd3786"
             ],
             [
              0.5555555555555556,
              "#d8576b"
             ],
             [
              0.6666666666666666,
              "#ed7953"
             ],
             [
              0.7777777777777778,
              "#fb9f3a"
             ],
             [
              0.8888888888888888,
              "#fdca26"
             ],
             [
              1,
              "#f0f921"
             ]
            ],
            "type": "histogram2dcontour"
           }
          ],
          "mesh3d": [
           {
            "colorbar": {
             "outlinewidth": 0,
             "ticks": ""
            },
            "type": "mesh3d"
           }
          ],
          "parcoords": [
           {
            "line": {
             "colorbar": {
              "outlinewidth": 0,
              "ticks": ""
             }
            },
            "type": "parcoords"
           }
          ],
          "pie": [
           {
            "automargin": true,
            "type": "pie"
           }
          ],
          "scatter": [
           {
            "marker": {
             "line": {
              "color": "#283442"
             }
            },
            "type": "scatter"
           }
          ],
          "scatter3d": [
           {
            "line": {
             "colorbar": {
              "outlinewidth": 0,
              "ticks": ""
             }
            },
            "marker": {
             "colorbar": {
              "outlinewidth": 0,
              "ticks": ""
             }
            },
            "type": "scatter3d"
           }
          ],
          "scattercarpet": [
           {
            "marker": {
             "colorbar": {
              "outlinewidth": 0,
              "ticks": ""
             }
            },
            "type": "scattercarpet"
           }
          ],
          "scattergeo": [
           {
            "marker": {
             "colorbar": {
              "outlinewidth": 0,
              "ticks": ""
             }
            },
            "type": "scattergeo"
           }
          ],
          "scattergl": [
           {
            "marker": {
             "line": {
              "color": "#283442"
             }
            },
            "type": "scattergl"
           }
          ],
          "scattermapbox": [
           {
            "marker": {
             "colorbar": {
              "outlinewidth": 0,
              "ticks": ""
             }
            },
            "type": "scattermapbox"
           }
          ],
          "scatterpolar": [
           {
            "marker": {
             "colorbar": {
              "outlinewidth": 0,
              "ticks": ""
             }
            },
            "type": "scatterpolar"
           }
          ],
          "scatterpolargl": [
           {
            "marker": {
             "colorbar": {
              "outlinewidth": 0,
              "ticks": ""
             }
            },
            "type": "scatterpolargl"
           }
          ],
          "scatterternary": [
           {
            "marker": {
             "colorbar": {
              "outlinewidth": 0,
              "ticks": ""
             }
            },
            "type": "scatterternary"
           }
          ],
          "surface": [
           {
            "colorbar": {
             "outlinewidth": 0,
             "ticks": ""
            },
            "colorscale": [
             [
              0,
              "#0d0887"
             ],
             [
              0.1111111111111111,
              "#46039f"
             ],
             [
              0.2222222222222222,
              "#7201a8"
             ],
             [
              0.3333333333333333,
              "#9c179e"
             ],
             [
              0.4444444444444444,
              "#bd3786"
             ],
             [
              0.5555555555555556,
              "#d8576b"
             ],
             [
              0.6666666666666666,
              "#ed7953"
             ],
             [
              0.7777777777777778,
              "#fb9f3a"
             ],
             [
              0.8888888888888888,
              "#fdca26"
             ],
             [
              1,
              "#f0f921"
             ]
            ],
            "type": "surface"
           }
          ],
          "table": [
           {
            "cells": {
             "fill": {
              "color": "#506784"
             },
             "line": {
              "color": "rgb(17,17,17)"
             }
            },
            "header": {
             "fill": {
              "color": "#2a3f5f"
             },
             "line": {
              "color": "rgb(17,17,17)"
             }
            },
            "type": "table"
           }
          ]
         },
         "layout": {
          "annotationdefaults": {
           "arrowcolor": "#f2f5fa",
           "arrowhead": 0,
           "arrowwidth": 1
          },
          "autotypenumbers": "strict",
          "coloraxis": {
           "colorbar": {
            "outlinewidth": 0,
            "ticks": ""
           }
          },
          "colorscale": {
           "diverging": [
            [
             0,
             "#8e0152"
            ],
            [
             0.1,
             "#c51b7d"
            ],
            [
             0.2,
             "#de77ae"
            ],
            [
             0.3,
             "#f1b6da"
            ],
            [
             0.4,
             "#fde0ef"
            ],
            [
             0.5,
             "#f7f7f7"
            ],
            [
             0.6,
             "#e6f5d0"
            ],
            [
             0.7,
             "#b8e186"
            ],
            [
             0.8,
             "#7fbc41"
            ],
            [
             0.9,
             "#4d9221"
            ],
            [
             1,
             "#276419"
            ]
           ],
           "sequential": [
            [
             0,
             "#0d0887"
            ],
            [
             0.1111111111111111,
             "#46039f"
            ],
            [
             0.2222222222222222,
             "#7201a8"
            ],
            [
             0.3333333333333333,
             "#9c179e"
            ],
            [
             0.4444444444444444,
             "#bd3786"
            ],
            [
             0.5555555555555556,
             "#d8576b"
            ],
            [
             0.6666666666666666,
             "#ed7953"
            ],
            [
             0.7777777777777778,
             "#fb9f3a"
            ],
            [
             0.8888888888888888,
             "#fdca26"
            ],
            [
             1,
             "#f0f921"
            ]
           ],
           "sequentialminus": [
            [
             0,
             "#0d0887"
            ],
            [
             0.1111111111111111,
             "#46039f"
            ],
            [
             0.2222222222222222,
             "#7201a8"
            ],
            [
             0.3333333333333333,
             "#9c179e"
            ],
            [
             0.4444444444444444,
             "#bd3786"
            ],
            [
             0.5555555555555556,
             "#d8576b"
            ],
            [
             0.6666666666666666,
             "#ed7953"
            ],
            [
             0.7777777777777778,
             "#fb9f3a"
            ],
            [
             0.8888888888888888,
             "#fdca26"
            ],
            [
             1,
             "#f0f921"
            ]
           ]
          },
          "colorway": [
           "#636efa",
           "#EF553B",
           "#00cc96",
           "#ab63fa",
           "#FFA15A",
           "#19d3f3",
           "#FF6692",
           "#B6E880",
           "#FF97FF",
           "#FECB52"
          ],
          "font": {
           "color": "#f2f5fa"
          },
          "geo": {
           "bgcolor": "rgb(17,17,17)",
           "lakecolor": "rgb(17,17,17)",
           "landcolor": "rgb(17,17,17)",
           "showlakes": true,
           "showland": true,
           "subunitcolor": "#506784"
          },
          "hoverlabel": {
           "align": "left"
          },
          "hovermode": "closest",
          "mapbox": {
           "style": "dark"
          },
          "paper_bgcolor": "rgb(17,17,17)",
          "plot_bgcolor": "rgb(17,17,17)",
          "polar": {
           "angularaxis": {
            "gridcolor": "#506784",
            "linecolor": "#506784",
            "ticks": ""
           },
           "bgcolor": "rgb(17,17,17)",
           "radialaxis": {
            "gridcolor": "#506784",
            "linecolor": "#506784",
            "ticks": ""
           }
          },
          "scene": {
           "xaxis": {
            "backgroundcolor": "rgb(17,17,17)",
            "gridcolor": "#506784",
            "gridwidth": 2,
            "linecolor": "#506784",
            "showbackground": true,
            "ticks": "",
            "zerolinecolor": "#C8D4E3"
           },
           "yaxis": {
            "backgroundcolor": "rgb(17,17,17)",
            "gridcolor": "#506784",
            "gridwidth": 2,
            "linecolor": "#506784",
            "showbackground": true,
            "ticks": "",
            "zerolinecolor": "#C8D4E3"
           },
           "zaxis": {
            "backgroundcolor": "rgb(17,17,17)",
            "gridcolor": "#506784",
            "gridwidth": 2,
            "linecolor": "#506784",
            "showbackground": true,
            "ticks": "",
            "zerolinecolor": "#C8D4E3"
           }
          },
          "shapedefaults": {
           "line": {
            "color": "#f2f5fa"
           }
          },
          "sliderdefaults": {
           "bgcolor": "#C8D4E3",
           "bordercolor": "rgb(17,17,17)",
           "borderwidth": 1,
           "tickwidth": 0
          },
          "ternary": {
           "aaxis": {
            "gridcolor": "#506784",
            "linecolor": "#506784",
            "ticks": ""
           },
           "baxis": {
            "gridcolor": "#506784",
            "linecolor": "#506784",
            "ticks": ""
           },
           "bgcolor": "rgb(17,17,17)",
           "caxis": {
            "gridcolor": "#506784",
            "linecolor": "#506784",
            "ticks": ""
           }
          },
          "title": {
           "x": 0.05
          },
          "updatemenudefaults": {
           "bgcolor": "#506784",
           "borderwidth": 0
          },
          "xaxis": {
           "automargin": true,
           "gridcolor": "#283442",
           "linecolor": "#506784",
           "ticks": "",
           "title": {
            "standoff": 15
           },
           "zerolinecolor": "#283442",
           "zerolinewidth": 2
          },
          "yaxis": {
           "automargin": true,
           "gridcolor": "#283442",
           "linecolor": "#506784",
           "ticks": "",
           "title": {
            "standoff": 15
           },
           "zerolinecolor": "#283442",
           "zerolinewidth": 2
          }
         }
        },
        "title": {
         "text": "ARIMA Model. December predictions vs. Actual values"
        },
        "xaxis": {
         "title": {
          "text": "Dates"
         }
        },
        "yaxis": {
         "title": {
          "text": "Number of delays"
         }
        }
       }
      }
     },
     "metadata": {},
     "output_type": "display_data"
    }
   ],
   "source": [
    "# Predictions\n",
    "test['predictions'] = forecast[\"yhat\"]\n",
    "\n",
    "# Prediction vs Actual values representation\n",
    "fig = go.Figure()\n",
    "\n",
    "fig.add_trace(go.Scatter(x=test['ds'], y=test['y'], name = \"actual\", line_color = px.colors.qualitative.Vivid[5]))\n",
    "fig.add_trace(go.Scatter(x=test['ds'], y=test['predictions'], name = \"predictions\",line_color = px.colors.qualitative.Vivid[3]))\n",
    "\n",
    "fig.update_layout(\n",
    "    title=\"ARIMA Model. December predictions vs. Actual values\",\n",
    "    xaxis_title=\"Dates\",\n",
    "    yaxis_title=\"Number of delays\",\n",
    "    legend_title=\"Leyend\",\n",
    "    template=\"plotly_dark\",\n",
    "    #color_discrete_sequence=px.colors.qualitative.Vivid,\n",
    "    hovermode=\"x unified\",    \n",
    ")\n",
    "\n",
    "fig.show()"
   ]
  },
  {
   "cell_type": "code",
   "execution_count": 33,
   "metadata": {},
   "outputs": [
    {
     "name": "stdout",
     "output_type": "stream",
     "text": [
      "The MSE for the baseline model is 15370.29392552304\n",
      "The MAE for the baseline model is 92.75484653551476\n"
     ]
    }
   ],
   "source": [
    "# Check the MSE value\n",
    "performance_arima_MSE = mean_squared_error(test['y'],test['predictions'])\n",
    "print(f'The MSE for the baseline model is {performance_arima_MSE}')\n",
    "\n",
    "# Check the MAE value\n",
    "performance_arima_MAE = mean_absolute_error(test['y'],test['predictions'])\n",
    "print(f'The MAE for the baseline model is {performance_arima_MAE}')\n",
    "\n",
    "# Check the MAPE value\n",
    "# performance_arima_MAPE = mean_absolute_percentage_error(test['y'],test['predictions'])\n",
    "# print(f'The MAPE for the baseline model is {performance_arima_MAPE}')"
   ]
  },
  {
   "cell_type": "markdown",
   "metadata": {},
   "source": [
    "## Automatic Hyperparameter Tuning with Holidays"
   ]
  },
  {
   "cell_type": "markdown",
   "metadata": {},
   "source": [
    "Tras varias pruebas automatizadas hemos cogido un grupo de parámetros cercanos a los que daban un mejor resultado, para acotar más la búsqueda del modelo ideal"
   ]
  },
  {
   "cell_type": "code",
   "execution_count": 63,
   "metadata": {},
   "outputs": [
    {
     "name": "stderr",
     "output_type": "stream",
     "text": [
      "18:17:53 - cmdstanpy - INFO - Chain [1] start processing\n",
      "18:17:53 - cmdstanpy - INFO - Chain [1] done processing\n",
      "18:17:57 - cmdstanpy - INFO - Chain [1] start processing\n",
      "18:17:57 - cmdstanpy - INFO - Chain [1] done processing\n",
      "18:18:00 - cmdstanpy - INFO - Chain [1] start processing\n",
      "18:18:00 - cmdstanpy - INFO - Chain [1] done processing\n",
      "18:18:03 - cmdstanpy - INFO - Chain [1] start processing\n",
      "18:18:03 - cmdstanpy - INFO - Chain [1] done processing\n",
      "18:18:06 - cmdstanpy - INFO - Chain [1] start processing\n",
      "18:18:06 - cmdstanpy - INFO - Chain [1] done processing\n",
      "18:18:10 - cmdstanpy - INFO - Chain [1] start processing\n",
      "18:18:10 - cmdstanpy - INFO - Chain [1] done processing\n",
      "18:18:13 - cmdstanpy - INFO - Chain [1] start processing\n",
      "18:18:13 - cmdstanpy - INFO - Chain [1] done processing\n",
      "18:18:16 - cmdstanpy - INFO - Chain [1] start processing\n",
      "18:18:17 - cmdstanpy - INFO - Chain [1] done processing\n",
      "18:18:20 - cmdstanpy - INFO - Chain [1] start processing\n",
      "18:18:20 - cmdstanpy - INFO - Chain [1] done processing\n",
      "18:18:23 - cmdstanpy - INFO - Chain [1] start processing\n",
      "18:18:23 - cmdstanpy - INFO - Chain [1] done processing\n",
      "18:18:27 - cmdstanpy - INFO - Chain [1] start processing\n",
      "18:18:27 - cmdstanpy - INFO - Chain [1] done processing\n",
      "18:18:31 - cmdstanpy - INFO - Chain [1] start processing\n",
      "18:18:31 - cmdstanpy - INFO - Chain [1] done processing\n",
      "18:18:34 - cmdstanpy - INFO - Chain [1] start processing\n",
      "18:18:34 - cmdstanpy - INFO - Chain [1] done processing\n",
      "18:18:38 - cmdstanpy - INFO - Chain [1] start processing\n",
      "18:18:38 - cmdstanpy - INFO - Chain [1] done processing\n",
      "18:18:41 - cmdstanpy - INFO - Chain [1] start processing\n",
      "18:18:41 - cmdstanpy - INFO - Chain [1] done processing\n",
      "18:18:45 - cmdstanpy - INFO - Chain [1] start processing\n",
      "18:18:45 - cmdstanpy - INFO - Chain [1] done processing\n",
      "18:18:48 - cmdstanpy - INFO - Chain [1] start processing\n",
      "18:18:48 - cmdstanpy - INFO - Chain [1] done processing\n",
      "18:18:51 - cmdstanpy - INFO - Chain [1] start processing\n",
      "18:18:51 - cmdstanpy - INFO - Chain [1] done processing\n",
      "18:18:55 - cmdstanpy - INFO - Chain [1] start processing\n",
      "18:18:55 - cmdstanpy - INFO - Chain [1] done processing\n",
      "18:18:58 - cmdstanpy - INFO - Chain [1] start processing\n",
      "18:18:58 - cmdstanpy - INFO - Chain [1] done processing\n",
      "18:19:02 - cmdstanpy - INFO - Chain [1] start processing\n",
      "18:19:02 - cmdstanpy - INFO - Chain [1] done processing\n",
      "18:19:05 - cmdstanpy - INFO - Chain [1] start processing\n",
      "18:19:05 - cmdstanpy - INFO - Chain [1] done processing\n",
      "18:19:09 - cmdstanpy - INFO - Chain [1] start processing\n",
      "18:19:09 - cmdstanpy - INFO - Chain [1] done processing\n",
      "18:19:12 - cmdstanpy - INFO - Chain [1] start processing\n",
      "18:19:12 - cmdstanpy - INFO - Chain [1] done processing\n",
      "18:19:15 - cmdstanpy - INFO - Chain [1] start processing\n",
      "18:19:16 - cmdstanpy - INFO - Chain [1] done processing\n",
      "18:19:19 - cmdstanpy - INFO - Chain [1] start processing\n",
      "18:19:19 - cmdstanpy - INFO - Chain [1] done processing\n",
      "18:19:22 - cmdstanpy - INFO - Chain [1] start processing\n",
      "18:19:22 - cmdstanpy - INFO - Chain [1] done processing\n",
      "18:19:26 - cmdstanpy - INFO - Chain [1] start processing\n",
      "18:19:26 - cmdstanpy - INFO - Chain [1] done processing\n",
      "18:19:29 - cmdstanpy - INFO - Chain [1] start processing\n",
      "18:19:29 - cmdstanpy - INFO - Chain [1] done processing\n",
      "18:19:32 - cmdstanpy - INFO - Chain [1] start processing\n",
      "18:19:32 - cmdstanpy - INFO - Chain [1] done processing\n",
      "18:19:36 - cmdstanpy - INFO - Chain [1] start processing\n",
      "18:19:36 - cmdstanpy - INFO - Chain [1] done processing\n",
      "18:19:39 - cmdstanpy - INFO - Chain [1] start processing\n",
      "18:19:39 - cmdstanpy - INFO - Chain [1] done processing\n",
      "18:19:43 - cmdstanpy - INFO - Chain [1] start processing\n",
      "18:19:43 - cmdstanpy - INFO - Chain [1] done processing\n",
      "18:19:46 - cmdstanpy - INFO - Chain [1] start processing\n",
      "18:19:47 - cmdstanpy - INFO - Chain [1] done processing\n",
      "18:19:51 - cmdstanpy - INFO - Chain [1] start processing\n",
      "18:19:51 - cmdstanpy - INFO - Chain [1] done processing\n",
      "18:19:55 - cmdstanpy - INFO - Chain [1] start processing\n",
      "18:19:55 - cmdstanpy - INFO - Chain [1] done processing\n",
      "18:19:59 - cmdstanpy - INFO - Chain [1] start processing\n",
      "18:19:59 - cmdstanpy - INFO - Chain [1] done processing\n",
      "18:20:04 - cmdstanpy - INFO - Chain [1] start processing\n",
      "18:20:04 - cmdstanpy - INFO - Chain [1] done processing\n",
      "18:20:07 - cmdstanpy - INFO - Chain [1] start processing\n",
      "18:20:07 - cmdstanpy - INFO - Chain [1] done processing\n",
      "18:20:11 - cmdstanpy - INFO - Chain [1] start processing\n",
      "18:20:11 - cmdstanpy - INFO - Chain [1] done processing\n",
      "18:20:14 - cmdstanpy - INFO - Chain [1] start processing\n",
      "18:20:14 - cmdstanpy - INFO - Chain [1] done processing\n",
      "18:20:17 - cmdstanpy - INFO - Chain [1] start processing\n",
      "18:20:17 - cmdstanpy - INFO - Chain [1] done processing\n",
      "18:20:21 - cmdstanpy - INFO - Chain [1] start processing\n",
      "18:20:21 - cmdstanpy - INFO - Chain [1] done processing\n",
      "18:20:24 - cmdstanpy - INFO - Chain [1] start processing\n",
      "18:20:24 - cmdstanpy - INFO - Chain [1] done processing\n",
      "18:20:28 - cmdstanpy - INFO - Chain [1] start processing\n",
      "18:20:28 - cmdstanpy - INFO - Chain [1] done processing\n",
      "18:20:31 - cmdstanpy - INFO - Chain [1] start processing\n",
      "18:20:31 - cmdstanpy - INFO - Chain [1] done processing\n",
      "18:20:35 - cmdstanpy - INFO - Chain [1] start processing\n",
      "18:20:35 - cmdstanpy - INFO - Chain [1] done processing\n",
      "18:20:38 - cmdstanpy - INFO - Chain [1] start processing\n",
      "18:20:38 - cmdstanpy - INFO - Chain [1] done processing\n",
      "18:20:42 - cmdstanpy - INFO - Chain [1] start processing\n",
      "18:20:42 - cmdstanpy - INFO - Chain [1] done processing\n",
      "18:20:45 - cmdstanpy - INFO - Chain [1] start processing\n",
      "18:20:45 - cmdstanpy - INFO - Chain [1] done processing\n",
      "18:20:48 - cmdstanpy - INFO - Chain [1] start processing\n",
      "18:20:48 - cmdstanpy - INFO - Chain [1] done processing\n",
      "18:20:52 - cmdstanpy - INFO - Chain [1] start processing\n",
      "18:20:52 - cmdstanpy - INFO - Chain [1] done processing\n",
      "18:20:55 - cmdstanpy - INFO - Chain [1] start processing\n",
      "18:20:55 - cmdstanpy - INFO - Chain [1] done processing\n",
      "18:20:59 - cmdstanpy - INFO - Chain [1] start processing\n",
      "18:20:59 - cmdstanpy - INFO - Chain [1] done processing\n",
      "18:21:02 - cmdstanpy - INFO - Chain [1] start processing\n",
      "18:21:02 - cmdstanpy - INFO - Chain [1] done processing\n",
      "18:21:07 - cmdstanpy - INFO - Chain [1] start processing\n",
      "18:21:07 - cmdstanpy - INFO - Chain [1] done processing\n",
      "18:21:11 - cmdstanpy - INFO - Chain [1] start processing\n",
      "18:21:11 - cmdstanpy - INFO - Chain [1] done processing\n",
      "18:21:14 - cmdstanpy - INFO - Chain [1] start processing\n",
      "18:21:14 - cmdstanpy - INFO - Chain [1] done processing\n",
      "18:21:17 - cmdstanpy - INFO - Chain [1] start processing\n",
      "18:21:17 - cmdstanpy - INFO - Chain [1] done processing\n",
      "18:21:21 - cmdstanpy - INFO - Chain [1] start processing\n",
      "18:21:21 - cmdstanpy - INFO - Chain [1] done processing\n",
      "18:21:24 - cmdstanpy - INFO - Chain [1] start processing\n",
      "18:21:24 - cmdstanpy - INFO - Chain [1] done processing\n",
      "18:21:28 - cmdstanpy - INFO - Chain [1] start processing\n",
      "18:21:28 - cmdstanpy - INFO - Chain [1] done processing\n",
      "18:21:31 - cmdstanpy - INFO - Chain [1] start processing\n",
      "18:21:31 - cmdstanpy - INFO - Chain [1] done processing\n",
      "18:21:34 - cmdstanpy - INFO - Chain [1] start processing\n",
      "18:21:35 - cmdstanpy - INFO - Chain [1] done processing\n",
      "18:21:38 - cmdstanpy - INFO - Chain [1] start processing\n",
      "18:21:38 - cmdstanpy - INFO - Chain [1] done processing\n",
      "18:21:41 - cmdstanpy - INFO - Chain [1] start processing\n",
      "18:21:42 - cmdstanpy - INFO - Chain [1] done processing\n",
      "18:21:45 - cmdstanpy - INFO - Chain [1] start processing\n",
      "18:21:45 - cmdstanpy - INFO - Chain [1] done processing\n",
      "18:21:48 - cmdstanpy - INFO - Chain [1] start processing\n",
      "18:21:48 - cmdstanpy - INFO - Chain [1] done processing\n",
      "18:21:52 - cmdstanpy - INFO - Chain [1] start processing\n",
      "18:21:52 - cmdstanpy - INFO - Chain [1] done processing\n",
      "18:21:55 - cmdstanpy - INFO - Chain [1] start processing\n",
      "18:21:55 - cmdstanpy - INFO - Chain [1] done processing\n",
      "18:21:59 - cmdstanpy - INFO - Chain [1] start processing\n",
      "18:21:59 - cmdstanpy - INFO - Chain [1] done processing\n",
      "18:22:03 - cmdstanpy - INFO - Chain [1] start processing\n",
      "18:22:03 - cmdstanpy - INFO - Chain [1] done processing\n",
      "18:22:06 - cmdstanpy - INFO - Chain [1] start processing\n",
      "18:22:06 - cmdstanpy - INFO - Chain [1] done processing\n",
      "18:22:09 - cmdstanpy - INFO - Chain [1] start processing\n",
      "18:22:09 - cmdstanpy - INFO - Chain [1] done processing\n",
      "18:22:13 - cmdstanpy - INFO - Chain [1] start processing\n",
      "18:22:13 - cmdstanpy - INFO - Chain [1] done processing\n",
      "18:22:16 - cmdstanpy - INFO - Chain [1] start processing\n",
      "18:22:16 - cmdstanpy - INFO - Chain [1] done processing\n",
      "18:22:20 - cmdstanpy - INFO - Chain [1] start processing\n",
      "18:22:20 - cmdstanpy - INFO - Chain [1] done processing\n",
      "18:22:23 - cmdstanpy - INFO - Chain [1] start processing\n",
      "18:22:23 - cmdstanpy - INFO - Chain [1] done processing\n",
      "18:22:27 - cmdstanpy - INFO - Chain [1] start processing\n",
      "18:22:27 - cmdstanpy - INFO - Chain [1] done processing\n",
      "18:22:30 - cmdstanpy - INFO - Chain [1] start processing\n",
      "18:22:30 - cmdstanpy - INFO - Chain [1] done processing\n",
      "18:22:34 - cmdstanpy - INFO - Chain [1] start processing\n",
      "18:22:34 - cmdstanpy - INFO - Chain [1] done processing\n",
      "18:22:37 - cmdstanpy - INFO - Chain [1] start processing\n",
      "18:22:37 - cmdstanpy - INFO - Chain [1] done processing\n",
      "18:22:40 - cmdstanpy - INFO - Chain [1] start processing\n",
      "18:22:41 - cmdstanpy - INFO - Chain [1] done processing\n",
      "18:22:44 - cmdstanpy - INFO - Chain [1] start processing\n",
      "18:22:44 - cmdstanpy - INFO - Chain [1] done processing\n",
      "18:22:47 - cmdstanpy - INFO - Chain [1] start processing\n",
      "18:22:47 - cmdstanpy - INFO - Chain [1] done processing\n",
      "18:22:51 - cmdstanpy - INFO - Chain [1] start processing\n",
      "18:22:51 - cmdstanpy - INFO - Chain [1] done processing\n",
      "18:22:54 - cmdstanpy - INFO - Chain [1] start processing\n",
      "18:22:54 - cmdstanpy - INFO - Chain [1] done processing\n",
      "18:22:58 - cmdstanpy - INFO - Chain [1] start processing\n",
      "18:22:58 - cmdstanpy - INFO - Chain [1] done processing\n",
      "18:23:01 - cmdstanpy - INFO - Chain [1] start processing\n",
      "18:23:01 - cmdstanpy - INFO - Chain [1] done processing\n",
      "18:23:04 - cmdstanpy - INFO - Chain [1] start processing\n",
      "18:23:04 - cmdstanpy - INFO - Chain [1] done processing\n",
      "18:23:08 - cmdstanpy - INFO - Chain [1] start processing\n",
      "18:23:08 - cmdstanpy - INFO - Chain [1] done processing\n",
      "18:23:11 - cmdstanpy - INFO - Chain [1] start processing\n",
      "18:23:11 - cmdstanpy - INFO - Chain [1] done processing\n",
      "18:23:14 - cmdstanpy - INFO - Chain [1] start processing\n",
      "18:23:15 - cmdstanpy - INFO - Chain [1] done processing\n",
      "18:23:18 - cmdstanpy - INFO - Chain [1] start processing\n",
      "18:23:18 - cmdstanpy - INFO - Chain [1] done processing\n",
      "18:23:21 - cmdstanpy - INFO - Chain [1] start processing\n",
      "18:23:21 - cmdstanpy - INFO - Chain [1] done processing\n",
      "18:23:25 - cmdstanpy - INFO - Chain [1] start processing\n",
      "18:23:25 - cmdstanpy - INFO - Chain [1] done processing\n",
      "18:23:28 - cmdstanpy - INFO - Chain [1] start processing\n",
      "18:23:28 - cmdstanpy - INFO - Chain [1] done processing\n",
      "18:23:32 - cmdstanpy - INFO - Chain [1] start processing\n",
      "18:23:32 - cmdstanpy - INFO - Chain [1] done processing\n",
      "18:23:35 - cmdstanpy - INFO - Chain [1] start processing\n",
      "18:23:35 - cmdstanpy - INFO - Chain [1] done processing\n",
      "18:23:38 - cmdstanpy - INFO - Chain [1] start processing\n",
      "18:23:38 - cmdstanpy - INFO - Chain [1] done processing\n",
      "18:23:42 - cmdstanpy - INFO - Chain [1] start processing\n",
      "18:23:42 - cmdstanpy - INFO - Chain [1] done processing\n",
      "18:23:45 - cmdstanpy - INFO - Chain [1] start processing\n",
      "18:23:45 - cmdstanpy - INFO - Chain [1] done processing\n",
      "18:23:49 - cmdstanpy - INFO - Chain [1] start processing\n",
      "18:23:49 - cmdstanpy - INFO - Chain [1] done processing\n",
      "18:23:52 - cmdstanpy - INFO - Chain [1] start processing\n",
      "18:23:52 - cmdstanpy - INFO - Chain [1] done processing\n",
      "18:23:55 - cmdstanpy - INFO - Chain [1] start processing\n",
      "18:23:55 - cmdstanpy - INFO - Chain [1] done processing\n",
      "18:23:59 - cmdstanpy - INFO - Chain [1] start processing\n",
      "18:23:59 - cmdstanpy - INFO - Chain [1] done processing\n",
      "18:24:02 - cmdstanpy - INFO - Chain [1] start processing\n",
      "18:24:02 - cmdstanpy - INFO - Chain [1] done processing\n",
      "18:24:06 - cmdstanpy - INFO - Chain [1] start processing\n",
      "18:24:06 - cmdstanpy - INFO - Chain [1] done processing\n",
      "18:24:09 - cmdstanpy - INFO - Chain [1] start processing\n",
      "18:24:09 - cmdstanpy - INFO - Chain [1] done processing\n",
      "18:24:12 - cmdstanpy - INFO - Chain [1] start processing\n",
      "18:24:12 - cmdstanpy - INFO - Chain [1] done processing\n",
      "18:24:16 - cmdstanpy - INFO - Chain [1] start processing\n",
      "18:24:16 - cmdstanpy - INFO - Chain [1] done processing\n",
      "18:24:19 - cmdstanpy - INFO - Chain [1] start processing\n",
      "18:24:20 - cmdstanpy - INFO - Chain [1] done processing\n",
      "18:24:23 - cmdstanpy - INFO - Chain [1] start processing\n",
      "18:24:23 - cmdstanpy - INFO - Chain [1] done processing\n",
      "18:24:26 - cmdstanpy - INFO - Chain [1] start processing\n",
      "18:24:26 - cmdstanpy - INFO - Chain [1] done processing\n",
      "18:24:30 - cmdstanpy - INFO - Chain [1] start processing\n",
      "18:24:30 - cmdstanpy - INFO - Chain [1] done processing\n",
      "18:24:33 - cmdstanpy - INFO - Chain [1] start processing\n",
      "18:24:33 - cmdstanpy - INFO - Chain [1] done processing\n",
      "18:24:37 - cmdstanpy - INFO - Chain [1] start processing\n",
      "18:24:37 - cmdstanpy - INFO - Chain [1] done processing\n",
      "18:24:40 - cmdstanpy - INFO - Chain [1] start processing\n",
      "18:24:40 - cmdstanpy - INFO - Chain [1] done processing\n",
      "18:24:44 - cmdstanpy - INFO - Chain [1] start processing\n",
      "18:24:44 - cmdstanpy - INFO - Chain [1] done processing\n",
      "18:24:48 - cmdstanpy - INFO - Chain [1] start processing\n",
      "18:24:48 - cmdstanpy - INFO - Chain [1] done processing\n",
      "18:24:51 - cmdstanpy - INFO - Chain [1] start processing\n",
      "18:24:51 - cmdstanpy - INFO - Chain [1] done processing\n",
      "18:24:54 - cmdstanpy - INFO - Chain [1] start processing\n",
      "18:24:55 - cmdstanpy - INFO - Chain [1] done processing\n",
      "18:24:58 - cmdstanpy - INFO - Chain [1] start processing\n",
      "18:24:58 - cmdstanpy - INFO - Chain [1] done processing\n",
      "18:25:02 - cmdstanpy - INFO - Chain [1] start processing\n",
      "18:25:02 - cmdstanpy - INFO - Chain [1] done processing\n",
      "18:25:06 - cmdstanpy - INFO - Chain [1] start processing\n",
      "18:25:06 - cmdstanpy - INFO - Chain [1] done processing\n",
      "18:25:09 - cmdstanpy - INFO - Chain [1] start processing\n",
      "18:25:09 - cmdstanpy - INFO - Chain [1] done processing\n",
      "18:25:13 - cmdstanpy - INFO - Chain [1] start processing\n",
      "18:25:13 - cmdstanpy - INFO - Chain [1] done processing\n",
      "18:25:16 - cmdstanpy - INFO - Chain [1] start processing\n",
      "18:25:16 - cmdstanpy - INFO - Chain [1] done processing\n",
      "18:25:20 - cmdstanpy - INFO - Chain [1] start processing\n",
      "18:25:20 - cmdstanpy - INFO - Chain [1] done processing\n",
      "18:25:23 - cmdstanpy - INFO - Chain [1] start processing\n",
      "18:25:23 - cmdstanpy - INFO - Chain [1] done processing\n",
      "18:25:26 - cmdstanpy - INFO - Chain [1] start processing\n",
      "18:25:26 - cmdstanpy - INFO - Chain [1] done processing\n",
      "18:25:30 - cmdstanpy - INFO - Chain [1] start processing\n",
      "18:25:30 - cmdstanpy - INFO - Chain [1] done processing\n",
      "18:25:33 - cmdstanpy - INFO - Chain [1] start processing\n",
      "18:25:33 - cmdstanpy - INFO - Chain [1] done processing\n",
      "18:25:37 - cmdstanpy - INFO - Chain [1] start processing\n",
      "18:25:37 - cmdstanpy - INFO - Chain [1] done processing\n",
      "18:25:40 - cmdstanpy - INFO - Chain [1] start processing\n",
      "18:25:40 - cmdstanpy - INFO - Chain [1] done processing\n",
      "18:25:43 - cmdstanpy - INFO - Chain [1] start processing\n",
      "18:25:43 - cmdstanpy - INFO - Chain [1] done processing\n",
      "18:25:47 - cmdstanpy - INFO - Chain [1] start processing\n",
      "18:25:47 - cmdstanpy - INFO - Chain [1] done processing\n",
      "18:25:50 - cmdstanpy - INFO - Chain [1] start processing\n",
      "18:25:50 - cmdstanpy - INFO - Chain [1] done processing\n",
      "18:25:54 - cmdstanpy - INFO - Chain [1] start processing\n",
      "18:25:54 - cmdstanpy - INFO - Chain [1] done processing\n",
      "18:25:58 - cmdstanpy - INFO - Chain [1] start processing\n",
      "18:25:58 - cmdstanpy - INFO - Chain [1] done processing\n",
      "18:26:01 - cmdstanpy - INFO - Chain [1] start processing\n",
      "18:26:01 - cmdstanpy - INFO - Chain [1] done processing\n",
      "18:26:04 - cmdstanpy - INFO - Chain [1] start processing\n",
      "18:26:05 - cmdstanpy - INFO - Chain [1] done processing\n",
      "18:26:08 - cmdstanpy - INFO - Chain [1] start processing\n",
      "18:26:08 - cmdstanpy - INFO - Chain [1] done processing\n",
      "18:26:11 - cmdstanpy - INFO - Chain [1] start processing\n",
      "18:26:11 - cmdstanpy - INFO - Chain [1] done processing\n",
      "18:26:15 - cmdstanpy - INFO - Chain [1] start processing\n",
      "18:26:15 - cmdstanpy - INFO - Chain [1] done processing\n",
      "18:26:18 - cmdstanpy - INFO - Chain [1] start processing\n",
      "18:26:18 - cmdstanpy - INFO - Chain [1] done processing\n",
      "18:26:22 - cmdstanpy - INFO - Chain [1] start processing\n",
      "18:26:22 - cmdstanpy - INFO - Chain [1] done processing\n",
      "18:26:25 - cmdstanpy - INFO - Chain [1] start processing\n",
      "18:26:25 - cmdstanpy - INFO - Chain [1] done processing\n",
      "18:26:28 - cmdstanpy - INFO - Chain [1] start processing\n",
      "18:26:28 - cmdstanpy - INFO - Chain [1] done processing\n",
      "18:26:32 - cmdstanpy - INFO - Chain [1] start processing\n",
      "18:26:32 - cmdstanpy - INFO - Chain [1] done processing\n",
      "18:26:36 - cmdstanpy - INFO - Chain [1] start processing\n",
      "18:26:36 - cmdstanpy - INFO - Chain [1] done processing\n",
      "18:26:40 - cmdstanpy - INFO - Chain [1] start processing\n",
      "18:26:40 - cmdstanpy - INFO - Chain [1] done processing\n",
      "18:26:44 - cmdstanpy - INFO - Chain [1] start processing\n",
      "18:26:44 - cmdstanpy - INFO - Chain [1] done processing\n",
      "18:26:48 - cmdstanpy - INFO - Chain [1] start processing\n",
      "18:26:48 - cmdstanpy - INFO - Chain [1] done processing\n",
      "18:26:52 - cmdstanpy - INFO - Chain [1] start processing\n",
      "18:26:52 - cmdstanpy - INFO - Chain [1] done processing\n",
      "18:26:56 - cmdstanpy - INFO - Chain [1] start processing\n",
      "18:26:56 - cmdstanpy - INFO - Chain [1] done processing\n",
      "18:27:00 - cmdstanpy - INFO - Chain [1] start processing\n",
      "18:27:00 - cmdstanpy - INFO - Chain [1] done processing\n",
      "18:27:05 - cmdstanpy - INFO - Chain [1] start processing\n",
      "18:27:05 - cmdstanpy - INFO - Chain [1] done processing\n",
      "18:27:10 - cmdstanpy - INFO - Chain [1] start processing\n",
      "18:27:10 - cmdstanpy - INFO - Chain [1] done processing\n",
      "18:27:16 - cmdstanpy - INFO - Chain [1] start processing\n",
      "18:27:16 - cmdstanpy - INFO - Chain [1] done processing\n"
     ]
    },
    {
     "name": "stdout",
     "output_type": "stream",
     "text": [
      "{'changepoint_prior_scale': 0.03, 'seasonality_prior_scale': 10, 'seasonality_mode': 'additive', 'holidays_prior_scale': 0.01}\n"
     ]
    }
   ],
   "source": [
    "# Set up parameter grid\n",
    "param_grid = {  \n",
    "    'changepoint_prior_scale': [0.03, 0.03, 0.04, 0.05],\n",
    "    'seasonality_prior_scale': [7, 8, 9, 10, 11],\n",
    "    'seasonality_mode': ['additive', 'multiplicative'],\n",
    "    'holidays_prior_scale': [0.005,0.01,0.02]\n",
    "}\n",
    "# Generate all combinations of parameters\n",
    "all_params = [dict(zip(param_grid.keys(), v)) for v in itertools.product(*param_grid.values())]\n",
    "# Create a list to store MAPE values for each combination\n",
    "mapes = [] \n",
    "# Use cross validation to evaluate all parameters\n",
    "for params in all_params:\n",
    "    # Fit a model using one parameter combination\n",
    "    m = Prophet(**params,growth='linear')\n",
    "    # add holidays\n",
    "    m.add_country_holidays(country_name='US') \n",
    "    # fit data\n",
    "    m.fit(data_1) \n",
    "    # Cross-validation\n",
    "    df_cv = cross_validation(m, initial='333 days', period='31 days', horizon = '31 days', parallel=\"processes\")\n",
    "    # Model performance\n",
    "    df_p = performance_metrics(df_cv, rolling_window=1)\n",
    "    # Save model performance metrics\n",
    "    mapes.append(df_p['mape'].values[0])\n",
    "    \n",
    "# Tuning results\n",
    "tuning_results = pd.DataFrame(all_params)\n",
    "tuning_results['mape'] = mapes\n",
    "# Find the best parameters\n",
    "best_params = all_params[np.argmin(mapes)]\n",
    "print(best_params)"
   ]
  },
  {
   "cell_type": "code",
   "execution_count": 64,
   "metadata": {},
   "outputs": [
    {
     "name": "stderr",
     "output_type": "stream",
     "text": [
      "18:27:49 - cmdstanpy - INFO - Chain [1] start processing\n",
      "18:27:49 - cmdstanpy - INFO - Chain [1] done processing\n"
     ]
    },
    {
     "data": {
      "text/plain": [
       "0.306843591902117"
      ]
     },
     "execution_count": 64,
     "metadata": {},
     "output_type": "execute_result"
    }
   ],
   "source": [
    "# Fit the model using the best parameters\n",
    "auto_model = Prophet(changepoint_prior_scale=best_params['changepoint_prior_scale'], \n",
    "                     seasonality_prior_scale=best_params['seasonality_prior_scale'], \n",
    "                     seasonality_mode=best_params['seasonality_mode'])\n",
    "# Fit the model on the training dataset\n",
    "auto_model.add_country_holidays(country_name='US').fit(data_1)\n",
    "# Cross validation\n",
    "auto_model_cv = cross_validation(auto_model, initial='333 days', period='31 days', horizon = '31 days', parallel=\"processes\")\n",
    "# Model performance metrics\n",
    "auto_model_p = performance_metrics(auto_model_cv, rolling_window=1)\n",
    "auto_model_p['mape'].values[0]"
   ]
  },
  {
   "cell_type": "code",
   "execution_count": 79,
   "metadata": {},
   "outputs": [
    {
     "name": "stderr",
     "output_type": "stream",
     "text": [
      "<ipython-input-79-5ce2538a31e2>:2: SettingWithCopyWarning:\n",
      "\n",
      "\n",
      "A value is trying to be set on a copy of a slice from a DataFrame.\n",
      "Try using .loc[row_indexer,col_indexer] = value instead\n",
      "\n",
      "See the caveats in the documentation: https://pandas.pydata.org/pandas-docs/stable/user_guide/indexing.html#returning-a-view-versus-a-copy\n",
      "\n"
     ]
    },
    {
     "data": {
      "application/vnd.plotly.v1+json": {
       "config": {
        "plotlyServerURL": "https://plot.ly"
       },
       "data": [
        {
         "line": {
          "color": "rgb(36, 121, 108)"
         },
         "name": "actual",
         "type": "scatter",
         "x": [
          "2015-12-01T00:00:00",
          "2015-12-02T00:00:00",
          "2015-12-03T00:00:00",
          "2015-12-04T00:00:00",
          "2015-12-05T00:00:00",
          "2015-12-06T00:00:00",
          "2015-12-07T00:00:00",
          "2015-12-08T00:00:00",
          "2015-12-09T00:00:00",
          "2015-12-10T00:00:00",
          "2015-12-11T00:00:00",
          "2015-12-12T00:00:00",
          "2015-12-13T00:00:00",
          "2015-12-14T00:00:00",
          "2015-12-15T00:00:00",
          "2015-12-16T00:00:00",
          "2015-12-17T00:00:00",
          "2015-12-18T00:00:00",
          "2015-12-19T00:00:00",
          "2015-12-20T00:00:00",
          "2015-12-21T00:00:00",
          "2015-12-22T00:00:00",
          "2015-12-23T00:00:00",
          "2015-12-24T00:00:00",
          "2015-12-25T00:00:00",
          "2015-12-26T00:00:00",
          "2015-12-27T00:00:00",
          "2015-12-28T00:00:00",
          "2015-12-29T00:00:00",
          "2015-12-30T00:00:00",
          "2015-12-31T00:00:00"
         ],
         "y": [
          152,
          166,
          208,
          149,
          82,
          190,
          227,
          219,
          205,
          217,
          201,
          132,
          219,
          178,
          156,
          277,
          285,
          295,
          245,
          283,
          346,
          384,
          301,
          187,
          148,
          399,
          386,
          318,
          321,
          313,
          124
         ]
        },
        {
         "line": {
          "color": "rgb(153, 201, 69)"
         },
         "name": "predictions",
         "type": "scatter",
         "x": [
          "2015-12-01T00:00:00",
          "2015-12-02T00:00:00",
          "2015-12-03T00:00:00",
          "2015-12-04T00:00:00",
          "2015-12-05T00:00:00",
          "2015-12-06T00:00:00",
          "2015-12-07T00:00:00",
          "2015-12-08T00:00:00",
          "2015-12-09T00:00:00",
          "2015-12-10T00:00:00",
          "2015-12-11T00:00:00",
          "2015-12-12T00:00:00",
          "2015-12-13T00:00:00",
          "2015-12-14T00:00:00",
          "2015-12-15T00:00:00",
          "2015-12-16T00:00:00",
          "2015-12-17T00:00:00",
          "2015-12-18T00:00:00",
          "2015-12-19T00:00:00",
          "2015-12-20T00:00:00",
          "2015-12-21T00:00:00",
          "2015-12-22T00:00:00",
          "2015-12-23T00:00:00",
          "2015-12-24T00:00:00",
          "2015-12-25T00:00:00",
          "2015-12-26T00:00:00",
          "2015-12-27T00:00:00",
          "2015-12-28T00:00:00",
          "2015-12-29T00:00:00",
          "2015-12-30T00:00:00",
          "2015-12-31T00:00:00"
         ],
         "y": [
          146.38544155244423,
          162.17339422862577,
          200.79211824292764,
          195.9738464599547,
          116.71933671593578,
          184.39677808694967,
          191.79128978900096,
          142.2620905276156,
          158.05004320381312,
          196.66876721802385,
          191.85049543495202,
          112.59598569097193,
          180.27342706188222,
          187.6679387640334,
          138.13873950248276,
          153.92669217881607,
          192.5454161930006,
          187.72714441006332,
          108.47263466601359,
          176.1500760369432,
          183.5445877389664,
          134.01538847756248,
          149.803341153673,
          188.422065168044,
          183.60379338504507,
          104.34928364104974,
          172.02672501207698,
          179.42123671409814,
          129.89203745273386,
          145.67999012876814,
          184.2987141430805
         ]
        }
       ],
       "layout": {
        "hovermode": "x unified",
        "legend": {
         "title": {
          "text": "Leyend"
         }
        },
        "template": {
         "data": {
          "bar": [
           {
            "error_x": {
             "color": "#f2f5fa"
            },
            "error_y": {
             "color": "#f2f5fa"
            },
            "marker": {
             "line": {
              "color": "rgb(17,17,17)",
              "width": 0.5
             },
             "pattern": {
              "fillmode": "overlay",
              "size": 10,
              "solidity": 0.2
             }
            },
            "type": "bar"
           }
          ],
          "barpolar": [
           {
            "marker": {
             "line": {
              "color": "rgb(17,17,17)",
              "width": 0.5
             },
             "pattern": {
              "fillmode": "overlay",
              "size": 10,
              "solidity": 0.2
             }
            },
            "type": "barpolar"
           }
          ],
          "carpet": [
           {
            "aaxis": {
             "endlinecolor": "#A2B1C6",
             "gridcolor": "#506784",
             "linecolor": "#506784",
             "minorgridcolor": "#506784",
             "startlinecolor": "#A2B1C6"
            },
            "baxis": {
             "endlinecolor": "#A2B1C6",
             "gridcolor": "#506784",
             "linecolor": "#506784",
             "minorgridcolor": "#506784",
             "startlinecolor": "#A2B1C6"
            },
            "type": "carpet"
           }
          ],
          "choropleth": [
           {
            "colorbar": {
             "outlinewidth": 0,
             "ticks": ""
            },
            "type": "choropleth"
           }
          ],
          "contour": [
           {
            "colorbar": {
             "outlinewidth": 0,
             "ticks": ""
            },
            "colorscale": [
             [
              0,
              "#0d0887"
             ],
             [
              0.1111111111111111,
              "#46039f"
             ],
             [
              0.2222222222222222,
              "#7201a8"
             ],
             [
              0.3333333333333333,
              "#9c179e"
             ],
             [
              0.4444444444444444,
              "#bd3786"
             ],
             [
              0.5555555555555556,
              "#d8576b"
             ],
             [
              0.6666666666666666,
              "#ed7953"
             ],
             [
              0.7777777777777778,
              "#fb9f3a"
             ],
             [
              0.8888888888888888,
              "#fdca26"
             ],
             [
              1,
              "#f0f921"
             ]
            ],
            "type": "contour"
           }
          ],
          "contourcarpet": [
           {
            "colorbar": {
             "outlinewidth": 0,
             "ticks": ""
            },
            "type": "contourcarpet"
           }
          ],
          "heatmap": [
           {
            "colorbar": {
             "outlinewidth": 0,
             "ticks": ""
            },
            "colorscale": [
             [
              0,
              "#0d0887"
             ],
             [
              0.1111111111111111,
              "#46039f"
             ],
             [
              0.2222222222222222,
              "#7201a8"
             ],
             [
              0.3333333333333333,
              "#9c179e"
             ],
             [
              0.4444444444444444,
              "#bd3786"
             ],
             [
              0.5555555555555556,
              "#d8576b"
             ],
             [
              0.6666666666666666,
              "#ed7953"
             ],
             [
              0.7777777777777778,
              "#fb9f3a"
             ],
             [
              0.8888888888888888,
              "#fdca26"
             ],
             [
              1,
              "#f0f921"
             ]
            ],
            "type": "heatmap"
           }
          ],
          "heatmapgl": [
           {
            "colorbar": {
             "outlinewidth": 0,
             "ticks": ""
            },
            "colorscale": [
             [
              0,
              "#0d0887"
             ],
             [
              0.1111111111111111,
              "#46039f"
             ],
             [
              0.2222222222222222,
              "#7201a8"
             ],
             [
              0.3333333333333333,
              "#9c179e"
             ],
             [
              0.4444444444444444,
              "#bd3786"
             ],
             [
              0.5555555555555556,
              "#d8576b"
             ],
             [
              0.6666666666666666,
              "#ed7953"
             ],
             [
              0.7777777777777778,
              "#fb9f3a"
             ],
             [
              0.8888888888888888,
              "#fdca26"
             ],
             [
              1,
              "#f0f921"
             ]
            ],
            "type": "heatmapgl"
           }
          ],
          "histogram": [
           {
            "marker": {
             "pattern": {
              "fillmode": "overlay",
              "size": 10,
              "solidity": 0.2
             }
            },
            "type": "histogram"
           }
          ],
          "histogram2d": [
           {
            "colorbar": {
             "outlinewidth": 0,
             "ticks": ""
            },
            "colorscale": [
             [
              0,
              "#0d0887"
             ],
             [
              0.1111111111111111,
              "#46039f"
             ],
             [
              0.2222222222222222,
              "#7201a8"
             ],
             [
              0.3333333333333333,
              "#9c179e"
             ],
             [
              0.4444444444444444,
              "#bd3786"
             ],
             [
              0.5555555555555556,
              "#d8576b"
             ],
             [
              0.6666666666666666,
              "#ed7953"
             ],
             [
              0.7777777777777778,
              "#fb9f3a"
             ],
             [
              0.8888888888888888,
              "#fdca26"
             ],
             [
              1,
              "#f0f921"
             ]
            ],
            "type": "histogram2d"
           }
          ],
          "histogram2dcontour": [
           {
            "colorbar": {
             "outlinewidth": 0,
             "ticks": ""
            },
            "colorscale": [
             [
              0,
              "#0d0887"
             ],
             [
              0.1111111111111111,
              "#46039f"
             ],
             [
              0.2222222222222222,
              "#7201a8"
             ],
             [
              0.3333333333333333,
              "#9c179e"
             ],
             [
              0.4444444444444444,
              "#bd3786"
             ],
             [
              0.5555555555555556,
              "#d8576b"
             ],
             [
              0.6666666666666666,
              "#ed7953"
             ],
             [
              0.7777777777777778,
              "#fb9f3a"
             ],
             [
              0.8888888888888888,
              "#fdca26"
             ],
             [
              1,
              "#f0f921"
             ]
            ],
            "type": "histogram2dcontour"
           }
          ],
          "mesh3d": [
           {
            "colorbar": {
             "outlinewidth": 0,
             "ticks": ""
            },
            "type": "mesh3d"
           }
          ],
          "parcoords": [
           {
            "line": {
             "colorbar": {
              "outlinewidth": 0,
              "ticks": ""
             }
            },
            "type": "parcoords"
           }
          ],
          "pie": [
           {
            "automargin": true,
            "type": "pie"
           }
          ],
          "scatter": [
           {
            "marker": {
             "line": {
              "color": "#283442"
             }
            },
            "type": "scatter"
           }
          ],
          "scatter3d": [
           {
            "line": {
             "colorbar": {
              "outlinewidth": 0,
              "ticks": ""
             }
            },
            "marker": {
             "colorbar": {
              "outlinewidth": 0,
              "ticks": ""
             }
            },
            "type": "scatter3d"
           }
          ],
          "scattercarpet": [
           {
            "marker": {
             "colorbar": {
              "outlinewidth": 0,
              "ticks": ""
             }
            },
            "type": "scattercarpet"
           }
          ],
          "scattergeo": [
           {
            "marker": {
             "colorbar": {
              "outlinewidth": 0,
              "ticks": ""
             }
            },
            "type": "scattergeo"
           }
          ],
          "scattergl": [
           {
            "marker": {
             "line": {
              "color": "#283442"
             }
            },
            "type": "scattergl"
           }
          ],
          "scattermapbox": [
           {
            "marker": {
             "colorbar": {
              "outlinewidth": 0,
              "ticks": ""
             }
            },
            "type": "scattermapbox"
           }
          ],
          "scatterpolar": [
           {
            "marker": {
             "colorbar": {
              "outlinewidth": 0,
              "ticks": ""
             }
            },
            "type": "scatterpolar"
           }
          ],
          "scatterpolargl": [
           {
            "marker": {
             "colorbar": {
              "outlinewidth": 0,
              "ticks": ""
             }
            },
            "type": "scatterpolargl"
           }
          ],
          "scatterternary": [
           {
            "marker": {
             "colorbar": {
              "outlinewidth": 0,
              "ticks": ""
             }
            },
            "type": "scatterternary"
           }
          ],
          "surface": [
           {
            "colorbar": {
             "outlinewidth": 0,
             "ticks": ""
            },
            "colorscale": [
             [
              0,
              "#0d0887"
             ],
             [
              0.1111111111111111,
              "#46039f"
             ],
             [
              0.2222222222222222,
              "#7201a8"
             ],
             [
              0.3333333333333333,
              "#9c179e"
             ],
             [
              0.4444444444444444,
              "#bd3786"
             ],
             [
              0.5555555555555556,
              "#d8576b"
             ],
             [
              0.6666666666666666,
              "#ed7953"
             ],
             [
              0.7777777777777778,
              "#fb9f3a"
             ],
             [
              0.8888888888888888,
              "#fdca26"
             ],
             [
              1,
              "#f0f921"
             ]
            ],
            "type": "surface"
           }
          ],
          "table": [
           {
            "cells": {
             "fill": {
              "color": "#506784"
             },
             "line": {
              "color": "rgb(17,17,17)"
             }
            },
            "header": {
             "fill": {
              "color": "#2a3f5f"
             },
             "line": {
              "color": "rgb(17,17,17)"
             }
            },
            "type": "table"
           }
          ]
         },
         "layout": {
          "annotationdefaults": {
           "arrowcolor": "#f2f5fa",
           "arrowhead": 0,
           "arrowwidth": 1
          },
          "autotypenumbers": "strict",
          "coloraxis": {
           "colorbar": {
            "outlinewidth": 0,
            "ticks": ""
           }
          },
          "colorscale": {
           "diverging": [
            [
             0,
             "#8e0152"
            ],
            [
             0.1,
             "#c51b7d"
            ],
            [
             0.2,
             "#de77ae"
            ],
            [
             0.3,
             "#f1b6da"
            ],
            [
             0.4,
             "#fde0ef"
            ],
            [
             0.5,
             "#f7f7f7"
            ],
            [
             0.6,
             "#e6f5d0"
            ],
            [
             0.7,
             "#b8e186"
            ],
            [
             0.8,
             "#7fbc41"
            ],
            [
             0.9,
             "#4d9221"
            ],
            [
             1,
             "#276419"
            ]
           ],
           "sequential": [
            [
             0,
             "#0d0887"
            ],
            [
             0.1111111111111111,
             "#46039f"
            ],
            [
             0.2222222222222222,
             "#7201a8"
            ],
            [
             0.3333333333333333,
             "#9c179e"
            ],
            [
             0.4444444444444444,
             "#bd3786"
            ],
            [
             0.5555555555555556,
             "#d8576b"
            ],
            [
             0.6666666666666666,
             "#ed7953"
            ],
            [
             0.7777777777777778,
             "#fb9f3a"
            ],
            [
             0.8888888888888888,
             "#fdca26"
            ],
            [
             1,
             "#f0f921"
            ]
           ],
           "sequentialminus": [
            [
             0,
             "#0d0887"
            ],
            [
             0.1111111111111111,
             "#46039f"
            ],
            [
             0.2222222222222222,
             "#7201a8"
            ],
            [
             0.3333333333333333,
             "#9c179e"
            ],
            [
             0.4444444444444444,
             "#bd3786"
            ],
            [
             0.5555555555555556,
             "#d8576b"
            ],
            [
             0.6666666666666666,
             "#ed7953"
            ],
            [
             0.7777777777777778,
             "#fb9f3a"
            ],
            [
             0.8888888888888888,
             "#fdca26"
            ],
            [
             1,
             "#f0f921"
            ]
           ]
          },
          "colorway": [
           "#636efa",
           "#EF553B",
           "#00cc96",
           "#ab63fa",
           "#FFA15A",
           "#19d3f3",
           "#FF6692",
           "#B6E880",
           "#FF97FF",
           "#FECB52"
          ],
          "font": {
           "color": "#f2f5fa"
          },
          "geo": {
           "bgcolor": "rgb(17,17,17)",
           "lakecolor": "rgb(17,17,17)",
           "landcolor": "rgb(17,17,17)",
           "showlakes": true,
           "showland": true,
           "subunitcolor": "#506784"
          },
          "hoverlabel": {
           "align": "left"
          },
          "hovermode": "closest",
          "mapbox": {
           "style": "dark"
          },
          "paper_bgcolor": "rgb(17,17,17)",
          "plot_bgcolor": "rgb(17,17,17)",
          "polar": {
           "angularaxis": {
            "gridcolor": "#506784",
            "linecolor": "#506784",
            "ticks": ""
           },
           "bgcolor": "rgb(17,17,17)",
           "radialaxis": {
            "gridcolor": "#506784",
            "linecolor": "#506784",
            "ticks": ""
           }
          },
          "scene": {
           "xaxis": {
            "backgroundcolor": "rgb(17,17,17)",
            "gridcolor": "#506784",
            "gridwidth": 2,
            "linecolor": "#506784",
            "showbackground": true,
            "ticks": "",
            "zerolinecolor": "#C8D4E3"
           },
           "yaxis": {
            "backgroundcolor": "rgb(17,17,17)",
            "gridcolor": "#506784",
            "gridwidth": 2,
            "linecolor": "#506784",
            "showbackground": true,
            "ticks": "",
            "zerolinecolor": "#C8D4E3"
           },
           "zaxis": {
            "backgroundcolor": "rgb(17,17,17)",
            "gridcolor": "#506784",
            "gridwidth": 2,
            "linecolor": "#506784",
            "showbackground": true,
            "ticks": "",
            "zerolinecolor": "#C8D4E3"
           }
          },
          "shapedefaults": {
           "line": {
            "color": "#f2f5fa"
           }
          },
          "sliderdefaults": {
           "bgcolor": "#C8D4E3",
           "bordercolor": "rgb(17,17,17)",
           "borderwidth": 1,
           "tickwidth": 0
          },
          "ternary": {
           "aaxis": {
            "gridcolor": "#506784",
            "linecolor": "#506784",
            "ticks": ""
           },
           "baxis": {
            "gridcolor": "#506784",
            "linecolor": "#506784",
            "ticks": ""
           },
           "bgcolor": "rgb(17,17,17)",
           "caxis": {
            "gridcolor": "#506784",
            "linecolor": "#506784",
            "ticks": ""
           }
          },
          "title": {
           "x": 0.05
          },
          "updatemenudefaults": {
           "bgcolor": "#506784",
           "borderwidth": 0
          },
          "xaxis": {
           "automargin": true,
           "gridcolor": "#283442",
           "linecolor": "#506784",
           "ticks": "",
           "title": {
            "standoff": 15
           },
           "zerolinecolor": "#283442",
           "zerolinewidth": 2
          },
          "yaxis": {
           "automargin": true,
           "gridcolor": "#283442",
           "linecolor": "#506784",
           "ticks": "",
           "title": {
            "standoff": 15
           },
           "zerolinecolor": "#283442",
           "zerolinewidth": 2
          }
         }
        },
        "title": {
         "text": "ARIMA Model. December predictions vs. Actual values"
        },
        "xaxis": {
         "title": {
          "text": "Dates"
         }
        },
        "yaxis": {
         "title": {
          "text": "Number of delays"
         }
        }
       }
      }
     },
     "metadata": {},
     "output_type": "display_data"
    }
   ],
   "source": [
    "# Predictions\n",
    "test['predictions'] = auto_model_cv[\"yhat\"].values\n",
    "\n",
    "# Prediction vs Actual values representation\n",
    "fig = go.Figure()\n",
    "\n",
    "fig.add_trace(go.Scatter(x=test['ds'], y=test['y'], name = \"actual\", line_color = px.colors.qualitative.Vivid[5]))\n",
    "fig.add_trace(go.Scatter(x=test['ds'], y=test['predictions'], name = \"predictions\",line_color = px.colors.qualitative.Vivid[3]))\n",
    "\n",
    "fig.update_layout(\n",
    "    title=\"ARIMA Model. December predictions vs. Actual values\",\n",
    "    xaxis_title=\"Dates\",\n",
    "    yaxis_title=\"Number of delays\",\n",
    "    legend_title=\"Leyend\",\n",
    "    template=\"plotly_dark\",\n",
    "    #color_discrete_sequence=px.colors.qualitative.Vivid,\n",
    "    hovermode=\"x unified\",    \n",
    ")\n",
    "\n",
    "fig.show()"
   ]
  },
  {
   "cell_type": "code",
   "execution_count": 80,
   "metadata": {},
   "outputs": [
    {
     "name": "stdout",
     "output_type": "stream",
     "text": [
      "The MSE for the baseline model is 13351.450463065948\n",
      "The MAE for the baseline model is 84.21782484814962\n"
     ]
    }
   ],
   "source": [
    "# Check the MSE value\n",
    "performance_arima_MSE = mean_squared_error(test['y'],test['predictions'])\n",
    "print(f'The MSE for the baseline model is {performance_arima_MSE}')\n",
    "\n",
    "# Check the MAE value\n",
    "performance_arima_MAE = mean_absolute_error(test['y'],test['predictions'])\n",
    "print(f'The MAE for the baseline model is {performance_arima_MAE}')\n",
    "\n",
    "# Check the MAPE value\n",
    "# performance_arima_MAPE = mean_absolute_percentage_error(test['y'],test['predictions'])\n",
    "# print(f'The MAPE for the baseline model is {performance_arima_MAPE}')"
   ]
  },
  {
   "cell_type": "markdown",
   "metadata": {},
   "source": [
    "Este modelo es el mejor de prophet obtenido hasta ahora, aunque no es capaz de predecir la época de altibajos en vuelos navideños."
   ]
  },
  {
   "cell_type": "markdown",
   "metadata": {},
   "source": [
    "## Automatic Hyperparameter Tuning with Holidays in Log Scale"
   ]
  },
  {
   "cell_type": "markdown",
   "metadata": {},
   "source": [
    "The prophet model documentation[2] mentioned some hyperparameters are best tuned in log scale."
   ]
  },
  {
   "cell_type": "code",
   "execution_count": 66,
   "metadata": {},
   "outputs": [
    {
     "data": {
      "text/html": [
       "<div>\n",
       "<style scoped>\n",
       "    .dataframe tbody tr th:only-of-type {\n",
       "        vertical-align: middle;\n",
       "    }\n",
       "\n",
       "    .dataframe tbody tr th {\n",
       "        vertical-align: top;\n",
       "    }\n",
       "\n",
       "    .dataframe thead th {\n",
       "        text-align: right;\n",
       "    }\n",
       "</style>\n",
       "<table border=\"1\" class=\"dataframe\">\n",
       "  <thead>\n",
       "    <tr style=\"text-align: right;\">\n",
       "      <th></th>\n",
       "      <th>ds</th>\n",
       "      <th>y</th>\n",
       "    </tr>\n",
       "  </thead>\n",
       "  <tbody>\n",
       "    <tr>\n",
       "      <th>0</th>\n",
       "      <td>2015-01-01</td>\n",
       "      <td>5.463832</td>\n",
       "    </tr>\n",
       "    <tr>\n",
       "      <th>1</th>\n",
       "      <td>2015-01-02</td>\n",
       "      <td>6.013715</td>\n",
       "    </tr>\n",
       "    <tr>\n",
       "      <th>2</th>\n",
       "      <td>2015-01-03</td>\n",
       "      <td>6.079933</td>\n",
       "    </tr>\n",
       "    <tr>\n",
       "      <th>3</th>\n",
       "      <td>2015-01-04</td>\n",
       "      <td>6.146329</td>\n",
       "    </tr>\n",
       "    <tr>\n",
       "      <th>4</th>\n",
       "      <td>2015-01-05</td>\n",
       "      <td>5.991465</td>\n",
       "    </tr>\n",
       "  </tbody>\n",
       "</table>\n",
       "</div>"
      ],
      "text/plain": [
       "          ds         y\n",
       "0 2015-01-01  5.463832\n",
       "1 2015-01-02  6.013715\n",
       "2 2015-01-03  6.079933\n",
       "3 2015-01-04  6.146329\n",
       "4 2015-01-05  5.991465"
      ]
     },
     "execution_count": 66,
     "metadata": {},
     "output_type": "execute_result"
    }
   ],
   "source": [
    "# Create a copy of the data\n",
    "data_log = data_1.copy()\n",
    "# Create the log scale data by taking the natual log of the stock prices.\n",
    "data_log['y_log'] = np.log(data_1['y'])\n",
    "# Delete the stock price and rename the log scale stock price to y\n",
    "data_log = data_log.drop('y', axis=1).rename(columns={'y_log': 'y'})\n",
    "# Take a look at the data\n",
    "data_log.head()"
   ]
  },
  {
   "cell_type": "code",
   "execution_count": 67,
   "metadata": {},
   "outputs": [
    {
     "name": "stderr",
     "output_type": "stream",
     "text": [
      "18:35:06 - cmdstanpy - INFO - Chain [1] start processing\n",
      "18:35:06 - cmdstanpy - INFO - Chain [1] done processing\n",
      "18:35:10 - cmdstanpy - INFO - Chain [1] start processing\n",
      "18:35:10 - cmdstanpy - INFO - Chain [1] done processing\n",
      "18:35:13 - cmdstanpy - INFO - Chain [1] start processing\n",
      "18:35:13 - cmdstanpy - INFO - Chain [1] done processing\n",
      "18:35:17 - cmdstanpy - INFO - Chain [1] start processing\n",
      "18:35:17 - cmdstanpy - INFO - Chain [1] done processing\n",
      "18:35:20 - cmdstanpy - INFO - Chain [1] start processing\n",
      "18:35:20 - cmdstanpy - INFO - Chain [1] done processing\n",
      "18:35:23 - cmdstanpy - INFO - Chain [1] start processing\n",
      "18:35:23 - cmdstanpy - INFO - Chain [1] done processing\n",
      "18:35:27 - cmdstanpy - INFO - Chain [1] start processing\n",
      "18:35:27 - cmdstanpy - INFO - Chain [1] done processing\n",
      "18:35:30 - cmdstanpy - INFO - Chain [1] start processing\n",
      "18:35:30 - cmdstanpy - INFO - Chain [1] done processing\n",
      "18:35:34 - cmdstanpy - INFO - Chain [1] start processing\n",
      "18:35:34 - cmdstanpy - INFO - Chain [1] done processing\n",
      "18:35:37 - cmdstanpy - INFO - Chain [1] start processing\n",
      "18:35:38 - cmdstanpy - INFO - Chain [1] done processing\n",
      "18:35:41 - cmdstanpy - INFO - Chain [1] start processing\n",
      "18:35:41 - cmdstanpy - INFO - Chain [1] done processing\n",
      "18:35:44 - cmdstanpy - INFO - Chain [1] start processing\n",
      "18:35:45 - cmdstanpy - INFO - Chain [1] done processing\n",
      "18:35:48 - cmdstanpy - INFO - Chain [1] start processing\n",
      "18:35:48 - cmdstanpy - INFO - Chain [1] done processing\n",
      "18:35:51 - cmdstanpy - INFO - Chain [1] start processing\n",
      "18:35:51 - cmdstanpy - INFO - Chain [1] done processing\n",
      "18:35:55 - cmdstanpy - INFO - Chain [1] start processing\n",
      "18:35:55 - cmdstanpy - INFO - Chain [1] done processing\n",
      "18:35:58 - cmdstanpy - INFO - Chain [1] start processing\n",
      "18:35:58 - cmdstanpy - INFO - Chain [1] done processing\n",
      "18:36:02 - cmdstanpy - INFO - Chain [1] start processing\n",
      "18:36:02 - cmdstanpy - INFO - Chain [1] done processing\n",
      "18:36:05 - cmdstanpy - INFO - Chain [1] start processing\n",
      "18:36:05 - cmdstanpy - INFO - Chain [1] done processing\n",
      "18:36:09 - cmdstanpy - INFO - Chain [1] start processing\n",
      "18:36:09 - cmdstanpy - INFO - Chain [1] done processing\n",
      "18:36:12 - cmdstanpy - INFO - Chain [1] start processing\n",
      "18:36:12 - cmdstanpy - INFO - Chain [1] done processing\n",
      "18:36:16 - cmdstanpy - INFO - Chain [1] start processing\n",
      "18:36:16 - cmdstanpy - INFO - Chain [1] done processing\n",
      "18:36:19 - cmdstanpy - INFO - Chain [1] start processing\n",
      "18:36:19 - cmdstanpy - INFO - Chain [1] done processing\n",
      "18:36:23 - cmdstanpy - INFO - Chain [1] start processing\n",
      "18:36:23 - cmdstanpy - INFO - Chain [1] done processing\n",
      "18:36:26 - cmdstanpy - INFO - Chain [1] start processing\n",
      "18:36:26 - cmdstanpy - INFO - Chain [1] done processing\n",
      "18:36:29 - cmdstanpy - INFO - Chain [1] start processing\n",
      "18:36:29 - cmdstanpy - INFO - Chain [1] done processing\n",
      "18:36:33 - cmdstanpy - INFO - Chain [1] start processing\n",
      "18:36:33 - cmdstanpy - INFO - Chain [1] done processing\n",
      "18:36:36 - cmdstanpy - INFO - Chain [1] start processing\n",
      "18:36:36 - cmdstanpy - INFO - Chain [1] done processing\n",
      "18:36:39 - cmdstanpy - INFO - Chain [1] start processing\n",
      "18:36:39 - cmdstanpy - INFO - Chain [1] done processing\n",
      "18:36:43 - cmdstanpy - INFO - Chain [1] start processing\n",
      "18:36:43 - cmdstanpy - INFO - Chain [1] done processing\n",
      "18:36:46 - cmdstanpy - INFO - Chain [1] start processing\n",
      "18:36:46 - cmdstanpy - INFO - Chain [1] done processing\n",
      "18:36:50 - cmdstanpy - INFO - Chain [1] start processing\n",
      "18:36:50 - cmdstanpy - INFO - Chain [1] done processing\n",
      "18:36:53 - cmdstanpy - INFO - Chain [1] start processing\n",
      "18:36:53 - cmdstanpy - INFO - Chain [1] done processing\n",
      "18:36:57 - cmdstanpy - INFO - Chain [1] start processing\n",
      "18:36:57 - cmdstanpy - INFO - Chain [1] done processing\n",
      "18:37:00 - cmdstanpy - INFO - Chain [1] start processing\n",
      "18:37:00 - cmdstanpy - INFO - Chain [1] done processing\n",
      "18:37:04 - cmdstanpy - INFO - Chain [1] start processing\n",
      "18:37:04 - cmdstanpy - INFO - Chain [1] done processing\n",
      "18:37:07 - cmdstanpy - INFO - Chain [1] start processing\n",
      "18:37:07 - cmdstanpy - INFO - Chain [1] done processing\n",
      "18:37:11 - cmdstanpy - INFO - Chain [1] start processing\n",
      "18:37:11 - cmdstanpy - INFO - Chain [1] done processing\n",
      "18:37:14 - cmdstanpy - INFO - Chain [1] start processing\n",
      "18:37:14 - cmdstanpy - INFO - Chain [1] done processing\n",
      "18:37:18 - cmdstanpy - INFO - Chain [1] start processing\n",
      "18:37:18 - cmdstanpy - INFO - Chain [1] done processing\n",
      "18:37:21 - cmdstanpy - INFO - Chain [1] start processing\n",
      "18:37:21 - cmdstanpy - INFO - Chain [1] done processing\n",
      "18:37:25 - cmdstanpy - INFO - Chain [1] start processing\n",
      "18:37:25 - cmdstanpy - INFO - Chain [1] done processing\n",
      "18:37:28 - cmdstanpy - INFO - Chain [1] start processing\n",
      "18:37:28 - cmdstanpy - INFO - Chain [1] done processing\n",
      "18:37:32 - cmdstanpy - INFO - Chain [1] start processing\n",
      "18:37:32 - cmdstanpy - INFO - Chain [1] done processing\n",
      "18:37:35 - cmdstanpy - INFO - Chain [1] start processing\n",
      "18:37:35 - cmdstanpy - INFO - Chain [1] done processing\n",
      "18:37:39 - cmdstanpy - INFO - Chain [1] start processing\n",
      "18:37:39 - cmdstanpy - INFO - Chain [1] done processing\n",
      "18:37:42 - cmdstanpy - INFO - Chain [1] start processing\n",
      "18:37:42 - cmdstanpy - INFO - Chain [1] done processing\n",
      "18:37:45 - cmdstanpy - INFO - Chain [1] start processing\n",
      "18:37:45 - cmdstanpy - INFO - Chain [1] done processing\n",
      "18:37:49 - cmdstanpy - INFO - Chain [1] start processing\n",
      "18:37:49 - cmdstanpy - INFO - Chain [1] done processing\n",
      "18:37:52 - cmdstanpy - INFO - Chain [1] start processing\n",
      "18:37:52 - cmdstanpy - INFO - Chain [1] done processing\n",
      "18:37:56 - cmdstanpy - INFO - Chain [1] start processing\n",
      "18:37:56 - cmdstanpy - INFO - Chain [1] done processing\n",
      "18:37:59 - cmdstanpy - INFO - Chain [1] start processing\n",
      "18:37:59 - cmdstanpy - INFO - Chain [1] done processing\n",
      "18:38:03 - cmdstanpy - INFO - Chain [1] start processing\n",
      "18:38:03 - cmdstanpy - INFO - Chain [1] done processing\n",
      "18:38:06 - cmdstanpy - INFO - Chain [1] start processing\n",
      "18:38:06 - cmdstanpy - INFO - Chain [1] done processing\n",
      "18:38:09 - cmdstanpy - INFO - Chain [1] start processing\n",
      "18:38:09 - cmdstanpy - INFO - Chain [1] done processing\n",
      "18:38:13 - cmdstanpy - INFO - Chain [1] start processing\n",
      "18:38:13 - cmdstanpy - INFO - Chain [1] done processing\n",
      "18:38:16 - cmdstanpy - INFO - Chain [1] start processing\n",
      "18:38:16 - cmdstanpy - INFO - Chain [1] done processing\n",
      "18:38:20 - cmdstanpy - INFO - Chain [1] start processing\n",
      "18:38:20 - cmdstanpy - INFO - Chain [1] done processing\n",
      "18:38:23 - cmdstanpy - INFO - Chain [1] start processing\n",
      "18:38:23 - cmdstanpy - INFO - Chain [1] done processing\n",
      "18:38:26 - cmdstanpy - INFO - Chain [1] start processing\n",
      "18:38:26 - cmdstanpy - INFO - Chain [1] done processing\n",
      "18:38:30 - cmdstanpy - INFO - Chain [1] start processing\n",
      "18:38:30 - cmdstanpy - INFO - Chain [1] done processing\n",
      "18:38:33 - cmdstanpy - INFO - Chain [1] start processing\n",
      "18:38:33 - cmdstanpy - INFO - Chain [1] done processing\n",
      "18:38:37 - cmdstanpy - INFO - Chain [1] start processing\n",
      "18:38:37 - cmdstanpy - INFO - Chain [1] done processing\n",
      "18:38:40 - cmdstanpy - INFO - Chain [1] start processing\n",
      "18:38:40 - cmdstanpy - INFO - Chain [1] done processing\n",
      "18:38:43 - cmdstanpy - INFO - Chain [1] start processing\n",
      "18:38:43 - cmdstanpy - INFO - Chain [1] done processing\n",
      "18:38:47 - cmdstanpy - INFO - Chain [1] start processing\n",
      "18:38:47 - cmdstanpy - INFO - Chain [1] done processing\n",
      "18:38:50 - cmdstanpy - INFO - Chain [1] start processing\n",
      "18:38:50 - cmdstanpy - INFO - Chain [1] done processing\n",
      "18:38:54 - cmdstanpy - INFO - Chain [1] start processing\n",
      "18:38:54 - cmdstanpy - INFO - Chain [1] done processing\n",
      "18:38:57 - cmdstanpy - INFO - Chain [1] start processing\n",
      "18:38:57 - cmdstanpy - INFO - Chain [1] done processing\n",
      "18:39:01 - cmdstanpy - INFO - Chain [1] start processing\n",
      "18:39:01 - cmdstanpy - INFO - Chain [1] done processing\n",
      "18:39:04 - cmdstanpy - INFO - Chain [1] start processing\n",
      "18:39:04 - cmdstanpy - INFO - Chain [1] done processing\n",
      "18:39:07 - cmdstanpy - INFO - Chain [1] start processing\n",
      "18:39:07 - cmdstanpy - INFO - Chain [1] done processing\n",
      "18:39:11 - cmdstanpy - INFO - Chain [1] start processing\n",
      "18:39:11 - cmdstanpy - INFO - Chain [1] done processing\n",
      "18:39:14 - cmdstanpy - INFO - Chain [1] start processing\n",
      "18:39:14 - cmdstanpy - INFO - Chain [1] done processing\n",
      "18:39:18 - cmdstanpy - INFO - Chain [1] start processing\n",
      "18:39:18 - cmdstanpy - INFO - Chain [1] done processing\n",
      "18:39:21 - cmdstanpy - INFO - Chain [1] start processing\n",
      "18:39:21 - cmdstanpy - INFO - Chain [1] done processing\n",
      "18:39:24 - cmdstanpy - INFO - Chain [1] start processing\n",
      "18:39:25 - cmdstanpy - INFO - Chain [1] done processing\n",
      "18:39:28 - cmdstanpy - INFO - Chain [1] start processing\n",
      "18:39:28 - cmdstanpy - INFO - Chain [1] done processing\n",
      "18:39:31 - cmdstanpy - INFO - Chain [1] start processing\n",
      "18:39:31 - cmdstanpy - INFO - Chain [1] done processing\n",
      "18:39:35 - cmdstanpy - INFO - Chain [1] start processing\n",
      "18:39:35 - cmdstanpy - INFO - Chain [1] done processing\n",
      "18:39:38 - cmdstanpy - INFO - Chain [1] start processing\n",
      "18:39:38 - cmdstanpy - INFO - Chain [1] done processing\n",
      "18:39:42 - cmdstanpy - INFO - Chain [1] start processing\n",
      "18:39:42 - cmdstanpy - INFO - Chain [1] done processing\n",
      "18:39:45 - cmdstanpy - INFO - Chain [1] start processing\n",
      "18:39:45 - cmdstanpy - INFO - Chain [1] done processing\n",
      "18:39:50 - cmdstanpy - INFO - Chain [1] start processing\n",
      "18:39:50 - cmdstanpy - INFO - Chain [1] done processing\n",
      "18:39:54 - cmdstanpy - INFO - Chain [1] start processing\n",
      "18:39:54 - cmdstanpy - INFO - Chain [1] done processing\n",
      "18:39:58 - cmdstanpy - INFO - Chain [1] start processing\n",
      "18:39:58 - cmdstanpy - INFO - Chain [1] done processing\n",
      "18:40:03 - cmdstanpy - INFO - Chain [1] start processing\n",
      "18:40:03 - cmdstanpy - INFO - Chain [1] done processing\n",
      "18:40:06 - cmdstanpy - INFO - Chain [1] start processing\n",
      "18:40:06 - cmdstanpy - INFO - Chain [1] done processing\n",
      "18:40:10 - cmdstanpy - INFO - Chain [1] start processing\n",
      "18:40:10 - cmdstanpy - INFO - Chain [1] done processing\n",
      "18:40:13 - cmdstanpy - INFO - Chain [1] start processing\n",
      "18:40:13 - cmdstanpy - INFO - Chain [1] done processing\n",
      "18:40:17 - cmdstanpy - INFO - Chain [1] start processing\n",
      "18:40:17 - cmdstanpy - INFO - Chain [1] done processing\n",
      "18:40:20 - cmdstanpy - INFO - Chain [1] start processing\n",
      "18:40:20 - cmdstanpy - INFO - Chain [1] done processing\n",
      "18:40:24 - cmdstanpy - INFO - Chain [1] start processing\n",
      "18:40:24 - cmdstanpy - INFO - Chain [1] done processing\n",
      "18:40:27 - cmdstanpy - INFO - Chain [1] start processing\n",
      "18:40:27 - cmdstanpy - INFO - Chain [1] done processing\n",
      "18:40:31 - cmdstanpy - INFO - Chain [1] start processing\n",
      "18:40:31 - cmdstanpy - INFO - Chain [1] done processing\n",
      "18:40:34 - cmdstanpy - INFO - Chain [1] start processing\n",
      "18:40:34 - cmdstanpy - INFO - Chain [1] done processing\n",
      "18:40:38 - cmdstanpy - INFO - Chain [1] start processing\n",
      "18:40:38 - cmdstanpy - INFO - Chain [1] done processing\n",
      "18:40:41 - cmdstanpy - INFO - Chain [1] start processing\n",
      "18:40:41 - cmdstanpy - INFO - Chain [1] done processing\n",
      "18:40:44 - cmdstanpy - INFO - Chain [1] start processing\n",
      "18:40:44 - cmdstanpy - INFO - Chain [1] done processing\n",
      "18:40:48 - cmdstanpy - INFO - Chain [1] start processing\n",
      "18:40:48 - cmdstanpy - INFO - Chain [1] done processing\n",
      "18:40:51 - cmdstanpy - INFO - Chain [1] start processing\n",
      "18:40:51 - cmdstanpy - INFO - Chain [1] done processing\n",
      "18:40:55 - cmdstanpy - INFO - Chain [1] start processing\n",
      "18:40:55 - cmdstanpy - INFO - Chain [1] done processing\n",
      "18:40:58 - cmdstanpy - INFO - Chain [1] start processing\n",
      "18:40:58 - cmdstanpy - INFO - Chain [1] done processing\n",
      "18:41:02 - cmdstanpy - INFO - Chain [1] start processing\n",
      "18:41:02 - cmdstanpy - INFO - Chain [1] done processing\n",
      "18:41:05 - cmdstanpy - INFO - Chain [1] start processing\n",
      "18:41:05 - cmdstanpy - INFO - Chain [1] done processing\n",
      "18:41:09 - cmdstanpy - INFO - Chain [1] start processing\n",
      "18:41:09 - cmdstanpy - INFO - Chain [1] done processing\n",
      "18:41:12 - cmdstanpy - INFO - Chain [1] start processing\n",
      "18:41:12 - cmdstanpy - INFO - Chain [1] done processing\n",
      "18:41:16 - cmdstanpy - INFO - Chain [1] start processing\n",
      "18:41:16 - cmdstanpy - INFO - Chain [1] done processing\n",
      "18:41:19 - cmdstanpy - INFO - Chain [1] start processing\n",
      "18:41:19 - cmdstanpy - INFO - Chain [1] done processing\n",
      "18:41:23 - cmdstanpy - INFO - Chain [1] start processing\n",
      "18:41:23 - cmdstanpy - INFO - Chain [1] done processing\n",
      "18:41:26 - cmdstanpy - INFO - Chain [1] start processing\n",
      "18:41:26 - cmdstanpy - INFO - Chain [1] done processing\n",
      "18:41:29 - cmdstanpy - INFO - Chain [1] start processing\n",
      "18:41:29 - cmdstanpy - INFO - Chain [1] done processing\n",
      "18:41:33 - cmdstanpy - INFO - Chain [1] start processing\n",
      "18:41:33 - cmdstanpy - INFO - Chain [1] done processing\n",
      "18:41:37 - cmdstanpy - INFO - Chain [1] start processing\n",
      "18:41:37 - cmdstanpy - INFO - Chain [1] done processing\n",
      "18:41:40 - cmdstanpy - INFO - Chain [1] start processing\n",
      "18:41:40 - cmdstanpy - INFO - Chain [1] done processing\n",
      "18:41:43 - cmdstanpy - INFO - Chain [1] start processing\n",
      "18:41:43 - cmdstanpy - INFO - Chain [1] done processing\n",
      "18:41:47 - cmdstanpy - INFO - Chain [1] start processing\n",
      "18:41:47 - cmdstanpy - INFO - Chain [1] done processing\n",
      "18:41:50 - cmdstanpy - INFO - Chain [1] start processing\n",
      "18:41:50 - cmdstanpy - INFO - Chain [1] done processing\n",
      "18:41:54 - cmdstanpy - INFO - Chain [1] start processing\n",
      "18:41:54 - cmdstanpy - INFO - Chain [1] done processing\n",
      "18:41:57 - cmdstanpy - INFO - Chain [1] start processing\n",
      "18:41:57 - cmdstanpy - INFO - Chain [1] done processing\n",
      "18:42:01 - cmdstanpy - INFO - Chain [1] start processing\n",
      "18:42:01 - cmdstanpy - INFO - Chain [1] done processing\n",
      "18:42:04 - cmdstanpy - INFO - Chain [1] start processing\n",
      "18:42:05 - cmdstanpy - INFO - Chain [1] done processing\n"
     ]
    },
    {
     "name": "stdout",
     "output_type": "stream",
     "text": [
      "{'changepoint_prior_scale': 0.03, 'seasonality_prior_scale': 7, 'seasonality_mode': 'additive', 'holidays_prior_scale': 0.02}\n"
     ]
    },
    {
     "data": {
      "text/plain": [
       "0.0883266223256827"
      ]
     },
     "execution_count": 67,
     "metadata": {},
     "output_type": "execute_result"
    }
   ],
   "source": [
    "# Parameter grid\n",
    "param_grid = {  \n",
    "    'changepoint_prior_scale': [0.03, 0.03, 0.04, 0.05],\n",
    "    'seasonality_prior_scale': [7, 8, 9, 10, 11],\n",
    "    'seasonality_mode': ['additive', 'multiplicative'],\n",
    "    'holidays_prior_scale': [0.005,0.01,0.02]\n",
    "}\n",
    "# Generate all combinations of parameters\n",
    "all_params = [dict(zip(param_grid.keys(), v)) for v in itertools.product(*param_grid.values())]\n",
    "mapes = []  # Store the MAPEs for each params here\n",
    "# Use cross validation to evaluate all parameters\n",
    "for params in all_params:\n",
    "    # Fit a model using one parameter combination\n",
    "    m = Prophet(**params, growth='linear').add_country_holidays(country_name='US').fit(data_log)\n",
    "    # Cross-validation\n",
    "    df_cv = cross_validation(m, initial='333 days', period='31 days', horizon = '31 days', parallel=\"processes\")\n",
    "    # Model performance\n",
    "    df_p = performance_metrics(df_cv, rolling_window=1)\n",
    "    # Save model performance metrics\n",
    "    mapes.append(df_p['mape'].values[0])\n",
    "# Tuning results\n",
    "best_params = all_params[np.argmin(mapes)]\n",
    "# Best parameters\n",
    "print(best_params)\n",
    "# Train model using best parameters\n",
    "auto_model_log = Prophet(changepoint_prior_scale=best_params['changepoint_prior_scale'], \n",
    "                     seasonality_prior_scale=best_params['seasonality_prior_scale'], \n",
    "                     seasonality_mode=best_params['seasonality_mode'])\n",
    "# Fit the model on the training dataset\n",
    "auto_model_log.fit(data_log)\n",
    "# Cross validation\n",
    "auto_model_log_cv = cross_validation(auto_model_log, initial='333 days', period='31 days', horizon = '31 days', parallel=\"processes\")\n",
    "# Model performance metrics\n",
    "auto_model_log_p = performance_metrics(auto_model_log_cv, rolling_window=1)\n",
    "auto_model_log_p['mape'].values[0]"
   ]
  },
  {
   "cell_type": "code",
   "execution_count": 77,
   "metadata": {},
   "outputs": [
    {
     "name": "stderr",
     "output_type": "stream",
     "text": [
      "<ipython-input-77-329752ed52a9>:2: SettingWithCopyWarning:\n",
      "\n",
      "\n",
      "A value is trying to be set on a copy of a slice from a DataFrame.\n",
      "Try using .loc[row_indexer,col_indexer] = value instead\n",
      "\n",
      "See the caveats in the documentation: https://pandas.pydata.org/pandas-docs/stable/user_guide/indexing.html#returning-a-view-versus-a-copy\n",
      "\n"
     ]
    },
    {
     "data": {
      "application/vnd.plotly.v1+json": {
       "config": {
        "plotlyServerURL": "https://plot.ly"
       },
       "data": [
        {
         "line": {
          "color": "rgb(36, 121, 108)"
         },
         "name": "actual",
         "type": "scatter",
         "x": [
          "2015-12-01T00:00:00",
          "2015-12-02T00:00:00",
          "2015-12-03T00:00:00",
          "2015-12-04T00:00:00",
          "2015-12-05T00:00:00",
          "2015-12-06T00:00:00",
          "2015-12-07T00:00:00",
          "2015-12-08T00:00:00",
          "2015-12-09T00:00:00",
          "2015-12-10T00:00:00",
          "2015-12-11T00:00:00",
          "2015-12-12T00:00:00",
          "2015-12-13T00:00:00",
          "2015-12-14T00:00:00",
          "2015-12-15T00:00:00",
          "2015-12-16T00:00:00",
          "2015-12-17T00:00:00",
          "2015-12-18T00:00:00",
          "2015-12-19T00:00:00",
          "2015-12-20T00:00:00",
          "2015-12-21T00:00:00",
          "2015-12-22T00:00:00",
          "2015-12-23T00:00:00",
          "2015-12-24T00:00:00",
          "2015-12-25T00:00:00",
          "2015-12-26T00:00:00",
          "2015-12-27T00:00:00",
          "2015-12-28T00:00:00",
          "2015-12-29T00:00:00",
          "2015-12-30T00:00:00",
          "2015-12-31T00:00:00"
         ],
         "y": [
          152,
          166,
          208,
          149,
          82,
          190,
          227,
          219,
          205,
          217,
          201,
          132,
          219,
          178,
          156,
          277,
          285,
          295,
          245,
          283,
          346,
          384,
          301,
          187,
          148,
          399,
          386,
          318,
          321,
          313,
          124
         ]
        },
        {
         "line": {
          "color": "rgb(153, 201, 69)"
         },
         "name": "predictions",
         "type": "scatter",
         "x": [
          "2015-12-01T00:00:00",
          "2015-12-02T00:00:00",
          "2015-12-03T00:00:00",
          "2015-12-04T00:00:00",
          "2015-12-05T00:00:00",
          "2015-12-06T00:00:00",
          "2015-12-07T00:00:00",
          "2015-12-08T00:00:00",
          "2015-12-09T00:00:00",
          "2015-12-10T00:00:00",
          "2015-12-11T00:00:00",
          "2015-12-12T00:00:00",
          "2015-12-13T00:00:00",
          "2015-12-14T00:00:00",
          "2015-12-15T00:00:00",
          "2015-12-16T00:00:00",
          "2015-12-17T00:00:00",
          "2015-12-18T00:00:00",
          "2015-12-19T00:00:00",
          "2015-12-20T00:00:00",
          "2015-12-21T00:00:00",
          "2015-12-22T00:00:00",
          "2015-12-23T00:00:00",
          "2015-12-24T00:00:00",
          "2015-12-25T00:00:00",
          "2015-12-26T00:00:00",
          "2015-12-27T00:00:00",
          "2015-12-28T00:00:00",
          "2015-12-29T00:00:00",
          "2015-12-30T00:00:00",
          "2015-12-31T00:00:00"
         ],
         "y": [
          133.2466580327172,
          143.86838764853735,
          167.21622872854167,
          166.1692705192887,
          112.58694831957894,
          159.15502747599805,
          160.31674092212756,
          129.4919083978301,
          139.81432892790443,
          162.50425258562413,
          161.486796549275,
          109.41436741325494,
          154.67020744258505,
          155.7991850348324,
          125.84296362890949,
          135.87450928618256,
          157.92505493748027,
          156.93626973424784,
          106.3311864751996,
          150.31176488568136,
          151.4089290855477,
          122.29684225729987,
          132.04570958725387,
          153.4748942270155,
          152.513971943037,
          103.33488630903443,
          146.07613862187503,
          147.14238589715612,
          118.85064682851336,
          128.32480140697987,
          149.15013432995136
         ]
        }
       ],
       "layout": {
        "hovermode": "x unified",
        "legend": {
         "title": {
          "text": "Leyend"
         }
        },
        "template": {
         "data": {
          "bar": [
           {
            "error_x": {
             "color": "#f2f5fa"
            },
            "error_y": {
             "color": "#f2f5fa"
            },
            "marker": {
             "line": {
              "color": "rgb(17,17,17)",
              "width": 0.5
             },
             "pattern": {
              "fillmode": "overlay",
              "size": 10,
              "solidity": 0.2
             }
            },
            "type": "bar"
           }
          ],
          "barpolar": [
           {
            "marker": {
             "line": {
              "color": "rgb(17,17,17)",
              "width": 0.5
             },
             "pattern": {
              "fillmode": "overlay",
              "size": 10,
              "solidity": 0.2
             }
            },
            "type": "barpolar"
           }
          ],
          "carpet": [
           {
            "aaxis": {
             "endlinecolor": "#A2B1C6",
             "gridcolor": "#506784",
             "linecolor": "#506784",
             "minorgridcolor": "#506784",
             "startlinecolor": "#A2B1C6"
            },
            "baxis": {
             "endlinecolor": "#A2B1C6",
             "gridcolor": "#506784",
             "linecolor": "#506784",
             "minorgridcolor": "#506784",
             "startlinecolor": "#A2B1C6"
            },
            "type": "carpet"
           }
          ],
          "choropleth": [
           {
            "colorbar": {
             "outlinewidth": 0,
             "ticks": ""
            },
            "type": "choropleth"
           }
          ],
          "contour": [
           {
            "colorbar": {
             "outlinewidth": 0,
             "ticks": ""
            },
            "colorscale": [
             [
              0,
              "#0d0887"
             ],
             [
              0.1111111111111111,
              "#46039f"
             ],
             [
              0.2222222222222222,
              "#7201a8"
             ],
             [
              0.3333333333333333,
              "#9c179e"
             ],
             [
              0.4444444444444444,
              "#bd3786"
             ],
             [
              0.5555555555555556,
              "#d8576b"
             ],
             [
              0.6666666666666666,
              "#ed7953"
             ],
             [
              0.7777777777777778,
              "#fb9f3a"
             ],
             [
              0.8888888888888888,
              "#fdca26"
             ],
             [
              1,
              "#f0f921"
             ]
            ],
            "type": "contour"
           }
          ],
          "contourcarpet": [
           {
            "colorbar": {
             "outlinewidth": 0,
             "ticks": ""
            },
            "type": "contourcarpet"
           }
          ],
          "heatmap": [
           {
            "colorbar": {
             "outlinewidth": 0,
             "ticks": ""
            },
            "colorscale": [
             [
              0,
              "#0d0887"
             ],
             [
              0.1111111111111111,
              "#46039f"
             ],
             [
              0.2222222222222222,
              "#7201a8"
             ],
             [
              0.3333333333333333,
              "#9c179e"
             ],
             [
              0.4444444444444444,
              "#bd3786"
             ],
             [
              0.5555555555555556,
              "#d8576b"
             ],
             [
              0.6666666666666666,
              "#ed7953"
             ],
             [
              0.7777777777777778,
              "#fb9f3a"
             ],
             [
              0.8888888888888888,
              "#fdca26"
             ],
             [
              1,
              "#f0f921"
             ]
            ],
            "type": "heatmap"
           }
          ],
          "heatmapgl": [
           {
            "colorbar": {
             "outlinewidth": 0,
             "ticks": ""
            },
            "colorscale": [
             [
              0,
              "#0d0887"
             ],
             [
              0.1111111111111111,
              "#46039f"
             ],
             [
              0.2222222222222222,
              "#7201a8"
             ],
             [
              0.3333333333333333,
              "#9c179e"
             ],
             [
              0.4444444444444444,
              "#bd3786"
             ],
             [
              0.5555555555555556,
              "#d8576b"
             ],
             [
              0.6666666666666666,
              "#ed7953"
             ],
             [
              0.7777777777777778,
              "#fb9f3a"
             ],
             [
              0.8888888888888888,
              "#fdca26"
             ],
             [
              1,
              "#f0f921"
             ]
            ],
            "type": "heatmapgl"
           }
          ],
          "histogram": [
           {
            "marker": {
             "pattern": {
              "fillmode": "overlay",
              "size": 10,
              "solidity": 0.2
             }
            },
            "type": "histogram"
           }
          ],
          "histogram2d": [
           {
            "colorbar": {
             "outlinewidth": 0,
             "ticks": ""
            },
            "colorscale": [
             [
              0,
              "#0d0887"
             ],
             [
              0.1111111111111111,
              "#46039f"
             ],
             [
              0.2222222222222222,
              "#7201a8"
             ],
             [
              0.3333333333333333,
              "#9c179e"
             ],
             [
              0.4444444444444444,
              "#bd3786"
             ],
             [
              0.5555555555555556,
              "#d8576b"
             ],
             [
              0.6666666666666666,
              "#ed7953"
             ],
             [
              0.7777777777777778,
              "#fb9f3a"
             ],
             [
              0.8888888888888888,
              "#fdca26"
             ],
             [
              1,
              "#f0f921"
             ]
            ],
            "type": "histogram2d"
           }
          ],
          "histogram2dcontour": [
           {
            "colorbar": {
             "outlinewidth": 0,
             "ticks": ""
            },
            "colorscale": [
             [
              0,
              "#0d0887"
             ],
             [
              0.1111111111111111,
              "#46039f"
             ],
             [
              0.2222222222222222,
              "#7201a8"
             ],
             [
              0.3333333333333333,
              "#9c179e"
             ],
             [
              0.4444444444444444,
              "#bd3786"
             ],
             [
              0.5555555555555556,
              "#d8576b"
             ],
             [
              0.6666666666666666,
              "#ed7953"
             ],
             [
              0.7777777777777778,
              "#fb9f3a"
             ],
             [
              0.8888888888888888,
              "#fdca26"
             ],
             [
              1,
              "#f0f921"
             ]
            ],
            "type": "histogram2dcontour"
           }
          ],
          "mesh3d": [
           {
            "colorbar": {
             "outlinewidth": 0,
             "ticks": ""
            },
            "type": "mesh3d"
           }
          ],
          "parcoords": [
           {
            "line": {
             "colorbar": {
              "outlinewidth": 0,
              "ticks": ""
             }
            },
            "type": "parcoords"
           }
          ],
          "pie": [
           {
            "automargin": true,
            "type": "pie"
           }
          ],
          "scatter": [
           {
            "marker": {
             "line": {
              "color": "#283442"
             }
            },
            "type": "scatter"
           }
          ],
          "scatter3d": [
           {
            "line": {
             "colorbar": {
              "outlinewidth": 0,
              "ticks": ""
             }
            },
            "marker": {
             "colorbar": {
              "outlinewidth": 0,
              "ticks": ""
             }
            },
            "type": "scatter3d"
           }
          ],
          "scattercarpet": [
           {
            "marker": {
             "colorbar": {
              "outlinewidth": 0,
              "ticks": ""
             }
            },
            "type": "scattercarpet"
           }
          ],
          "scattergeo": [
           {
            "marker": {
             "colorbar": {
              "outlinewidth": 0,
              "ticks": ""
             }
            },
            "type": "scattergeo"
           }
          ],
          "scattergl": [
           {
            "marker": {
             "line": {
              "color": "#283442"
             }
            },
            "type": "scattergl"
           }
          ],
          "scattermapbox": [
           {
            "marker": {
             "colorbar": {
              "outlinewidth": 0,
              "ticks": ""
             }
            },
            "type": "scattermapbox"
           }
          ],
          "scatterpolar": [
           {
            "marker": {
             "colorbar": {
              "outlinewidth": 0,
              "ticks": ""
             }
            },
            "type": "scatterpolar"
           }
          ],
          "scatterpolargl": [
           {
            "marker": {
             "colorbar": {
              "outlinewidth": 0,
              "ticks": ""
             }
            },
            "type": "scatterpolargl"
           }
          ],
          "scatterternary": [
           {
            "marker": {
             "colorbar": {
              "outlinewidth": 0,
              "ticks": ""
             }
            },
            "type": "scatterternary"
           }
          ],
          "surface": [
           {
            "colorbar": {
             "outlinewidth": 0,
             "ticks": ""
            },
            "colorscale": [
             [
              0,
              "#0d0887"
             ],
             [
              0.1111111111111111,
              "#46039f"
             ],
             [
              0.2222222222222222,
              "#7201a8"
             ],
             [
              0.3333333333333333,
              "#9c179e"
             ],
             [
              0.4444444444444444,
              "#bd3786"
             ],
             [
              0.5555555555555556,
              "#d8576b"
             ],
             [
              0.6666666666666666,
              "#ed7953"
             ],
             [
              0.7777777777777778,
              "#fb9f3a"
             ],
             [
              0.8888888888888888,
              "#fdca26"
             ],
             [
              1,
              "#f0f921"
             ]
            ],
            "type": "surface"
           }
          ],
          "table": [
           {
            "cells": {
             "fill": {
              "color": "#506784"
             },
             "line": {
              "color": "rgb(17,17,17)"
             }
            },
            "header": {
             "fill": {
              "color": "#2a3f5f"
             },
             "line": {
              "color": "rgb(17,17,17)"
             }
            },
            "type": "table"
           }
          ]
         },
         "layout": {
          "annotationdefaults": {
           "arrowcolor": "#f2f5fa",
           "arrowhead": 0,
           "arrowwidth": 1
          },
          "autotypenumbers": "strict",
          "coloraxis": {
           "colorbar": {
            "outlinewidth": 0,
            "ticks": ""
           }
          },
          "colorscale": {
           "diverging": [
            [
             0,
             "#8e0152"
            ],
            [
             0.1,
             "#c51b7d"
            ],
            [
             0.2,
             "#de77ae"
            ],
            [
             0.3,
             "#f1b6da"
            ],
            [
             0.4,
             "#fde0ef"
            ],
            [
             0.5,
             "#f7f7f7"
            ],
            [
             0.6,
             "#e6f5d0"
            ],
            [
             0.7,
             "#b8e186"
            ],
            [
             0.8,
             "#7fbc41"
            ],
            [
             0.9,
             "#4d9221"
            ],
            [
             1,
             "#276419"
            ]
           ],
           "sequential": [
            [
             0,
             "#0d0887"
            ],
            [
             0.1111111111111111,
             "#46039f"
            ],
            [
             0.2222222222222222,
             "#7201a8"
            ],
            [
             0.3333333333333333,
             "#9c179e"
            ],
            [
             0.4444444444444444,
             "#bd3786"
            ],
            [
             0.5555555555555556,
             "#d8576b"
            ],
            [
             0.6666666666666666,
             "#ed7953"
            ],
            [
             0.7777777777777778,
             "#fb9f3a"
            ],
            [
             0.8888888888888888,
             "#fdca26"
            ],
            [
             1,
             "#f0f921"
            ]
           ],
           "sequentialminus": [
            [
             0,
             "#0d0887"
            ],
            [
             0.1111111111111111,
             "#46039f"
            ],
            [
             0.2222222222222222,
             "#7201a8"
            ],
            [
             0.3333333333333333,
             "#9c179e"
            ],
            [
             0.4444444444444444,
             "#bd3786"
            ],
            [
             0.5555555555555556,
             "#d8576b"
            ],
            [
             0.6666666666666666,
             "#ed7953"
            ],
            [
             0.7777777777777778,
             "#fb9f3a"
            ],
            [
             0.8888888888888888,
             "#fdca26"
            ],
            [
             1,
             "#f0f921"
            ]
           ]
          },
          "colorway": [
           "#636efa",
           "#EF553B",
           "#00cc96",
           "#ab63fa",
           "#FFA15A",
           "#19d3f3",
           "#FF6692",
           "#B6E880",
           "#FF97FF",
           "#FECB52"
          ],
          "font": {
           "color": "#f2f5fa"
          },
          "geo": {
           "bgcolor": "rgb(17,17,17)",
           "lakecolor": "rgb(17,17,17)",
           "landcolor": "rgb(17,17,17)",
           "showlakes": true,
           "showland": true,
           "subunitcolor": "#506784"
          },
          "hoverlabel": {
           "align": "left"
          },
          "hovermode": "closest",
          "mapbox": {
           "style": "dark"
          },
          "paper_bgcolor": "rgb(17,17,17)",
          "plot_bgcolor": "rgb(17,17,17)",
          "polar": {
           "angularaxis": {
            "gridcolor": "#506784",
            "linecolor": "#506784",
            "ticks": ""
           },
           "bgcolor": "rgb(17,17,17)",
           "radialaxis": {
            "gridcolor": "#506784",
            "linecolor": "#506784",
            "ticks": ""
           }
          },
          "scene": {
           "xaxis": {
            "backgroundcolor": "rgb(17,17,17)",
            "gridcolor": "#506784",
            "gridwidth": 2,
            "linecolor": "#506784",
            "showbackground": true,
            "ticks": "",
            "zerolinecolor": "#C8D4E3"
           },
           "yaxis": {
            "backgroundcolor": "rgb(17,17,17)",
            "gridcolor": "#506784",
            "gridwidth": 2,
            "linecolor": "#506784",
            "showbackground": true,
            "ticks": "",
            "zerolinecolor": "#C8D4E3"
           },
           "zaxis": {
            "backgroundcolor": "rgb(17,17,17)",
            "gridcolor": "#506784",
            "gridwidth": 2,
            "linecolor": "#506784",
            "showbackground": true,
            "ticks": "",
            "zerolinecolor": "#C8D4E3"
           }
          },
          "shapedefaults": {
           "line": {
            "color": "#f2f5fa"
           }
          },
          "sliderdefaults": {
           "bgcolor": "#C8D4E3",
           "bordercolor": "rgb(17,17,17)",
           "borderwidth": 1,
           "tickwidth": 0
          },
          "ternary": {
           "aaxis": {
            "gridcolor": "#506784",
            "linecolor": "#506784",
            "ticks": ""
           },
           "baxis": {
            "gridcolor": "#506784",
            "linecolor": "#506784",
            "ticks": ""
           },
           "bgcolor": "rgb(17,17,17)",
           "caxis": {
            "gridcolor": "#506784",
            "linecolor": "#506784",
            "ticks": ""
           }
          },
          "title": {
           "x": 0.05
          },
          "updatemenudefaults": {
           "bgcolor": "#506784",
           "borderwidth": 0
          },
          "xaxis": {
           "automargin": true,
           "gridcolor": "#283442",
           "linecolor": "#506784",
           "ticks": "",
           "title": {
            "standoff": 15
           },
           "zerolinecolor": "#283442",
           "zerolinewidth": 2
          },
          "yaxis": {
           "automargin": true,
           "gridcolor": "#283442",
           "linecolor": "#506784",
           "ticks": "",
           "title": {
            "standoff": 15
           },
           "zerolinecolor": "#283442",
           "zerolinewidth": 2
          }
         }
        },
        "title": {
         "text": "ARIMA Model. December predictions vs. Actual values"
        },
        "xaxis": {
         "title": {
          "text": "Dates"
         }
        },
        "yaxis": {
         "title": {
          "text": "Number of delays"
         }
        }
       }
      }
     },
     "metadata": {},
     "output_type": "display_data"
    }
   ],
   "source": [
    "# Predictions\n",
    "test['predictions'] = np.exp(auto_model_log_cv[\"yhat\"]).values\n",
    "\n",
    "# Prediction vs Actual values representation\n",
    "fig = go.Figure()\n",
    "\n",
    "fig.add_trace(go.Scatter(x=test['ds'], y=test['y'], name = \"actual\", line_color = px.colors.qualitative.Vivid[5]))\n",
    "fig.add_trace(go.Scatter(x=test['ds'], y=test['predictions'], name = \"predictions\",line_color = px.colors.qualitative.Vivid[3]))\n",
    "\n",
    "fig.update_layout(\n",
    "    title=\"ARIMA Model. December predictions vs. Actual values\",\n",
    "    xaxis_title=\"Dates\",\n",
    "    yaxis_title=\"Number of delays\",\n",
    "    legend_title=\"Leyend\",\n",
    "    template=\"plotly_dark\",\n",
    "    #color_discrete_sequence=px.colors.qualitative.Vivid,\n",
    "    hovermode=\"x unified\",    \n",
    ")\n",
    "\n",
    "fig.show()"
   ]
  },
  {
   "cell_type": "code",
   "execution_count": 78,
   "metadata": {},
   "outputs": [
    {
     "name": "stdout",
     "output_type": "stream",
     "text": [
      "The MSE for the baseline model is 16443.76549849607\n",
      "The MAE for the baseline model is 99.16965331562102\n"
     ]
    }
   ],
   "source": [
    "# Check the MSE value\n",
    "performance_arima_MSE = mean_squared_error(test['y'],test['predictions'])\n",
    "print(f'The MSE for the baseline model is {performance_arima_MSE}')\n",
    "\n",
    "# Check the MAE value\n",
    "performance_arima_MAE = mean_absolute_error(test['y'],test['predictions'])\n",
    "print(f'The MAE for the baseline model is {performance_arima_MAE}')\n",
    "\n",
    "# Check the MAPE value\n",
    "# performance_arima_MAPE = mean_absolute_percentage_error(test['y'],test['predictions'])\n",
    "# print(f'The MAPE for the baseline model is {performance_arima_MAPE}')"
   ]
  },
  {
   "cell_type": "markdown",
   "metadata": {},
   "source": [
    "El modelo logarítmico no es bueno"
   ]
  },
  {
   "cell_type": "markdown",
   "metadata": {},
   "source": [
    "# FIN"
   ]
  }
 ],
 "metadata": {
  "kernelspec": {
   "display_name": "Python 3.8.5 ('base')",
   "language": "python",
   "name": "python3"
  },
  "language_info": {
   "codemirror_mode": {
    "name": "ipython",
    "version": 3
   },
   "file_extension": ".py",
   "mimetype": "text/x-python",
   "name": "python",
   "nbconvert_exporter": "python",
   "pygments_lexer": "ipython3",
   "version": "3.8.5"
  },
  "orig_nbformat": 4,
  "vscode": {
   "interpreter": {
    "hash": "b3472844a7ad831f024780a557c10180eb151bb97358fb439eb3b23af04efba3"
   }
  }
 },
 "nbformat": 4,
 "nbformat_minor": 2
}
