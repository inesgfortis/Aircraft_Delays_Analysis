{
 "cells": [
  {
   "cell_type": "code",
   "execution_count": 1,
   "metadata": {},
   "outputs": [],
   "source": [
    "import pandas as pd\n",
    "import numpy as np\n",
    "import os"
   ]
  },
  {
   "cell_type": "code",
   "execution_count": 2,
   "metadata": {},
   "outputs": [],
   "source": [
    "pd.set_option('display.max_columns', None)"
   ]
  },
  {
   "cell_type": "code",
   "execution_count": 5,
   "metadata": {},
   "outputs": [],
   "source": [
    "# Lectura de datos\n",
    "df = pd.read_parquet(\"../Preprocessing/flightsFilteredCleaned.parquet\")"
   ]
  },
  {
   "cell_type": "code",
   "execution_count": null,
   "metadata": {},
   "outputs": [],
   "source": [
    "pd.read_parquet(str(os.getcwd())+\"\\\\Preprocessing\\\\flightsFilteredCleaned.parquet\")"
   ]
  },
  {
   "cell_type": "markdown",
   "metadata": {},
   "source": [
    "Queremos predecir los retrasos correspondientes con los 5 aeropuertos que experimentan mayor número de retrasos. En primer lugar debemos seleccionar dichos aeropuertos. Para ello calcularemos el número total de vuelos, el número total de vuelos retrasados y el % de vuelos retrasados para cada uno de los aeropuertos. Una vez hecho esto nos quedaremos con aquellos 10 que más volumen de tráfico generen. De esos 10 filtraremos nuevamente hasta quedarnos con los 5 que muestren un % de retrasos más elevado"
   ]
  },
  {
   "cell_type": "code",
   "execution_count": 4,
   "metadata": {},
   "outputs": [],
   "source": [
    "# Agrupos los datos de vuelos por aeropuesrtos\n",
    "airports = pd.DataFrame(df.groupby(df['ORIGIN_AIRPORT'])[\"FLIGHT_NUMBER\"].count())\n",
    "airports = airports.rename(columns={\"FLIGHT_NUMBER\":\"TOTAL_FLIGHTS\"})\n",
    "airports[\"DELAYED_FLIGHTS\"] =  df[df[\"ARRIVAL_DELAY\"]>0].groupby(df['ORIGIN_AIRPORT'])[\"FLIGHT_NUMBER\"].count()\n",
    "airports[\"DELAY_PERCENTAGE\"] = np.round(airports['DELAYED_FLIGHTS']/airports['TOTAL_FLIGHTS']*100,2)\n",
    "\n",
    "# Ordenamos los aeropuertos de tal manera que los 5 con mayor % de retrasos aparezcan los primeros\n",
    "airports = airports.sort_values('TOTAL_FLIGHTS',ascending=False)\n",
    "airports = airports.reset_index(level=0, drop=False)\n",
    "\n",
    "# Seleccionamos el top 10 trafico aereo\n",
    "top_10 = airports.loc[0:9]\n",
    "top_10 = list(top_10['ORIGIN_AIRPORT'])\n",
    "\n",
    "# Filtramos nuestros datos para quedarnos únicamente con los correspondientes a dichos aeropuertos\n",
    "top_10_df = df[df.ORIGIN_AIRPORT.isin(top_10)]"
   ]
  },
  {
   "cell_type": "code",
   "execution_count": 5,
   "metadata": {},
   "outputs": [
    {
     "data": {
      "text/plain": [
       "1353729"
      ]
     },
     "execution_count": 5,
     "metadata": {},
     "output_type": "execute_result"
    }
   ],
   "source": [
    "# De estos diez, cogemos los 5 con mayor numero de retrasos\n",
    "# Repetimos el proceso\n",
    "del(airports)\n",
    "\n",
    "# Agrupos los datos de vuelos por aeropuesrtos\n",
    "df = top_10_df\n",
    "airports = pd.DataFrame(df.groupby(df['ORIGIN_AIRPORT'])[\"FLIGHT_NUMBER\"].count())\n",
    "airports = airports.rename(columns={\"FLIGHT_NUMBER\":\"TOTAL_FLIGHTS\"})\n",
    "airports[\"DELAYED_FLIGHTS\"] =  df[df[\"ARRIVAL_DELAY\"]>0].groupby(df['ORIGIN_AIRPORT'])[\"FLIGHT_NUMBER\"].count()\n",
    "airports[\"DELAY_PERCENTAGE\"] = np.round(airports['DELAYED_FLIGHTS']/airports['TOTAL_FLIGHTS']*100,2)\n",
    "\n",
    "# Ordenamos los aeropuertos de tal manera que los 5 con mayor % de retrasos aparezcan los primeros\n",
    "airports = airports.sort_values('DELAYED_FLIGHTS',ascending=False)\n",
    "airports = airports.reset_index(level=0, drop=False)\n",
    "\n",
    "\n",
    "# Seleccionamos el top 10 trafico aereo\n",
    "top_5 = airports.loc[0:4]\n",
    "top_5 = list(top_5['ORIGIN_AIRPORT'])\n",
    "\n",
    "# Filtramos nuestros datos para quedarnos únicamente con los correspondientes a dichos aeropuertos\n",
    "top_5_delay = df[df.ORIGIN_AIRPORT.isin(top_5)]\n",
    "len(top_5_delay)"
   ]
  },
  {
   "cell_type": "code",
   "execution_count": 6,
   "metadata": {},
   "outputs": [
    {
     "data": {
      "text/plain": [
       "['LAX', 'DEN', 'ORD', 'DFW', 'ATL']"
      ]
     },
     "execution_count": 6,
     "metadata": {},
     "output_type": "execute_result"
    }
   ],
   "source": [
    "list(top_5_delay['ORIGIN_AIRPORT'].unique())"
   ]
  },
  {
   "cell_type": "code",
   "execution_count": 7,
   "metadata": {},
   "outputs": [],
   "source": [
    "# Guardamos\n",
    "top_5_delay.to_parquet(\"top_5_delay.parquet\", index=False)"
   ]
  }
 ],
 "metadata": {
  "kernelspec": {
   "display_name": "Python 3 (ipykernel)",
   "language": "python",
   "name": "python3"
  },
  "language_info": {
   "codemirror_mode": {
    "name": "ipython",
    "version": 3
   },
   "file_extension": ".py",
   "mimetype": "text/x-python",
   "name": "python",
   "nbconvert_exporter": "python",
   "pygments_lexer": "ipython3",
   "version": "3.9.12"
  }
 },
 "nbformat": 4,
 "nbformat_minor": 2
}
