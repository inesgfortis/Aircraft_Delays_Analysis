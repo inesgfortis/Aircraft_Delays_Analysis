{
 "cells": [
  {
   "cell_type": "code",
   "execution_count": 2,
   "metadata": {},
   "outputs": [],
   "source": [
    "import pandas as pd\n",
    "import numpy as np"
   ]
  },
  {
   "cell_type": "code",
   "execution_count": null,
   "metadata": {},
   "outputs": [],
   "source": [
    "pd.set_option('display.max_columns', None)"
   ]
  },
  {
   "cell_type": "code",
   "execution_count": 3,
   "metadata": {},
   "outputs": [],
   "source": [
    "# Lectura de datos\n",
    "df = pd.read_parquet(\"../Preprocessing/flightsCleaned.parquet\")"
   ]
  },
  {
   "cell_type": "markdown",
   "metadata": {},
   "source": [
    "Queremos predecir los retrasos correspondientes con los 5 aeropuertos que experimentan mayor número de retrasos. En primer lugar debemos seleccionar dichos aeropuertos. Para ello calcularemos el número total de vuelos, el número total de vuelos retrasados y el % de vuelos retrasados para cada uno de los aeropuertos. Una vez hecho esto nos quedaremos con aquellos 5 que muestren un % de retrasos más elevado"
   ]
  },
  {
   "cell_type": "code",
   "execution_count": 4,
   "metadata": {},
   "outputs": [
    {
     "data": {
      "text/html": [
       "<div>\n",
       "<style scoped>\n",
       "    .dataframe tbody tr th:only-of-type {\n",
       "        vertical-align: middle;\n",
       "    }\n",
       "\n",
       "    .dataframe tbody tr th {\n",
       "        vertical-align: top;\n",
       "    }\n",
       "\n",
       "    .dataframe thead th {\n",
       "        text-align: right;\n",
       "    }\n",
       "</style>\n",
       "<table border=\"1\" class=\"dataframe\">\n",
       "  <thead>\n",
       "    <tr style=\"text-align: right;\">\n",
       "      <th></th>\n",
       "      <th>ORIGIN_AIRPORT</th>\n",
       "      <th>TOTAL_FLIGHTS</th>\n",
       "      <th>DELAYED_FLIGHTS</th>\n",
       "      <th>DELAY_PERCENTAGE</th>\n",
       "    </tr>\n",
       "  </thead>\n",
       "  <tbody>\n",
       "    <tr>\n",
       "      <th>0</th>\n",
       "      <td>GST</td>\n",
       "      <td>76</td>\n",
       "      <td>51</td>\n",
       "      <td>67.11</td>\n",
       "    </tr>\n",
       "    <tr>\n",
       "      <th>1</th>\n",
       "      <td>PPG</td>\n",
       "      <td>115</td>\n",
       "      <td>75</td>\n",
       "      <td>65.22</td>\n",
       "    </tr>\n",
       "    <tr>\n",
       "      <th>2</th>\n",
       "      <td>ADK</td>\n",
       "      <td>97</td>\n",
       "      <td>61</td>\n",
       "      <td>62.89</td>\n",
       "    </tr>\n",
       "    <tr>\n",
       "      <th>3</th>\n",
       "      <td>ILG</td>\n",
       "      <td>95</td>\n",
       "      <td>53</td>\n",
       "      <td>55.79</td>\n",
       "    </tr>\n",
       "    <tr>\n",
       "      <th>4</th>\n",
       "      <td>AKN</td>\n",
       "      <td>63</td>\n",
       "      <td>32</td>\n",
       "      <td>50.79</td>\n",
       "    </tr>\n",
       "  </tbody>\n",
       "</table>\n",
       "</div>"
      ],
      "text/plain": [
       "  ORIGIN_AIRPORT  TOTAL_FLIGHTS  DELAYED_FLIGHTS  DELAY_PERCENTAGE\n",
       "0            GST             76               51             67.11\n",
       "1            PPG            115               75             65.22\n",
       "2            ADK             97               61             62.89\n",
       "3            ILG             95               53             55.79\n",
       "4            AKN             63               32             50.79"
      ]
     },
     "execution_count": 4,
     "metadata": {},
     "output_type": "execute_result"
    }
   ],
   "source": [
    "# Agrupos los datos de vuelos por aeropuesrtos\n",
    "airports = pd.DataFrame(df.groupby(df['ORIGIN_AIRPORT'])[\"FLIGHT_NUMBER\"].count())\n",
    "airports = airports.rename(columns={\"FLIGHT_NUMBER\":\"TOTAL_FLIGHTS\"})\n",
    "airports[\"DELAYED_FLIGHTS\"] =  df[df[\"ARRIVAL_DELAY\"]>0].groupby(df['ORIGIN_AIRPORT'])[\"FLIGHT_NUMBER\"].count()\n",
    "airports[\"DELAY_PERCENTAGE\"] = np.round(airports['DELAYED_FLIGHTS']/airports['TOTAL_FLIGHTS']*100,2)\n",
    "\n",
    "# Ordenamos los aeropuertos de tal manera que los 5 con mayor % de retrasos aparezcan los primeros\n",
    "airports = airports.sort_values('DELAY_PERCENTAGE',ascending=False)\n",
    "airports = airports.reset_index(level=0, drop=False)\n",
    "airports.head()"
   ]
  },
  {
   "cell_type": "code",
   "execution_count": 4,
   "metadata": {},
   "outputs": [
    {
     "data": {
      "text/plain": [
       "['GST', 'PPG', 'ADK', 'ILG', 'AKN']"
      ]
     },
     "execution_count": 4,
     "metadata": {},
     "output_type": "execute_result"
    }
   ],
   "source": [
    "# Seleccionamos el top 5\n",
    "top_5_delay = airports.loc[0:4]\n",
    "top_5_delay = list(top_5_delay['ORIGIN_AIRPORT'])\n",
    "top_5_delay"
   ]
  },
  {
   "cell_type": "code",
   "execution_count": 5,
   "metadata": {},
   "outputs": [],
   "source": [
    "# Filtramos nuestros datos para quedarnos únicamente con los correspondientes a dichos aeropuertos\n",
    "data_forecast = df[df.ORIGIN_AIRPORT.isin(top_5_delay)]"
   ]
  },
  {
   "cell_type": "code",
   "execution_count": 6,
   "metadata": {},
   "outputs": [],
   "source": [
    "# Guardamos\n",
    "data_forecast.to_parquet(\"dataForecast.parquet\", index=False)"
   ]
  }
 ],
 "metadata": {
  "kernelspec": {
   "display_name": "Python 3 (ipykernel)",
   "language": "python",
   "name": "python3"
  },
  "language_info": {
   "codemirror_mode": {
    "name": "ipython",
    "version": 3
   },
   "file_extension": ".py",
   "mimetype": "text/x-python",
   "name": "python",
   "nbconvert_exporter": "python",
   "pygments_lexer": "ipython3",
   "version": "3.9.12"
  }
 },
 "nbformat": 4,
 "nbformat_minor": 2
}
